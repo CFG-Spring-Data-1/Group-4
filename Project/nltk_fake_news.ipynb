{
 "cells": [
  {
   "cell_type": "markdown",
   "id": "75eadf1f",
   "metadata": {},
   "source": [
    "## Data preprocess using Natural Language Toolkit"
   ]
  },
  {
   "cell_type": "markdown",
   "id": "1c0ea786",
   "metadata": {},
   "source": [
    "### Import libraries"
   ]
  },
  {
   "cell_type": "code",
   "execution_count": 1,
   "id": "39ef32d8",
   "metadata": {},
   "outputs": [],
   "source": [
    "import pandas as pd\n",
    "import numpy as np\n",
    "# module provides regular expression matching operations (https://www.w3schools.com/python/python_regex.asp)\n",
    "import re\n",
    "# module implements binary protocols for serializing and de-serializing a Python object\n",
    "import pickle\n",
    "\n",
    "\n",
    "import string\n",
    "\n",
    "# (https://www.geeksforgeeks.org/python-lemmatization-approaches-with-examples/)\n",
    "# natural language toolkit (https://realpython.com/nltk-nlp-python/)\n",
    "import nltk\n",
    "# nltk.download('stopwords')\n",
    "# nltk.download('punkt')\n",
    "# filter common words\n",
    "from nltk.corpus import stopwords\n",
    "# split text into words\n",
    "from nltk.tokenize import word_tokenize\n",
    "# nltk.download('averaged_perceptron_tagger')\n",
    "# reduce words to their root by cutting common suffixes and prefixes (ex. goes -> goe)\n",
    "from nltk.stem.porter import PorterStemmer\n",
    "# reduce words to their root by transformin to initial form with ectual meaning (ex. goes -> go )\n",
    "from nltk.stem import WordNetLemmatizer\n",
    "from nltk.corpus import wordnet\n",
    "# nltk.download('omw-1.4')\n",
    "\n",
    "from sklearn.feature_extraction.text import TfidfVectorizer\n",
    "\n",
    "from sklearn.model_selection import train_test_split\n",
    "from sklearn.metrics import classification_report\n",
    "from sklearn.metrics import plot_confusion_matrix\n",
    "\n",
    "from sklearn.linear_model import LogisticRegression\n",
    "\n",
    "from sklearn.model_selection import GridSearchCV\n",
    "\n",
    "# # Silent warnings\n",
    "# import warnings\n",
    "# warnings.filterwarnings('ignore')\n",
    "# warnings.simplefilter('ignore')"
   ]
  },
  {
   "cell_type": "code",
   "execution_count": 2,
   "id": "4ef0c5b2",
   "metadata": {},
   "outputs": [
    {
     "data": {
      "text/html": [
       "<div>\n",
       "<style scoped>\n",
       "    .dataframe tbody tr th:only-of-type {\n",
       "        vertical-align: middle;\n",
       "    }\n",
       "\n",
       "    .dataframe tbody tr th {\n",
       "        vertical-align: top;\n",
       "    }\n",
       "\n",
       "    .dataframe thead th {\n",
       "        text-align: right;\n",
       "    }\n",
       "</style>\n",
       "<table border=\"1\" class=\"dataframe\">\n",
       "  <thead>\n",
       "    <tr style=\"text-align: right;\">\n",
       "      <th></th>\n",
       "      <th>text</th>\n",
       "      <th>target</th>\n",
       "    </tr>\n",
       "  </thead>\n",
       "  <tbody>\n",
       "    <tr>\n",
       "      <th>18931</th>\n",
       "      <td>- The U.S. Drug Enforcement Administration’s ...</td>\n",
       "      <td>0</td>\n",
       "    </tr>\n",
       "    <tr>\n",
       "      <th>5264</th>\n",
       "      <td>Voting rights expert, Ari Berman, sat down wit...</td>\n",
       "      <td>1</td>\n",
       "    </tr>\n",
       "    <tr>\n",
       "      <th>25409</th>\n",
       "      <td>- A behind-the-scenes congressional battle to...</td>\n",
       "      <td>0</td>\n",
       "    </tr>\n",
       "  </tbody>\n",
       "</table>\n",
       "</div>"
      ],
      "text/plain": [
       "                                                    text  target\n",
       "18931   - The U.S. Drug Enforcement Administration’s ...       0\n",
       "5264   Voting rights expert, Ari Berman, sat down wit...       1\n",
       "25409   - A behind-the-scenes congressional battle to...       0"
      ]
     },
     "execution_count": 2,
     "metadata": {},
     "output_type": "execute_result"
    }
   ],
   "source": [
    "raw_df = pd.read_csv('eda_news_dataset.csv', index_col=False)\n",
    "raw_df.sample(3)"
   ]
  },
  {
   "cell_type": "code",
   "execution_count": 3,
   "id": "2f6dba83",
   "metadata": {},
   "outputs": [
    {
     "name": "stdout",
     "output_type": "stream",
     "text": [
      "<class 'pandas.core.frame.DataFrame'>\n",
      "RangeIndex: 38589 entries, 0 to 38588\n",
      "Data columns (total 2 columns):\n",
      " #   Column  Non-Null Count  Dtype \n",
      "---  ------  --------------  ----- \n",
      " 0   text    38589 non-null  object\n",
      " 1   target  38589 non-null  int64 \n",
      "dtypes: int64(1), object(1)\n",
      "memory usage: 603.1+ KB\n"
     ]
    }
   ],
   "source": [
    "raw_df.info()"
   ]
  },
  {
   "cell_type": "code",
   "execution_count": 4,
   "id": "6e35b271",
   "metadata": {},
   "outputs": [
    {
     "name": "stdout",
     "output_type": "stream",
     "text": [
      "(38589, 2)\n"
     ]
    },
    {
     "data": {
      "text/plain": [
       "text      0\n",
       "target    0\n",
       "dtype: int64"
      ]
     },
     "execution_count": 4,
     "metadata": {},
     "output_type": "execute_result"
    }
   ],
   "source": [
    "print(raw_df.shape)\n",
    "raw_df.isnull().sum()"
   ]
  },
  {
   "cell_type": "markdown",
   "id": "4ede3f6d",
   "metadata": {},
   "source": [
    "### Clean text of stopwords (common used (english) words) and punctuation, fold to lowercase, lemmatize to stem"
   ]
  },
  {
   "cell_type": "code",
   "execution_count": 5,
   "id": "ee678142",
   "metadata": {},
   "outputs": [],
   "source": [
    "# simplifies position of speech tags\n",
    "def pos_tagger(nltk_tag):\n",
    "    if nltk_tag.startswith('J'):\n",
    "        return wordnet.ADJ\n",
    "    elif nltk_tag.startswith('V'):\n",
    "        return wordnet.VERB\n",
    "    elif nltk_tag.startswith('N'):\n",
    "        return wordnet.NOUN\n",
    "    elif nltk_tag.startswith('R'):\n",
    "        return wordnet.ADV\n",
    "    else:         \n",
    "        return None\n",
    "\n",
    "def preprocess_text(text):\n",
    "    stop_words = set(stopwords.words('english'))    \n",
    "    # output of string.punctuation !\"#$%&'()*+, -./:;<=>?@[\\]^_`{|}~\n",
    "    punctuation = string.punctuation\n",
    "    lemma = WordNetLemmatizer()\n",
    "    \n",
    "    # tokenize text into words, clean of punctuation and stopwords\n",
    "    text = word_tokenize(text)\n",
    "    text = [word.casefold() for word in text if word not in (punctuation or stop_words)]  \n",
    "    \n",
    "    # tokenize text including position of speech\n",
    "    text = nltk.pos_tag(text)    \n",
    "    text = list(map(lambda x: (x[0], pos_tagger(x[1])), text))\n",
    "    \n",
    "    # lemmatize words with respect to position of speech\n",
    "    text_ = []    \n",
    "    for word, tag in text:\n",
    "        if tag is None:\n",
    "            text_.append(word)\n",
    "        else:\n",
    "            text_.append(lemma.lemmatize(word, tag))\n",
    "    text = ' '.join(text_) \n",
    "    return text   "
   ]
  },
  {
   "cell_type": "code",
   "execution_count": 6,
   "id": "beb34fc6",
   "metadata": {},
   "outputs": [],
   "source": [
    "# test = \"- Indonesia will buy 11 Sukhoi fighters jets'  goes dogs revealed \"\n",
    "# test = preprocess_text(test)\n",
    "# test"
   ]
  },
  {
   "cell_type": "code",
   "execution_count": 9,
   "id": "47f46877",
   "metadata": {},
   "outputs": [
    {
     "data": {
      "text/html": [
       "<div>\n",
       "<style scoped>\n",
       "    .dataframe tbody tr th:only-of-type {\n",
       "        vertical-align: middle;\n",
       "    }\n",
       "\n",
       "    .dataframe tbody tr th {\n",
       "        vertical-align: top;\n",
       "    }\n",
       "\n",
       "    .dataframe thead th {\n",
       "        text-align: right;\n",
       "    }\n",
       "</style>\n",
       "<table border=\"1\" class=\"dataframe\">\n",
       "  <thead>\n",
       "    <tr style=\"text-align: right;\">\n",
       "      <th></th>\n",
       "      <th>text</th>\n",
       "      <th>target</th>\n",
       "    </tr>\n",
       "  </thead>\n",
       "  <tbody>\n",
       "    <tr>\n",
       "      <th>18996</th>\n",
       "      <td>u.s. health secretary tom price ’ s use of pri...</td>\n",
       "      <td>0</td>\n",
       "    </tr>\n",
       "    <tr>\n",
       "      <th>13089</th>\n",
       "      <td>it s almost like our community agitator in chi...</td>\n",
       "      <td>1</td>\n",
       "    </tr>\n",
       "    <tr>\n",
       "      <th>8934</th>\n",
       "      <td>on tuesday s edition of the nightly show democ...</td>\n",
       "      <td>1</td>\n",
       "    </tr>\n",
       "  </tbody>\n",
       "</table>\n",
       "</div>"
      ],
      "text/plain": [
       "                                                    text  target\n",
       "18996  u.s. health secretary tom price ’ s use of pri...       0\n",
       "13089  it s almost like our community agitator in chi...       1\n",
       "8934   on tuesday s edition of the nightly show democ...       1"
      ]
     },
     "execution_count": 9,
     "metadata": {},
     "output_type": "execute_result"
    }
   ],
   "source": [
    "raw_df.text = raw_df.text.map(lambda text_: preprocess_text(text_))\n",
    "raw_df.sample(3)"
   ]
  },
  {
   "cell_type": "markdown",
   "id": "34692e6b",
   "metadata": {},
   "source": [
    "### Save nltk preprocessed dataframe"
   ]
  },
  {
   "cell_type": "code",
   "execution_count": 10,
   "id": "d134896e",
   "metadata": {},
   "outputs": [
    {
     "data": {
      "text/html": [
       "<div>\n",
       "<style scoped>\n",
       "    .dataframe tbody tr th:only-of-type {\n",
       "        vertical-align: middle;\n",
       "    }\n",
       "\n",
       "    .dataframe tbody tr th {\n",
       "        vertical-align: top;\n",
       "    }\n",
       "\n",
       "    .dataframe thead th {\n",
       "        text-align: right;\n",
       "    }\n",
       "</style>\n",
       "<table border=\"1\" class=\"dataframe\">\n",
       "  <thead>\n",
       "    <tr style=\"text-align: right;\">\n",
       "      <th></th>\n",
       "      <th>text</th>\n",
       "      <th>target</th>\n",
       "    </tr>\n",
       "  </thead>\n",
       "  <tbody>\n",
       "    <tr>\n",
       "      <th>0</th>\n",
       "      <td>donald trump just couldn t wish all americans ...</td>\n",
       "      <td>1</td>\n",
       "    </tr>\n",
       "    <tr>\n",
       "      <th>1</th>\n",
       "      <td>house intelligence committee chairman devin nu...</td>\n",
       "      <td>1</td>\n",
       "    </tr>\n",
       "    <tr>\n",
       "      <th>2</th>\n",
       "      <td>on friday it be reveal that former milwaukee s...</td>\n",
       "      <td>1</td>\n",
       "    </tr>\n",
       "    <tr>\n",
       "      <th>3</th>\n",
       "      <td>on christmas day donald trump announce that he...</td>\n",
       "      <td>1</td>\n",
       "    </tr>\n",
       "    <tr>\n",
       "      <th>4</th>\n",
       "      <td>pope francis use his annual christmas day mess...</td>\n",
       "      <td>1</td>\n",
       "    </tr>\n",
       "  </tbody>\n",
       "</table>\n",
       "</div>"
      ],
      "text/plain": [
       "                                                text  target\n",
       "0  donald trump just couldn t wish all americans ...       1\n",
       "1  house intelligence committee chairman devin nu...       1\n",
       "2  on friday it be reveal that former milwaukee s...       1\n",
       "3  on christmas day donald trump announce that he...       1\n",
       "4  pope francis use his annual christmas day mess...       1"
      ]
     },
     "execution_count": 10,
     "metadata": {},
     "output_type": "execute_result"
    }
   ],
   "source": [
    "raw_df.to_csv('preprocessed_news_dataset.csv', index=False)\n",
    "raw_df.head()"
   ]
  },
  {
   "cell_type": "code",
   "execution_count": null,
   "id": "365697c8",
   "metadata": {},
   "outputs": [],
   "source": []
  }
 ],
 "metadata": {
  "kernelspec": {
   "display_name": "python3.8_TF2.7",
   "language": "python",
   "name": "python3.8_tf2.7"
  },
  "language_info": {
   "codemirror_mode": {
    "name": "ipython",
    "version": 3
   },
   "file_extension": ".py",
   "mimetype": "text/x-python",
   "name": "python",
   "nbconvert_exporter": "python",
   "pygments_lexer": "ipython3",
   "version": "3.8.12"
  }
 },
 "nbformat": 4,
 "nbformat_minor": 5
}
