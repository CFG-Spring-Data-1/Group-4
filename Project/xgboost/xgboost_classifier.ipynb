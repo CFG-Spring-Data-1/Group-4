{
 "cells": [
  {
   "cell_type": "markdown",
   "id": "cb7b7aa9",
   "metadata": {},
   "source": [
    "### XGBoost (fake news detection)"
   ]
  },
  {
   "cell_type": "markdown",
   "id": "14e6ff15",
   "metadata": {},
   "source": [
    "### Import libraries"
   ]
  },
  {
   "cell_type": "code",
   "execution_count": 1,
   "id": "6ce8f5f2",
   "metadata": {},
   "outputs": [],
   "source": [
    "import pandas as pd\n",
    "import numpy as np\n",
    "import matplotlib.pyplot as plt\n",
    "import pickle\n",
    "\n",
    "from sklearn.model_selection import train_test_split\n",
    "from sklearn.metrics import classification_report\n",
    "from sklearn.metrics import plot_confusion_matrix\n",
    "from sklearn import metrics\n",
    "\n",
    "import xgboost as xgb\n",
    "\n",
    "from sklearn.model_selection import GridSearchCV\n",
    "from sklearn.model_selection import StratifiedKFold\n",
    "\n",
    "# # Silent warnings\n",
    "import warnings\n",
    "warnings.filterwarnings('ignore')\n",
    "warnings.simplefilter('ignore')"
   ]
  },
  {
   "cell_type": "markdown",
   "id": "08b500d9",
   "metadata": {},
   "source": [
    "### Load preprocessed data"
   ]
  },
  {
   "cell_type": "code",
   "execution_count": 2,
   "id": "4f840e76",
   "metadata": {},
   "outputs": [],
   "source": [
    "with open('preprocessed_X.pkl', 'rb') as f:\n",
    "    X = pickle.load(f)\n",
    "    \n",
    "with open('preprocessed_y.pkl', 'rb') as f:\n",
    "    y = pickle.load(f)"
   ]
  },
  {
   "cell_type": "markdown",
   "id": "922219f2",
   "metadata": {},
   "source": [
    "### Split data into train and test set"
   ]
  },
  {
   "cell_type": "code",
   "execution_count": 3,
   "id": "1456a40f",
   "metadata": {},
   "outputs": [
    {
     "data": {
      "text/plain": [
       "((28941, 5000), (28941,), (9648, 5000), (9648,))"
      ]
     },
     "execution_count": 3,
     "metadata": {},
     "output_type": "execute_result"
    }
   ],
   "source": [
    "# Split data into train and test sets in ratio 75%/25% (pseudo randomized random_state=42)\n",
    "X_train, X_test, y_train, y_test = train_test_split(X, y, random_state=42)\n",
    "\n",
    "X_train.shape, y_train.shape, X_test.shape, y_test.shape"
   ]
  },
  {
   "cell_type": "markdown",
   "id": "21d15149",
   "metadata": {},
   "source": [
    "### XGBoost default parameters "
   ]
  },
  {
   "cell_type": "code",
   "execution_count": 4,
   "id": "58bd3dec",
   "metadata": {},
   "outputs": [
    {
     "name": "stdout",
     "output_type": "stream",
     "text": [
      "[20:21:32] WARNING: C:/Users/Administrator/workspace/xgboost-win64_release_1.5.1/src/learner.cc:1115: Starting in XGBoost 1.3.0, the default evaluation metric used with the objective 'binary:logistic' was changed from 'error' to 'logloss'. Explicitly set eval_metric if you'd like to restore the old behavior.\n",
      "              precision    recall  f1-score   support\n",
      "\n",
      "        Fake       0.99      0.98      0.98      4345\n",
      "        Real       0.98      0.99      0.99      5303\n",
      "\n",
      "    accuracy                           0.99      9648\n",
      "   macro avg       0.99      0.98      0.98      9648\n",
      "weighted avg       0.99      0.99      0.99      9648\n",
      "\n"
     ]
    }
   ],
   "source": [
    "xgb_cl = xgb.XGBClassifier(random_state=42)\n",
    "xgb_cl.fit(X_train, y_train)\n",
    "\n",
    "# # Returning classification report\n",
    "print(classification_report(y_test, xgb_cl.predict(X_test), target_names = ['Fake', 'Real']))"
   ]
  },
  {
   "cell_type": "code",
   "execution_count": 5,
   "id": "152b6236",
   "metadata": {},
   "outputs": [
    {
     "data": {
      "text/plain": [
       "{'objective': 'binary:logistic',\n",
       " 'use_label_encoder': True,\n",
       " 'base_score': 0.5,\n",
       " 'booster': 'gbtree',\n",
       " 'colsample_bylevel': 1,\n",
       " 'colsample_bynode': 1,\n",
       " 'colsample_bytree': 1,\n",
       " 'enable_categorical': False,\n",
       " 'gamma': 0,\n",
       " 'gpu_id': -1,\n",
       " 'importance_type': None,\n",
       " 'interaction_constraints': '',\n",
       " 'learning_rate': 0.300000012,\n",
       " 'max_delta_step': 0,\n",
       " 'max_depth': 6,\n",
       " 'min_child_weight': 1,\n",
       " 'missing': nan,\n",
       " 'monotone_constraints': '()',\n",
       " 'n_estimators': 100,\n",
       " 'n_jobs': 16,\n",
       " 'num_parallel_tree': 1,\n",
       " 'predictor': 'auto',\n",
       " 'random_state': 42,\n",
       " 'reg_alpha': 0,\n",
       " 'reg_lambda': 1,\n",
       " 'scale_pos_weight': 1,\n",
       " 'subsample': 1,\n",
       " 'tree_method': 'exact',\n",
       " 'validate_parameters': 1,\n",
       " 'verbosity': None}"
      ]
     },
     "execution_count": 5,
     "metadata": {},
     "output_type": "execute_result"
    }
   ],
   "source": [
    "xgb_cl.get_params(deep=True)"
   ]
  },
  {
   "cell_type": "code",
   "execution_count": 6,
   "id": "f1e8223e",
   "metadata": {},
   "outputs": [
    {
     "data": {
      "image/png": "[encoded data removed]",
      "text/plain": [
       "<Figure size 432x288 with 2 Axes>"
      ]
     },
     "metadata": {
      "needs_background": "light"
     },
     "output_type": "display_data"
    }
   ],
   "source": [
    "plot_confusion_matrix(xgb_cl, X_test, y_test, values_format='d', display_labels=['Fake', 'Real'])\n",
    "plt.grid(False)"
   ]
  },
  {
   "cell_type": "markdown",
   "id": "50006c3f",
   "metadata": {},
   "source": [
    "### Parameters tuned XGBoost"
   ]
  },
  {
   "cell_type": "code",
   "execution_count": 7,
   "id": "f5aaa555",
   "metadata": {},
   "outputs": [
    {
     "name": "stdout",
     "output_type": "stream",
     "text": [
      "[20:22:15] WARNING: C:/Users/Administrator/workspace/xgboost-win64_release_1.5.1/src/learner.cc:1115: Starting in XGBoost 1.3.0, the default evaluation metric used with the objective 'binary:logistic' was changed from 'error' to 'logloss'. Explicitly set eval_metric if you'd like to restore the old behavior.\n"
     ]
    },
    {
     "data": {
      "text/plain": [
       "GridSearchCV(cv=3,\n",
       "             estimator=XGBClassifier(base_score=None, booster=None,\n",
       "                                     colsample_bylevel=None,\n",
       "                                     colsample_bynode=None,\n",
       "                                     colsample_bytree=None,\n",
       "                                     enable_categorical=False, gamma=None,\n",
       "                                     gpu_id=None, importance_type=None,\n",
       "                                     interaction_constraints=None,\n",
       "                                     learning_rate=None, max_delta_step=None,\n",
       "                                     max_depth=None, min_child_weight=None,\n",
       "                                     missing=nan, monotone_constraints=None,\n",
       "                                     n_estimators=100, n_jobs=None,\n",
       "                                     num_parallel_tree=None, predictor=None,\n",
       "                                     random_state=None, reg_alpha=None,\n",
       "                                     reg_lambda=None, scale_pos_weight=None,\n",
       "                                     subsample=None, tree_method=None,\n",
       "                                     validate_parameters=None, verbosity=None),\n",
       "             n_jobs=-1,\n",
       "             param_grid={'colsample_bytree': [0.5], 'gamma': [0.5],\n",
       "                         'learning_rate': [0.2], 'max_depth': [8],\n",
       "                         'reg_alpha': [0], 'reg_lambda': [0.5],\n",
       "                         'subsample': [0.9]})"
      ]
     },
     "execution_count": 7,
     "metadata": {},
     "output_type": "execute_result"
    }
   ],
   "source": [
    "# Find optimal hyperparameters\n",
    "\n",
    "# xgb_params_grid = {'colsample_bytree': [0.5, 0.7, 0.9],                   \n",
    "#                    'gamma': [0, 0.3, 0.5],\n",
    "#                    'learning_rate': [0.01, 0.1, 0.2],\n",
    "#                    'max_depth': [2, 4, 6, 8],                   \n",
    "#                    'reg_alpha': [0, 0.5, 1],                   \n",
    "#                    'reg_lambda': [0, 0.5, 1],\n",
    "#                    'subsample': [0.5, 0.7, 0.9],\n",
    "#                   }\n",
    "\n",
    "xgb_params_grid = {'colsample_bytree': [0.5],                   \n",
    "                   'gamma': [0.5],\n",
    "                   'learning_rate': [0.2],\n",
    "                   'max_depth': [8],                   \n",
    "                   'reg_alpha': [0],                   \n",
    "                   'reg_lambda': [0.5],\n",
    "                   'subsample': [0.9],\n",
    "                  }\n",
    "\n",
    "xgb_grid = GridSearchCV(estimator=xgb.XGBClassifier(),\n",
    "                       param_grid=xgb_params_grid,\n",
    "                       cv=3,     \n",
    "                       verbose=0,\n",
    "                       n_jobs=-1\n",
    "                      )\n",
    "\n",
    "xgb_grid.fit(X_train, y_train)"
   ]
  },
  {
   "cell_type": "code",
   "execution_count": 8,
   "id": "66f530ee",
   "metadata": {},
   "outputs": [
    {
     "data": {
      "text/plain": [
       "{'colsample_bytree': 0.5,\n",
       " 'gamma': 0.5,\n",
       " 'learning_rate': 0.2,\n",
       " 'max_depth': 8,\n",
       " 'reg_alpha': 0,\n",
       " 'reg_lambda': 0.5,\n",
       " 'subsample': 0.9}"
      ]
     },
     "execution_count": 8,
     "metadata": {},
     "output_type": "execute_result"
    }
   ],
   "source": [
    "xgb_grid.best_params_"
   ]
  },
  {
   "cell_type": "code",
   "execution_count": 9,
   "id": "7340e430",
   "metadata": {},
   "outputs": [
    {
     "name": "stdout",
     "output_type": "stream",
     "text": [
      "[20:22:26] WARNING: C:/Users/Administrator/workspace/xgboost-win64_release_1.5.1/src/learner.cc:1115: Starting in XGBoost 1.3.0, the default evaluation metric used with the objective 'binary:logistic' was changed from 'error' to 'logloss'. Explicitly set eval_metric if you'd like to restore the old behavior.\n",
      "              precision    recall  f1-score   support\n",
      "\n",
      "        Fake       0.99      0.98      0.98      4345\n",
      "        Real       0.98      0.99      0.99      5303\n",
      "\n",
      "    accuracy                           0.99      9648\n",
      "   macro avg       0.99      0.98      0.99      9648\n",
      "weighted avg       0.99      0.99      0.99      9648\n",
      "\n"
     ]
    }
   ],
   "source": [
    "xgb_param_tuned = xgb.XGBClassifier().set_params(**xgb_grid.best_params_)\n",
    "xgb_param_tuned.fit(X_train, y_train)\n",
    "\n",
    "# Returning classification report\n",
    "print(classification_report(y_test, xgb_param_tuned.predict(X_test), target_names = ['Fake', 'Real']))"
   ]
  },
  {
   "cell_type": "code",
   "execution_count": 10,
   "id": "93cc852a",
   "metadata": {},
   "outputs": [
    {
     "data": {
      "image/png": "[encoded data removed]",
      "text/plain": [
       "<Figure size 432x288 with 2 Axes>"
      ]
     },
     "metadata": {
      "needs_background": "light"
     },
     "output_type": "display_data"
    }
   ],
   "source": [
    "plot_confusion_matrix(xgb_param_tuned, X_test, y_test, values_format='d', display_labels=['Fake', 'Real'])\n",
    "plt.grid(False)"
   ]
  },
  {
   "cell_type": "markdown",
   "id": "52e921b8",
   "metadata": {},
   "source": [
    "### Save tuned and trained Random Forest Classifier "
   ]
  },
  {
   "cell_type": "code",
   "execution_count": 11,
   "id": "4d71632b",
   "metadata": {},
   "outputs": [],
   "source": [
    "with open('XGBoost_tuned.pkl', 'wb') as f:\n",
    "    pickle.dump(xgb_param_tuned, f)"
   ]
  },
  {
   "cell_type": "markdown",
   "id": "999e0da2",
   "metadata": {},
   "source": [
    "### Plot Receiver operating characteristic (ROC) curve"
   ]
  },
  {
   "cell_type": "code",
   "execution_count": 12,
   "id": "c213fd9d",
   "metadata": {},
   "outputs": [
    {
     "data": {
      "image/png": "[encoded data removed]",
      "text/plain": [
       "<Figure size 432x288 with 1 Axes>"
      ]
     },
     "metadata": {
      "needs_background": "light"
     },
     "output_type": "display_data"
    }
   ],
   "source": [
    "metrics.plot_roc_curve(xgb_param_tuned, X_test, y_test) \n",
    "plt.show()"
   ]
  },
  {
   "cell_type": "code",
   "execution_count": null,
   "id": "38edd5fb",
   "metadata": {},
   "outputs": [],
   "source": []
  }
 ],
 "metadata": {
  "kernelspec": {
   "display_name": "python3.8_TF2.7",
   "language": "python",
   "name": "python3.8_tf2.7"
  },
  "language_info": {
   "codemirror_mode": {
    "name": "ipython",
    "version": 3
   },
   "file_extension": ".py",
   "mimetype": "text/x-python",
   "name": "python",
   "nbconvert_exporter": "python",
   "pygments_lexer": "ipython3",
   "version": "3.8.12"
  }
 },
 "nbformat": 4,
 "nbformat_minor": 5
}
