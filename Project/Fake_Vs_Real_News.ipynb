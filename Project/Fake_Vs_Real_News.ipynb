{
 "cells": [
  {
   "cell_type": "markdown",
   "id": "9b02767e",
   "metadata": {},
   "source": [
    "## Fake vs Real News"
   ]
  },
  {
   "cell_type": "markdown",
   "id": "54185348",
   "metadata": {},
   "source": [
    "### Import libraries"
   ]
  },
  {
   "cell_type": "code",
   "execution_count": 1,
   "id": "1232326f",
   "metadata": {},
   "outputs": [
    {
     "data": {
      "text/html": [
       "<style type='text/css'>\n",
       ".datatable table.frame { margin-bottom: 0; }\n",
       ".datatable table.frame thead { border-bottom: none; }\n",
       ".datatable table.frame tr.coltypes td {  color: #FFFFFF;  line-height: 6px;  padding: 0 0.5em;}\n",
       ".datatable .bool    { background: #DDDD99; }\n",
       ".datatable .object  { background: #565656; }\n",
       ".datatable .int     { background: #5D9E5D; }\n",
       ".datatable .float   { background: #4040CC; }\n",
       ".datatable .str     { background: #CC4040; }\n",
       ".datatable .time    { background: #40CC40; }\n",
       ".datatable .row_index {  background: var(--jp-border-color3);  border-right: 1px solid var(--jp-border-color0);  color: var(--jp-ui-font-color3);  font-size: 9px;}\n",
       ".datatable .frame tbody td { text-align: left; }\n",
       ".datatable .frame tr.coltypes .row_index {  background: var(--jp-border-color0);}\n",
       ".datatable th:nth-child(2) { padding-left: 12px; }\n",
       ".datatable .hellipsis {  color: var(--jp-cell-editor-border-color);}\n",
       ".datatable .vellipsis {  background: var(--jp-layout-color0);  color: var(--jp-cell-editor-border-color);}\n",
       ".datatable .na {  color: var(--jp-cell-editor-border-color);  font-size: 80%;}\n",
       ".datatable .sp {  opacity: 0.25;}\n",
       ".datatable .footer { font-size: 9px; }\n",
       ".datatable .frame_dimensions {  background: var(--jp-border-color3);  border-top: 1px solid var(--jp-border-color0);  color: var(--jp-ui-font-color3);  display: inline-block;  opacity: 0.6;  padding: 1px 10px 1px 5px;}\n",
       "</style>\n"
      ],
      "text/plain": [
       "<IPython.core.display.HTML object>"
      ]
     },
     "metadata": {},
     "output_type": "display_data"
    }
   ],
   "source": [
    "import pandas as pd # data processing \n",
    "import matplotlib.pyplot as plt # plotting \n",
    "import numpy as np # linear algebra \n",
    "import seaborn as sns \n",
    "\n",
    "# tool to read data csv file (it is faster than pandas and can read files from .zip)\n",
    "import datatable as dt\n",
    "\n",
    "# import kaggle\n",
    "\n",
    "# colored output text\n",
    "from termcolor import colored\n",
    "\n",
    "import re\n",
    "import string \n",
    "\n",
    "from bs4 import BeautifulSoup\n",
    "\n",
    "from wordcloud import WordCloud, STOPWORDS\n",
    "\n",
    "# Silent warnings\n",
    "import warnings\n",
    "warnings.filterwarnings('ignore')\n",
    "warnings.simplefilter('ignore')"
   ]
  },
  {
   "cell_type": "markdown",
   "id": "496f1a49",
   "metadata": {},
   "source": [
    "### Install kaggle library"
   ]
  },
  {
   "cell_type": "code",
   "execution_count": 2,
   "id": "0a9869cc",
   "metadata": {},
   "outputs": [],
   "source": [
    "# !pip install kaggle"
   ]
  },
  {
   "cell_type": "markdown",
   "id": "c5d40ff3",
   "metadata": {},
   "source": [
    "### Add credentials used for Kaggle API"
   ]
  },
  {
   "cell_type": "code",
   "execution_count": 3,
   "id": "95306731",
   "metadata": {},
   "outputs": [],
   "source": [
    "# # try in bash (if not working in Jupyter) create folder .kaggle and copy kaggle.json (kaggle api key) to it\n",
    "# !mkdir ~/.kaggle\n",
    "# !cp ~/Downloads/kaggle.json ~/.kaggle/kaggle.json"
   ]
  },
  {
   "cell_type": "markdown",
   "id": "65d21e77",
   "metadata": {},
   "source": [
    "### Search for datasets"
   ]
  },
  {
   "cell_type": "code",
   "execution_count": 4,
   "id": "b78a2d93",
   "metadata": {},
   "outputs": [],
   "source": [
    "# search for the dataset\n",
    "# !kaggle datasets list -s 'fake-news'"
   ]
  },
  {
   "cell_type": "markdown",
   "id": "dd32b47a",
   "metadata": {},
   "source": [
    "### Dowload datasets"
   ]
  },
  {
   "cell_type": "code",
   "execution_count": 5,
   "id": "56ba3ea3",
   "metadata": {},
   "outputs": [],
   "source": [
    "# # https://www.kaggle.com/datasets/clmentbisaillon/fake-and-real-news-dataset?select=True.csv\n",
    "# !kaggle datasets download -d clmentbisaillon/fake-and-real-news-dataset"
   ]
  },
  {
   "cell_type": "markdown",
   "id": "878a07cd",
   "metadata": {},
   "source": [
    "### Create folder for datasets\n",
    "#### Move dataset to data directory"
   ]
  },
  {
   "cell_type": "code",
   "execution_count": 6,
   "id": "907bb426",
   "metadata": {},
   "outputs": [],
   "source": [
    "# !mkdir data\n",
    "# !mv fake-and-real-news-dataset.zip data"
   ]
  },
  {
   "cell_type": "markdown",
   "id": "645e29e7",
   "metadata": {},
   "source": [
    "### Dataset in use \n",
    "### https://www.kaggle.com/datasets/clmentbisaillon/fake-and-real-news-dataset?select=True.csv"
   ]
  },
  {
   "cell_type": "code",
   "execution_count": 7,
   "id": "402db437",
   "metadata": {},
   "outputs": [],
   "source": [
    "fake_df1 = dt.fread('data/fake-and-real-news-dataset.zip/Fake.csv').to_pandas()\n",
    "real_df1 = dt.fread('data/fake-and-real-news-dataset.zip/True.csv').to_pandas()"
   ]
  },
  {
   "cell_type": "markdown",
   "id": "de5f9585",
   "metadata": {},
   "source": [
    "### Quick exploratory analysis of Fake News DF"
   ]
  },
  {
   "cell_type": "code",
   "execution_count": 8,
   "id": "e5a82048",
   "metadata": {},
   "outputs": [
    {
     "data": {
      "text/html": [
       "<div>\n",
       "<style scoped>\n",
       "    .dataframe tbody tr th:only-of-type {\n",
       "        vertical-align: middle;\n",
       "    }\n",
       "\n",
       "    .dataframe tbody tr th {\n",
       "        vertical-align: top;\n",
       "    }\n",
       "\n",
       "    .dataframe thead th {\n",
       "        text-align: right;\n",
       "    }\n",
       "</style>\n",
       "<table border=\"1\" class=\"dataframe\">\n",
       "  <thead>\n",
       "    <tr style=\"text-align: right;\">\n",
       "      <th></th>\n",
       "      <th>title</th>\n",
       "      <th>text</th>\n",
       "      <th>subject</th>\n",
       "      <th>date</th>\n",
       "    </tr>\n",
       "  </thead>\n",
       "  <tbody>\n",
       "    <tr>\n",
       "      <th>0</th>\n",
       "      <td>Donald Trump Sends Out Embarrassing New Year’s...</td>\n",
       "      <td>Donald Trump just couldn t wish all Americans ...</td>\n",
       "      <td>News</td>\n",
       "      <td>December 31, 2017</td>\n",
       "    </tr>\n",
       "    <tr>\n",
       "      <th>1</th>\n",
       "      <td>Drunk Bragging Trump Staffer Started Russian C...</td>\n",
       "      <td>House Intelligence Committee Chairman Devin Nu...</td>\n",
       "      <td>News</td>\n",
       "      <td>December 31, 2017</td>\n",
       "    </tr>\n",
       "    <tr>\n",
       "      <th>2</th>\n",
       "      <td>Sheriff David Clarke Becomes An Internet Joke ...</td>\n",
       "      <td>On Friday, it was revealed that former Milwauk...</td>\n",
       "      <td>News</td>\n",
       "      <td>December 30, 2017</td>\n",
       "    </tr>\n",
       "    <tr>\n",
       "      <th>3</th>\n",
       "      <td>Trump Is So Obsessed He Even Has Obama’s Name ...</td>\n",
       "      <td>On Christmas day, Donald Trump announced that ...</td>\n",
       "      <td>News</td>\n",
       "      <td>December 29, 2017</td>\n",
       "    </tr>\n",
       "    <tr>\n",
       "      <th>4</th>\n",
       "      <td>Pope Francis Just Called Out Donald Trump Duri...</td>\n",
       "      <td>Pope Francis used his annual Christmas Day mes...</td>\n",
       "      <td>News</td>\n",
       "      <td>December 25, 2017</td>\n",
       "    </tr>\n",
       "    <tr>\n",
       "      <th>5</th>\n",
       "      <td>Racist Alabama Cops Brutalize Black Boy While ...</td>\n",
       "      <td>The number of cases of cops brutalizing and ki...</td>\n",
       "      <td>News</td>\n",
       "      <td>December 25, 2017</td>\n",
       "    </tr>\n",
       "  </tbody>\n",
       "</table>\n",
       "</div>"
      ],
      "text/plain": [
       "                                               title  \\\n",
       "0  Donald Trump Sends Out Embarrassing New Year’s...   \n",
       "1  Drunk Bragging Trump Staffer Started Russian C...   \n",
       "2  Sheriff David Clarke Becomes An Internet Joke ...   \n",
       "3  Trump Is So Obsessed He Even Has Obama’s Name ...   \n",
       "4  Pope Francis Just Called Out Donald Trump Duri...   \n",
       "5  Racist Alabama Cops Brutalize Black Boy While ...   \n",
       "\n",
       "                                                text subject  \\\n",
       "0  Donald Trump just couldn t wish all Americans ...    News   \n",
       "1  House Intelligence Committee Chairman Devin Nu...    News   \n",
       "2  On Friday, it was revealed that former Milwauk...    News   \n",
       "3  On Christmas day, Donald Trump announced that ...    News   \n",
       "4  Pope Francis used his annual Christmas Day mes...    News   \n",
       "5  The number of cases of cops brutalizing and ki...    News   \n",
       "\n",
       "                date  \n",
       "0  December 31, 2017  \n",
       "1  December 31, 2017  \n",
       "2  December 30, 2017  \n",
       "3  December 29, 2017  \n",
       "4  December 25, 2017  \n",
       "5  December 25, 2017  "
      ]
     },
     "execution_count": 8,
     "metadata": {},
     "output_type": "execute_result"
    }
   ],
   "source": [
    "fake_df1.head(6)"
   ]
  },
  {
   "cell_type": "code",
   "execution_count": 9,
   "id": "1c66eb4c",
   "metadata": {},
   "outputs": [
    {
     "data": {
      "text/html": [
       "<div>\n",
       "<style scoped>\n",
       "    .dataframe tbody tr th:only-of-type {\n",
       "        vertical-align: middle;\n",
       "    }\n",
       "\n",
       "    .dataframe tbody tr th {\n",
       "        vertical-align: top;\n",
       "    }\n",
       "\n",
       "    .dataframe thead th {\n",
       "        text-align: right;\n",
       "    }\n",
       "</style>\n",
       "<table border=\"1\" class=\"dataframe\">\n",
       "  <thead>\n",
       "    <tr style=\"text-align: right;\">\n",
       "      <th></th>\n",
       "      <th>title</th>\n",
       "      <th>text</th>\n",
       "      <th>subject</th>\n",
       "      <th>date</th>\n",
       "    </tr>\n",
       "  </thead>\n",
       "  <tbody>\n",
       "    <tr>\n",
       "      <th>count</th>\n",
       "      <td>23481</td>\n",
       "      <td>23481</td>\n",
       "      <td>23481</td>\n",
       "      <td>23481</td>\n",
       "    </tr>\n",
       "    <tr>\n",
       "      <th>unique</th>\n",
       "      <td>17903</td>\n",
       "      <td>17453</td>\n",
       "      <td>6</td>\n",
       "      <td>1681</td>\n",
       "    </tr>\n",
       "    <tr>\n",
       "      <th>top</th>\n",
       "      <td>MEDIA IGNORES Time That Bill Clinton FIRED His...</td>\n",
       "      <td></td>\n",
       "      <td>News</td>\n",
       "      <td>May 10, 2017</td>\n",
       "    </tr>\n",
       "    <tr>\n",
       "      <th>freq</th>\n",
       "      <td>6</td>\n",
       "      <td>630</td>\n",
       "      <td>9050</td>\n",
       "      <td>46</td>\n",
       "    </tr>\n",
       "  </tbody>\n",
       "</table>\n",
       "</div>"
      ],
      "text/plain": [
       "                                                    title   text subject  \\\n",
       "count                                               23481  23481   23481   \n",
       "unique                                              17903  17453       6   \n",
       "top     MEDIA IGNORES Time That Bill Clinton FIRED His...           News   \n",
       "freq                                                    6    630    9050   \n",
       "\n",
       "                date  \n",
       "count          23481  \n",
       "unique          1681  \n",
       "top     May 10, 2017  \n",
       "freq              46  "
      ]
     },
     "execution_count": 9,
     "metadata": {},
     "output_type": "execute_result"
    }
   ],
   "source": [
    "fake_df1.describe()"
   ]
  },
  {
   "cell_type": "code",
   "execution_count": 10,
   "id": "79b90329",
   "metadata": {},
   "outputs": [
    {
     "data": {
      "text/plain": [
       "(23481, 4)"
      ]
     },
     "execution_count": 10,
     "metadata": {},
     "output_type": "execute_result"
    }
   ],
   "source": [
    "fake_df1.shape"
   ]
  },
  {
   "cell_type": "code",
   "execution_count": 11,
   "id": "8fdbb57d",
   "metadata": {},
   "outputs": [
    {
     "name": "stdout",
     "output_type": "stream",
     "text": [
      "<class 'pandas.core.frame.DataFrame'>\n",
      "RangeIndex: 23481 entries, 0 to 23480\n",
      "Data columns (total 4 columns):\n",
      " #   Column   Non-Null Count  Dtype \n",
      "---  ------   --------------  ----- \n",
      " 0   title    23481 non-null  object\n",
      " 1   text     23481 non-null  object\n",
      " 2   subject  23481 non-null  object\n",
      " 3   date     23481 non-null  object\n",
      "dtypes: object(4)\n",
      "memory usage: 733.9+ KB\n"
     ]
    }
   ],
   "source": [
    "fake_df1.info()"
   ]
  },
  {
   "cell_type": "code",
   "execution_count": 12,
   "id": "5118a61f",
   "metadata": {},
   "outputs": [
    {
     "data": {
      "text/plain": [
       "title      0\n",
       "text       0\n",
       "subject    0\n",
       "date       0\n",
       "dtype: int64"
      ]
     },
     "execution_count": 12,
     "metadata": {},
     "output_type": "execute_result"
    }
   ],
   "source": [
    "fake_df1.isnull().sum()"
   ]
  },
  {
   "cell_type": "markdown",
   "id": "15d12099",
   "metadata": {},
   "source": [
    "#### Let's find and remove duplicates in Fake DF"
   ]
  },
  {
   "cell_type": "code",
   "execution_count": 13,
   "id": "0862881e",
   "metadata": {},
   "outputs": [
    {
     "name": "stdout",
     "output_type": "stream",
     "text": [
      "\u001b[1m\u001b[34mFound 6028 duplicate in 23481 samples\u001b[0m\n"
     ]
    }
   ],
   "source": [
    "duplicate = fake_df1['text'][fake_df1['text'].duplicated()].index\n",
    "result = f\"Found {len(duplicate)} duplicate in {fake_df1.shape[0]} samples\"\n",
    "print(colored(result, 'blue', attrs=['bold']))\n"
   ]
  },
  {
   "cell_type": "code",
   "execution_count": 14,
   "id": "8a354c9c",
   "metadata": {
    "scrolled": true
   },
   "outputs": [
    {
     "data": {
      "text/plain": [
       "(17453, 4)"
      ]
     },
     "execution_count": 14,
     "metadata": {},
     "output_type": "execute_result"
    }
   ],
   "source": [
    "# remove duplicates \n",
    "\n",
    "fake_df1.drop(index=duplicate, inplace=True)\n",
    "\n",
    "fake_df1.shape"
   ]
  },
  {
   "cell_type": "code",
   "execution_count": 15,
   "id": "eec16671",
   "metadata": {},
   "outputs": [
    {
     "data": {
      "text/plain": [
       "array(['News', 'politics', 'Government News', 'left-news', 'US_News'],\n",
       "      dtype=object)"
      ]
     },
     "execution_count": 15,
     "metadata": {},
     "output_type": "execute_result"
    }
   ],
   "source": [
    "fake_df1['subject'].unique()"
   ]
  },
  {
   "cell_type": "markdown",
   "id": "f6b83f33",
   "metadata": {},
   "source": [
    "### Quick explanatory analysis of Real News DF"
   ]
  },
  {
   "cell_type": "code",
   "execution_count": 16,
   "id": "f2f958e8",
   "metadata": {},
   "outputs": [
    {
     "data": {
      "text/html": [
       "<div>\n",
       "<style scoped>\n",
       "    .dataframe tbody tr th:only-of-type {\n",
       "        vertical-align: middle;\n",
       "    }\n",
       "\n",
       "    .dataframe tbody tr th {\n",
       "        vertical-align: top;\n",
       "    }\n",
       "\n",
       "    .dataframe thead th {\n",
       "        text-align: right;\n",
       "    }\n",
       "</style>\n",
       "<table border=\"1\" class=\"dataframe\">\n",
       "  <thead>\n",
       "    <tr style=\"text-align: right;\">\n",
       "      <th></th>\n",
       "      <th>title</th>\n",
       "      <th>text</th>\n",
       "      <th>subject</th>\n",
       "      <th>date</th>\n",
       "    </tr>\n",
       "  </thead>\n",
       "  <tbody>\n",
       "    <tr>\n",
       "      <th>0</th>\n",
       "      <td>As U.S. budget fight looms, Republicans flip t...</td>\n",
       "      <td>WASHINGTON (Reuters) - The head of a conservat...</td>\n",
       "      <td>politicsNews</td>\n",
       "      <td>December 31, 2017</td>\n",
       "    </tr>\n",
       "    <tr>\n",
       "      <th>1</th>\n",
       "      <td>U.S. military to accept transgender recruits o...</td>\n",
       "      <td>WASHINGTON (Reuters) - Transgender people will...</td>\n",
       "      <td>politicsNews</td>\n",
       "      <td>December 29, 2017</td>\n",
       "    </tr>\n",
       "    <tr>\n",
       "      <th>2</th>\n",
       "      <td>Senior U.S. Republican senator: 'Let Mr. Muell...</td>\n",
       "      <td>WASHINGTON (Reuters) - The special counsel inv...</td>\n",
       "      <td>politicsNews</td>\n",
       "      <td>December 31, 2017</td>\n",
       "    </tr>\n",
       "    <tr>\n",
       "      <th>3</th>\n",
       "      <td>FBI Russia probe helped by Australian diplomat...</td>\n",
       "      <td>WASHINGTON (Reuters) - Trump campaign adviser ...</td>\n",
       "      <td>politicsNews</td>\n",
       "      <td>December 30, 2017</td>\n",
       "    </tr>\n",
       "    <tr>\n",
       "      <th>4</th>\n",
       "      <td>Trump wants Postal Service to charge 'much mor...</td>\n",
       "      <td>SEATTLE/WASHINGTON (Reuters) - President Donal...</td>\n",
       "      <td>politicsNews</td>\n",
       "      <td>December 29, 2017</td>\n",
       "    </tr>\n",
       "    <tr>\n",
       "      <th>5</th>\n",
       "      <td>White House, Congress prepare for talks on spe...</td>\n",
       "      <td>WEST PALM BEACH, Fla./WASHINGTON (Reuters) - T...</td>\n",
       "      <td>politicsNews</td>\n",
       "      <td>December 29, 2017</td>\n",
       "    </tr>\n",
       "  </tbody>\n",
       "</table>\n",
       "</div>"
      ],
      "text/plain": [
       "                                               title  \\\n",
       "0  As U.S. budget fight looms, Republicans flip t...   \n",
       "1  U.S. military to accept transgender recruits o...   \n",
       "2  Senior U.S. Republican senator: 'Let Mr. Muell...   \n",
       "3  FBI Russia probe helped by Australian diplomat...   \n",
       "4  Trump wants Postal Service to charge 'much mor...   \n",
       "5  White House, Congress prepare for talks on spe...   \n",
       "\n",
       "                                                text       subject  \\\n",
       "0  WASHINGTON (Reuters) - The head of a conservat...  politicsNews   \n",
       "1  WASHINGTON (Reuters) - Transgender people will...  politicsNews   \n",
       "2  WASHINGTON (Reuters) - The special counsel inv...  politicsNews   \n",
       "3  WASHINGTON (Reuters) - Trump campaign adviser ...  politicsNews   \n",
       "4  SEATTLE/WASHINGTON (Reuters) - President Donal...  politicsNews   \n",
       "5  WEST PALM BEACH, Fla./WASHINGTON (Reuters) - T...  politicsNews   \n",
       "\n",
       "                 date  \n",
       "0  December 31, 2017   \n",
       "1  December 29, 2017   \n",
       "2  December 31, 2017   \n",
       "3  December 30, 2017   \n",
       "4  December 29, 2017   \n",
       "5  December 29, 2017   "
      ]
     },
     "execution_count": 16,
     "metadata": {},
     "output_type": "execute_result"
    }
   ],
   "source": [
    "real_df1.head(6)"
   ]
  },
  {
   "cell_type": "code",
   "execution_count": 17,
   "id": "880e4326",
   "metadata": {},
   "outputs": [
    {
     "data": {
      "text/html": [
       "<div>\n",
       "<style scoped>\n",
       "    .dataframe tbody tr th:only-of-type {\n",
       "        vertical-align: middle;\n",
       "    }\n",
       "\n",
       "    .dataframe tbody tr th {\n",
       "        vertical-align: top;\n",
       "    }\n",
       "\n",
       "    .dataframe thead th {\n",
       "        text-align: right;\n",
       "    }\n",
       "</style>\n",
       "<table border=\"1\" class=\"dataframe\">\n",
       "  <thead>\n",
       "    <tr style=\"text-align: right;\">\n",
       "      <th></th>\n",
       "      <th>title</th>\n",
       "      <th>text</th>\n",
       "      <th>subject</th>\n",
       "      <th>date</th>\n",
       "    </tr>\n",
       "  </thead>\n",
       "  <tbody>\n",
       "    <tr>\n",
       "      <th>count</th>\n",
       "      <td>21417</td>\n",
       "      <td>21417</td>\n",
       "      <td>21417</td>\n",
       "      <td>21417</td>\n",
       "    </tr>\n",
       "    <tr>\n",
       "      <th>unique</th>\n",
       "      <td>20825</td>\n",
       "      <td>21192</td>\n",
       "      <td>2</td>\n",
       "      <td>716</td>\n",
       "    </tr>\n",
       "    <tr>\n",
       "      <th>top</th>\n",
       "      <td>Factbox: Trump fills top jobs for his administ...</td>\n",
       "      <td>(Reuters) - Highlights for U.S. President Dona...</td>\n",
       "      <td>politicsNews</td>\n",
       "      <td>December 20, 2017</td>\n",
       "    </tr>\n",
       "    <tr>\n",
       "      <th>freq</th>\n",
       "      <td>14</td>\n",
       "      <td>8</td>\n",
       "      <td>11272</td>\n",
       "      <td>182</td>\n",
       "    </tr>\n",
       "  </tbody>\n",
       "</table>\n",
       "</div>"
      ],
      "text/plain": [
       "                                                    title  \\\n",
       "count                                               21417   \n",
       "unique                                              20825   \n",
       "top     Factbox: Trump fills top jobs for his administ...   \n",
       "freq                                                   14   \n",
       "\n",
       "                                                     text       subject  \\\n",
       "count                                               21417         21417   \n",
       "unique                                              21192             2   \n",
       "top     (Reuters) - Highlights for U.S. President Dona...  politicsNews   \n",
       "freq                                                    8         11272   \n",
       "\n",
       "                      date  \n",
       "count                21417  \n",
       "unique                 716  \n",
       "top     December 20, 2017   \n",
       "freq                   182  "
      ]
     },
     "execution_count": 17,
     "metadata": {},
     "output_type": "execute_result"
    }
   ],
   "source": [
    "real_df1.describe()"
   ]
  },
  {
   "cell_type": "code",
   "execution_count": 18,
   "id": "9111151f",
   "metadata": {},
   "outputs": [
    {
     "data": {
      "text/plain": [
       "(21417, 4)"
      ]
     },
     "execution_count": 18,
     "metadata": {},
     "output_type": "execute_result"
    }
   ],
   "source": [
    "real_df1.shape"
   ]
  },
  {
   "cell_type": "code",
   "execution_count": 19,
   "id": "ef1bf211",
   "metadata": {},
   "outputs": [
    {
     "name": "stdout",
     "output_type": "stream",
     "text": [
      "<class 'pandas.core.frame.DataFrame'>\n",
      "RangeIndex: 21417 entries, 0 to 21416\n",
      "Data columns (total 4 columns):\n",
      " #   Column   Non-Null Count  Dtype \n",
      "---  ------   --------------  ----- \n",
      " 0   title    21417 non-null  object\n",
      " 1   text     21417 non-null  object\n",
      " 2   subject  21417 non-null  object\n",
      " 3   date     21417 non-null  object\n",
      "dtypes: object(4)\n",
      "memory usage: 669.4+ KB\n"
     ]
    }
   ],
   "source": [
    "real_df1.info()"
   ]
  },
  {
   "cell_type": "code",
   "execution_count": 20,
   "id": "91141cb2",
   "metadata": {},
   "outputs": [
    {
     "data": {
      "text/plain": [
       "title      0\n",
       "text       0\n",
       "subject    0\n",
       "date       0\n",
       "dtype: int64"
      ]
     },
     "execution_count": 20,
     "metadata": {},
     "output_type": "execute_result"
    }
   ],
   "source": [
    "real_df1.isnull().sum()"
   ]
  },
  {
   "cell_type": "markdown",
   "id": "ff72d9a2",
   "metadata": {},
   "source": [
    "#### Let's Find and remove duplicates in Real DF"
   ]
  },
  {
   "cell_type": "code",
   "execution_count": 21,
   "id": "017d8f62",
   "metadata": {},
   "outputs": [
    {
     "name": "stdout",
     "output_type": "stream",
     "text": [
      "\u001b[1m\u001b[34mFound 225 duplicate in 21417 samples\u001b[0m\n"
     ]
    }
   ],
   "source": [
    "duplicate = real_df1['text'][real_df1['text'].duplicated()].index\n",
    "result = f\"Found {len(duplicate)} duplicate in {real_df1.shape[0]} samples\"\n",
    "print(colored(result, 'blue', attrs=['bold']))"
   ]
  },
  {
   "cell_type": "code",
   "execution_count": 22,
   "id": "c71dcbc5",
   "metadata": {},
   "outputs": [
    {
     "data": {
      "text/plain": [
       "(21192, 4)"
      ]
     },
     "execution_count": 22,
     "metadata": {},
     "output_type": "execute_result"
    }
   ],
   "source": [
    "real_df1.drop(index=duplicate, inplace=True)\n",
    "\n",
    "real_df1.shape"
   ]
  },
  {
   "cell_type": "code",
   "execution_count": 23,
   "id": "3ed7cdde",
   "metadata": {},
   "outputs": [
    {
     "data": {
      "text/plain": [
       "politicsNews    11214\n",
       "worldnews        9978\n",
       "Name: subject, dtype: int64"
      ]
     },
     "execution_count": 23,
     "metadata": {},
     "output_type": "execute_result"
    }
   ],
   "source": [
    "real_df1['subject'].value_counts()"
   ]
  },
  {
   "cell_type": "markdown",
   "id": "901bfe07",
   "metadata": {},
   "source": [
    "### Let's add 'true' label for easier reference where Fake = 0, Real = 1"
   ]
  },
  {
   "cell_type": "code",
   "execution_count": 24,
   "id": "04905528",
   "metadata": {},
   "outputs": [
    {
     "name": "stdout",
     "output_type": "stream",
     "text": [
      "(17453, 5)\n",
      "(21192, 5)\n"
     ]
    }
   ],
   "source": [
    "# label the diff df for easier ref\n",
    "\n",
    "fake_df1['true'] = 0\n",
    "real_df1['true'] = 1\n",
    "\n",
    "# print new shape \n",
    "print(fake_df1.shape)\n",
    "print(real_df1.shape)"
   ]
  },
  {
   "cell_type": "code",
   "execution_count": 25,
   "id": "854140f3",
   "metadata": {},
   "outputs": [
    {
     "data": {
      "text/plain": [
       "<bound method NDFrame.describe of                                                    title  \\\n",
       "0      As U.S. budget fight looms, Republicans flip t...   \n",
       "1      U.S. military to accept transgender recruits o...   \n",
       "2      Senior U.S. Republican senator: 'Let Mr. Muell...   \n",
       "3      FBI Russia probe helped by Australian diplomat...   \n",
       "4      Trump wants Postal Service to charge 'much mor...   \n",
       "...                                                  ...   \n",
       "21412  'Fully committed' NATO backs new U.S. approach...   \n",
       "21413  LexisNexis withdrew two products from Chinese ...   \n",
       "21414  Minsk cultural hub becomes haven from authorities   \n",
       "21415  Vatican upbeat on possibility of Pope Francis ...   \n",
       "21416  Indonesia to buy $1.14 billion worth of Russia...   \n",
       "\n",
       "                                                    text       subject  \\\n",
       "0      WASHINGTON (Reuters) - The head of a conservat...  politicsNews   \n",
       "1      WASHINGTON (Reuters) - Transgender people will...  politicsNews   \n",
       "2      WASHINGTON (Reuters) - The special counsel inv...  politicsNews   \n",
       "3      WASHINGTON (Reuters) - Trump campaign adviser ...  politicsNews   \n",
       "4      SEATTLE/WASHINGTON (Reuters) - President Donal...  politicsNews   \n",
       "...                                                  ...           ...   \n",
       "21412  BRUSSELS (Reuters) - NATO allies on Tuesday we...     worldnews   \n",
       "21413  LONDON (Reuters) - LexisNexis, a provider of l...     worldnews   \n",
       "21414  MINSK (Reuters) - In the shadow of disused Sov...     worldnews   \n",
       "21415  MOSCOW (Reuters) - Vatican Secretary of State ...     worldnews   \n",
       "21416  JAKARTA (Reuters) - Indonesia will buy 11 Sukh...     worldnews   \n",
       "\n",
       "                     date  true  \n",
       "0      December 31, 2017      1  \n",
       "1      December 29, 2017      1  \n",
       "2      December 31, 2017      1  \n",
       "3      December 30, 2017      1  \n",
       "4      December 29, 2017      1  \n",
       "...                   ...   ...  \n",
       "21412    August 22, 2017      1  \n",
       "21413    August 22, 2017      1  \n",
       "21414    August 22, 2017      1  \n",
       "21415    August 22, 2017      1  \n",
       "21416    August 22, 2017      1  \n",
       "\n",
       "[21192 rows x 5 columns]>"
      ]
     },
     "execution_count": 25,
     "metadata": {},
     "output_type": "execute_result"
    }
   ],
   "source": [
    "# just to see \n",
    "\n",
    "real_df1.describe"
   ]
  },
  {
   "cell_type": "code",
   "execution_count": 26,
   "id": "9b8bf111",
   "metadata": {},
   "outputs": [
    {
     "data": {
      "text/html": [
       "<div>\n",
       "<style scoped>\n",
       "    .dataframe tbody tr th:only-of-type {\n",
       "        vertical-align: middle;\n",
       "    }\n",
       "\n",
       "    .dataframe tbody tr th {\n",
       "        vertical-align: top;\n",
       "    }\n",
       "\n",
       "    .dataframe thead th {\n",
       "        text-align: right;\n",
       "    }\n",
       "</style>\n",
       "<table border=\"1\" class=\"dataframe\">\n",
       "  <thead>\n",
       "    <tr style=\"text-align: right;\">\n",
       "      <th></th>\n",
       "      <th>title</th>\n",
       "      <th>text</th>\n",
       "      <th>subject</th>\n",
       "      <th>date</th>\n",
       "      <th>true</th>\n",
       "    </tr>\n",
       "  </thead>\n",
       "  <tbody>\n",
       "    <tr>\n",
       "      <th>0</th>\n",
       "      <td>Donald Trump Sends Out Embarrassing New Year’s...</td>\n",
       "      <td>Donald Trump just couldn t wish all Americans ...</td>\n",
       "      <td>News</td>\n",
       "      <td>December 31, 2017</td>\n",
       "      <td>0</td>\n",
       "    </tr>\n",
       "    <tr>\n",
       "      <th>1</th>\n",
       "      <td>Drunk Bragging Trump Staffer Started Russian C...</td>\n",
       "      <td>House Intelligence Committee Chairman Devin Nu...</td>\n",
       "      <td>News</td>\n",
       "      <td>December 31, 2017</td>\n",
       "      <td>0</td>\n",
       "    </tr>\n",
       "    <tr>\n",
       "      <th>2</th>\n",
       "      <td>Sheriff David Clarke Becomes An Internet Joke ...</td>\n",
       "      <td>On Friday, it was revealed that former Milwauk...</td>\n",
       "      <td>News</td>\n",
       "      <td>December 30, 2017</td>\n",
       "      <td>0</td>\n",
       "    </tr>\n",
       "    <tr>\n",
       "      <th>3</th>\n",
       "      <td>Trump Is So Obsessed He Even Has Obama’s Name ...</td>\n",
       "      <td>On Christmas day, Donald Trump announced that ...</td>\n",
       "      <td>News</td>\n",
       "      <td>December 29, 2017</td>\n",
       "      <td>0</td>\n",
       "    </tr>\n",
       "    <tr>\n",
       "      <th>4</th>\n",
       "      <td>Pope Francis Just Called Out Donald Trump Duri...</td>\n",
       "      <td>Pope Francis used his annual Christmas Day mes...</td>\n",
       "      <td>News</td>\n",
       "      <td>December 25, 2017</td>\n",
       "      <td>0</td>\n",
       "    </tr>\n",
       "    <tr>\n",
       "      <th>...</th>\n",
       "      <td>...</td>\n",
       "      <td>...</td>\n",
       "      <td>...</td>\n",
       "      <td>...</td>\n",
       "      <td>...</td>\n",
       "    </tr>\n",
       "    <tr>\n",
       "      <th>38640</th>\n",
       "      <td>'Fully committed' NATO backs new U.S. approach...</td>\n",
       "      <td>BRUSSELS (Reuters) - NATO allies on Tuesday we...</td>\n",
       "      <td>worldnews</td>\n",
       "      <td>August 22, 2017</td>\n",
       "      <td>1</td>\n",
       "    </tr>\n",
       "    <tr>\n",
       "      <th>38641</th>\n",
       "      <td>LexisNexis withdrew two products from Chinese ...</td>\n",
       "      <td>LONDON (Reuters) - LexisNexis, a provider of l...</td>\n",
       "      <td>worldnews</td>\n",
       "      <td>August 22, 2017</td>\n",
       "      <td>1</td>\n",
       "    </tr>\n",
       "    <tr>\n",
       "      <th>38642</th>\n",
       "      <td>Minsk cultural hub becomes haven from authorities</td>\n",
       "      <td>MINSK (Reuters) - In the shadow of disused Sov...</td>\n",
       "      <td>worldnews</td>\n",
       "      <td>August 22, 2017</td>\n",
       "      <td>1</td>\n",
       "    </tr>\n",
       "    <tr>\n",
       "      <th>38643</th>\n",
       "      <td>Vatican upbeat on possibility of Pope Francis ...</td>\n",
       "      <td>MOSCOW (Reuters) - Vatican Secretary of State ...</td>\n",
       "      <td>worldnews</td>\n",
       "      <td>August 22, 2017</td>\n",
       "      <td>1</td>\n",
       "    </tr>\n",
       "    <tr>\n",
       "      <th>38644</th>\n",
       "      <td>Indonesia to buy $1.14 billion worth of Russia...</td>\n",
       "      <td>JAKARTA (Reuters) - Indonesia will buy 11 Sukh...</td>\n",
       "      <td>worldnews</td>\n",
       "      <td>August 22, 2017</td>\n",
       "      <td>1</td>\n",
       "    </tr>\n",
       "  </tbody>\n",
       "</table>\n",
       "<p>38645 rows × 5 columns</p>\n",
       "</div>"
      ],
      "text/plain": [
       "                                                   title  \\\n",
       "0      Donald Trump Sends Out Embarrassing New Year’s...   \n",
       "1      Drunk Bragging Trump Staffer Started Russian C...   \n",
       "2      Sheriff David Clarke Becomes An Internet Joke ...   \n",
       "3      Trump Is So Obsessed He Even Has Obama’s Name ...   \n",
       "4      Pope Francis Just Called Out Donald Trump Duri...   \n",
       "...                                                  ...   \n",
       "38640  'Fully committed' NATO backs new U.S. approach...   \n",
       "38641  LexisNexis withdrew two products from Chinese ...   \n",
       "38642  Minsk cultural hub becomes haven from authorities   \n",
       "38643  Vatican upbeat on possibility of Pope Francis ...   \n",
       "38644  Indonesia to buy $1.14 billion worth of Russia...   \n",
       "\n",
       "                                                    text    subject  \\\n",
       "0      Donald Trump just couldn t wish all Americans ...       News   \n",
       "1      House Intelligence Committee Chairman Devin Nu...       News   \n",
       "2      On Friday, it was revealed that former Milwauk...       News   \n",
       "3      On Christmas day, Donald Trump announced that ...       News   \n",
       "4      Pope Francis used his annual Christmas Day mes...       News   \n",
       "...                                                  ...        ...   \n",
       "38640  BRUSSELS (Reuters) - NATO allies on Tuesday we...  worldnews   \n",
       "38641  LONDON (Reuters) - LexisNexis, a provider of l...  worldnews   \n",
       "38642  MINSK (Reuters) - In the shadow of disused Sov...  worldnews   \n",
       "38643  MOSCOW (Reuters) - Vatican Secretary of State ...  worldnews   \n",
       "38644  JAKARTA (Reuters) - Indonesia will buy 11 Sukh...  worldnews   \n",
       "\n",
       "                    date  true  \n",
       "0      December 31, 2017     0  \n",
       "1      December 31, 2017     0  \n",
       "2      December 30, 2017     0  \n",
       "3      December 29, 2017     0  \n",
       "4      December 25, 2017     0  \n",
       "...                  ...   ...  \n",
       "38640   August 22, 2017      1  \n",
       "38641   August 22, 2017      1  \n",
       "38642   August 22, 2017      1  \n",
       "38643   August 22, 2017      1  \n",
       "38644   August 22, 2017      1  \n",
       "\n",
       "[38645 rows x 5 columns]"
      ]
     },
     "execution_count": 26,
     "metadata": {},
     "output_type": "execute_result"
    }
   ],
   "source": [
    "# concat the two datasets  \n",
    "\n",
    "raw_df = pd.concat([fake_df1, real_df1], ignore_index = True)\n",
    "raw_df"
   ]
  },
  {
   "cell_type": "code",
   "execution_count": 27,
   "id": "3eebeb4f",
   "metadata": {},
   "outputs": [
    {
     "name": "stdout",
     "output_type": "stream",
     "text": [
      "<class 'pandas.core.frame.DataFrame'>\n",
      "RangeIndex: 38645 entries, 0 to 38644\n",
      "Data columns (total 5 columns):\n",
      " #   Column   Non-Null Count  Dtype \n",
      "---  ------   --------------  ----- \n",
      " 0   title    38645 non-null  object\n",
      " 1   text     38645 non-null  object\n",
      " 2   subject  38645 non-null  object\n",
      " 3   date     38645 non-null  object\n",
      " 4   true     38645 non-null  int64 \n",
      "dtypes: int64(1), object(4)\n",
      "memory usage: 1.5+ MB\n"
     ]
    }
   ],
   "source": [
    "raw_df.info()"
   ]
  },
  {
   "cell_type": "code",
   "execution_count": 28,
   "id": "9775e47e",
   "metadata": {},
   "outputs": [
    {
     "data": {
      "text/plain": [
       "1    21192\n",
       "0    17453\n",
       "Name: true, dtype: int64"
      ]
     },
     "execution_count": 28,
     "metadata": {},
     "output_type": "execute_result"
    }
   ],
   "source": [
    "# How many are real, and how many are fake? \n",
    "\n",
    "raw_df.true.value_counts()"
   ]
  },
  {
   "cell_type": "markdown",
   "id": "3ebacbc2",
   "metadata": {},
   "source": [
    "### Let's visualise raw_df before any cleaning to allow comparison "
   ]
  },
  {
   "cell_type": "code",
   "execution_count": 29,
   "id": "55f4b462",
   "metadata": {
    "scrolled": false
   },
   "outputs": [
    {
     "data": {
      "image/png": "[encoded data removed]",
      "text/plain": [
       "<Figure size 720x432 with 1 Axes>"
      ]
     },
     "metadata": {
      "needs_background": "light"
     },
     "output_type": "display_data"
    }
   ],
   "source": [
    "# spread of information sources/ subjects in raw df \n",
    "\n",
    "plt.figure(figsize=(10,6))\n",
    "sns.countplot('subject', data = raw_df)\n",
    "plt.show()"
   ]
  },
  {
   "cell_type": "code",
   "execution_count": 30,
   "id": "9f88fed5",
   "metadata": {},
   "outputs": [
    {
     "data": {
      "text/plain": [
       "subject\n",
       "Government News      514\n",
       "News                9050\n",
       "US_News              783\n",
       "left-news            683\n",
       "politics            6423\n",
       "politicsNews       11214\n",
       "worldnews           9978\n",
       "Name: true, dtype: int64"
      ]
     },
     "execution_count": 30,
     "metadata": {},
     "output_type": "execute_result"
    }
   ],
   "source": [
    "# number of samples grouped by subject\n",
    "raw_df.groupby('subject')['true'].count()"
   ]
  },
  {
   "cell_type": "code",
   "execution_count": 31,
   "id": "424bb630",
   "metadata": {},
   "outputs": [
    {
     "data": {
      "text/plain": [
       "Text(0.5, 1.0, 'Breakdown of Fake Vs Real News in Dataset')"
      ]
     },
     "execution_count": 31,
     "metadata": {},
     "output_type": "execute_result"
    },
    {
     "data": {
      "image/png": "[encoded data removed]",
      "text/plain": [
       "<Figure size 432x288 with 1 Axes>"
      ]
     },
     "metadata": {
      "needs_background": "light"
     },
     "output_type": "display_data"
    }
   ],
   "source": [
    "# plot the grouped with seaborn and matplotlib\n",
    "sns.histplot(raw_df, y='subject', hue ='true', \n",
    "             stat = 'percent', multiple = 'stack',\n",
    "             palette = 'coolwarm')\n",
    "plt.ylabel('Subject of News Source')\n",
    "plt.title('Breakdown of Fake Vs Real News in Dataset')"
   ]
  },
  {
   "cell_type": "markdown",
   "id": "713fb546",
   "metadata": {},
   "source": [
    "#### Let's change politicsNews to politics, News to worldnews and plot again\n",
    "#### This allows easier comparison of news subject for fake and real news "
   ]
  },
  {
   "cell_type": "code",
   "execution_count": 32,
   "id": "abe936d8",
   "metadata": {},
   "outputs": [
    {
     "data": {
      "text/plain": [
       "Text(0.5, 1.0, 'Breakdown of Fake Vs Real News in Dataset')"
      ]
     },
     "execution_count": 32,
     "metadata": {},
     "output_type": "execute_result"
    },
    {
     "data": {
      "image/png": "[encoded data removed]",
      "text/plain": [
       "<Figure size 432x288 with 1 Axes>"
      ]
     },
     "metadata": {
      "needs_background": "light"
     },
     "output_type": "display_data"
    }
   ],
   "source": [
    "raw_df['subject'].replace({'politicsNews':'politics', \n",
    "                           'News':'worldnews'}, inplace = True)\n",
    "\n",
    "sns.histplot(raw_df, y='subject', hue ='true', \n",
    "           stat = 'percent', multiple = 'stack',\n",
    "           palette = 'coolwarm')\n",
    "plt.ylabel('Subject of News Source')\n",
    "plt.title('Breakdown of Fake Vs Real News in Dataset')"
   ]
  },
  {
   "cell_type": "markdown",
   "id": "30fabb62",
   "metadata": {},
   "source": [
    "#### Let's make a word cloud of the text for quick comparison of article content before cleaning and processing. \n"
   ]
  },
  {
   "cell_type": "code",
   "execution_count": 33,
   "id": "eff7e933",
   "metadata": {},
   "outputs": [
    {
     "data": {
      "image/png": "[encoded data removed]",
      "text/plain": [
       "<Figure size 1080x432 with 2 Axes>"
      ]
     },
     "metadata": {
      "needs_background": "light"
     },
     "output_type": "display_data"
    }
   ],
   "source": [
    "fake_text = raw_df.text[raw_df['true']==0]\n",
    "real_text = raw_df.text[raw_df['true']==1]\n",
    "\n",
    "def plot_fake_vs_real(fake, real):\n",
    "    wordcloud_fake = WordCloud(width = 2000, height = 1300,\n",
    "                              background_color = 'white', \n",
    "                              stopwords = STOPWORDS).generate(str(fake))\n",
    "    wordcloud_real = WordCloud(width = 2000, height = 1300,\n",
    "                              background_color = 'white', \n",
    "                              stopwords = STOPWORDS).generate(str(real))\n",
    "    \n",
    "    # plot WordCloud img \n",
    "    plt.subplots(figsize=(15,6))\n",
    "    \n",
    "    plt.subplot(1,3,1)\n",
    "    plt.imshow(wordcloud_fake, interpolation = 'bilinear')\n",
    "    plt.axis('off')\n",
    "    plt.tight_layout(pad=0)\n",
    "    \n",
    "    plt.suptitle(\"Fake(left) vs Real(right)\", y=0.5, va='center', size = 24)\n",
    "    \n",
    "    plt.subplot(1,3,3)\n",
    "    plt.imshow(wordcloud_real, interpolation = 'bilinear')\n",
    "    plt.axis('off')\n",
    "    plt.tight_layout(pad=0)\n",
    "\n",
    "    \n",
    "plot_fake_vs_real(fake_text, real_text)\n",
    "plt.show()      "
   ]
  },
  {
   "cell_type": "markdown",
   "id": "97db1eeb",
   "metadata": {},
   "source": [
    "#### Let's add a wordcloud of title words too, to show what words are used as click / read-bait"
   ]
  },
  {
   "cell_type": "code",
   "execution_count": 34,
   "id": "f73af3ab",
   "metadata": {},
   "outputs": [
    {
     "data": {
      "image/png": "[encoded data removed]",
      "text/plain": [
       "<Figure size 1080x432 with 2 Axes>"
      ]
     },
     "metadata": {
      "needs_background": "light"
     },
     "output_type": "display_data"
    }
   ],
   "source": [
    "fake_title = raw_df.title[raw_df['true']==0]\n",
    "real_title = raw_df.title[raw_df['true']==1]\n",
    "\n",
    "plot_fake_vs_real(fake_title, real_title)\n",
    "plt.show()"
   ]
  },
  {
   "cell_type": "markdown",
   "id": "027ee0b1",
   "metadata": {},
   "source": [
    "## Data Cleaning "
   ]
  },
  {
   "cell_type": "markdown",
   "id": "a2b2ed10",
   "metadata": {},
   "source": [
    "Df needs cleaning. Ultimate Goal is:  \n",
    "* Check for null values\n",
    "* check for empty spaces \n",
    "* check for nonsense texts \n",
    "* remove urls, https, special characters, numbers \n",
    "* remove REUTERS()\n"
   ]
  },
  {
   "cell_type": "code",
   "execution_count": 35,
   "id": "9584d90b",
   "metadata": {},
   "outputs": [
    {
     "data": {
      "text/plain": [
       "(38645, 5)"
      ]
     },
     "execution_count": 35,
     "metadata": {},
     "output_type": "execute_result"
    }
   ],
   "source": [
    "# check raw_df starting point\n",
    "raw_df.shape"
   ]
  },
  {
   "cell_type": "code",
   "execution_count": 36,
   "id": "74441dca",
   "metadata": {},
   "outputs": [
    {
     "data": {
      "text/plain": [
       "title      0\n",
       "text       0\n",
       "subject    0\n",
       "date       0\n",
       "true       0\n",
       "dtype: int64"
      ]
     },
     "execution_count": 36,
     "metadata": {},
     "output_type": "execute_result"
    }
   ],
   "source": [
    "# check null values\n",
    "raw_df.isnull().sum()"
   ]
  },
  {
   "cell_type": "code",
   "execution_count": 37,
   "id": "cf595b0a",
   "metadata": {},
   "outputs": [
    {
     "name": "stdout",
     "output_type": "stream",
     "text": [
      "\u001b[1m\u001b[34m21028 of 38645 samples have <City> (REUTERS) pattern.\u001b[0m\n"
     ]
    }
   ],
   "source": [
    "# how many have <CITY>(Reuters) pattern in text \n",
    "# pattern = 0+ uppercase letters, 0 or 1 spaces, (Reuters)\n",
    "\n",
    "pattern = r'[A-Z]* ?\\(Reuters\\)'\n",
    "\n",
    "test_df = raw_df['text'].copy().to_frame()\n",
    "test_df['patterns'] = test_df['text'].map(lambda x: len(re.findall(pattern, x)))\n",
    "\n",
    "result = f\"{test_df.groupby('patterns')['text'].count()[1]} of {raw_df.shape[0]} samples have <City> (REUTERS) pattern.\"\n",
    "print(colored(result, 'blue', attrs=['bold']))"
   ]
  },
  {
   "cell_type": "code",
   "execution_count": 38,
   "id": "a53c2e8e",
   "metadata": {},
   "outputs": [],
   "source": [
    "# remove pattern <CITY> (Reuters)\n",
    "\n",
    "raw_df['text'] = raw_df['text'].map(lambda x: re.sub(pattern, '', x))"
   ]
  },
  {
   "cell_type": "code",
   "execution_count": 39,
   "id": "f2c19229",
   "metadata": {},
   "outputs": [
    {
     "data": {
      "text/html": [
       "<div>\n",
       "<style scoped>\n",
       "    .dataframe tbody tr th:only-of-type {\n",
       "        vertical-align: middle;\n",
       "    }\n",
       "\n",
       "    .dataframe tbody tr th {\n",
       "        vertical-align: top;\n",
       "    }\n",
       "\n",
       "    .dataframe thead th {\n",
       "        text-align: right;\n",
       "    }\n",
       "</style>\n",
       "<table border=\"1\" class=\"dataframe\">\n",
       "  <thead>\n",
       "    <tr style=\"text-align: right;\">\n",
       "      <th></th>\n",
       "      <th>title</th>\n",
       "      <th>text</th>\n",
       "      <th>subject</th>\n",
       "      <th>date</th>\n",
       "      <th>true</th>\n",
       "    </tr>\n",
       "  </thead>\n",
       "  <tbody>\n",
       "    <tr>\n",
       "      <th>28735</th>\n",
       "      <td>Syria says military jet downed in northern Ham...</td>\n",
       "      <td>- Syria s armed forces said insurgents downed...</td>\n",
       "      <td>worldnews</td>\n",
       "      <td>December 26, 2017</td>\n",
       "      <td>1</td>\n",
       "    </tr>\n",
       "    <tr>\n",
       "      <th>7904</th>\n",
       "      <td>KKK Members Showed Up At Nevada Caucus With P...</td>\n",
       "      <td>Donald Trump s surging presidential campaign a...</td>\n",
       "      <td>worldnews</td>\n",
       "      <td>February 23, 2016</td>\n",
       "      <td>0</td>\n",
       "    </tr>\n",
       "    <tr>\n",
       "      <th>16108</th>\n",
       "      <td>BREAKING NEWS #Portland : Violent Anti-Trump T...</td>\n",
       "      <td>Police in Portland just moved from watching a ...</td>\n",
       "      <td>left-news</td>\n",
       "      <td>May 1, 2017</td>\n",
       "      <td>0</td>\n",
       "    </tr>\n",
       "    <tr>\n",
       "      <th>24509</th>\n",
       "      <td>Willing to oppose Trump, some Senate Republica...</td>\n",
       "      <td>- It is no surprise that Democrats in the U.S...</td>\n",
       "      <td>politics</td>\n",
       "      <td>November 22, 2016</td>\n",
       "      <td>1</td>\n",
       "    </tr>\n",
       "    <tr>\n",
       "      <th>6381</th>\n",
       "      <td>WATCH: Here’s What Happened When Trump’s ‘Publ...</td>\n",
       "      <td>Stephen Colbert got an exclusive interview on ...</td>\n",
       "      <td>worldnews</td>\n",
       "      <td>May 14, 2016</td>\n",
       "      <td>0</td>\n",
       "    </tr>\n",
       "    <tr>\n",
       "      <th>6685</th>\n",
       "      <td>Jane Sanders Smacks Down Trump’s Idiotic Sugge...</td>\n",
       "      <td>Donald Trump wants Bernie Sanders to be the Do...</td>\n",
       "      <td>worldnews</td>\n",
       "      <td>April 26, 2016</td>\n",
       "      <td>0</td>\n",
       "    </tr>\n",
       "    <tr>\n",
       "      <th>894</th>\n",
       "      <td>Stephen King Says What We’re All Thinking Abou...</td>\n",
       "      <td>It can easily be said that Donald Trump is not...</td>\n",
       "      <td>worldnews</td>\n",
       "      <td>July 9, 2017</td>\n",
       "      <td>0</td>\n",
       "    </tr>\n",
       "    <tr>\n",
       "      <th>10390</th>\n",
       "      <td>REEBOK JOINS The Left’s War Against President ...</td>\n",
       "      <td>Brigitte Macron is 24 years older than her hus...</td>\n",
       "      <td>politics</td>\n",
       "      <td>Jul 16, 2017</td>\n",
       "      <td>0</td>\n",
       "    </tr>\n",
       "    <tr>\n",
       "      <th>31670</th>\n",
       "      <td>U.S. consular office in Zurich evacuated: Blic...</td>\n",
       "      <td>- A United States consular office in the Swis...</td>\n",
       "      <td>worldnews</td>\n",
       "      <td>November 20, 2017</td>\n",
       "      <td>1</td>\n",
       "    </tr>\n",
       "    <tr>\n",
       "      <th>18261</th>\n",
       "      <td>China hopes all sides' words and actions reduc...</td>\n",
       "      <td>- China said on Monday that it hopes all side...</td>\n",
       "      <td>politics</td>\n",
       "      <td>November 6, 2017</td>\n",
       "      <td>1</td>\n",
       "    </tr>\n",
       "  </tbody>\n",
       "</table>\n",
       "</div>"
      ],
      "text/plain": [
       "                                                   title  \\\n",
       "28735  Syria says military jet downed in northern Ham...   \n",
       "7904    KKK Members Showed Up At Nevada Caucus With P...   \n",
       "16108  BREAKING NEWS #Portland : Violent Anti-Trump T...   \n",
       "24509  Willing to oppose Trump, some Senate Republica...   \n",
       "6381   WATCH: Here’s What Happened When Trump’s ‘Publ...   \n",
       "6685   Jane Sanders Smacks Down Trump’s Idiotic Sugge...   \n",
       "894    Stephen King Says What We’re All Thinking Abou...   \n",
       "10390  REEBOK JOINS The Left’s War Against President ...   \n",
       "31670  U.S. consular office in Zurich evacuated: Blic...   \n",
       "18261  China hopes all sides' words and actions reduc...   \n",
       "\n",
       "                                                    text    subject  \\\n",
       "28735   - Syria s armed forces said insurgents downed...  worldnews   \n",
       "7904   Donald Trump s surging presidential campaign a...  worldnews   \n",
       "16108  Police in Portland just moved from watching a ...  left-news   \n",
       "24509   - It is no surprise that Democrats in the U.S...   politics   \n",
       "6381   Stephen Colbert got an exclusive interview on ...  worldnews   \n",
       "6685   Donald Trump wants Bernie Sanders to be the Do...  worldnews   \n",
       "894    It can easily be said that Donald Trump is not...  worldnews   \n",
       "10390  Brigitte Macron is 24 years older than her hus...   politics   \n",
       "31670   - A United States consular office in the Swis...  worldnews   \n",
       "18261   - China said on Monday that it hopes all side...   politics   \n",
       "\n",
       "                     date  true  \n",
       "28735  December 26, 2017      1  \n",
       "7904    February 23, 2016     0  \n",
       "16108         May 1, 2017     0  \n",
       "24509  November 22, 2016      1  \n",
       "6381         May 14, 2016     0  \n",
       "6685       April 26, 2016     0  \n",
       "894          July 9, 2017     0  \n",
       "10390        Jul 16, 2017     0  \n",
       "31670  November 20, 2017      1  \n",
       "18261   November 6, 2017      1  "
      ]
     },
     "execution_count": 39,
     "metadata": {},
     "output_type": "execute_result"
    }
   ],
   "source": [
    "raw_df.sample(10)"
   ]
  },
  {
   "cell_type": "code",
   "execution_count": 40,
   "id": "b26a0739",
   "metadata": {},
   "outputs": [
    {
     "data": {
      "text/html": [
       "<div>\n",
       "<style scoped>\n",
       "    .dataframe tbody tr th:only-of-type {\n",
       "        vertical-align: middle;\n",
       "    }\n",
       "\n",
       "    .dataframe tbody tr th {\n",
       "        vertical-align: top;\n",
       "    }\n",
       "\n",
       "    .dataframe thead th {\n",
       "        text-align: right;\n",
       "    }\n",
       "</style>\n",
       "<table border=\"1\" class=\"dataframe\">\n",
       "  <thead>\n",
       "    <tr style=\"text-align: right;\">\n",
       "      <th></th>\n",
       "      <th>title</th>\n",
       "      <th>text</th>\n",
       "      <th>subject</th>\n",
       "      <th>date</th>\n",
       "      <th>true</th>\n",
       "    </tr>\n",
       "  </thead>\n",
       "  <tbody>\n",
       "    <tr>\n",
       "      <th>count</th>\n",
       "      <td>38645</td>\n",
       "      <td>38645</td>\n",
       "      <td>38645</td>\n",
       "      <td>38645</td>\n",
       "      <td>38645.000000</td>\n",
       "    </tr>\n",
       "    <tr>\n",
       "      <th>unique</th>\n",
       "      <td>38268</td>\n",
       "      <td>38644</td>\n",
       "      <td>5</td>\n",
       "      <td>2397</td>\n",
       "      <td>NaN</td>\n",
       "    </tr>\n",
       "    <tr>\n",
       "      <th>top</th>\n",
       "      <td>Factbox: Trump fills top jobs for his administ...</td>\n",
       "      <td></td>\n",
       "      <td>worldnews</td>\n",
       "      <td>December 6, 2017</td>\n",
       "      <td>NaN</td>\n",
       "    </tr>\n",
       "    <tr>\n",
       "      <th>freq</th>\n",
       "      <td>14</td>\n",
       "      <td>2</td>\n",
       "      <td>19028</td>\n",
       "      <td>166</td>\n",
       "      <td>NaN</td>\n",
       "    </tr>\n",
       "    <tr>\n",
       "      <th>mean</th>\n",
       "      <td>NaN</td>\n",
       "      <td>NaN</td>\n",
       "      <td>NaN</td>\n",
       "      <td>NaN</td>\n",
       "      <td>0.548376</td>\n",
       "    </tr>\n",
       "    <tr>\n",
       "      <th>std</th>\n",
       "      <td>NaN</td>\n",
       "      <td>NaN</td>\n",
       "      <td>NaN</td>\n",
       "      <td>NaN</td>\n",
       "      <td>0.497661</td>\n",
       "    </tr>\n",
       "    <tr>\n",
       "      <th>min</th>\n",
       "      <td>NaN</td>\n",
       "      <td>NaN</td>\n",
       "      <td>NaN</td>\n",
       "      <td>NaN</td>\n",
       "      <td>0.000000</td>\n",
       "    </tr>\n",
       "    <tr>\n",
       "      <th>25%</th>\n",
       "      <td>NaN</td>\n",
       "      <td>NaN</td>\n",
       "      <td>NaN</td>\n",
       "      <td>NaN</td>\n",
       "      <td>0.000000</td>\n",
       "    </tr>\n",
       "    <tr>\n",
       "      <th>50%</th>\n",
       "      <td>NaN</td>\n",
       "      <td>NaN</td>\n",
       "      <td>NaN</td>\n",
       "      <td>NaN</td>\n",
       "      <td>1.000000</td>\n",
       "    </tr>\n",
       "    <tr>\n",
       "      <th>75%</th>\n",
       "      <td>NaN</td>\n",
       "      <td>NaN</td>\n",
       "      <td>NaN</td>\n",
       "      <td>NaN</td>\n",
       "      <td>1.000000</td>\n",
       "    </tr>\n",
       "    <tr>\n",
       "      <th>max</th>\n",
       "      <td>NaN</td>\n",
       "      <td>NaN</td>\n",
       "      <td>NaN</td>\n",
       "      <td>NaN</td>\n",
       "      <td>1.000000</td>\n",
       "    </tr>\n",
       "  </tbody>\n",
       "</table>\n",
       "</div>"
      ],
      "text/plain": [
       "                                                    title   text    subject  \\\n",
       "count                                               38645  38645      38645   \n",
       "unique                                              38268  38644          5   \n",
       "top     Factbox: Trump fills top jobs for his administ...         worldnews   \n",
       "freq                                                   14      2      19028   \n",
       "mean                                                  NaN    NaN        NaN   \n",
       "std                                                   NaN    NaN        NaN   \n",
       "min                                                   NaN    NaN        NaN   \n",
       "25%                                                   NaN    NaN        NaN   \n",
       "50%                                                   NaN    NaN        NaN   \n",
       "75%                                                   NaN    NaN        NaN   \n",
       "max                                                   NaN    NaN        NaN   \n",
       "\n",
       "                     date          true  \n",
       "count               38645  38645.000000  \n",
       "unique               2397           NaN  \n",
       "top     December 6, 2017            NaN  \n",
       "freq                  166           NaN  \n",
       "mean                  NaN      0.548376  \n",
       "std                   NaN      0.497661  \n",
       "min                   NaN      0.000000  \n",
       "25%                   NaN      0.000000  \n",
       "50%                   NaN      1.000000  \n",
       "75%                   NaN      1.000000  \n",
       "max                   NaN      1.000000  "
      ]
     },
     "execution_count": 40,
     "metadata": {},
     "output_type": "execute_result"
    }
   ],
   "source": [
    "raw_df.describe(include='all')"
   ]
  },
  {
   "cell_type": "code",
   "execution_count": 41,
   "id": "4558bc8a",
   "metadata": {},
   "outputs": [
    {
     "data": {
      "text/html": [
       "<div>\n",
       "<style scoped>\n",
       "    .dataframe tbody tr th:only-of-type {\n",
       "        vertical-align: middle;\n",
       "    }\n",
       "\n",
       "    .dataframe tbody tr th {\n",
       "        vertical-align: top;\n",
       "    }\n",
       "\n",
       "    .dataframe thead th {\n",
       "        text-align: right;\n",
       "    }\n",
       "</style>\n",
       "<table border=\"1\" class=\"dataframe\">\n",
       "  <thead>\n",
       "    <tr style=\"text-align: right;\">\n",
       "      <th></th>\n",
       "      <th>title</th>\n",
       "      <th>text</th>\n",
       "      <th>subject</th>\n",
       "      <th>date</th>\n",
       "      <th>true</th>\n",
       "    </tr>\n",
       "  </thead>\n",
       "  <tbody>\n",
       "    <tr>\n",
       "      <th>10920</th>\n",
       "      <td>TAKE OUR POLL: Who Do You Think President Trum...</td>\n",
       "      <td></td>\n",
       "      <td>politics</td>\n",
       "      <td>May 10, 2017</td>\n",
       "      <td>0</td>\n",
       "    </tr>\n",
       "    <tr>\n",
       "      <th>26373</th>\n",
       "      <td>Graphic: Supreme Court roundup</td>\n",
       "      <td></td>\n",
       "      <td>politics</td>\n",
       "      <td>June 16, 2016</td>\n",
       "      <td>1</td>\n",
       "    </tr>\n",
       "  </tbody>\n",
       "</table>\n",
       "</div>"
      ],
      "text/plain": [
       "                                                   title text   subject  \\\n",
       "10920  TAKE OUR POLL: Who Do You Think President Trum...       politics   \n",
       "26373                     Graphic: Supreme Court roundup       politics   \n",
       "\n",
       "                 date  true  \n",
       "10920    May 10, 2017     0  \n",
       "26373  June 16, 2016      1  "
      ]
     },
     "execution_count": 41,
     "metadata": {},
     "output_type": "execute_result"
    }
   ],
   "source": [
    "# Check for empty rows \n",
    "\n",
    "raw_df[raw_df['text'].str.strip()=='']"
   ]
  },
  {
   "cell_type": "code",
   "execution_count": 42,
   "id": "2db72d76",
   "metadata": {},
   "outputs": [
    {
     "data": {
      "text/plain": [
       "(38643, 5)"
      ]
     },
     "execution_count": 42,
     "metadata": {},
     "output_type": "execute_result"
    }
   ],
   "source": [
    "# drop the above empty rows \n",
    "\n",
    "raw_df = raw_df[raw_df['text'].str.strip()!='']\n",
    "raw_df.shape"
   ]
  },
  {
   "cell_type": "markdown",
   "id": "152b23a4",
   "metadata": {},
   "source": [
    "### Run below just to double check no empty once more "
   ]
  },
  {
   "cell_type": "code",
   "execution_count": 43,
   "id": "d8a7f9ec",
   "metadata": {},
   "outputs": [
    {
     "name": "stdout",
     "output_type": "stream",
     "text": [
      "Number of empty rows: 0\n"
     ]
    },
    {
     "data": {
      "text/html": [
       "<div>\n",
       "<style scoped>\n",
       "    .dataframe tbody tr th:only-of-type {\n",
       "        vertical-align: middle;\n",
       "    }\n",
       "\n",
       "    .dataframe tbody tr th {\n",
       "        vertical-align: top;\n",
       "    }\n",
       "\n",
       "    .dataframe thead th {\n",
       "        text-align: right;\n",
       "    }\n",
       "</style>\n",
       "<table border=\"1\" class=\"dataframe\">\n",
       "  <thead>\n",
       "    <tr style=\"text-align: right;\">\n",
       "      <th></th>\n",
       "      <th>title</th>\n",
       "      <th>text</th>\n",
       "      <th>subject</th>\n",
       "      <th>date</th>\n",
       "      <th>true</th>\n",
       "    </tr>\n",
       "  </thead>\n",
       "  <tbody>\n",
       "  </tbody>\n",
       "</table>\n",
       "</div>"
      ],
      "text/plain": [
       "Empty DataFrame\n",
       "Columns: [title, text, subject, date, true]\n",
       "Index: []"
      ]
     },
     "execution_count": 43,
     "metadata": {},
     "output_type": "execute_result"
    }
   ],
   "source": [
    "# check for empty rows and list them\n",
    "#  note 631 empty values \n",
    "\n",
    "empty = [index for index, text in enumerate(raw_df.text.values) if str(text).strip()=='']\n",
    "print(f\"Number of empty rows: {len(empty)}\")\n",
    "raw_df.iloc[empty].tail()"
   ]
  },
  {
   "cell_type": "markdown",
   "id": "f90f0c41",
   "metadata": {},
   "source": [
    "#### Confirm dropped unecessary rows. "
   ]
  },
  {
   "cell_type": "code",
   "execution_count": 44,
   "id": "fdc5f9a7",
   "metadata": {},
   "outputs": [
    {
     "data": {
      "text/plain": [
       "True"
      ]
     },
     "execution_count": 44,
     "metadata": {},
     "output_type": "execute_result"
    }
   ],
   "source": [
    "# text has bool true so should return false if empty \n",
    "# just another way to check for null values \n",
    "# note DF length matches above with 38644 rows\n",
    "\n",
    "all(raw_df['text'].astype(bool))"
   ]
  },
  {
   "cell_type": "markdown",
   "id": "25f1089c",
   "metadata": {},
   "source": [
    "### Expand into day, month, year"
   ]
  },
  {
   "cell_type": "code",
   "execution_count": 45,
   "id": "0eb87ed9",
   "metadata": {},
   "outputs": [
    {
     "data": {
      "text/html": [
       "<div>\n",
       "<style scoped>\n",
       "    .dataframe tbody tr th:only-of-type {\n",
       "        vertical-align: middle;\n",
       "    }\n",
       "\n",
       "    .dataframe tbody tr th {\n",
       "        vertical-align: top;\n",
       "    }\n",
       "\n",
       "    .dataframe thead th {\n",
       "        text-align: right;\n",
       "    }\n",
       "</style>\n",
       "<table border=\"1\" class=\"dataframe\">\n",
       "  <thead>\n",
       "    <tr style=\"text-align: right;\">\n",
       "      <th></th>\n",
       "      <th>title</th>\n",
       "      <th>text</th>\n",
       "      <th>subject</th>\n",
       "      <th>date</th>\n",
       "      <th>true</th>\n",
       "      <th>Date</th>\n",
       "    </tr>\n",
       "  </thead>\n",
       "  <tbody>\n",
       "    <tr>\n",
       "      <th>7260</th>\n",
       "      <td>Miley Cyrus Scores Huge Points With This Bruta...</td>\n",
       "      <td>Being a middle-aged man whose only experience ...</td>\n",
       "      <td>worldnews</td>\n",
       "      <td>March 27, 2016</td>\n",
       "      <td>0</td>\n",
       "      <td>2016-03-27</td>\n",
       "    </tr>\n",
       "    <tr>\n",
       "      <th>13280</th>\n",
       "      <td>RACIST RANT From Supreme Court Justice Exposes...</td>\n",
       "      <td>Supreme Court Justic Sotomayor went on a racis...</td>\n",
       "      <td>politics</td>\n",
       "      <td>Jun 21, 2016</td>\n",
       "      <td>0</td>\n",
       "      <td>2016-06-21</td>\n",
       "    </tr>\n",
       "    <tr>\n",
       "      <th>36487</th>\n",
       "      <td>India, at U.N., calls Pakistan 'pre-eminent ex...</td>\n",
       "      <td>UNITED  - India responded with irritation on S...</td>\n",
       "      <td>worldnews</td>\n",
       "      <td>September 23, 2017</td>\n",
       "      <td>1</td>\n",
       "      <td>2017-09-23</td>\n",
       "    </tr>\n",
       "    <tr>\n",
       "      <th>25702</th>\n",
       "      <td>Factbox: Trump's 10-point immigration plan</td>\n",
       "      <td>NEW  - In a speech on Wednesday in Phoenix, Ar...</td>\n",
       "      <td>politics</td>\n",
       "      <td>September 1, 2016</td>\n",
       "      <td>1</td>\n",
       "      <td>2016-09-01</td>\n",
       "    </tr>\n",
       "    <tr>\n",
       "      <th>26123</th>\n",
       "      <td>Obama administration asks Supreme Court to reh...</td>\n",
       "      <td>- In a last-ditch effort to revive a White Ho...</td>\n",
       "      <td>politics</td>\n",
       "      <td>July 18, 2016</td>\n",
       "      <td>1</td>\n",
       "      <td>2016-07-18</td>\n",
       "    </tr>\n",
       "  </tbody>\n",
       "</table>\n",
       "</div>"
      ],
      "text/plain": [
       "                                                   title  \\\n",
       "7260   Miley Cyrus Scores Huge Points With This Bruta...   \n",
       "13280  RACIST RANT From Supreme Court Justice Exposes...   \n",
       "36487  India, at U.N., calls Pakistan 'pre-eminent ex...   \n",
       "25702         Factbox: Trump's 10-point immigration plan   \n",
       "26123  Obama administration asks Supreme Court to reh...   \n",
       "\n",
       "                                                    text    subject  \\\n",
       "7260   Being a middle-aged man whose only experience ...  worldnews   \n",
       "13280  Supreme Court Justic Sotomayor went on a racis...   politics   \n",
       "36487  UNITED  - India responded with irritation on S...  worldnews   \n",
       "25702  NEW  - In a speech on Wednesday in Phoenix, Ar...   politics   \n",
       "26123   - In a last-ditch effort to revive a White Ho...   politics   \n",
       "\n",
       "                      date  true       Date  \n",
       "7260        March 27, 2016     0 2016-03-27  \n",
       "13280         Jun 21, 2016     0 2016-06-21  \n",
       "36487  September 23, 2017      1 2017-09-23  \n",
       "25702   September 1, 2016      1 2016-09-01  \n",
       "26123       July 18, 2016      1 2016-07-18  "
      ]
     },
     "execution_count": 45,
     "metadata": {},
     "output_type": "execute_result"
    }
   ],
   "source": [
    "# date -> datetime\n",
    "\n",
    "def get_day_mon_yr(date):\n",
    "    try: \n",
    "        return pd.to_datetime(date, infer_datetime_format = True)\n",
    "    except:\n",
    "        return np.nan\n",
    "    \n",
    "raw_df['Date'] = raw_df.apply(lambda row: get_day_mon_yr(row['date']), axis = 1)\n",
    "raw_df.sample(5)"
   ]
  },
  {
   "cell_type": "code",
   "execution_count": 46,
   "id": "3a343b51",
   "metadata": {},
   "outputs": [
    {
     "data": {
      "text/plain": [
       "title      0\n",
       "text       0\n",
       "subject    0\n",
       "date       0\n",
       "true       0\n",
       "Date       6\n",
       "dtype: int64"
      ]
     },
     "execution_count": 46,
     "metadata": {},
     "output_type": "execute_result"
    }
   ],
   "source": [
    "# check null values (none expected)\n",
    "\n",
    "raw_df.isnull().sum()"
   ]
  },
  {
   "cell_type": "code",
   "execution_count": 47,
   "id": "458cd3f7",
   "metadata": {},
   "outputs": [
    {
     "data": {
      "text/html": [
       "<div>\n",
       "<style scoped>\n",
       "    .dataframe tbody tr th:only-of-type {\n",
       "        vertical-align: middle;\n",
       "    }\n",
       "\n",
       "    .dataframe tbody tr th {\n",
       "        vertical-align: top;\n",
       "    }\n",
       "\n",
       "    .dataframe thead th {\n",
       "        text-align: right;\n",
       "    }\n",
       "</style>\n",
       "<table border=\"1\" class=\"dataframe\">\n",
       "  <thead>\n",
       "    <tr style=\"text-align: right;\">\n",
       "      <th></th>\n",
       "      <th>title</th>\n",
       "      <th>text</th>\n",
       "      <th>subject</th>\n",
       "      <th>date</th>\n",
       "      <th>true</th>\n",
       "      <th>Date</th>\n",
       "    </tr>\n",
       "  </thead>\n",
       "  <tbody>\n",
       "    <tr>\n",
       "      <th>9357</th>\n",
       "      <td>https://100percentfedup.com/served-roy-moore-v...</td>\n",
       "      <td>https://100percentfedup.com/served-roy-moore-v...</td>\n",
       "      <td>politics</td>\n",
       "      <td>https://100percentfedup.com/served-roy-moore-v...</td>\n",
       "      <td>0</td>\n",
       "      <td>NaT</td>\n",
       "    </tr>\n",
       "    <tr>\n",
       "      <th>15119</th>\n",
       "      <td>https://100percentfedup.com/video-hillary-aske...</td>\n",
       "      <td>https://100percentfedup.com/video-hillary-aske...</td>\n",
       "      <td>politics</td>\n",
       "      <td>https://100percentfedup.com/video-hillary-aske...</td>\n",
       "      <td>0</td>\n",
       "      <td>NaT</td>\n",
       "    </tr>\n",
       "    <tr>\n",
       "      <th>15120</th>\n",
       "      <td>https://100percentfedup.com/12-yr-old-black-co...</td>\n",
       "      <td>https://100percentfedup.com/12-yr-old-black-co...</td>\n",
       "      <td>politics</td>\n",
       "      <td>https://100percentfedup.com/12-yr-old-black-co...</td>\n",
       "      <td>0</td>\n",
       "      <td>NaT</td>\n",
       "    </tr>\n",
       "    <tr>\n",
       "      <th>15422</th>\n",
       "      <td>https://fedup.wpengine.com/wp-content/uploads/...</td>\n",
       "      <td>https://fedup.wpengine.com/wp-content/uploads/...</td>\n",
       "      <td>politics</td>\n",
       "      <td>https://fedup.wpengine.com/wp-content/uploads/...</td>\n",
       "      <td>0</td>\n",
       "      <td>NaT</td>\n",
       "    </tr>\n",
       "    <tr>\n",
       "      <th>15423</th>\n",
       "      <td>https://fedup.wpengine.com/wp-content/uploads/...</td>\n",
       "      <td>https://fedup.wpengine.com/wp-content/uploads/...</td>\n",
       "      <td>politics</td>\n",
       "      <td>https://fedup.wpengine.com/wp-content/uploads/...</td>\n",
       "      <td>0</td>\n",
       "      <td>NaT</td>\n",
       "    </tr>\n",
       "    <tr>\n",
       "      <th>16126</th>\n",
       "      <td>Homepage</td>\n",
       "      <td>[vc_row][vc_column width= 1/1 ][td_block_trend...</td>\n",
       "      <td>left-news</td>\n",
       "      <td>MSNBC HOST Rudely Assumes Steel Worker Would N...</td>\n",
       "      <td>0</td>\n",
       "      <td>NaT</td>\n",
       "    </tr>\n",
       "  </tbody>\n",
       "</table>\n",
       "</div>"
      ],
      "text/plain": [
       "                                                   title  \\\n",
       "9357   https://100percentfedup.com/served-roy-moore-v...   \n",
       "15119  https://100percentfedup.com/video-hillary-aske...   \n",
       "15120  https://100percentfedup.com/12-yr-old-black-co...   \n",
       "15422  https://fedup.wpengine.com/wp-content/uploads/...   \n",
       "15423  https://fedup.wpengine.com/wp-content/uploads/...   \n",
       "16126                                           Homepage   \n",
       "\n",
       "                                                    text    subject  \\\n",
       "9357   https://100percentfedup.com/served-roy-moore-v...   politics   \n",
       "15119  https://100percentfedup.com/video-hillary-aske...   politics   \n",
       "15120  https://100percentfedup.com/12-yr-old-black-co...   politics   \n",
       "15422  https://fedup.wpengine.com/wp-content/uploads/...   politics   \n",
       "15423  https://fedup.wpengine.com/wp-content/uploads/...   politics   \n",
       "16126  [vc_row][vc_column width= 1/1 ][td_block_trend...  left-news   \n",
       "\n",
       "                                                    date  true Date  \n",
       "9357   https://100percentfedup.com/served-roy-moore-v...     0  NaT  \n",
       "15119  https://100percentfedup.com/video-hillary-aske...     0  NaT  \n",
       "15120  https://100percentfedup.com/12-yr-old-black-co...     0  NaT  \n",
       "15422  https://fedup.wpengine.com/wp-content/uploads/...     0  NaT  \n",
       "15423  https://fedup.wpengine.com/wp-content/uploads/...     0  NaT  \n",
       "16126  MSNBC HOST Rudely Assumes Steel Worker Would N...     0  NaT  "
      ]
     },
     "execution_count": 47,
     "metadata": {},
     "output_type": "execute_result"
    }
   ],
   "source": [
    "# check where Date is NaN\n",
    "\n",
    "raw_df[raw_df['Date'].isna()]"
   ]
  },
  {
   "cell_type": "code",
   "execution_count": 48,
   "id": "42461180",
   "metadata": {},
   "outputs": [
    {
     "data": {
      "text/plain": [
       "(38643, 6)"
      ]
     },
     "execution_count": 48,
     "metadata": {},
     "output_type": "execute_result"
    }
   ],
   "source": [
    "raw_df.shape"
   ]
  },
  {
   "cell_type": "code",
   "execution_count": 49,
   "id": "eca650f1",
   "metadata": {},
   "outputs": [
    {
     "name": "stdout",
     "output_type": "stream",
     "text": [
      "(38637, 6)\n"
     ]
    },
    {
     "data": {
      "text/html": [
       "<div>\n",
       "<style scoped>\n",
       "    .dataframe tbody tr th:only-of-type {\n",
       "        vertical-align: middle;\n",
       "    }\n",
       "\n",
       "    .dataframe tbody tr th {\n",
       "        vertical-align: top;\n",
       "    }\n",
       "\n",
       "    .dataframe thead th {\n",
       "        text-align: right;\n",
       "    }\n",
       "</style>\n",
       "<table border=\"1\" class=\"dataframe\">\n",
       "  <thead>\n",
       "    <tr style=\"text-align: right;\">\n",
       "      <th></th>\n",
       "      <th>title</th>\n",
       "      <th>text</th>\n",
       "      <th>subject</th>\n",
       "      <th>date</th>\n",
       "      <th>true</th>\n",
       "      <th>Date</th>\n",
       "    </tr>\n",
       "  </thead>\n",
       "  <tbody>\n",
       "    <tr>\n",
       "      <th>34968</th>\n",
       "      <td>Japan PM's ruling bloc seen nearing 2/3 majori...</td>\n",
       "      <td>- Japanese Prime Minister Shinzo Abe s ruling...</td>\n",
       "      <td>worldnews</td>\n",
       "      <td>October 11, 2017</td>\n",
       "      <td>1</td>\n",
       "      <td>2017-10-11</td>\n",
       "    </tr>\n",
       "    <tr>\n",
       "      <th>10125</th>\n",
       "      <td>THROWING GAS ON RACIAL FIRE? VA Police Confirm...</td>\n",
       "      <td>Will the mainstream media report about this?Co...</td>\n",
       "      <td>politics</td>\n",
       "      <td>Aug 17, 2017</td>\n",
       "      <td>0</td>\n",
       "      <td>2017-08-17</td>\n",
       "    </tr>\n",
       "    <tr>\n",
       "      <th>33799</th>\n",
       "      <td>In Myanmar's Rakhine, aid workers blocked from...</td>\n",
       "      <td>YANGON/ - Buddhists in Myanmar on Wednesday bl...</td>\n",
       "      <td>worldnews</td>\n",
       "      <td>October 25, 2017</td>\n",
       "      <td>1</td>\n",
       "      <td>2017-10-25</td>\n",
       "    </tr>\n",
       "    <tr>\n",
       "      <th>37130</th>\n",
       "      <td>Trump pledges 'close collaboration' with UK af...</td>\n",
       "      <td>- U.S. President Donald Trump on Friday told ...</td>\n",
       "      <td>worldnews</td>\n",
       "      <td>September 15, 2017</td>\n",
       "      <td>1</td>\n",
       "      <td>2017-09-15</td>\n",
       "    </tr>\n",
       "    <tr>\n",
       "      <th>23578</th>\n",
       "      <td>Puerto Rico governor cites 'sharp contrast' wi...</td>\n",
       "      <td>- Puerto Rico Governor Ricardo Rossello on Fr...</td>\n",
       "      <td>politics</td>\n",
       "      <td>January 20, 2017</td>\n",
       "      <td>1</td>\n",
       "      <td>2017-01-20</td>\n",
       "    </tr>\n",
       "  </tbody>\n",
       "</table>\n",
       "</div>"
      ],
      "text/plain": [
       "                                                   title  \\\n",
       "34968  Japan PM's ruling bloc seen nearing 2/3 majori...   \n",
       "10125  THROWING GAS ON RACIAL FIRE? VA Police Confirm...   \n",
       "33799  In Myanmar's Rakhine, aid workers blocked from...   \n",
       "37130  Trump pledges 'close collaboration' with UK af...   \n",
       "23578  Puerto Rico governor cites 'sharp contrast' wi...   \n",
       "\n",
       "                                                    text    subject  \\\n",
       "34968   - Japanese Prime Minister Shinzo Abe s ruling...  worldnews   \n",
       "10125  Will the mainstream media report about this?Co...   politics   \n",
       "33799  YANGON/ - Buddhists in Myanmar on Wednesday bl...  worldnews   \n",
       "37130   - U.S. President Donald Trump on Friday told ...  worldnews   \n",
       "23578   - Puerto Rico Governor Ricardo Rossello on Fr...   politics   \n",
       "\n",
       "                      date  true       Date  \n",
       "34968    October 11, 2017      1 2017-10-11  \n",
       "10125         Aug 17, 2017     0 2017-08-17  \n",
       "33799    October 25, 2017      1 2017-10-25  \n",
       "37130  September 15, 2017      1 2017-09-15  \n",
       "23578    January 20, 2017      1 2017-01-20  "
      ]
     },
     "execution_count": 49,
     "metadata": {},
     "output_type": "execute_result"
    }
   ],
   "source": [
    "# drop the NaN values \n",
    "\n",
    "raw_df.dropna(inplace=True)\n",
    "print(raw_df.shape)\n",
    "raw_df.sample(5)"
   ]
  },
  {
   "cell_type": "code",
   "execution_count": 50,
   "id": "e3d8975f",
   "metadata": {},
   "outputs": [
    {
     "data": {
      "text/html": [
       "<div>\n",
       "<style scoped>\n",
       "    .dataframe tbody tr th:only-of-type {\n",
       "        vertical-align: middle;\n",
       "    }\n",
       "\n",
       "    .dataframe tbody tr th {\n",
       "        vertical-align: top;\n",
       "    }\n",
       "\n",
       "    .dataframe thead th {\n",
       "        text-align: right;\n",
       "    }\n",
       "</style>\n",
       "<table border=\"1\" class=\"dataframe\">\n",
       "  <thead>\n",
       "    <tr style=\"text-align: right;\">\n",
       "      <th></th>\n",
       "      <th>title</th>\n",
       "      <th>text</th>\n",
       "      <th>subject</th>\n",
       "      <th>true</th>\n",
       "      <th>day</th>\n",
       "      <th>month</th>\n",
       "      <th>year</th>\n",
       "    </tr>\n",
       "  </thead>\n",
       "  <tbody>\n",
       "    <tr>\n",
       "      <th>37292</th>\n",
       "      <td>Italy's Northern League criticizes magistrates...</td>\n",
       "      <td>- The leader of one of Italy s biggest politi...</td>\n",
       "      <td>worldnews</td>\n",
       "      <td>1</td>\n",
       "      <td>14</td>\n",
       "      <td>9</td>\n",
       "      <td>2017</td>\n",
       "    </tr>\n",
       "    <tr>\n",
       "      <th>19154</th>\n",
       "      <td>State Department describes plans for cuts, off...</td>\n",
       "      <td>- State Department officials briefed Senate s...</td>\n",
       "      <td>politics</td>\n",
       "      <td>1</td>\n",
       "      <td>15</td>\n",
       "      <td>9</td>\n",
       "      <td>2017</td>\n",
       "    </tr>\n",
       "    <tr>\n",
       "      <th>37366</th>\n",
       "      <td>EU workers drift from Britain just as restaura...</td>\n",
       "      <td>- Business is booming for Paul Murphy s recru...</td>\n",
       "      <td>worldnews</td>\n",
       "      <td>1</td>\n",
       "      <td>14</td>\n",
       "      <td>9</td>\n",
       "      <td>2017</td>\n",
       "    </tr>\n",
       "  </tbody>\n",
       "</table>\n",
       "</div>"
      ],
      "text/plain": [
       "                                                   title  \\\n",
       "37292  Italy's Northern League criticizes magistrates...   \n",
       "19154  State Department describes plans for cuts, off...   \n",
       "37366  EU workers drift from Britain just as restaura...   \n",
       "\n",
       "                                                    text    subject  true  \\\n",
       "37292   - The leader of one of Italy s biggest politi...  worldnews     1   \n",
       "19154   - State Department officials briefed Senate s...   politics     1   \n",
       "37366   - Business is booming for Paul Murphy s recru...  worldnews     1   \n",
       "\n",
       "       day  month  year  \n",
       "37292   14      9  2017  \n",
       "19154   15      9  2017  \n",
       "37366   14      9  2017  "
      ]
     },
     "execution_count": 50,
     "metadata": {},
     "output_type": "execute_result"
    }
   ],
   "source": [
    "# Add cols for day, month, year \n",
    "\n",
    "raw_df['day']= raw_df.apply(lambda row: row['Date'].day, axis=1)\n",
    "raw_df['month']= raw_df.apply(lambda row: row['Date'].month, axis =1)\n",
    "raw_df['year']= raw_df.apply(lambda row: row['Date'].year, axis = 1)\n",
    "\n",
    "# drop redundant date cols\n",
    "raw_df.drop(['date','Date'], axis=1, inplace=True)\n",
    "raw_df.sample(3)"
   ]
  },
  {
   "cell_type": "markdown",
   "id": "3414fc81",
   "metadata": {},
   "source": [
    "#### Let's plot the correlation between date and target "
   ]
  },
  {
   "cell_type": "code",
   "execution_count": 51,
   "id": "922c3d27",
   "metadata": {},
   "outputs": [
    {
     "data": {
      "image/png": "[encoded data removed]",
      "text/plain": [
       "<Figure size 432x288 with 2 Axes>"
      ]
     },
     "metadata": {
      "needs_background": "light"
     },
     "output_type": "display_data"
    }
   ],
   "source": [
    "sns.heatmap(raw_df[['day', 'month', 'year', 'true']].corr(), annot=True)\n",
    "sns.set(rc={'figure.figsize':(10,6)})"
   ]
  },
  {
   "cell_type": "markdown",
   "id": "ce74aa29",
   "metadata": {},
   "source": [
    "### Check links in text/ instead of text"
   ]
  },
  {
   "cell_type": "code",
   "execution_count": 52,
   "id": "b482112d",
   "metadata": {},
   "outputs": [
    {
     "name": "stdout",
     "output_type": "stream",
     "text": [
      "\u001b[1m\u001b[34m1900 of 38637 samples have link\u001b[0m\n"
     ]
    }
   ],
   "source": [
    "# start with http, ? mean 0 or one s (https), ://, [^\\n ]* any character except: '\\n' (newline), ' ' (0 or more times)\n",
    "pattern = r'https?://[^\\n ]*'\n",
    "\n",
    "# find how many samples have links in text\n",
    "test_df = raw_df['text'].copy().to_frame()\n",
    "test_df['patterns'] = test_df['text'].map(lambda x: len(re.findall(pattern, x)))\n",
    "\n",
    "text = f\"{test_df.groupby('patterns')['text'].count()[1]} of {raw_df.shape[0]} samples have link\"\n",
    "print(colored(text, 'blue', attrs=['bold']))"
   ]
  },
  {
   "cell_type": "code",
   "execution_count": 53,
   "id": "8289866a",
   "metadata": {},
   "outputs": [],
   "source": [
    "# remove link\n",
    "raw_df['text'] = raw_df['text'].map(lambda x: re.sub(pattern, '', x))"
   ]
  },
  {
   "cell_type": "code",
   "execution_count": 54,
   "id": "0f602b35",
   "metadata": {},
   "outputs": [
    {
     "name": "stdout",
     "output_type": "stream",
     "text": [
      "\u001b[1m\u001b[34m48 samples had links instead of news text\u001b[0m\n"
     ]
    },
    {
     "data": {
      "text/html": [
       "<div>\n",
       "<style scoped>\n",
       "    .dataframe tbody tr th:only-of-type {\n",
       "        vertical-align: middle;\n",
       "    }\n",
       "\n",
       "    .dataframe tbody tr th {\n",
       "        vertical-align: top;\n",
       "    }\n",
       "\n",
       "    .dataframe thead th {\n",
       "        text-align: right;\n",
       "    }\n",
       "</style>\n",
       "<table border=\"1\" class=\"dataframe\">\n",
       "  <thead>\n",
       "    <tr style=\"text-align: right;\">\n",
       "      <th></th>\n",
       "      <th>title</th>\n",
       "      <th>text</th>\n",
       "      <th>subject</th>\n",
       "      <th>true</th>\n",
       "      <th>day</th>\n",
       "      <th>month</th>\n",
       "      <th>year</th>\n",
       "    </tr>\n",
       "  </thead>\n",
       "  <tbody>\n",
       "    <tr>\n",
       "      <th>11713</th>\n",
       "      <td>“THANK YOU BABY”…YES, FEMINISTS WILL GO NUTS: ...</td>\n",
       "      <td></td>\n",
       "      <td>politics</td>\n",
       "      <td>0</td>\n",
       "      <td>21</td>\n",
       "      <td>1</td>\n",
       "      <td>2017</td>\n",
       "    </tr>\n",
       "    <tr>\n",
       "      <th>11290</th>\n",
       "      <td>SARA CARTER AND JAY SEKULOW With The Latest On...</td>\n",
       "      <td></td>\n",
       "      <td>politics</td>\n",
       "      <td>0</td>\n",
       "      <td>24</td>\n",
       "      <td>3</td>\n",
       "      <td>2017</td>\n",
       "    </tr>\n",
       "    <tr>\n",
       "      <th>11534</th>\n",
       "      <td>BOOM! TOMI LARHEN Destroys The Idiotic “Day Wi...</td>\n",
       "      <td></td>\n",
       "      <td>politics</td>\n",
       "      <td>0</td>\n",
       "      <td>18</td>\n",
       "      <td>2</td>\n",
       "      <td>2017</td>\n",
       "    </tr>\n",
       "    <tr>\n",
       "      <th>11626</th>\n",
       "      <td>RADICAL DIRECTOR OF SIERRA CLUB: Abortion is t...</td>\n",
       "      <td></td>\n",
       "      <td>politics</td>\n",
       "      <td>0</td>\n",
       "      <td>4</td>\n",
       "      <td>2</td>\n",
       "      <td>2017</td>\n",
       "    </tr>\n",
       "    <tr>\n",
       "      <th>11946</th>\n",
       "      <td>REP PETER KING: “Intel Community Carrying Out ...</td>\n",
       "      <td></td>\n",
       "      <td>politics</td>\n",
       "      <td>0</td>\n",
       "      <td>14</td>\n",
       "      <td>12</td>\n",
       "      <td>2016</td>\n",
       "    </tr>\n",
       "  </tbody>\n",
       "</table>\n",
       "</div>"
      ],
      "text/plain": [
       "                                                   title text   subject  true  \\\n",
       "11713  “THANK YOU BABY”…YES, FEMINISTS WILL GO NUTS: ...       politics     0   \n",
       "11290  SARA CARTER AND JAY SEKULOW With The Latest On...       politics     0   \n",
       "11534  BOOM! TOMI LARHEN Destroys The Idiotic “Day Wi...       politics     0   \n",
       "11626  RADICAL DIRECTOR OF SIERRA CLUB: Abortion is t...       politics     0   \n",
       "11946  REP PETER KING: “Intel Community Carrying Out ...       politics     0   \n",
       "\n",
       "       day  month  year  \n",
       "11713   21      1  2017  \n",
       "11290   24      3  2017  \n",
       "11534   18      2  2017  \n",
       "11626    4      2  2017  \n",
       "11946   14     12  2016  "
      ]
     },
     "execution_count": 54,
     "metadata": {},
     "output_type": "execute_result"
    }
   ],
   "source": [
    "# check how many strings had just link in text column\n",
    "text = f\"{raw_df.text[raw_df['text'].str.strip()==''].count()} samples had links instead of news text\"\n",
    "print(colored(text, 'blue', attrs=['bold']))\n",
    "\n",
    "raw_df[raw_df['text'].str.strip()==''].sample(5)"
   ]
  },
  {
   "cell_type": "code",
   "execution_count": 55,
   "id": "ffe250bc",
   "metadata": {},
   "outputs": [
    {
     "data": {
      "text/plain": [
       "(38589, 7)"
      ]
     },
     "execution_count": 55,
     "metadata": {},
     "output_type": "execute_result"
    }
   ],
   "source": [
    "# remove 48 samples without text\n",
    "raw_df = raw_df[raw_df['text'].str.strip()!='']\n",
    "raw_df.shape"
   ]
  },
  {
   "cell_type": "markdown",
   "id": "cee12916",
   "metadata": {},
   "source": [
    "### Unique chars in text "
   ]
  },
  {
   "cell_type": "markdown",
   "id": "8778cc1a",
   "metadata": {},
   "source": [
    "#### Let's plot the length of unique characters in the text, and 'true-value'"
   ]
  },
  {
   "cell_type": "code",
   "execution_count": 56,
   "id": "829afe5c",
   "metadata": {},
   "outputs": [
    {
     "data": {
      "text/html": [
       "<div>\n",
       "<style scoped>\n",
       "    .dataframe tbody tr th:only-of-type {\n",
       "        vertical-align: middle;\n",
       "    }\n",
       "\n",
       "    .dataframe tbody tr th {\n",
       "        vertical-align: top;\n",
       "    }\n",
       "\n",
       "    .dataframe thead th {\n",
       "        text-align: right;\n",
       "    }\n",
       "</style>\n",
       "<table border=\"1\" class=\"dataframe\">\n",
       "  <thead>\n",
       "    <tr style=\"text-align: right;\">\n",
       "      <th></th>\n",
       "      <th>text</th>\n",
       "      <th>true</th>\n",
       "      <th>unique_char</th>\n",
       "    </tr>\n",
       "  </thead>\n",
       "  <tbody>\n",
       "    <tr>\n",
       "      <th>0</th>\n",
       "      <td>Donald Trump just couldn t wish all Americans ...</td>\n",
       "      <td>0</td>\n",
       "      <td>25</td>\n",
       "    </tr>\n",
       "    <tr>\n",
       "      <th>1</th>\n",
       "      <td>House Intelligence Committee Chairman Devin Nu...</td>\n",
       "      <td>0</td>\n",
       "      <td>24</td>\n",
       "    </tr>\n",
       "    <tr>\n",
       "      <th>2</th>\n",
       "      <td>On Friday, it was revealed that former Milwauk...</td>\n",
       "      <td>0</td>\n",
       "      <td>25</td>\n",
       "    </tr>\n",
       "    <tr>\n",
       "      <th>3</th>\n",
       "      <td>On Christmas day, Donald Trump announced that ...</td>\n",
       "      <td>0</td>\n",
       "      <td>26</td>\n",
       "    </tr>\n",
       "    <tr>\n",
       "      <th>4</th>\n",
       "      <td>Pope Francis used his annual Christmas Day mes...</td>\n",
       "      <td>0</td>\n",
       "      <td>25</td>\n",
       "    </tr>\n",
       "  </tbody>\n",
       "</table>\n",
       "</div>"
      ],
      "text/plain": [
       "                                                text  true  unique_char\n",
       "0  Donald Trump just couldn t wish all Americans ...     0           25\n",
       "1  House Intelligence Committee Chairman Devin Nu...     0           24\n",
       "2  On Friday, it was revealed that former Milwauk...     0           25\n",
       "3  On Christmas day, Donald Trump announced that ...     0           26\n",
       "4  Pope Francis used his annual Christmas Day mes...     0           25"
      ]
     },
     "execution_count": 56,
     "metadata": {},
     "output_type": "execute_result"
    }
   ],
   "source": [
    "# count unique alphabet characters in text of each article \n",
    "\n",
    "def unique_char_num(string): \n",
    "    lower_str = string.lower()\n",
    "    alpha = re.sub(r'[^a-z]','',lower_str)\n",
    "    unique_ch = set(list(alpha))\n",
    "    n_unique_ch = len(unique_ch)\n",
    "    return n_unique_ch \n",
    "\n",
    "temp_df = raw_df[['text', 'true']].copy()\n",
    "temp_df['unique_char'] = temp_df.text.map(lambda x: unique_char_num(x))\n",
    "temp_df.head()"
   ]
  },
  {
   "cell_type": "code",
   "execution_count": 57,
   "id": "5ba2e4b3",
   "metadata": {
    "scrolled": true
   },
   "outputs": [
    {
     "data": {
      "text/html": [
       "<div>\n",
       "<style scoped>\n",
       "    .dataframe tbody tr th:only-of-type {\n",
       "        vertical-align: middle;\n",
       "    }\n",
       "\n",
       "    .dataframe tbody tr th {\n",
       "        vertical-align: top;\n",
       "    }\n",
       "\n",
       "    .dataframe thead th {\n",
       "        text-align: right;\n",
       "    }\n",
       "</style>\n",
       "<table border=\"1\" class=\"dataframe\">\n",
       "  <thead>\n",
       "    <tr style=\"text-align: right;\">\n",
       "      <th></th>\n",
       "      <th>index</th>\n",
       "      <th>text</th>\n",
       "      <th>true</th>\n",
       "      <th>unique_char</th>\n",
       "      <th>text_len</th>\n",
       "    </tr>\n",
       "  </thead>\n",
       "  <tbody>\n",
       "    <tr>\n",
       "      <th>0</th>\n",
       "      <td>9872</td>\n",
       "      <td>President Trump was right again! His campaign ...</td>\n",
       "      <td>0</td>\n",
       "      <td>26</td>\n",
       "      <td>2778</td>\n",
       "    </tr>\n",
       "    <tr>\n",
       "      <th>1</th>\n",
       "      <td>29326</td>\n",
       "      <td>- The Organization of American States (OAS) s...</td>\n",
       "      <td>1</td>\n",
       "      <td>26</td>\n",
       "      <td>3193</td>\n",
       "    </tr>\n",
       "    <tr>\n",
       "      <th>2</th>\n",
       "      <td>10111</td>\n",
       "      <td>Katie Couric s career has been pretty much in ...</td>\n",
       "      <td>0</td>\n",
       "      <td>26</td>\n",
       "      <td>1073</td>\n",
       "    </tr>\n",
       "    <tr>\n",
       "      <th>3</th>\n",
       "      <td>29340</td>\n",
       "      <td>GWADAR, Pakistan - China is lavishing vast amo...</td>\n",
       "      <td>1</td>\n",
       "      <td>26</td>\n",
       "      <td>8620</td>\n",
       "    </tr>\n",
       "    <tr>\n",
       "      <th>4</th>\n",
       "      <td>17005</td>\n",
       "      <td>21st Century Wire says So much for caring abou...</td>\n",
       "      <td>0</td>\n",
       "      <td>26</td>\n",
       "      <td>3316</td>\n",
       "    </tr>\n",
       "    <tr>\n",
       "      <th>...</th>\n",
       "      <td>...</td>\n",
       "      <td>...</td>\n",
       "      <td>...</td>\n",
       "      <td>...</td>\n",
       "      <td>...</td>\n",
       "    </tr>\n",
       "    <tr>\n",
       "      <th>38584</th>\n",
       "      <td>11845</td>\n",
       "      <td>Via: WT</td>\n",
       "      <td>0</td>\n",
       "      <td>5</td>\n",
       "      <td>7</td>\n",
       "    </tr>\n",
       "    <tr>\n",
       "      <th>38585</th>\n",
       "      <td>12405</td>\n",
       "      <td>Via: GP</td>\n",
       "      <td>0</td>\n",
       "      <td>5</td>\n",
       "      <td>7</td>\n",
       "    </tr>\n",
       "    <tr>\n",
       "      <th>38586</th>\n",
       "      <td>11113</td>\n",
       "      <td>Enjoy:</td>\n",
       "      <td>0</td>\n",
       "      <td>5</td>\n",
       "      <td>6</td>\n",
       "    </tr>\n",
       "    <tr>\n",
       "      <th>38587</th>\n",
       "      <td>11890</td>\n",
       "      <td>Enjoy</td>\n",
       "      <td>0</td>\n",
       "      <td>5</td>\n",
       "      <td>5</td>\n",
       "    </tr>\n",
       "    <tr>\n",
       "      <th>38588</th>\n",
       "      <td>12095</td>\n",
       "      <td>Ouch!</td>\n",
       "      <td>0</td>\n",
       "      <td>4</td>\n",
       "      <td>5</td>\n",
       "    </tr>\n",
       "  </tbody>\n",
       "</table>\n",
       "<p>38589 rows × 5 columns</p>\n",
       "</div>"
      ],
      "text/plain": [
       "       index                                               text  true  \\\n",
       "0       9872  President Trump was right again! His campaign ...     0   \n",
       "1      29326   - The Organization of American States (OAS) s...     1   \n",
       "2      10111  Katie Couric s career has been pretty much in ...     0   \n",
       "3      29340  GWADAR, Pakistan - China is lavishing vast amo...     1   \n",
       "4      17005  21st Century Wire says So much for caring abou...     0   \n",
       "...      ...                                                ...   ...   \n",
       "38584  11845                                            Via: WT     0   \n",
       "38585  12405                                            Via: GP     0   \n",
       "38586  11113                                             Enjoy:     0   \n",
       "38587  11890                                              Enjoy     0   \n",
       "38588  12095                                              Ouch!     0   \n",
       "\n",
       "       unique_char  text_len  \n",
       "0               26      2778  \n",
       "1               26      3193  \n",
       "2               26      1073  \n",
       "3               26      8620  \n",
       "4               26      3316  \n",
       "...            ...       ...  \n",
       "38584            5         7  \n",
       "38585            5         7  \n",
       "38586            5         6  \n",
       "38587            5         5  \n",
       "38588            4         5  \n",
       "\n",
       "[38589 rows x 5 columns]"
      ]
     },
     "execution_count": 57,
     "metadata": {},
     "output_type": "execute_result"
    }
   ],
   "source": [
    "# sort into descending order by unique_char\n",
    "\n",
    "to_plot = temp_df.sort_values(by='unique_char', ascending=False).reset_index()\n",
    "\n",
    "# add text length col to DF \n",
    "to_plot['text_len']= to_plot.text.map(lambda x: len(x))\n",
    "to_plot"
   ]
  },
  {
   "cell_type": "code",
   "execution_count": 58,
   "id": "2031e0a2",
   "metadata": {},
   "outputs": [
    {
     "data": {
      "text/plain": [
       "<AxesSubplot:xlabel='text_len', ylabel='unique_char'>"
      ]
     },
     "execution_count": 58,
     "metadata": {},
     "output_type": "execute_result"
    },
    {
     "data": {
      "image/png": "[encoded data removed]",
      "text/plain": [
       "<Figure size 720x432 with 1 Axes>"
      ]
     },
     "metadata": {},
     "output_type": "display_data"
    }
   ],
   "source": [
    "sns.scatterplot(data=to_plot, x='text_len', \n",
    "                y='unique_char', hue='true')  "
   ]
  },
  {
   "cell_type": "code",
   "execution_count": 59,
   "id": "bab00786",
   "metadata": {},
   "outputs": [
    {
     "name": "stdout",
     "output_type": "stream",
     "text": [
      "\u001b[1m\u001b[32m241 articles used less than 20 unique characters in their text\u001b[0m\n",
      "\u001b[1m\u001b[34m289 is the longest piece of text that had less than 20 unique characters\u001b[0m\n",
      "\u001b[1m\u001b[31m2462 is the average length of the text, where the article had 20 or more unique characters\u001b[0m\n"
     ]
    }
   ],
   "source": [
    "# This took a long time to exe. will look for laternative faster code \n",
    "\n",
    "line1= f\"{to_plot[to_plot['unique_char']<20].count()[0]} articles used less than 20 unique characters in their text\"\n",
    "line2= f\"{to_plot.text_len[to_plot['unique_char']<20].max()} is the longest piece of text that had less than 20 unique characters\"\n",
    "line3= f\"{to_plot.text_len[to_plot['unique_char']>=20].mean().astype(int)} is the average length of the text, where the article had 20 or more unique characters\"\n",
    "\n",
    "print(colored(line1, 'green', attrs=['bold']))\n",
    "print(colored(line2, 'blue', attrs=['bold']))\n",
    "print(colored(line3, 'red', attrs=['bold']))"
   ]
  },
  {
   "cell_type": "code",
   "execution_count": 60,
   "id": "676b1408",
   "metadata": {},
   "outputs": [
    {
     "data": {
      "text/html": [
       "<div>\n",
       "<style scoped>\n",
       "    .dataframe tbody tr th:only-of-type {\n",
       "        vertical-align: middle;\n",
       "    }\n",
       "\n",
       "    .dataframe tbody tr th {\n",
       "        vertical-align: top;\n",
       "    }\n",
       "\n",
       "    .dataframe thead th {\n",
       "        text-align: right;\n",
       "    }\n",
       "</style>\n",
       "<table border=\"1\" class=\"dataframe\">\n",
       "  <thead>\n",
       "    <tr style=\"text-align: right;\">\n",
       "      <th></th>\n",
       "      <th>title</th>\n",
       "      <th>text</th>\n",
       "      <th>subject</th>\n",
       "      <th>true</th>\n",
       "      <th>day</th>\n",
       "      <th>month</th>\n",
       "      <th>year</th>\n",
       "    </tr>\n",
       "  </thead>\n",
       "  <tbody>\n",
       "    <tr>\n",
       "      <th>34414</th>\n",
       "      <td>ASPIRATIONS: Young Chinese seize the day, seiz...</td>\n",
       "      <td>- The world is this generation s oyster.  Chi...</td>\n",
       "      <td>worldnews</td>\n",
       "      <td>1</td>\n",
       "      <td>17</td>\n",
       "      <td>10</td>\n",
       "      <td>2017</td>\n",
       "    </tr>\n",
       "    <tr>\n",
       "      <th>19841</th>\n",
       "      <td>Wisconsin to consider $3 billion Foxconn incen...</td>\n",
       "      <td>- The Wisconsin governor ordered the state le...</td>\n",
       "      <td>politics</td>\n",
       "      <td>1</td>\n",
       "      <td>31</td>\n",
       "      <td>7</td>\n",
       "      <td>2017</td>\n",
       "    </tr>\n",
       "    <tr>\n",
       "      <th>3351</th>\n",
       "      <td>Proof Republicans MADE UP ‘Voter Fraud’ Lie To...</td>\n",
       "      <td>If you listened to Republicans and conservativ...</td>\n",
       "      <td>worldnews</td>\n",
       "      <td>0</td>\n",
       "      <td>18</td>\n",
       "      <td>12</td>\n",
       "      <td>2016</td>\n",
       "    </tr>\n",
       "  </tbody>\n",
       "</table>\n",
       "</div>"
      ],
      "text/plain": [
       "                                                   title  \\\n",
       "34414  ASPIRATIONS: Young Chinese seize the day, seiz...   \n",
       "19841  Wisconsin to consider $3 billion Foxconn incen...   \n",
       "3351   Proof Republicans MADE UP ‘Voter Fraud’ Lie To...   \n",
       "\n",
       "                                                    text    subject  true  \\\n",
       "34414   - The world is this generation s oyster.  Chi...  worldnews     1   \n",
       "19841   - The Wisconsin governor ordered the state le...   politics     1   \n",
       "3351   If you listened to Republicans and conservativ...  worldnews     0   \n",
       "\n",
       "       day  month  year  \n",
       "34414   17     10  2017  \n",
       "19841   31      7  2017  \n",
       "3351    18     12  2016  "
      ]
     },
     "execution_count": 60,
     "metadata": {},
     "output_type": "execute_result"
    }
   ],
   "source": [
    "raw_df.sample(3)"
   ]
  },
  {
   "cell_type": "markdown",
   "id": "cf40534e",
   "metadata": {},
   "source": [
    "#### Remove HTML"
   ]
  },
  {
   "cell_type": "code",
   "execution_count": 61,
   "id": "1f15c300",
   "metadata": {},
   "outputs": [],
   "source": [
    "# # HTML removal \n",
    "# def remove_html(text):\n",
    "#     soup = BeautifulSoup(text, \"html.parser\")\n",
    "#     return soup.get_text()"
   ]
  },
  {
   "cell_type": "code",
   "execution_count": 62,
   "id": "de0c1733",
   "metadata": {},
   "outputs": [],
   "source": [
    "# Function to remove HTML tags\n",
    "def remove_tags(text):\n",
    "  \n",
    "    # parse html content\n",
    "    soup = BeautifulSoup(text, \"html.parser\")\n",
    "  \n",
    "    for data in soup(['style', 'script']):\n",
    "        # Remove tags\n",
    "        data.decompose()\n",
    "  \n",
    "    # return data by retrieving the tag content\n",
    "    return ' '.join(soup.stripped_strings)"
   ]
  },
  {
   "cell_type": "code",
   "execution_count": 63,
   "id": "b91e8d72",
   "metadata": {},
   "outputs": [],
   "source": [
    "# # Test\n",
    "\n",
    "# test =  \"\"\"\n",
    "#           <html>\n",
    "#             <head>\n",
    "#                 <title> Geeksforgeeks </title>\n",
    "#                 <style>.call {background-color:black;} </style>\n",
    "#                 <script>getit</script>\n",
    "#             </head>\n",
    "#             <body>\n",
    "#                 is a\n",
    "#                 <div>Computer Science portal.</div>\n",
    "#             </body>\n",
    "#           </html>\n",
    "#         \"\"\"\n",
    "# print(remove_html(test))\n",
    "# print(remove_tags(test))"
   ]
  },
  {
   "cell_type": "code",
   "execution_count": 64,
   "id": "3b876160",
   "metadata": {},
   "outputs": [],
   "source": [
    "raw_df['text'] = raw_df['text'].map(lambda x: remove_tags(x))"
   ]
  },
  {
   "cell_type": "markdown",
   "id": "3b375f11",
   "metadata": {},
   "source": [
    "#### Remove all special characters and numbers, fold text to lowercase"
   ]
  },
  {
   "cell_type": "code",
   "execution_count": 65,
   "id": "8ac0b5e8",
   "metadata": {},
   "outputs": [],
   "source": [
    "# casefold\n",
    "raw_df['text'] = raw_df['text'].map(lambda x: x.casefold())"
   ]
  },
  {
   "cell_type": "code",
   "execution_count": 66,
   "id": "3b51c708",
   "metadata": {},
   "outputs": [],
   "source": [
    "def remove_punctuation_spec_char(text_):\n",
    "    punctuation = string.punctuation\n",
    "    text_ = ' '.join([word for word in text_.split() if word not in punctuation])\n",
    "    text_ = ' '.join([re.sub(r'[^a-zA-Z]','',word) for word in text_.split()])\n",
    "    return text_\n",
    "\n",
    "raw_df['text'] = raw_df['text'].map(lambda x: remove_punctuation_spec_char(x))"
   ]
  },
  {
   "cell_type": "code",
   "execution_count": 67,
   "id": "a620906b",
   "metadata": {},
   "outputs": [
    {
     "data": {
      "text/html": [
       "<div>\n",
       "<style scoped>\n",
       "    .dataframe tbody tr th:only-of-type {\n",
       "        vertical-align: middle;\n",
       "    }\n",
       "\n",
       "    .dataframe tbody tr th {\n",
       "        vertical-align: top;\n",
       "    }\n",
       "\n",
       "    .dataframe thead th {\n",
       "        text-align: right;\n",
       "    }\n",
       "</style>\n",
       "<table border=\"1\" class=\"dataframe\">\n",
       "  <thead>\n",
       "    <tr style=\"text-align: right;\">\n",
       "      <th></th>\n",
       "      <th>title</th>\n",
       "      <th>text</th>\n",
       "      <th>subject</th>\n",
       "      <th>true</th>\n",
       "      <th>day</th>\n",
       "      <th>month</th>\n",
       "      <th>year</th>\n",
       "    </tr>\n",
       "  </thead>\n",
       "  <tbody>\n",
       "    <tr>\n",
       "      <th>21850</th>\n",
       "      <td>Factbox: Trump adviser from Wall Street backs ...</td>\n",
       "      <td>former goldman sachs group inc gsn executive a...</td>\n",
       "      <td>politics</td>\n",
       "      <td>1</td>\n",
       "      <td>6</td>\n",
       "      <td>4</td>\n",
       "      <td>2017</td>\n",
       "    </tr>\n",
       "    <tr>\n",
       "      <th>10563</th>\n",
       "      <td>CNN ANCHOR DON LEMON: A Republican Winning in ...</td>\n",
       "      <td>cnn anchor don lemon got snarky during reporti...</td>\n",
       "      <td>politics</td>\n",
       "      <td>0</td>\n",
       "      <td>21</td>\n",
       "      <td>6</td>\n",
       "      <td>2017</td>\n",
       "    </tr>\n",
       "    <tr>\n",
       "      <th>29541</th>\n",
       "      <td>Two dead, several wounded in stabbing in south...</td>\n",
       "      <td>at least two people were killed and several ot...</td>\n",
       "      <td>worldnews</td>\n",
       "      <td>1</td>\n",
       "      <td>14</td>\n",
       "      <td>12</td>\n",
       "      <td>2017</td>\n",
       "    </tr>\n",
       "  </tbody>\n",
       "</table>\n",
       "</div>"
      ],
      "text/plain": [
       "                                                   title  \\\n",
       "21850  Factbox: Trump adviser from Wall Street backs ...   \n",
       "10563  CNN ANCHOR DON LEMON: A Republican Winning in ...   \n",
       "29541  Two dead, several wounded in stabbing in south...   \n",
       "\n",
       "                                                    text    subject  true  \\\n",
       "21850  former goldman sachs group inc gsn executive a...   politics     1   \n",
       "10563  cnn anchor don lemon got snarky during reporti...   politics     0   \n",
       "29541  at least two people were killed and several ot...  worldnews     1   \n",
       "\n",
       "       day  month  year  \n",
       "21850    6      4  2017  \n",
       "10563   21      6  2017  \n",
       "29541   14     12  2017  "
      ]
     },
     "execution_count": 67,
     "metadata": {},
     "output_type": "execute_result"
    }
   ],
   "source": [
    "raw_df.sample(3)"
   ]
  },
  {
   "cell_type": "markdown",
   "id": "1d85252a",
   "metadata": {},
   "source": [
    "## Save cleaned dataframe"
   ]
  },
  {
   "cell_type": "code",
   "execution_count": 68,
   "id": "9bea519c",
   "metadata": {},
   "outputs": [],
   "source": [
    "cleaned_df = raw_df[['text', 'true']].copy()\n",
    "cleaned_df.to_csv('data/cleaned_news.csv', index=False, encoding='utf-8')"
   ]
  },
  {
   "cell_type": "markdown",
   "id": "f9aeadcd",
   "metadata": {},
   "source": [
    "## Group to do list:\n",
    "* Sentiment analysis (Princess & Nicola)\n",
    "* ML and Modelling (Rose, Janka & Victoria)\n",
    "* Create Presentations (Nicola) \n",
    "* Write Project Report \n"
   ]
  },
  {
   "cell_type": "code",
   "execution_count": null,
   "id": "03afd4b8",
   "metadata": {},
   "outputs": [],
   "source": []
  }
 ],
 "metadata": {
  "kernelspec": {
   "display_name": "Python 3 (ipykernel)",
   "language": "python",
   "name": "python3"
  },
  "language_info": {
   "codemirror_mode": {
    "name": "ipython",
    "version": 3
   },
   "file_extension": ".py",
   "mimetype": "text/x-python",
   "name": "python",
   "nbconvert_exporter": "python",
   "pygments_lexer": "ipython3",
   "version": "3.8.12"
  }
 },
 "nbformat": 4,
 "nbformat_minor": 5
}
