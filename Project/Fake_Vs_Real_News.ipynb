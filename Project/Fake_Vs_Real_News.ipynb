{
 "cells": [
  {
   "cell_type": "markdown",
   "id": "f45acfb6",
   "metadata": {},
   "source": [
    "####  <span style=\"color:red\">Added changes</span> in next 3 cells"
   ]
  },
  {
   "cell_type": "markdown",
   "id": "9b02767e",
   "metadata": {},
   "source": [
    "## Fake vs Real News"
   ]
  },
  {
   "cell_type": "markdown",
   "id": "54185348",
   "metadata": {},
   "source": [
    "### Import libraries"
   ]
  },
  {
   "cell_type": "code",
   "execution_count": 1,
   "id": "1232326f",
   "metadata": {},
   "outputs": [
    {
     "data": {
      "text/html": [
       "<style type='text/css'>\n",
       ".datatable table.frame { margin-bottom: 0; }\n",
       ".datatable table.frame thead { border-bottom: none; }\n",
       ".datatable table.frame tr.coltypes td {  color: #FFFFFF;  line-height: 6px;  padding: 0 0.5em;}\n",
       ".datatable .bool    { background: #DDDD99; }\n",
       ".datatable .object  { background: #565656; }\n",
       ".datatable .int     { background: #5D9E5D; }\n",
       ".datatable .float   { background: #4040CC; }\n",
       ".datatable .str     { background: #CC4040; }\n",
       ".datatable .time    { background: #40CC40; }\n",
       ".datatable .row_index {  background: var(--jp-border-color3);  border-right: 1px solid var(--jp-border-color0);  color: var(--jp-ui-font-color3);  font-size: 9px;}\n",
       ".datatable .frame tbody td { text-align: left; }\n",
       ".datatable .frame tr.coltypes .row_index {  background: var(--jp-border-color0);}\n",
       ".datatable th:nth-child(2) { padding-left: 12px; }\n",
       ".datatable .hellipsis {  color: var(--jp-cell-editor-border-color);}\n",
       ".datatable .vellipsis {  background: var(--jp-layout-color0);  color: var(--jp-cell-editor-border-color);}\n",
       ".datatable .na {  color: var(--jp-cell-editor-border-color);  font-size: 80%;}\n",
       ".datatable .sp {  opacity: 0.25;}\n",
       ".datatable .footer { font-size: 9px; }\n",
       ".datatable .frame_dimensions {  background: var(--jp-border-color3);  border-top: 1px solid var(--jp-border-color0);  color: var(--jp-ui-font-color3);  display: inline-block;  opacity: 0.6;  padding: 1px 10px 1px 5px;}\n",
       ".datatable .frame thead tr.colnames {  background-image: url('data:image/png;base64,iVBORw0KGgoAAAANSUhEUgAAABIAAAAkCAYAAACE7WrnAAAAdElEQVR42mP4wyMVQQ3M8P///whqYBSDkG2A8bGJo+tBMQifIbgMQ5ZjwGUIPjY2wxiwOZWQZrxhhM0F6IYjq8PqNWyBh4+NN7CpGv2jBo0aNGrQqEGjBtHFIIoLf5pUR2RXkFStsqnSiKBqs4bi6KdW0w8AxFl+XL1lK8wAAAAASUVORK5CYII=');  background-repeat: repeat-x;  background-size: 14px;  height: 28px;}\n",
       "</style>\n"
      ],
      "text/plain": [
       "<IPython.core.display.HTML object>"
      ]
     },
     "metadata": {},
     "output_type": "display_data"
    }
   ],
   "source": [
    "import pandas as pd # data processing \n",
    "\n",
    "# Removed\n",
    "# import os # access to dir structure\n",
    "\n",
    "import matplotlib.pyplot as plt # plotting \n",
    "import numpy as np # linear algebra \n",
    "import seaborn as sns \n",
    "\n",
    "# Added\n",
    "# tool to read data csv file (it is faster than pandas and can read files from .zip)\n",
    "import datatable as dt\n",
    "\n",
    "# Removed\n",
    "# # display and store Matplotlib plots\n",
    "# %matplotlib inline\n",
    "\n",
    "# import kaggle\n",
    "\n",
    "# colored output text\n",
    "from termcolor import colored\n",
    "\n",
    "import re\n",
    "import string \n",
    "\n",
    "# added\n",
    "from bs4 import BeautifulSoup\n",
    "\n",
    "from wordcloud import WordCloud, STOPWORDS\n",
    "from sklearn.model_selection import train_test_split\n",
    "from sklearn.metrics import accuracy_score \n",
    "from sklearn.metrics import classification_report\n",
    "\n",
    "# Added\n",
    "# Silent warnings\n",
    "import warnings\n",
    "warnings.filterwarnings('ignore')\n",
    "warnings.simplefilter('ignore')"
   ]
  },
  {
   "cell_type": "markdown",
   "id": "645e29e7",
   "metadata": {},
   "source": [
    "### Dataset in use \n",
    "### https://www.kaggle.com/datasets/clmentbisaillon/fake-and-real-news-dataset?select=True.csv"
   ]
  },
  {
   "cell_type": "markdown",
   "id": "491c61bd",
   "metadata": {},
   "source": [
    "####  <span style=\"color:red\">Added changes</span> in next 3 cells"
   ]
  },
  {
   "cell_type": "code",
   "execution_count": 2,
   "id": "aa714f3b",
   "metadata": {},
   "outputs": [],
   "source": [
    "# # view files in downloaded dataset folder \n",
    "\n",
    "# csv_files = os.listdir(r\"/Users/Taurai/Iza/CFG/Data Science : Part 2/Project Folder /archive(3)\")\n",
    "# for file in csv_files: \n",
    "#     print(file)\n",
    "# print(csv_files.count)"
   ]
  },
  {
   "cell_type": "code",
   "execution_count": 3,
   "id": "a1012e15",
   "metadata": {},
   "outputs": [],
   "source": [
    "# fake_df1 = pd.read_csv(\"./archive(3)/Fake.csv\")\n",
    "# real_df1 = pd.read_csv(\"./archive(3)/True.csv\")"
   ]
  },
  {
   "cell_type": "code",
   "execution_count": 4,
   "id": "402db437",
   "metadata": {},
   "outputs": [],
   "source": [
    "fake_df1 = dt.fread('data/fake-and-real-news-dataset.zip/Fake.csv').to_pandas()\n",
    "real_df1 = dt.fread('data/fake-and-real-news-dataset.zip/True.csv').to_pandas()"
   ]
  },
  {
   "cell_type": "markdown",
   "id": "de5f9585",
   "metadata": {},
   "source": [
    "### Quick exploratory analysis of Fake News DF"
   ]
  },
  {
   "cell_type": "code",
   "execution_count": 5,
   "id": "e5a82048",
   "metadata": {},
   "outputs": [
    {
     "data": {
      "text/html": [
       "<div>\n",
       "<style scoped>\n",
       "    .dataframe tbody tr th:only-of-type {\n",
       "        vertical-align: middle;\n",
       "    }\n",
       "\n",
       "    .dataframe tbody tr th {\n",
       "        vertical-align: top;\n",
       "    }\n",
       "\n",
       "    .dataframe thead th {\n",
       "        text-align: right;\n",
       "    }\n",
       "</style>\n",
       "<table border=\"1\" class=\"dataframe\">\n",
       "  <thead>\n",
       "    <tr style=\"text-align: right;\">\n",
       "      <th></th>\n",
       "      <th>title</th>\n",
       "      <th>text</th>\n",
       "      <th>subject</th>\n",
       "      <th>date</th>\n",
       "    </tr>\n",
       "  </thead>\n",
       "  <tbody>\n",
       "    <tr>\n",
       "      <th>0</th>\n",
       "      <td>Donald Trump Sends Out Embarrassing New Year’s...</td>\n",
       "      <td>Donald Trump just couldn t wish all Americans ...</td>\n",
       "      <td>News</td>\n",
       "      <td>December 31, 2017</td>\n",
       "    </tr>\n",
       "    <tr>\n",
       "      <th>1</th>\n",
       "      <td>Drunk Bragging Trump Staffer Started Russian C...</td>\n",
       "      <td>House Intelligence Committee Chairman Devin Nu...</td>\n",
       "      <td>News</td>\n",
       "      <td>December 31, 2017</td>\n",
       "    </tr>\n",
       "    <tr>\n",
       "      <th>2</th>\n",
       "      <td>Sheriff David Clarke Becomes An Internet Joke ...</td>\n",
       "      <td>On Friday, it was revealed that former Milwauk...</td>\n",
       "      <td>News</td>\n",
       "      <td>December 30, 2017</td>\n",
       "    </tr>\n",
       "    <tr>\n",
       "      <th>3</th>\n",
       "      <td>Trump Is So Obsessed He Even Has Obama’s Name ...</td>\n",
       "      <td>On Christmas day, Donald Trump announced that ...</td>\n",
       "      <td>News</td>\n",
       "      <td>December 29, 2017</td>\n",
       "    </tr>\n",
       "    <tr>\n",
       "      <th>4</th>\n",
       "      <td>Pope Francis Just Called Out Donald Trump Duri...</td>\n",
       "      <td>Pope Francis used his annual Christmas Day mes...</td>\n",
       "      <td>News</td>\n",
       "      <td>December 25, 2017</td>\n",
       "    </tr>\n",
       "    <tr>\n",
       "      <th>5</th>\n",
       "      <td>Racist Alabama Cops Brutalize Black Boy While ...</td>\n",
       "      <td>The number of cases of cops brutalizing and ki...</td>\n",
       "      <td>News</td>\n",
       "      <td>December 25, 2017</td>\n",
       "    </tr>\n",
       "  </tbody>\n",
       "</table>\n",
       "</div>"
      ],
      "text/plain": [
       "                                               title  \\\n",
       "0  Donald Trump Sends Out Embarrassing New Year’s...   \n",
       "1  Drunk Bragging Trump Staffer Started Russian C...   \n",
       "2  Sheriff David Clarke Becomes An Internet Joke ...   \n",
       "3  Trump Is So Obsessed He Even Has Obama’s Name ...   \n",
       "4  Pope Francis Just Called Out Donald Trump Duri...   \n",
       "5  Racist Alabama Cops Brutalize Black Boy While ...   \n",
       "\n",
       "                                                text subject  \\\n",
       "0  Donald Trump just couldn t wish all Americans ...    News   \n",
       "1  House Intelligence Committee Chairman Devin Nu...    News   \n",
       "2  On Friday, it was revealed that former Milwauk...    News   \n",
       "3  On Christmas day, Donald Trump announced that ...    News   \n",
       "4  Pope Francis used his annual Christmas Day mes...    News   \n",
       "5  The number of cases of cops brutalizing and ki...    News   \n",
       "\n",
       "                date  \n",
       "0  December 31, 2017  \n",
       "1  December 31, 2017  \n",
       "2  December 30, 2017  \n",
       "3  December 29, 2017  \n",
       "4  December 25, 2017  \n",
       "5  December 25, 2017  "
      ]
     },
     "execution_count": 5,
     "metadata": {},
     "output_type": "execute_result"
    }
   ],
   "source": [
    "fake_df1.head(6)"
   ]
  },
  {
   "cell_type": "code",
   "execution_count": 6,
   "id": "1c66eb4c",
   "metadata": {},
   "outputs": [
    {
     "data": {
      "text/html": [
       "<div>\n",
       "<style scoped>\n",
       "    .dataframe tbody tr th:only-of-type {\n",
       "        vertical-align: middle;\n",
       "    }\n",
       "\n",
       "    .dataframe tbody tr th {\n",
       "        vertical-align: top;\n",
       "    }\n",
       "\n",
       "    .dataframe thead th {\n",
       "        text-align: right;\n",
       "    }\n",
       "</style>\n",
       "<table border=\"1\" class=\"dataframe\">\n",
       "  <thead>\n",
       "    <tr style=\"text-align: right;\">\n",
       "      <th></th>\n",
       "      <th>title</th>\n",
       "      <th>text</th>\n",
       "      <th>subject</th>\n",
       "      <th>date</th>\n",
       "    </tr>\n",
       "  </thead>\n",
       "  <tbody>\n",
       "    <tr>\n",
       "      <th>count</th>\n",
       "      <td>23481</td>\n",
       "      <td>23481</td>\n",
       "      <td>23481</td>\n",
       "      <td>23481</td>\n",
       "    </tr>\n",
       "    <tr>\n",
       "      <th>unique</th>\n",
       "      <td>17903</td>\n",
       "      <td>17453</td>\n",
       "      <td>6</td>\n",
       "      <td>1681</td>\n",
       "    </tr>\n",
       "    <tr>\n",
       "      <th>top</th>\n",
       "      <td>MEDIA IGNORES Time That Bill Clinton FIRED His...</td>\n",
       "      <td></td>\n",
       "      <td>News</td>\n",
       "      <td>May 10, 2017</td>\n",
       "    </tr>\n",
       "    <tr>\n",
       "      <th>freq</th>\n",
       "      <td>6</td>\n",
       "      <td>630</td>\n",
       "      <td>9050</td>\n",
       "      <td>46</td>\n",
       "    </tr>\n",
       "  </tbody>\n",
       "</table>\n",
       "</div>"
      ],
      "text/plain": [
       "                                                    title   text subject  \\\n",
       "count                                               23481  23481   23481   \n",
       "unique                                              17903  17453       6   \n",
       "top     MEDIA IGNORES Time That Bill Clinton FIRED His...           News   \n",
       "freq                                                    6    630    9050   \n",
       "\n",
       "                date  \n",
       "count          23481  \n",
       "unique          1681  \n",
       "top     May 10, 2017  \n",
       "freq              46  "
      ]
     },
     "execution_count": 6,
     "metadata": {},
     "output_type": "execute_result"
    }
   ],
   "source": [
    "fake_df1.describe()"
   ]
  },
  {
   "cell_type": "code",
   "execution_count": 7,
   "id": "79b90329",
   "metadata": {},
   "outputs": [
    {
     "data": {
      "text/plain": [
       "(23481, 4)"
      ]
     },
     "execution_count": 7,
     "metadata": {},
     "output_type": "execute_result"
    }
   ],
   "source": [
    "fake_df1.shape"
   ]
  },
  {
   "cell_type": "code",
   "execution_count": 8,
   "id": "8fdbb57d",
   "metadata": {},
   "outputs": [
    {
     "name": "stdout",
     "output_type": "stream",
     "text": [
      "<class 'pandas.core.frame.DataFrame'>\n",
      "RangeIndex: 23481 entries, 0 to 23480\n",
      "Data columns (total 4 columns):\n",
      " #   Column   Non-Null Count  Dtype \n",
      "---  ------   --------------  ----- \n",
      " 0   title    23481 non-null  object\n",
      " 1   text     23481 non-null  object\n",
      " 2   subject  23481 non-null  object\n",
      " 3   date     23481 non-null  object\n",
      "dtypes: object(4)\n",
      "memory usage: 733.9+ KB\n"
     ]
    }
   ],
   "source": [
    "fake_df1.info()"
   ]
  },
  {
   "cell_type": "code",
   "execution_count": 9,
   "id": "5118a61f",
   "metadata": {},
   "outputs": [
    {
     "data": {
      "text/plain": [
       "title      0\n",
       "text       0\n",
       "subject    0\n",
       "date       0\n",
       "dtype: int64"
      ]
     },
     "execution_count": 9,
     "metadata": {},
     "output_type": "execute_result"
    }
   ],
   "source": [
    "fake_df1.isnull().sum()"
   ]
  },
  {
   "cell_type": "markdown",
   "id": "15d12099",
   "metadata": {},
   "source": [
    "#### Let's find and remove duplicates in Fake DF"
   ]
  },
  {
   "cell_type": "code",
   "execution_count": 10,
   "id": "0862881e",
   "metadata": {},
   "outputs": [
    {
     "name": "stdout",
     "output_type": "stream",
     "text": [
      "\u001b[1m\u001b[34mFound 6028 duplicate in 23481 samples\u001b[0m\n"
     ]
    }
   ],
   "source": [
    "duplicate = fake_df1['text'][fake_df1['text'].duplicated()].index\n",
    "result = f\"Found {len(duplicate)} duplicate in {fake_df1.shape[0]} samples\"\n",
    "print(colored(result, 'blue', attrs=['bold']))\n"
   ]
  },
  {
   "cell_type": "markdown",
   "id": "d8c79479",
   "metadata": {},
   "source": [
    "####  <span style=\"color:red\">Added changes</span> in next cell"
   ]
  },
  {
   "cell_type": "code",
   "execution_count": 11,
   "id": "8a354c9c",
   "metadata": {},
   "outputs": [
    {
     "data": {
      "text/plain": [
       "(17453, 4)"
      ]
     },
     "execution_count": 11,
     "metadata": {},
     "output_type": "execute_result"
    }
   ],
   "source": [
    "# remove duplicates \n",
    "\n",
    "fake_df1.drop(index=duplicate, inplace=True)\n",
    "\n",
    "# Added\n",
    "fake_df1.shape\n",
    "\n",
    "# Removed\n",
    "# print(fake_df1.shape, '\\n')\n",
    "# fake_df1.sample()"
   ]
  },
  {
   "cell_type": "code",
   "execution_count": 12,
   "id": "eec16671",
   "metadata": {},
   "outputs": [
    {
     "data": {
      "text/plain": [
       "array(['News', 'politics', 'Government News', 'left-news', 'US_News'],\n",
       "      dtype=object)"
      ]
     },
     "execution_count": 12,
     "metadata": {},
     "output_type": "execute_result"
    }
   ],
   "source": [
    "fake_df1['subject'].unique()"
   ]
  },
  {
   "cell_type": "markdown",
   "id": "f6b83f33",
   "metadata": {},
   "source": [
    "### Quick explanatory analysis of Real News DF"
   ]
  },
  {
   "cell_type": "code",
   "execution_count": 13,
   "id": "f2f958e8",
   "metadata": {},
   "outputs": [
    {
     "data": {
      "text/html": [
       "<div>\n",
       "<style scoped>\n",
       "    .dataframe tbody tr th:only-of-type {\n",
       "        vertical-align: middle;\n",
       "    }\n",
       "\n",
       "    .dataframe tbody tr th {\n",
       "        vertical-align: top;\n",
       "    }\n",
       "\n",
       "    .dataframe thead th {\n",
       "        text-align: right;\n",
       "    }\n",
       "</style>\n",
       "<table border=\"1\" class=\"dataframe\">\n",
       "  <thead>\n",
       "    <tr style=\"text-align: right;\">\n",
       "      <th></th>\n",
       "      <th>title</th>\n",
       "      <th>text</th>\n",
       "      <th>subject</th>\n",
       "      <th>date</th>\n",
       "    </tr>\n",
       "  </thead>\n",
       "  <tbody>\n",
       "    <tr>\n",
       "      <th>0</th>\n",
       "      <td>As U.S. budget fight looms, Republicans flip t...</td>\n",
       "      <td>WASHINGTON (Reuters) - The head of a conservat...</td>\n",
       "      <td>politicsNews</td>\n",
       "      <td>December 31, 2017</td>\n",
       "    </tr>\n",
       "    <tr>\n",
       "      <th>1</th>\n",
       "      <td>U.S. military to accept transgender recruits o...</td>\n",
       "      <td>WASHINGTON (Reuters) - Transgender people will...</td>\n",
       "      <td>politicsNews</td>\n",
       "      <td>December 29, 2017</td>\n",
       "    </tr>\n",
       "    <tr>\n",
       "      <th>2</th>\n",
       "      <td>Senior U.S. Republican senator: 'Let Mr. Muell...</td>\n",
       "      <td>WASHINGTON (Reuters) - The special counsel inv...</td>\n",
       "      <td>politicsNews</td>\n",
       "      <td>December 31, 2017</td>\n",
       "    </tr>\n",
       "    <tr>\n",
       "      <th>3</th>\n",
       "      <td>FBI Russia probe helped by Australian diplomat...</td>\n",
       "      <td>WASHINGTON (Reuters) - Trump campaign adviser ...</td>\n",
       "      <td>politicsNews</td>\n",
       "      <td>December 30, 2017</td>\n",
       "    </tr>\n",
       "    <tr>\n",
       "      <th>4</th>\n",
       "      <td>Trump wants Postal Service to charge 'much mor...</td>\n",
       "      <td>SEATTLE/WASHINGTON (Reuters) - President Donal...</td>\n",
       "      <td>politicsNews</td>\n",
       "      <td>December 29, 2017</td>\n",
       "    </tr>\n",
       "    <tr>\n",
       "      <th>5</th>\n",
       "      <td>White House, Congress prepare for talks on spe...</td>\n",
       "      <td>WEST PALM BEACH, Fla./WASHINGTON (Reuters) - T...</td>\n",
       "      <td>politicsNews</td>\n",
       "      <td>December 29, 2017</td>\n",
       "    </tr>\n",
       "  </tbody>\n",
       "</table>\n",
       "</div>"
      ],
      "text/plain": [
       "                                               title  \\\n",
       "0  As U.S. budget fight looms, Republicans flip t...   \n",
       "1  U.S. military to accept transgender recruits o...   \n",
       "2  Senior U.S. Republican senator: 'Let Mr. Muell...   \n",
       "3  FBI Russia probe helped by Australian diplomat...   \n",
       "4  Trump wants Postal Service to charge 'much mor...   \n",
       "5  White House, Congress prepare for talks on spe...   \n",
       "\n",
       "                                                text       subject  \\\n",
       "0  WASHINGTON (Reuters) - The head of a conservat...  politicsNews   \n",
       "1  WASHINGTON (Reuters) - Transgender people will...  politicsNews   \n",
       "2  WASHINGTON (Reuters) - The special counsel inv...  politicsNews   \n",
       "3  WASHINGTON (Reuters) - Trump campaign adviser ...  politicsNews   \n",
       "4  SEATTLE/WASHINGTON (Reuters) - President Donal...  politicsNews   \n",
       "5  WEST PALM BEACH, Fla./WASHINGTON (Reuters) - T...  politicsNews   \n",
       "\n",
       "                 date  \n",
       "0  December 31, 2017   \n",
       "1  December 29, 2017   \n",
       "2  December 31, 2017   \n",
       "3  December 30, 2017   \n",
       "4  December 29, 2017   \n",
       "5  December 29, 2017   "
      ]
     },
     "execution_count": 13,
     "metadata": {},
     "output_type": "execute_result"
    }
   ],
   "source": [
    "real_df1.head(6)"
   ]
  },
  {
   "cell_type": "code",
   "execution_count": 14,
   "id": "880e4326",
   "metadata": {},
   "outputs": [
    {
     "data": {
      "text/html": [
       "<div>\n",
       "<style scoped>\n",
       "    .dataframe tbody tr th:only-of-type {\n",
       "        vertical-align: middle;\n",
       "    }\n",
       "\n",
       "    .dataframe tbody tr th {\n",
       "        vertical-align: top;\n",
       "    }\n",
       "\n",
       "    .dataframe thead th {\n",
       "        text-align: right;\n",
       "    }\n",
       "</style>\n",
       "<table border=\"1\" class=\"dataframe\">\n",
       "  <thead>\n",
       "    <tr style=\"text-align: right;\">\n",
       "      <th></th>\n",
       "      <th>title</th>\n",
       "      <th>text</th>\n",
       "      <th>subject</th>\n",
       "      <th>date</th>\n",
       "    </tr>\n",
       "  </thead>\n",
       "  <tbody>\n",
       "    <tr>\n",
       "      <th>count</th>\n",
       "      <td>21417</td>\n",
       "      <td>21417</td>\n",
       "      <td>21417</td>\n",
       "      <td>21417</td>\n",
       "    </tr>\n",
       "    <tr>\n",
       "      <th>unique</th>\n",
       "      <td>20825</td>\n",
       "      <td>21192</td>\n",
       "      <td>2</td>\n",
       "      <td>716</td>\n",
       "    </tr>\n",
       "    <tr>\n",
       "      <th>top</th>\n",
       "      <td>Factbox: Trump fills top jobs for his administ...</td>\n",
       "      <td>(Reuters) - Highlights for U.S. President Dona...</td>\n",
       "      <td>politicsNews</td>\n",
       "      <td>December 20, 2017</td>\n",
       "    </tr>\n",
       "    <tr>\n",
       "      <th>freq</th>\n",
       "      <td>14</td>\n",
       "      <td>8</td>\n",
       "      <td>11272</td>\n",
       "      <td>182</td>\n",
       "    </tr>\n",
       "  </tbody>\n",
       "</table>\n",
       "</div>"
      ],
      "text/plain": [
       "                                                    title  \\\n",
       "count                                               21417   \n",
       "unique                                              20825   \n",
       "top     Factbox: Trump fills top jobs for his administ...   \n",
       "freq                                                   14   \n",
       "\n",
       "                                                     text       subject  \\\n",
       "count                                               21417         21417   \n",
       "unique                                              21192             2   \n",
       "top     (Reuters) - Highlights for U.S. President Dona...  politicsNews   \n",
       "freq                                                    8         11272   \n",
       "\n",
       "                      date  \n",
       "count                21417  \n",
       "unique                 716  \n",
       "top     December 20, 2017   \n",
       "freq                   182  "
      ]
     },
     "execution_count": 14,
     "metadata": {},
     "output_type": "execute_result"
    }
   ],
   "source": [
    "real_df1.describe()"
   ]
  },
  {
   "cell_type": "code",
   "execution_count": 15,
   "id": "9111151f",
   "metadata": {},
   "outputs": [
    {
     "data": {
      "text/plain": [
       "(21417, 4)"
      ]
     },
     "execution_count": 15,
     "metadata": {},
     "output_type": "execute_result"
    }
   ],
   "source": [
    "real_df1.shape"
   ]
  },
  {
   "cell_type": "code",
   "execution_count": 16,
   "id": "ef1bf211",
   "metadata": {},
   "outputs": [
    {
     "name": "stdout",
     "output_type": "stream",
     "text": [
      "<class 'pandas.core.frame.DataFrame'>\n",
      "RangeIndex: 21417 entries, 0 to 21416\n",
      "Data columns (total 4 columns):\n",
      " #   Column   Non-Null Count  Dtype \n",
      "---  ------   --------------  ----- \n",
      " 0   title    21417 non-null  object\n",
      " 1   text     21417 non-null  object\n",
      " 2   subject  21417 non-null  object\n",
      " 3   date     21417 non-null  object\n",
      "dtypes: object(4)\n",
      "memory usage: 669.4+ KB\n"
     ]
    }
   ],
   "source": [
    "real_df1.info()"
   ]
  },
  {
   "cell_type": "code",
   "execution_count": 17,
   "id": "91141cb2",
   "metadata": {},
   "outputs": [
    {
     "data": {
      "text/plain": [
       "title      0\n",
       "text       0\n",
       "subject    0\n",
       "date       0\n",
       "dtype: int64"
      ]
     },
     "execution_count": 17,
     "metadata": {},
     "output_type": "execute_result"
    }
   ],
   "source": [
    "real_df1.isnull().sum()"
   ]
  },
  {
   "cell_type": "markdown",
   "id": "ff72d9a2",
   "metadata": {},
   "source": [
    "#### Let's Find and remove duplicates in Real DF"
   ]
  },
  {
   "cell_type": "code",
   "execution_count": 18,
   "id": "017d8f62",
   "metadata": {},
   "outputs": [
    {
     "name": "stdout",
     "output_type": "stream",
     "text": [
      "\u001b[1m\u001b[34mFound 225 duplicate in 21417 samples\u001b[0m\n"
     ]
    }
   ],
   "source": [
    "duplicate = real_df1['text'][real_df1['text'].duplicated()].index\n",
    "result = f\"Found {len(duplicate)} duplicate in {real_df1.shape[0]} samples\"\n",
    "print(colored(result, 'blue', attrs=['bold']))"
   ]
  },
  {
   "cell_type": "markdown",
   "id": "fed86e74",
   "metadata": {},
   "source": [
    "####  <span style=\"color:red\">Added changes</span> in next cell"
   ]
  },
  {
   "cell_type": "code",
   "execution_count": 19,
   "id": "c71dcbc5",
   "metadata": {},
   "outputs": [
    {
     "data": {
      "text/plain": [
       "(21192, 4)"
      ]
     },
     "execution_count": 19,
     "metadata": {},
     "output_type": "execute_result"
    }
   ],
   "source": [
    "real_df1.drop(index=duplicate, inplace=True)\n",
    "\n",
    "# Added\n",
    "real_df1.shape\n",
    "\n",
    "# Removed\n",
    "# print(real_df1.shape, '\\n')\n",
    "# real_df1.sample()"
   ]
  },
  {
   "cell_type": "code",
   "execution_count": 20,
   "id": "3ed7cdde",
   "metadata": {},
   "outputs": [
    {
     "data": {
      "text/plain": [
       "politicsNews    11214\n",
       "worldnews        9978\n",
       "Name: subject, dtype: int64"
      ]
     },
     "execution_count": 20,
     "metadata": {},
     "output_type": "execute_result"
    }
   ],
   "source": [
    "real_df1['subject'].value_counts()"
   ]
  },
  {
   "cell_type": "markdown",
   "id": "901bfe07",
   "metadata": {},
   "source": [
    "### Let's add 'true' label for easier reference where Fake = 0, Real = 1"
   ]
  },
  {
   "cell_type": "code",
   "execution_count": 21,
   "id": "04905528",
   "metadata": {},
   "outputs": [
    {
     "name": "stdout",
     "output_type": "stream",
     "text": [
      "(17453, 5)\n",
      "(21192, 5)\n"
     ]
    }
   ],
   "source": [
    "# label the diff df for easier ref\n",
    "\n",
    "fake_df1['true'] = 0\n",
    "real_df1['true'] = 1\n",
    "\n",
    "# print new shape \n",
    "print(fake_df1.shape)\n",
    "print(real_df1.shape)"
   ]
  },
  {
   "cell_type": "code",
   "execution_count": 22,
   "id": "854140f3",
   "metadata": {},
   "outputs": [
    {
     "data": {
      "text/plain": [
       "<bound method NDFrame.describe of                                                    title  \\\n",
       "0      As U.S. budget fight looms, Republicans flip t...   \n",
       "1      U.S. military to accept transgender recruits o...   \n",
       "2      Senior U.S. Republican senator: 'Let Mr. Muell...   \n",
       "3      FBI Russia probe helped by Australian diplomat...   \n",
       "4      Trump wants Postal Service to charge 'much mor...   \n",
       "...                                                  ...   \n",
       "21412  'Fully committed' NATO backs new U.S. approach...   \n",
       "21413  LexisNexis withdrew two products from Chinese ...   \n",
       "21414  Minsk cultural hub becomes haven from authorities   \n",
       "21415  Vatican upbeat on possibility of Pope Francis ...   \n",
       "21416  Indonesia to buy $1.14 billion worth of Russia...   \n",
       "\n",
       "                                                    text       subject  \\\n",
       "0      WASHINGTON (Reuters) - The head of a conservat...  politicsNews   \n",
       "1      WASHINGTON (Reuters) - Transgender people will...  politicsNews   \n",
       "2      WASHINGTON (Reuters) - The special counsel inv...  politicsNews   \n",
       "3      WASHINGTON (Reuters) - Trump campaign adviser ...  politicsNews   \n",
       "4      SEATTLE/WASHINGTON (Reuters) - President Donal...  politicsNews   \n",
       "...                                                  ...           ...   \n",
       "21412  BRUSSELS (Reuters) - NATO allies on Tuesday we...     worldnews   \n",
       "21413  LONDON (Reuters) - LexisNexis, a provider of l...     worldnews   \n",
       "21414  MINSK (Reuters) - In the shadow of disused Sov...     worldnews   \n",
       "21415  MOSCOW (Reuters) - Vatican Secretary of State ...     worldnews   \n",
       "21416  JAKARTA (Reuters) - Indonesia will buy 11 Sukh...     worldnews   \n",
       "\n",
       "                     date  true  \n",
       "0      December 31, 2017      1  \n",
       "1      December 29, 2017      1  \n",
       "2      December 31, 2017      1  \n",
       "3      December 30, 2017      1  \n",
       "4      December 29, 2017      1  \n",
       "...                   ...   ...  \n",
       "21412    August 22, 2017      1  \n",
       "21413    August 22, 2017      1  \n",
       "21414    August 22, 2017      1  \n",
       "21415    August 22, 2017      1  \n",
       "21416    August 22, 2017      1  \n",
       "\n",
       "[21192 rows x 5 columns]>"
      ]
     },
     "execution_count": 22,
     "metadata": {},
     "output_type": "execute_result"
    }
   ],
   "source": [
    "# just to see \n",
    "\n",
    "real_df1.describe"
   ]
  },
  {
   "cell_type": "code",
   "execution_count": 23,
   "id": "9b8bf111",
   "metadata": {},
   "outputs": [
    {
     "data": {
      "text/html": [
       "<div>\n",
       "<style scoped>\n",
       "    .dataframe tbody tr th:only-of-type {\n",
       "        vertical-align: middle;\n",
       "    }\n",
       "\n",
       "    .dataframe tbody tr th {\n",
       "        vertical-align: top;\n",
       "    }\n",
       "\n",
       "    .dataframe thead th {\n",
       "        text-align: right;\n",
       "    }\n",
       "</style>\n",
       "<table border=\"1\" class=\"dataframe\">\n",
       "  <thead>\n",
       "    <tr style=\"text-align: right;\">\n",
       "      <th></th>\n",
       "      <th>title</th>\n",
       "      <th>text</th>\n",
       "      <th>subject</th>\n",
       "      <th>date</th>\n",
       "      <th>true</th>\n",
       "    </tr>\n",
       "  </thead>\n",
       "  <tbody>\n",
       "    <tr>\n",
       "      <th>0</th>\n",
       "      <td>Donald Trump Sends Out Embarrassing New Year’s...</td>\n",
       "      <td>Donald Trump just couldn t wish all Americans ...</td>\n",
       "      <td>News</td>\n",
       "      <td>December 31, 2017</td>\n",
       "      <td>0</td>\n",
       "    </tr>\n",
       "    <tr>\n",
       "      <th>1</th>\n",
       "      <td>Drunk Bragging Trump Staffer Started Russian C...</td>\n",
       "      <td>House Intelligence Committee Chairman Devin Nu...</td>\n",
       "      <td>News</td>\n",
       "      <td>December 31, 2017</td>\n",
       "      <td>0</td>\n",
       "    </tr>\n",
       "    <tr>\n",
       "      <th>2</th>\n",
       "      <td>Sheriff David Clarke Becomes An Internet Joke ...</td>\n",
       "      <td>On Friday, it was revealed that former Milwauk...</td>\n",
       "      <td>News</td>\n",
       "      <td>December 30, 2017</td>\n",
       "      <td>0</td>\n",
       "    </tr>\n",
       "    <tr>\n",
       "      <th>3</th>\n",
       "      <td>Trump Is So Obsessed He Even Has Obama’s Name ...</td>\n",
       "      <td>On Christmas day, Donald Trump announced that ...</td>\n",
       "      <td>News</td>\n",
       "      <td>December 29, 2017</td>\n",
       "      <td>0</td>\n",
       "    </tr>\n",
       "    <tr>\n",
       "      <th>4</th>\n",
       "      <td>Pope Francis Just Called Out Donald Trump Duri...</td>\n",
       "      <td>Pope Francis used his annual Christmas Day mes...</td>\n",
       "      <td>News</td>\n",
       "      <td>December 25, 2017</td>\n",
       "      <td>0</td>\n",
       "    </tr>\n",
       "    <tr>\n",
       "      <th>...</th>\n",
       "      <td>...</td>\n",
       "      <td>...</td>\n",
       "      <td>...</td>\n",
       "      <td>...</td>\n",
       "      <td>...</td>\n",
       "    </tr>\n",
       "    <tr>\n",
       "      <th>38640</th>\n",
       "      <td>'Fully committed' NATO backs new U.S. approach...</td>\n",
       "      <td>BRUSSELS (Reuters) - NATO allies on Tuesday we...</td>\n",
       "      <td>worldnews</td>\n",
       "      <td>August 22, 2017</td>\n",
       "      <td>1</td>\n",
       "    </tr>\n",
       "    <tr>\n",
       "      <th>38641</th>\n",
       "      <td>LexisNexis withdrew two products from Chinese ...</td>\n",
       "      <td>LONDON (Reuters) - LexisNexis, a provider of l...</td>\n",
       "      <td>worldnews</td>\n",
       "      <td>August 22, 2017</td>\n",
       "      <td>1</td>\n",
       "    </tr>\n",
       "    <tr>\n",
       "      <th>38642</th>\n",
       "      <td>Minsk cultural hub becomes haven from authorities</td>\n",
       "      <td>MINSK (Reuters) - In the shadow of disused Sov...</td>\n",
       "      <td>worldnews</td>\n",
       "      <td>August 22, 2017</td>\n",
       "      <td>1</td>\n",
       "    </tr>\n",
       "    <tr>\n",
       "      <th>38643</th>\n",
       "      <td>Vatican upbeat on possibility of Pope Francis ...</td>\n",
       "      <td>MOSCOW (Reuters) - Vatican Secretary of State ...</td>\n",
       "      <td>worldnews</td>\n",
       "      <td>August 22, 2017</td>\n",
       "      <td>1</td>\n",
       "    </tr>\n",
       "    <tr>\n",
       "      <th>38644</th>\n",
       "      <td>Indonesia to buy $1.14 billion worth of Russia...</td>\n",
       "      <td>JAKARTA (Reuters) - Indonesia will buy 11 Sukh...</td>\n",
       "      <td>worldnews</td>\n",
       "      <td>August 22, 2017</td>\n",
       "      <td>1</td>\n",
       "    </tr>\n",
       "  </tbody>\n",
       "</table>\n",
       "<p>38645 rows × 5 columns</p>\n",
       "</div>"
      ],
      "text/plain": [
       "                                                   title  \\\n",
       "0      Donald Trump Sends Out Embarrassing New Year’s...   \n",
       "1      Drunk Bragging Trump Staffer Started Russian C...   \n",
       "2      Sheriff David Clarke Becomes An Internet Joke ...   \n",
       "3      Trump Is So Obsessed He Even Has Obama’s Name ...   \n",
       "4      Pope Francis Just Called Out Donald Trump Duri...   \n",
       "...                                                  ...   \n",
       "38640  'Fully committed' NATO backs new U.S. approach...   \n",
       "38641  LexisNexis withdrew two products from Chinese ...   \n",
       "38642  Minsk cultural hub becomes haven from authorities   \n",
       "38643  Vatican upbeat on possibility of Pope Francis ...   \n",
       "38644  Indonesia to buy $1.14 billion worth of Russia...   \n",
       "\n",
       "                                                    text    subject  \\\n",
       "0      Donald Trump just couldn t wish all Americans ...       News   \n",
       "1      House Intelligence Committee Chairman Devin Nu...       News   \n",
       "2      On Friday, it was revealed that former Milwauk...       News   \n",
       "3      On Christmas day, Donald Trump announced that ...       News   \n",
       "4      Pope Francis used his annual Christmas Day mes...       News   \n",
       "...                                                  ...        ...   \n",
       "38640  BRUSSELS (Reuters) - NATO allies on Tuesday we...  worldnews   \n",
       "38641  LONDON (Reuters) - LexisNexis, a provider of l...  worldnews   \n",
       "38642  MINSK (Reuters) - In the shadow of disused Sov...  worldnews   \n",
       "38643  MOSCOW (Reuters) - Vatican Secretary of State ...  worldnews   \n",
       "38644  JAKARTA (Reuters) - Indonesia will buy 11 Sukh...  worldnews   \n",
       "\n",
       "                    date  true  \n",
       "0      December 31, 2017     0  \n",
       "1      December 31, 2017     0  \n",
       "2      December 30, 2017     0  \n",
       "3      December 29, 2017     0  \n",
       "4      December 25, 2017     0  \n",
       "...                  ...   ...  \n",
       "38640   August 22, 2017      1  \n",
       "38641   August 22, 2017      1  \n",
       "38642   August 22, 2017      1  \n",
       "38643   August 22, 2017      1  \n",
       "38644   August 22, 2017      1  \n",
       "\n",
       "[38645 rows x 5 columns]"
      ]
     },
     "execution_count": 23,
     "metadata": {},
     "output_type": "execute_result"
    }
   ],
   "source": [
    "# concat the two datasets  \n",
    "\n",
    "raw_df = pd.concat([fake_df1, real_df1], ignore_index = True)\n",
    "raw_df"
   ]
  },
  {
   "cell_type": "code",
   "execution_count": 24,
   "id": "3eebeb4f",
   "metadata": {},
   "outputs": [
    {
     "name": "stdout",
     "output_type": "stream",
     "text": [
      "<class 'pandas.core.frame.DataFrame'>\n",
      "RangeIndex: 38645 entries, 0 to 38644\n",
      "Data columns (total 5 columns):\n",
      " #   Column   Non-Null Count  Dtype \n",
      "---  ------   --------------  ----- \n",
      " 0   title    38645 non-null  object\n",
      " 1   text     38645 non-null  object\n",
      " 2   subject  38645 non-null  object\n",
      " 3   date     38645 non-null  object\n",
      " 4   true     38645 non-null  int64 \n",
      "dtypes: int64(1), object(4)\n",
      "memory usage: 1.5+ MB\n"
     ]
    }
   ],
   "source": [
    "raw_df.info()"
   ]
  },
  {
   "cell_type": "code",
   "execution_count": 25,
   "id": "9775e47e",
   "metadata": {},
   "outputs": [
    {
     "data": {
      "text/plain": [
       "1    21192\n",
       "0    17453\n",
       "Name: true, dtype: int64"
      ]
     },
     "execution_count": 25,
     "metadata": {},
     "output_type": "execute_result"
    }
   ],
   "source": [
    "# How many are real, and how many are fake? \n",
    "\n",
    "raw_df.true.value_counts()"
   ]
  },
  {
   "cell_type": "markdown",
   "id": "740bf397",
   "metadata": {},
   "source": [
    "####  <span style=\"color:red\">Added changes</span> in next 2 cells"
   ]
  },
  {
   "cell_type": "code",
   "execution_count": 26,
   "id": "8c78a92c",
   "metadata": {},
   "outputs": [],
   "source": [
    "# fake = raw_df[raw_df['true']==0].shape[0]\n",
    "# real = raw_df[raw_df['true']==1].shape[0]\n",
    "# fake, real"
   ]
  },
  {
   "cell_type": "code",
   "execution_count": 27,
   "id": "7c23b2f6",
   "metadata": {},
   "outputs": [],
   "source": [
    "# # alternative way of counting by subject\n",
    "\n",
    "# for key, count in raw_df['subject'].value_counts().iteritems():\n",
    "#     print(f\"{key}:\\t{count}\")"
   ]
  },
  {
   "cell_type": "markdown",
   "id": "3ebacbc2",
   "metadata": {},
   "source": [
    "### Let's visualise raw_df before any cleaning to allow comparison "
   ]
  },
  {
   "cell_type": "code",
   "execution_count": 28,
   "id": "55f4b462",
   "metadata": {
    "scrolled": false
   },
   "outputs": [
    {
     "data": {
      "image/png": "[encoded data removed]",
      "text/plain": [
       "<Figure size 720x432 with 1 Axes>"
      ]
     },
     "metadata": {
      "needs_background": "light"
     },
     "output_type": "display_data"
    }
   ],
   "source": [
    "# spread of information sources/ subjects in raw df \n",
    "\n",
    "plt.figure(figsize=(10,6))\n",
    "sns.countplot('subject', data = raw_df)\n",
    "plt.show()"
   ]
  },
  {
   "cell_type": "markdown",
   "id": "e89d9cc7",
   "metadata": {},
   "source": [
    "####  <span style=\"color:red\">Added changes</span> in next cell"
   ]
  },
  {
   "cell_type": "code",
   "execution_count": 29,
   "id": "9f88fed5",
   "metadata": {},
   "outputs": [
    {
     "data": {
      "text/plain": [
       "subject\n",
       "Government News      514\n",
       "News                9050\n",
       "US_News              783\n",
       "left-news            683\n",
       "politics            6423\n",
       "politicsNews       11214\n",
       "worldnews           9978\n",
       "Name: true, dtype: int64"
      ]
     },
     "execution_count": 29,
     "metadata": {},
     "output_type": "execute_result"
    }
   ],
   "source": [
    "# number of samples grouped by subject\n",
    "raw_df.groupby('subject')['true'].count()"
   ]
  },
  {
   "cell_type": "markdown",
   "id": "5da4d643",
   "metadata": {},
   "source": [
    "####  <span style=\"color:red\">Added changes</span> in next 2 cells"
   ]
  },
  {
   "cell_type": "code",
   "execution_count": 30,
   "id": "424bb630",
   "metadata": {},
   "outputs": [
    {
     "data": {
      "text/plain": [
       "<matplotlib.legend.Legend at 0x1b1391c95e0>"
      ]
     },
     "execution_count": 30,
     "metadata": {},
     "output_type": "execute_result"
    },
    {
     "data": {
      "image/png": "[encoded data removed]",
      "text/plain": [
       "<Figure size 432x288 with 1 Axes>"
      ]
     },
     "metadata": {
      "needs_background": "light"
     },
     "output_type": "display_data"
    }
   ],
   "source": [
    "# plot the grouped with seaborn and matplotlib\n",
    "sns.histplot(raw_df, y='subject', hue ='true', \n",
    "             stat = 'percent', multiple = 'stack',\n",
    "             palette = 'coolwarm')\n",
    "plt.ylabel('Subject of News Source')\n",
    "plt.title('Breakdown of Fake Vs Real News in Dataset')\n",
    "plt.legend(title='News', loc='upper right', labels = ['Real', 'Fake'])"
   ]
  },
  {
   "cell_type": "markdown",
   "id": "713fb546",
   "metadata": {},
   "source": [
    "#### Let's change politicsNews to politics, News to worldnews and plot again\n",
    "#### This allows easier comparison of news subject for fake and real news "
   ]
  },
  {
   "cell_type": "markdown",
   "id": "487349ab",
   "metadata": {},
   "source": [
    "####  <span style=\"color:red\">Added changes</span> in next 2 cells"
   ]
  },
  {
   "cell_type": "code",
   "execution_count": 31,
   "id": "abe936d8",
   "metadata": {},
   "outputs": [
    {
     "data": {
      "text/plain": [
       "<matplotlib.legend.Legend at 0x1b1391fc8e0>"
      ]
     },
     "execution_count": 31,
     "metadata": {},
     "output_type": "execute_result"
    },
    {
     "data": {
      "image/png": "[encoded data removed]",
      "text/plain": [
       "<Figure size 432x288 with 1 Axes>"
      ]
     },
     "metadata": {
      "needs_background": "light"
     },
     "output_type": "display_data"
    }
   ],
   "source": [
    "raw_df['subject'].replace({'politicsNews':'politics', \n",
    "                           'News':'worldnews'}, inplace = True)\n",
    "\n",
    "sns.histplot(raw_df, y='subject', hue ='true', \n",
    "           stat = 'percent', multiple = 'stack',\n",
    "           palette = 'coolwarm')\n",
    "plt.ylabel('Subject of News Source')\n",
    "plt.title('Breakdown of Fake Vs Real News in Dataset')\n",
    "plt.legend(title='News', loc='lower right', labels = ['Real', 'Fake'])"
   ]
  },
  {
   "cell_type": "markdown",
   "id": "30fabb62",
   "metadata": {},
   "source": [
    "#### Let's make a word cloud of the text for quick comparison of article content before cleaning and processing. \n"
   ]
  },
  {
   "cell_type": "code",
   "execution_count": 32,
   "id": "eff7e933",
   "metadata": {},
   "outputs": [
    {
     "data": {
      "image/png": "[encoded data removed]",
      "text/plain": [
       "<Figure size 1080x432 with 2 Axes>"
      ]
     },
     "metadata": {
      "needs_background": "light"
     },
     "output_type": "display_data"
    }
   ],
   "source": [
    "fake_text = raw_df.text[raw_df['true']==0]\n",
    "real_text = raw_df.text[raw_df['true']==1]\n",
    "\n",
    "def plot_fake_vs_real(fake, real):\n",
    "    wordcloud_fake = WordCloud(width = 2000, height = 1300,\n",
    "                              background_color = 'white', \n",
    "                              stopwords = STOPWORDS).generate(str(fake))\n",
    "    wordcloud_real = WordCloud(width = 2000, height = 1300,\n",
    "                              background_color = 'white', \n",
    "                              stopwords = STOPWORDS).generate(str(real))\n",
    "    \n",
    "    # plot WordCloud img \n",
    "    plt.subplots(figsize=(15,6))\n",
    "    \n",
    "    plt.subplot(1,3,1)\n",
    "    plt.imshow(wordcloud_fake, interpolation = 'bilinear')\n",
    "    plt.axis('off')\n",
    "    plt.tight_layout(pad=0)\n",
    "    \n",
    "    plt.suptitle(\"Fake(left) vs Real(right)\", y=0.5, va='center', size = 24)\n",
    "    \n",
    "    plt.subplot(1,3,3)\n",
    "    plt.imshow(wordcloud_real, interpolation = 'bilinear')\n",
    "    plt.axis('off')\n",
    "    plt.tight_layout(pad=0)\n",
    "\n",
    "    \n",
    "plot_fake_vs_real(fake_text, real_text)\n",
    "plt.show()      "
   ]
  },
  {
   "cell_type": "markdown",
   "id": "97db1eeb",
   "metadata": {},
   "source": [
    "#### Let's add a wordcloud of title words too, to show what words are used as click / read-bait"
   ]
  },
  {
   "cell_type": "code",
   "execution_count": 33,
   "id": "f73af3ab",
   "metadata": {},
   "outputs": [
    {
     "data": {
      "image/png": "[encoded data removed]",
      "text/plain": [
       "<Figure size 1080x432 with 2 Axes>"
      ]
     },
     "metadata": {
      "needs_background": "light"
     },
     "output_type": "display_data"
    }
   ],
   "source": [
    "fake_title = raw_df.title[raw_df['true']==0]\n",
    "real_title = raw_df.title[raw_df['true']==1]\n",
    "\n",
    "plot_fake_vs_real(fake_title, real_title)\n",
    "plt.show()"
   ]
  },
  {
   "cell_type": "markdown",
   "id": "027ee0b1",
   "metadata": {},
   "source": [
    "## Data Cleaning "
   ]
  },
  {
   "cell_type": "markdown",
   "id": "9aa48d96",
   "metadata": {},
   "source": [
    "####  <span style=\"color:red\">Added changes</span> in next  cell"
   ]
  },
  {
   "cell_type": "markdown",
   "id": "a2b2ed10",
   "metadata": {},
   "source": [
    "Df needs cleaning. Ultimate Goal is:  \n",
    "* Check for null values\n",
    "* check for empty spaces \n",
    "* check for nonsense texts \n",
    "* remove urls, https, special characters, numbers \n",
    "* remove REUTERS()\n"
   ]
  },
  {
   "cell_type": "code",
   "execution_count": 34,
   "id": "9584d90b",
   "metadata": {},
   "outputs": [
    {
     "data": {
      "text/plain": [
       "(38645, 5)"
      ]
     },
     "execution_count": 34,
     "metadata": {},
     "output_type": "execute_result"
    }
   ],
   "source": [
    "# check raw_df starting point\n",
    "raw_df.shape"
   ]
  },
  {
   "cell_type": "code",
   "execution_count": 35,
   "id": "74441dca",
   "metadata": {},
   "outputs": [
    {
     "data": {
      "text/plain": [
       "title      0\n",
       "text       0\n",
       "subject    0\n",
       "date       0\n",
       "true       0\n",
       "dtype: int64"
      ]
     },
     "execution_count": 35,
     "metadata": {},
     "output_type": "execute_result"
    }
   ],
   "source": [
    "# check null values\n",
    "raw_df.isnull().sum()"
   ]
  },
  {
   "cell_type": "markdown",
   "id": "c2683d71",
   "metadata": {},
   "source": [
    "####  <span style=\"color:red\">Added changes</span> in next 3 cells"
   ]
  },
  {
   "cell_type": "code",
   "execution_count": 36,
   "id": "eaf31491",
   "metadata": {},
   "outputs": [],
   "source": [
    "# # drop missing values\n",
    "\n",
    "# raw_df = raw_df.dropna()\n",
    "# raw_df.shape\n",
    "\n",
    "# # Note, dropna() not picking up null values as still some text missing in DF. "
   ]
  },
  {
   "cell_type": "markdown",
   "id": "916bc38a",
   "metadata": {},
   "source": [
    "#### Below is initial code for removing publisher info (reuters), but since it uses '-' to seperate, it may target necessary hyphens in texts. Left out for more favourable option below "
   ]
  },
  {
   "cell_type": "code",
   "execution_count": 37,
   "id": "5931e369",
   "metadata": {},
   "outputs": [
    {
     "data": {
      "text/plain": [
       "' # Make [index] for rows that don\\'t have publication info (REUTERS)\\n# note: not all - are reuters, and may be in actual text\\n\\n\\nno_publisher = []\\nfor index, row in enumerate(raw_df.text.values):\\n    try:\\n        record = row.split(\" -\", maxsplit=1)\\n        \\n        # if no text present, this should raise error \\n        record[1]\\n        assert(len(record[0]) < 260)\\n    except:\\n        no_publisher.append(index)\\n        \\n\\n# check for the \\'clean\\' data, that doesn\\'t start with REUTERS\\n# note 23445 records\\n\\nraw_df.iloc[no_publisher].text\\n\\n\\n# create list of indexes for rows that have publication info (REUTERS)\\n# this will seperate the text from the publisher info (i.e seperate REUTERS())\\n\\npublisher = []\\npt_text=[]\\n\\nfor index, row in enumerate(raw_df.text.values):\\n    if index in no_publisher: \\n        \\n#         if no publisher mentioned, add unknown\\n        pt_text.append(row)\\n        publisher.append(\"Unknown\")\\n        continue \\n        \\n    record = row.split(\" -\", maxsplit=1)\\n    publisher.append(record[0])\\n    pt_text.append(record[1])\\n    \\n\\n# replace current text column with the new one made above \\n# add new seperate column for publisher info (i.e REUTERS())\\n\\nraw_df[\"publisher\"] = publisher \\nraw_df[\"text\"] = pt_text\\n\\ndel publisher, pt_text, record, no_publisher\\n\\n'"
      ]
     },
     "execution_count": 37,
     "metadata": {},
     "output_type": "execute_result"
    }
   ],
   "source": [
    "# Initial code for removing publisher info. \n",
    "\"\"\" # Make [index] for rows that don't have publication info (REUTERS)\n",
    "# note: not all - are reuters, and may be in actual text\n",
    "\n",
    "\n",
    "no_publisher = []\n",
    "for index, row in enumerate(raw_df.text.values):\n",
    "    try:\n",
    "        record = row.split(\" -\", maxsplit=1)\n",
    "        \n",
    "        # if no text present, this should raise error \n",
    "        record[1]\n",
    "        assert(len(record[0]) < 260)\n",
    "    except:\n",
    "        no_publisher.append(index)\n",
    "        \n",
    "\n",
    "# check for the 'clean' data, that doesn't start with REUTERS\n",
    "# note 23445 records\n",
    "\n",
    "raw_df.iloc[no_publisher].text\n",
    "\n",
    "\n",
    "# create list of indexes for rows that have publication info (REUTERS)\n",
    "# this will seperate the text from the publisher info (i.e seperate REUTERS())\n",
    "\n",
    "publisher = []\n",
    "pt_text=[]\n",
    "\n",
    "for index, row in enumerate(raw_df.text.values):\n",
    "    if index in no_publisher: \n",
    "        \n",
    "#         if no publisher mentioned, add unknown\n",
    "        pt_text.append(row)\n",
    "        publisher.append(\"Unknown\")\n",
    "        continue \n",
    "        \n",
    "    record = row.split(\" -\", maxsplit=1)\n",
    "    publisher.append(record[0])\n",
    "    pt_text.append(record[1])\n",
    "    \n",
    "\n",
    "# replace current text column with the new one made above \n",
    "# add new seperate column for publisher info (i.e REUTERS())\n",
    "\n",
    "raw_df[\"publisher\"] = publisher \n",
    "raw_df[\"text\"] = pt_text\n",
    "\n",
    "del publisher, pt_text, record, no_publisher\n",
    "\n",
    "\"\"\" "
   ]
  },
  {
   "cell_type": "code",
   "execution_count": 38,
   "id": "cf595b0a",
   "metadata": {},
   "outputs": [
    {
     "name": "stdout",
     "output_type": "stream",
     "text": [
      "\u001b[1m\u001b[34m21028 of 38645 samples have <City> (REUTERS) pattern.\u001b[0m\n"
     ]
    }
   ],
   "source": [
    "# how many have <CITY>(Reuters) pattern in text \n",
    "# pattern = 0+ uppercase letters, 0 or 1 spaces, (Reuters)\n",
    "\n",
    "pattern = r'[A-Z]* ?\\(Reuters\\)'\n",
    "\n",
    "test_df = raw_df['text'].copy().to_frame()\n",
    "test_df['patterns'] = test_df['text'].map(lambda x: len(re.findall(pattern, x)))\n",
    "\n",
    "result = f\"{test_df.groupby('patterns')['text'].count()[1]} of {raw_df.shape[0]} samples have <City> (REUTERS) pattern.\"\n",
    "print(colored(result, 'blue', attrs=['bold']))"
   ]
  },
  {
   "cell_type": "code",
   "execution_count": 39,
   "id": "a53c2e8e",
   "metadata": {},
   "outputs": [],
   "source": [
    "# remove pattern <CITY> (Reuters)\n",
    "\n",
    "raw_df['text'] = raw_df['text'].map(lambda x: re.sub(pattern, '', x))"
   ]
  },
  {
   "cell_type": "markdown",
   "id": "b9c7356e",
   "metadata": {},
   "source": [
    "####  <span style=\"color:red\">Added changes</span> in next 5 cells"
   ]
  },
  {
   "cell_type": "code",
   "execution_count": 40,
   "id": "f2c19229",
   "metadata": {},
   "outputs": [
    {
     "data": {
      "text/html": [
       "<div>\n",
       "<style scoped>\n",
       "    .dataframe tbody tr th:only-of-type {\n",
       "        vertical-align: middle;\n",
       "    }\n",
       "\n",
       "    .dataframe tbody tr th {\n",
       "        vertical-align: top;\n",
       "    }\n",
       "\n",
       "    .dataframe thead th {\n",
       "        text-align: right;\n",
       "    }\n",
       "</style>\n",
       "<table border=\"1\" class=\"dataframe\">\n",
       "  <thead>\n",
       "    <tr style=\"text-align: right;\">\n",
       "      <th></th>\n",
       "      <th>title</th>\n",
       "      <th>text</th>\n",
       "      <th>subject</th>\n",
       "      <th>date</th>\n",
       "      <th>true</th>\n",
       "    </tr>\n",
       "  </thead>\n",
       "  <tbody>\n",
       "    <tr>\n",
       "      <th>24818</th>\n",
       "      <td>Melania's Slovenian hometown eyes Trump win as...</td>\n",
       "      <td>SEVNICA, Slovenia - The small Slovenian town o...</td>\n",
       "      <td>politics</td>\n",
       "      <td>November 9, 2016</td>\n",
       "      <td>1</td>\n",
       "    </tr>\n",
       "    <tr>\n",
       "      <th>12095</th>\n",
       "      <td>DEAR DEMOCRATS AND LIBERALS…Stop Complaining A...</td>\n",
       "      <td>Ouch!</td>\n",
       "      <td>politics</td>\n",
       "      <td>Nov 21, 2016</td>\n",
       "      <td>0</td>\n",
       "    </tr>\n",
       "    <tr>\n",
       "      <th>5699</th>\n",
       "      <td>Democrats Spend Big On This Ad To Expose Trum...</td>\n",
       "      <td>The Democratic super PAC Priorities USA is spe...</td>\n",
       "      <td>worldnews</td>\n",
       "      <td>June 27, 2016</td>\n",
       "      <td>0</td>\n",
       "    </tr>\n",
       "    <tr>\n",
       "      <th>34150</th>\n",
       "      <td>France's Macron says Raqqa fall not end of bat...</td>\n",
       "      <td>- President Emmanuel Macron said on Friday th...</td>\n",
       "      <td>worldnews</td>\n",
       "      <td>October 20, 2017</td>\n",
       "      <td>1</td>\n",
       "    </tr>\n",
       "    <tr>\n",
       "      <th>18399</th>\n",
       "      <td>Allegations of Russian meddling in U.S., Europ...</td>\n",
       "      <td>- Allegations of Russian meddling in election...</td>\n",
       "      <td>politics</td>\n",
       "      <td>October 31, 2017</td>\n",
       "      <td>1</td>\n",
       "    </tr>\n",
       "    <tr>\n",
       "      <th>34969</th>\n",
       "      <td>Illinois man charged with kidnapping, death of...</td>\n",
       "      <td>- An Illinois man accused of abducting a Chin...</td>\n",
       "      <td>worldnews</td>\n",
       "      <td>October 11, 2017</td>\n",
       "      <td>1</td>\n",
       "    </tr>\n",
       "    <tr>\n",
       "      <th>32287</th>\n",
       "      <td>Israel signals free hand in Syria as U.S., Rus...</td>\n",
       "      <td>- Israel signaled on Sunday that it would kee...</td>\n",
       "      <td>worldnews</td>\n",
       "      <td>November 12, 2017</td>\n",
       "      <td>1</td>\n",
       "    </tr>\n",
       "    <tr>\n",
       "      <th>25368</th>\n",
       "      <td>Clinton says Trump may have violated U.S. law ...</td>\n",
       "      <td>- U.S. Democratic presidential nominee Hillar...</td>\n",
       "      <td>politics</td>\n",
       "      <td>September 29, 2016</td>\n",
       "      <td>1</td>\n",
       "    </tr>\n",
       "    <tr>\n",
       "      <th>2974</th>\n",
       "      <td>Trump Brags About Number Of People Coming To ...</td>\n",
       "      <td>With just three days until Inauguration Day, D...</td>\n",
       "      <td>worldnews</td>\n",
       "      <td>January 17, 2017</td>\n",
       "      <td>0</td>\n",
       "    </tr>\n",
       "    <tr>\n",
       "      <th>14408</th>\n",
       "      <td>BREAKING: VIDEO RELEASED Of Angry Leftist Mob ...</td>\n",
       "      <td>If this had been a Tea Party group attacking N...</td>\n",
       "      <td>politics</td>\n",
       "      <td>Dec 14, 2015</td>\n",
       "      <td>0</td>\n",
       "    </tr>\n",
       "  </tbody>\n",
       "</table>\n",
       "</div>"
      ],
      "text/plain": [
       "                                                   title  \\\n",
       "24818  Melania's Slovenian hometown eyes Trump win as...   \n",
       "12095  DEAR DEMOCRATS AND LIBERALS…Stop Complaining A...   \n",
       "5699    Democrats Spend Big On This Ad To Expose Trum...   \n",
       "34150  France's Macron says Raqqa fall not end of bat...   \n",
       "18399  Allegations of Russian meddling in U.S., Europ...   \n",
       "34969  Illinois man charged with kidnapping, death of...   \n",
       "32287  Israel signals free hand in Syria as U.S., Rus...   \n",
       "25368  Clinton says Trump may have violated U.S. law ...   \n",
       "2974    Trump Brags About Number Of People Coming To ...   \n",
       "14408  BREAKING: VIDEO RELEASED Of Angry Leftist Mob ...   \n",
       "\n",
       "                                                    text    subject  \\\n",
       "24818  SEVNICA, Slovenia - The small Slovenian town o...   politics   \n",
       "12095                                              Ouch!   politics   \n",
       "5699   The Democratic super PAC Priorities USA is spe...  worldnews   \n",
       "34150   - President Emmanuel Macron said on Friday th...  worldnews   \n",
       "18399   - Allegations of Russian meddling in election...   politics   \n",
       "34969   - An Illinois man accused of abducting a Chin...  worldnews   \n",
       "32287   - Israel signaled on Sunday that it would kee...  worldnews   \n",
       "25368   - U.S. Democratic presidential nominee Hillar...   politics   \n",
       "2974   With just three days until Inauguration Day, D...  worldnews   \n",
       "14408  If this had been a Tea Party group attacking N...   politics   \n",
       "\n",
       "                      date  true  \n",
       "24818    November 9, 2016      1  \n",
       "12095         Nov 21, 2016     0  \n",
       "5699         June 27, 2016     0  \n",
       "34150    October 20, 2017      1  \n",
       "18399    October 31, 2017      1  \n",
       "34969    October 11, 2017      1  \n",
       "32287   November 12, 2017      1  \n",
       "25368  September 29, 2016      1  \n",
       "2974      January 17, 2017     0  \n",
       "14408         Dec 14, 2015     0  "
      ]
     },
     "execution_count": 40,
     "metadata": {},
     "output_type": "execute_result"
    }
   ],
   "source": [
    "raw_df.sample(10)"
   ]
  },
  {
   "cell_type": "code",
   "execution_count": 41,
   "id": "d84447bd",
   "metadata": {},
   "outputs": [],
   "source": [
    "# raw_df.head(6)"
   ]
  },
  {
   "cell_type": "code",
   "execution_count": 42,
   "id": "1ebdfb51",
   "metadata": {},
   "outputs": [],
   "source": [
    "# raw_df.tail(6)"
   ]
  },
  {
   "cell_type": "code",
   "execution_count": 43,
   "id": "87c7af0b",
   "metadata": {},
   "outputs": [],
   "source": [
    "# raw_df.describe(include=[np.object])"
   ]
  },
  {
   "cell_type": "code",
   "execution_count": 44,
   "id": "cd4abe6f",
   "metadata": {},
   "outputs": [],
   "source": [
    "# raw_df.describe(include=[np.number])"
   ]
  },
  {
   "cell_type": "code",
   "execution_count": 45,
   "id": "b26a0739",
   "metadata": {},
   "outputs": [
    {
     "data": {
      "text/html": [
       "<div>\n",
       "<style scoped>\n",
       "    .dataframe tbody tr th:only-of-type {\n",
       "        vertical-align: middle;\n",
       "    }\n",
       "\n",
       "    .dataframe tbody tr th {\n",
       "        vertical-align: top;\n",
       "    }\n",
       "\n",
       "    .dataframe thead th {\n",
       "        text-align: right;\n",
       "    }\n",
       "</style>\n",
       "<table border=\"1\" class=\"dataframe\">\n",
       "  <thead>\n",
       "    <tr style=\"text-align: right;\">\n",
       "      <th></th>\n",
       "      <th>title</th>\n",
       "      <th>text</th>\n",
       "      <th>subject</th>\n",
       "      <th>date</th>\n",
       "      <th>true</th>\n",
       "    </tr>\n",
       "  </thead>\n",
       "  <tbody>\n",
       "    <tr>\n",
       "      <th>count</th>\n",
       "      <td>38645</td>\n",
       "      <td>38645</td>\n",
       "      <td>38645</td>\n",
       "      <td>38645</td>\n",
       "      <td>38645.000000</td>\n",
       "    </tr>\n",
       "    <tr>\n",
       "      <th>unique</th>\n",
       "      <td>38268</td>\n",
       "      <td>38644</td>\n",
       "      <td>5</td>\n",
       "      <td>2397</td>\n",
       "      <td>NaN</td>\n",
       "    </tr>\n",
       "    <tr>\n",
       "      <th>top</th>\n",
       "      <td>Factbox: Trump fills top jobs for his administ...</td>\n",
       "      <td></td>\n",
       "      <td>worldnews</td>\n",
       "      <td>December 6, 2017</td>\n",
       "      <td>NaN</td>\n",
       "    </tr>\n",
       "    <tr>\n",
       "      <th>freq</th>\n",
       "      <td>14</td>\n",
       "      <td>2</td>\n",
       "      <td>19028</td>\n",
       "      <td>166</td>\n",
       "      <td>NaN</td>\n",
       "    </tr>\n",
       "    <tr>\n",
       "      <th>mean</th>\n",
       "      <td>NaN</td>\n",
       "      <td>NaN</td>\n",
       "      <td>NaN</td>\n",
       "      <td>NaN</td>\n",
       "      <td>0.548376</td>\n",
       "    </tr>\n",
       "    <tr>\n",
       "      <th>std</th>\n",
       "      <td>NaN</td>\n",
       "      <td>NaN</td>\n",
       "      <td>NaN</td>\n",
       "      <td>NaN</td>\n",
       "      <td>0.497661</td>\n",
       "    </tr>\n",
       "    <tr>\n",
       "      <th>min</th>\n",
       "      <td>NaN</td>\n",
       "      <td>NaN</td>\n",
       "      <td>NaN</td>\n",
       "      <td>NaN</td>\n",
       "      <td>0.000000</td>\n",
       "    </tr>\n",
       "    <tr>\n",
       "      <th>25%</th>\n",
       "      <td>NaN</td>\n",
       "      <td>NaN</td>\n",
       "      <td>NaN</td>\n",
       "      <td>NaN</td>\n",
       "      <td>0.000000</td>\n",
       "    </tr>\n",
       "    <tr>\n",
       "      <th>50%</th>\n",
       "      <td>NaN</td>\n",
       "      <td>NaN</td>\n",
       "      <td>NaN</td>\n",
       "      <td>NaN</td>\n",
       "      <td>1.000000</td>\n",
       "    </tr>\n",
       "    <tr>\n",
       "      <th>75%</th>\n",
       "      <td>NaN</td>\n",
       "      <td>NaN</td>\n",
       "      <td>NaN</td>\n",
       "      <td>NaN</td>\n",
       "      <td>1.000000</td>\n",
       "    </tr>\n",
       "    <tr>\n",
       "      <th>max</th>\n",
       "      <td>NaN</td>\n",
       "      <td>NaN</td>\n",
       "      <td>NaN</td>\n",
       "      <td>NaN</td>\n",
       "      <td>1.000000</td>\n",
       "    </tr>\n",
       "  </tbody>\n",
       "</table>\n",
       "</div>"
      ],
      "text/plain": [
       "                                                    title   text    subject  \\\n",
       "count                                               38645  38645      38645   \n",
       "unique                                              38268  38644          5   \n",
       "top     Factbox: Trump fills top jobs for his administ...         worldnews   \n",
       "freq                                                   14      2      19028   \n",
       "mean                                                  NaN    NaN        NaN   \n",
       "std                                                   NaN    NaN        NaN   \n",
       "min                                                   NaN    NaN        NaN   \n",
       "25%                                                   NaN    NaN        NaN   \n",
       "50%                                                   NaN    NaN        NaN   \n",
       "75%                                                   NaN    NaN        NaN   \n",
       "max                                                   NaN    NaN        NaN   \n",
       "\n",
       "                     date          true  \n",
       "count               38645  38645.000000  \n",
       "unique               2397           NaN  \n",
       "top     December 6, 2017            NaN  \n",
       "freq                  166           NaN  \n",
       "mean                  NaN      0.548376  \n",
       "std                   NaN      0.497661  \n",
       "min                   NaN      0.000000  \n",
       "25%                   NaN      0.000000  \n",
       "50%                   NaN      1.000000  \n",
       "75%                   NaN      1.000000  \n",
       "max                   NaN      1.000000  "
      ]
     },
     "execution_count": 45,
     "metadata": {},
     "output_type": "execute_result"
    }
   ],
   "source": [
    "raw_df.describe(include='all')"
   ]
  },
  {
   "cell_type": "code",
   "execution_count": 46,
   "id": "4558bc8a",
   "metadata": {},
   "outputs": [
    {
     "data": {
      "text/html": [
       "<div>\n",
       "<style scoped>\n",
       "    .dataframe tbody tr th:only-of-type {\n",
       "        vertical-align: middle;\n",
       "    }\n",
       "\n",
       "    .dataframe tbody tr th {\n",
       "        vertical-align: top;\n",
       "    }\n",
       "\n",
       "    .dataframe thead th {\n",
       "        text-align: right;\n",
       "    }\n",
       "</style>\n",
       "<table border=\"1\" class=\"dataframe\">\n",
       "  <thead>\n",
       "    <tr style=\"text-align: right;\">\n",
       "      <th></th>\n",
       "      <th>title</th>\n",
       "      <th>text</th>\n",
       "      <th>subject</th>\n",
       "      <th>date</th>\n",
       "      <th>true</th>\n",
       "    </tr>\n",
       "  </thead>\n",
       "  <tbody>\n",
       "    <tr>\n",
       "      <th>10920</th>\n",
       "      <td>TAKE OUR POLL: Who Do You Think President Trum...</td>\n",
       "      <td></td>\n",
       "      <td>politics</td>\n",
       "      <td>May 10, 2017</td>\n",
       "      <td>0</td>\n",
       "    </tr>\n",
       "    <tr>\n",
       "      <th>26373</th>\n",
       "      <td>Graphic: Supreme Court roundup</td>\n",
       "      <td></td>\n",
       "      <td>politics</td>\n",
       "      <td>June 16, 2016</td>\n",
       "      <td>1</td>\n",
       "    </tr>\n",
       "  </tbody>\n",
       "</table>\n",
       "</div>"
      ],
      "text/plain": [
       "                                                   title text   subject  \\\n",
       "10920  TAKE OUR POLL: Who Do You Think President Trum...       politics   \n",
       "26373                     Graphic: Supreme Court roundup       politics   \n",
       "\n",
       "                 date  true  \n",
       "10920    May 10, 2017     0  \n",
       "26373  June 16, 2016      1  "
      ]
     },
     "execution_count": 46,
     "metadata": {},
     "output_type": "execute_result"
    }
   ],
   "source": [
    "# Check for empty rows \n",
    "\n",
    "raw_df[raw_df['text'].str.strip()=='']"
   ]
  },
  {
   "cell_type": "code",
   "execution_count": 47,
   "id": "2db72d76",
   "metadata": {},
   "outputs": [
    {
     "data": {
      "text/plain": [
       "(38643, 5)"
      ]
     },
     "execution_count": 47,
     "metadata": {},
     "output_type": "execute_result"
    }
   ],
   "source": [
    "# drop the above empty rows \n",
    "\n",
    "raw_df = raw_df[raw_df['text'].str.strip()!='']\n",
    "raw_df.shape"
   ]
  },
  {
   "cell_type": "markdown",
   "id": "91fe643b",
   "metadata": {},
   "source": [
    "####  <span style=\"color:red\">Added changes</span> in next 2 cells"
   ]
  },
  {
   "cell_type": "markdown",
   "id": "152b23a4",
   "metadata": {},
   "source": [
    "### Run below just to double check no empty once more "
   ]
  },
  {
   "cell_type": "code",
   "execution_count": 48,
   "id": "d8a7f9ec",
   "metadata": {},
   "outputs": [],
   "source": [
    "# # check for empty rows and list them\n",
    "# #  note 631 empty values \n",
    "\n",
    "# empty = [index for index, text in enumerate(raw_df.text.values) if str(text).strip()=='']\n",
    "# print(f\"Number of empty rows: {len(empty)}\")\n",
    "# raw_df.iloc[empty].tail()"
   ]
  },
  {
   "cell_type": "markdown",
   "id": "f90f0c41",
   "metadata": {},
   "source": [
    "#### Confirm dropped unecessary rows. "
   ]
  },
  {
   "cell_type": "markdown",
   "id": "700d4182",
   "metadata": {},
   "source": [
    "####  <span style=\"color:red\">Added changes</span> in next cell"
   ]
  },
  {
   "cell_type": "code",
   "execution_count": 49,
   "id": "fdc5f9a7",
   "metadata": {},
   "outputs": [
    {
     "data": {
      "text/plain": [
       "True"
      ]
     },
     "execution_count": 49,
     "metadata": {},
     "output_type": "execute_result"
    }
   ],
   "source": [
    "# text has bool true so should return false if empty \n",
    "# just another way to check for null values \n",
    "# note DF length matches above with 38644 rows\n",
    "\n",
    "all(raw_df['text'].astype(bool))"
   ]
  },
  {
   "cell_type": "markdown",
   "id": "25f1089c",
   "metadata": {},
   "source": [
    "### Expand into day, month, year"
   ]
  },
  {
   "cell_type": "code",
   "execution_count": 50,
   "id": "0eb87ed9",
   "metadata": {},
   "outputs": [
    {
     "data": {
      "text/html": [
       "<div>\n",
       "<style scoped>\n",
       "    .dataframe tbody tr th:only-of-type {\n",
       "        vertical-align: middle;\n",
       "    }\n",
       "\n",
       "    .dataframe tbody tr th {\n",
       "        vertical-align: top;\n",
       "    }\n",
       "\n",
       "    .dataframe thead th {\n",
       "        text-align: right;\n",
       "    }\n",
       "</style>\n",
       "<table border=\"1\" class=\"dataframe\">\n",
       "  <thead>\n",
       "    <tr style=\"text-align: right;\">\n",
       "      <th></th>\n",
       "      <th>title</th>\n",
       "      <th>text</th>\n",
       "      <th>subject</th>\n",
       "      <th>date</th>\n",
       "      <th>true</th>\n",
       "      <th>Date</th>\n",
       "    </tr>\n",
       "  </thead>\n",
       "  <tbody>\n",
       "    <tr>\n",
       "      <th>15031</th>\n",
       "      <td>YOU WON’T BELIEVE WHO DEFEATED A BILL IN JUNE ...</td>\n",
       "      <td>Even though he s a RINO THIS is a shocker! In ...</td>\n",
       "      <td>politics</td>\n",
       "      <td>Jul 25, 2015</td>\n",
       "      <td>0</td>\n",
       "      <td>2015-07-25</td>\n",
       "    </tr>\n",
       "    <tr>\n",
       "      <th>35456</th>\n",
       "      <td>Ready to fight again: The homeless Rohingya st...</td>\n",
       "      <td>COX S BAZAR, Bangladesh - For 28-year-old Rohi...</td>\n",
       "      <td>worldnews</td>\n",
       "      <td>October 5, 2017</td>\n",
       "      <td>1</td>\n",
       "      <td>2017-10-05</td>\n",
       "    </tr>\n",
       "    <tr>\n",
       "      <th>19680</th>\n",
       "      <td>Trump attacks Mitch McConnell for second day o...</td>\n",
       "      <td>BEDMINSTER, N.J. - President Donald Trump atta...</td>\n",
       "      <td>politics</td>\n",
       "      <td>August 10, 2017</td>\n",
       "      <td>1</td>\n",
       "      <td>2017-08-10</td>\n",
       "    </tr>\n",
       "    <tr>\n",
       "      <th>31030</th>\n",
       "      <td>Merkel presses cautious SPD over joining new G...</td>\n",
       "      <td>- Chancellor Angela Merkel piled pressure on ...</td>\n",
       "      <td>worldnews</td>\n",
       "      <td>November 27, 2017</td>\n",
       "      <td>1</td>\n",
       "      <td>2017-11-27</td>\n",
       "    </tr>\n",
       "    <tr>\n",
       "      <th>12811</th>\n",
       "      <td>HOLLYWOOD LIBS Raise Big Money For #CrookedHil...</td>\n",
       "      <td>The Democratic presidential nominee is in the...</td>\n",
       "      <td>politics</td>\n",
       "      <td>Aug 23, 2016</td>\n",
       "      <td>0</td>\n",
       "      <td>2016-08-23</td>\n",
       "    </tr>\n",
       "  </tbody>\n",
       "</table>\n",
       "</div>"
      ],
      "text/plain": [
       "                                                   title  \\\n",
       "15031  YOU WON’T BELIEVE WHO DEFEATED A BILL IN JUNE ...   \n",
       "35456  Ready to fight again: The homeless Rohingya st...   \n",
       "19680  Trump attacks Mitch McConnell for second day o...   \n",
       "31030  Merkel presses cautious SPD over joining new G...   \n",
       "12811  HOLLYWOOD LIBS Raise Big Money For #CrookedHil...   \n",
       "\n",
       "                                                    text    subject  \\\n",
       "15031  Even though he s a RINO THIS is a shocker! In ...   politics   \n",
       "35456  COX S BAZAR, Bangladesh - For 28-year-old Rohi...  worldnews   \n",
       "19680  BEDMINSTER, N.J. - President Donald Trump atta...   politics   \n",
       "31030   - Chancellor Angela Merkel piled pressure on ...  worldnews   \n",
       "12811   The Democratic presidential nominee is in the...   politics   \n",
       "\n",
       "                     date  true       Date  \n",
       "15031        Jul 25, 2015     0 2015-07-25  \n",
       "35456    October 5, 2017      1 2017-10-05  \n",
       "19680    August 10, 2017      1 2017-08-10  \n",
       "31030  November 27, 2017      1 2017-11-27  \n",
       "12811        Aug 23, 2016     0 2016-08-23  "
      ]
     },
     "execution_count": 50,
     "metadata": {},
     "output_type": "execute_result"
    }
   ],
   "source": [
    "# date -> datetime\n",
    "\n",
    "def get_day_mon_yr(date):\n",
    "    try: \n",
    "        return pd.to_datetime(date, infer_datetime_format = True)\n",
    "    except:\n",
    "        return np.nan\n",
    "    \n",
    "raw_df['Date'] = raw_df.apply(lambda row: get_day_mon_yr(row['date']), axis = 1)\n",
    "raw_df.sample(5)"
   ]
  },
  {
   "cell_type": "code",
   "execution_count": 51,
   "id": "3a343b51",
   "metadata": {},
   "outputs": [
    {
     "data": {
      "text/plain": [
       "title      0\n",
       "text       0\n",
       "subject    0\n",
       "date       0\n",
       "true       0\n",
       "Date       6\n",
       "dtype: int64"
      ]
     },
     "execution_count": 51,
     "metadata": {},
     "output_type": "execute_result"
    }
   ],
   "source": [
    "# check null values (none expected)\n",
    "\n",
    "raw_df.isnull().sum()"
   ]
  },
  {
   "cell_type": "code",
   "execution_count": 52,
   "id": "458cd3f7",
   "metadata": {},
   "outputs": [
    {
     "data": {
      "text/html": [
       "<div>\n",
       "<style scoped>\n",
       "    .dataframe tbody tr th:only-of-type {\n",
       "        vertical-align: middle;\n",
       "    }\n",
       "\n",
       "    .dataframe tbody tr th {\n",
       "        vertical-align: top;\n",
       "    }\n",
       "\n",
       "    .dataframe thead th {\n",
       "        text-align: right;\n",
       "    }\n",
       "</style>\n",
       "<table border=\"1\" class=\"dataframe\">\n",
       "  <thead>\n",
       "    <tr style=\"text-align: right;\">\n",
       "      <th></th>\n",
       "      <th>title</th>\n",
       "      <th>text</th>\n",
       "      <th>subject</th>\n",
       "      <th>date</th>\n",
       "      <th>true</th>\n",
       "      <th>Date</th>\n",
       "    </tr>\n",
       "  </thead>\n",
       "  <tbody>\n",
       "    <tr>\n",
       "      <th>9357</th>\n",
       "      <td>https://100percentfedup.com/served-roy-moore-v...</td>\n",
       "      <td>https://100percentfedup.com/served-roy-moore-v...</td>\n",
       "      <td>politics</td>\n",
       "      <td>https://100percentfedup.com/served-roy-moore-v...</td>\n",
       "      <td>0</td>\n",
       "      <td>NaT</td>\n",
       "    </tr>\n",
       "    <tr>\n",
       "      <th>15119</th>\n",
       "      <td>https://100percentfedup.com/video-hillary-aske...</td>\n",
       "      <td>https://100percentfedup.com/video-hillary-aske...</td>\n",
       "      <td>politics</td>\n",
       "      <td>https://100percentfedup.com/video-hillary-aske...</td>\n",
       "      <td>0</td>\n",
       "      <td>NaT</td>\n",
       "    </tr>\n",
       "    <tr>\n",
       "      <th>15120</th>\n",
       "      <td>https://100percentfedup.com/12-yr-old-black-co...</td>\n",
       "      <td>https://100percentfedup.com/12-yr-old-black-co...</td>\n",
       "      <td>politics</td>\n",
       "      <td>https://100percentfedup.com/12-yr-old-black-co...</td>\n",
       "      <td>0</td>\n",
       "      <td>NaT</td>\n",
       "    </tr>\n",
       "    <tr>\n",
       "      <th>15422</th>\n",
       "      <td>https://fedup.wpengine.com/wp-content/uploads/...</td>\n",
       "      <td>https://fedup.wpengine.com/wp-content/uploads/...</td>\n",
       "      <td>politics</td>\n",
       "      <td>https://fedup.wpengine.com/wp-content/uploads/...</td>\n",
       "      <td>0</td>\n",
       "      <td>NaT</td>\n",
       "    </tr>\n",
       "    <tr>\n",
       "      <th>15423</th>\n",
       "      <td>https://fedup.wpengine.com/wp-content/uploads/...</td>\n",
       "      <td>https://fedup.wpengine.com/wp-content/uploads/...</td>\n",
       "      <td>politics</td>\n",
       "      <td>https://fedup.wpengine.com/wp-content/uploads/...</td>\n",
       "      <td>0</td>\n",
       "      <td>NaT</td>\n",
       "    </tr>\n",
       "    <tr>\n",
       "      <th>16126</th>\n",
       "      <td>Homepage</td>\n",
       "      <td>[vc_row][vc_column width= 1/1 ][td_block_trend...</td>\n",
       "      <td>left-news</td>\n",
       "      <td>MSNBC HOST Rudely Assumes Steel Worker Would N...</td>\n",
       "      <td>0</td>\n",
       "      <td>NaT</td>\n",
       "    </tr>\n",
       "  </tbody>\n",
       "</table>\n",
       "</div>"
      ],
      "text/plain": [
       "                                                   title  \\\n",
       "9357   https://100percentfedup.com/served-roy-moore-v...   \n",
       "15119  https://100percentfedup.com/video-hillary-aske...   \n",
       "15120  https://100percentfedup.com/12-yr-old-black-co...   \n",
       "15422  https://fedup.wpengine.com/wp-content/uploads/...   \n",
       "15423  https://fedup.wpengine.com/wp-content/uploads/...   \n",
       "16126                                           Homepage   \n",
       "\n",
       "                                                    text    subject  \\\n",
       "9357   https://100percentfedup.com/served-roy-moore-v...   politics   \n",
       "15119  https://100percentfedup.com/video-hillary-aske...   politics   \n",
       "15120  https://100percentfedup.com/12-yr-old-black-co...   politics   \n",
       "15422  https://fedup.wpengine.com/wp-content/uploads/...   politics   \n",
       "15423  https://fedup.wpengine.com/wp-content/uploads/...   politics   \n",
       "16126  [vc_row][vc_column width= 1/1 ][td_block_trend...  left-news   \n",
       "\n",
       "                                                    date  true Date  \n",
       "9357   https://100percentfedup.com/served-roy-moore-v...     0  NaT  \n",
       "15119  https://100percentfedup.com/video-hillary-aske...     0  NaT  \n",
       "15120  https://100percentfedup.com/12-yr-old-black-co...     0  NaT  \n",
       "15422  https://fedup.wpengine.com/wp-content/uploads/...     0  NaT  \n",
       "15423  https://fedup.wpengine.com/wp-content/uploads/...     0  NaT  \n",
       "16126  MSNBC HOST Rudely Assumes Steel Worker Would N...     0  NaT  "
      ]
     },
     "execution_count": 52,
     "metadata": {},
     "output_type": "execute_result"
    }
   ],
   "source": [
    "# check where Date is NaN\n",
    "\n",
    "raw_df[raw_df['Date'].isna()]"
   ]
  },
  {
   "cell_type": "code",
   "execution_count": 53,
   "id": "42461180",
   "metadata": {},
   "outputs": [
    {
     "data": {
      "text/plain": [
       "(38643, 6)"
      ]
     },
     "execution_count": 53,
     "metadata": {},
     "output_type": "execute_result"
    }
   ],
   "source": [
    "raw_df.shape"
   ]
  },
  {
   "cell_type": "code",
   "execution_count": 54,
   "id": "eca650f1",
   "metadata": {},
   "outputs": [
    {
     "name": "stdout",
     "output_type": "stream",
     "text": [
      "(38637, 6)\n"
     ]
    },
    {
     "data": {
      "text/html": [
       "<div>\n",
       "<style scoped>\n",
       "    .dataframe tbody tr th:only-of-type {\n",
       "        vertical-align: middle;\n",
       "    }\n",
       "\n",
       "    .dataframe tbody tr th {\n",
       "        vertical-align: top;\n",
       "    }\n",
       "\n",
       "    .dataframe thead th {\n",
       "        text-align: right;\n",
       "    }\n",
       "</style>\n",
       "<table border=\"1\" class=\"dataframe\">\n",
       "  <thead>\n",
       "    <tr style=\"text-align: right;\">\n",
       "      <th></th>\n",
       "      <th>title</th>\n",
       "      <th>text</th>\n",
       "      <th>subject</th>\n",
       "      <th>date</th>\n",
       "      <th>true</th>\n",
       "      <th>Date</th>\n",
       "    </tr>\n",
       "  </thead>\n",
       "  <tbody>\n",
       "    <tr>\n",
       "      <th>13885</th>\n",
       "      <td>RUSH LIMBAUGH Warns Who The GOP Will Choose If...</td>\n",
       "      <td>Wow! Just wow!</td>\n",
       "      <td>politics</td>\n",
       "      <td>Mar 17, 2016</td>\n",
       "      <td>0</td>\n",
       "      <td>2016-03-17</td>\n",
       "    </tr>\n",
       "    <tr>\n",
       "      <th>21087</th>\n",
       "      <td>Supreme Court tosses Republican-drawn North Ca...</td>\n",
       "      <td>- The U.S. Supreme Court on Monday ruled that...</td>\n",
       "      <td>politics</td>\n",
       "      <td>May 22, 2017</td>\n",
       "      <td>1</td>\n",
       "      <td>2017-05-22</td>\n",
       "    </tr>\n",
       "    <tr>\n",
       "      <th>9116</th>\n",
       "      <td>FLASHBACK: CNN HOST Concerned Working American...</td>\n",
       "      <td>CNN s Allyson Camerota expressed her concern a...</td>\n",
       "      <td>politics</td>\n",
       "      <td>Dec 26, 2017</td>\n",
       "      <td>0</td>\n",
       "      <td>2017-12-26</td>\n",
       "    </tr>\n",
       "    <tr>\n",
       "      <th>18423</th>\n",
       "      <td>First charges filed in U.S. special counsel's ...</td>\n",
       "      <td>- A federal grand jury on Friday approved the...</td>\n",
       "      <td>politics</td>\n",
       "      <td>October 28, 2017</td>\n",
       "      <td>1</td>\n",
       "      <td>2017-10-28</td>\n",
       "    </tr>\n",
       "    <tr>\n",
       "      <th>38345</th>\n",
       "      <td>Vote ruling by chief justice surprises Kenyans...</td>\n",
       "      <td>- Kenya s Supreme Court ruling to scrap last ...</td>\n",
       "      <td>worldnews</td>\n",
       "      <td>September 3, 2017</td>\n",
       "      <td>1</td>\n",
       "      <td>2017-09-03</td>\n",
       "    </tr>\n",
       "  </tbody>\n",
       "</table>\n",
       "</div>"
      ],
      "text/plain": [
       "                                                   title  \\\n",
       "13885  RUSH LIMBAUGH Warns Who The GOP Will Choose If...   \n",
       "21087  Supreme Court tosses Republican-drawn North Ca...   \n",
       "9116   FLASHBACK: CNN HOST Concerned Working American...   \n",
       "18423  First charges filed in U.S. special counsel's ...   \n",
       "38345  Vote ruling by chief justice surprises Kenyans...   \n",
       "\n",
       "                                                    text    subject  \\\n",
       "13885                                     Wow! Just wow!   politics   \n",
       "21087   - The U.S. Supreme Court on Monday ruled that...   politics   \n",
       "9116   CNN s Allyson Camerota expressed her concern a...   politics   \n",
       "18423   - A federal grand jury on Friday approved the...   politics   \n",
       "38345   - Kenya s Supreme Court ruling to scrap last ...  worldnews   \n",
       "\n",
       "                     date  true       Date  \n",
       "13885        Mar 17, 2016     0 2016-03-17  \n",
       "21087       May 22, 2017      1 2017-05-22  \n",
       "9116         Dec 26, 2017     0 2017-12-26  \n",
       "18423   October 28, 2017      1 2017-10-28  \n",
       "38345  September 3, 2017      1 2017-09-03  "
      ]
     },
     "execution_count": 54,
     "metadata": {},
     "output_type": "execute_result"
    }
   ],
   "source": [
    "# drop the NaN values \n",
    "\n",
    "raw_df.dropna(inplace=True)\n",
    "print(raw_df.shape)\n",
    "raw_df.sample(5)"
   ]
  },
  {
   "cell_type": "markdown",
   "id": "f3e5a5a2",
   "metadata": {},
   "source": [
    "####  <span style=\"color:red\">Added changes</span> in next cell"
   ]
  },
  {
   "cell_type": "code",
   "execution_count": 55,
   "id": "3667191c",
   "metadata": {},
   "outputs": [],
   "source": [
    "# # check where date is NOT NaN\n",
    "# # note: matches df shape above \n",
    "\n",
    "# raw_df[raw_df['Date'].notna()]"
   ]
  },
  {
   "cell_type": "code",
   "execution_count": 56,
   "id": "e3d8975f",
   "metadata": {},
   "outputs": [
    {
     "data": {
      "text/html": [
       "<div>\n",
       "<style scoped>\n",
       "    .dataframe tbody tr th:only-of-type {\n",
       "        vertical-align: middle;\n",
       "    }\n",
       "\n",
       "    .dataframe tbody tr th {\n",
       "        vertical-align: top;\n",
       "    }\n",
       "\n",
       "    .dataframe thead th {\n",
       "        text-align: right;\n",
       "    }\n",
       "</style>\n",
       "<table border=\"1\" class=\"dataframe\">\n",
       "  <thead>\n",
       "    <tr style=\"text-align: right;\">\n",
       "      <th></th>\n",
       "      <th>title</th>\n",
       "      <th>text</th>\n",
       "      <th>subject</th>\n",
       "      <th>true</th>\n",
       "      <th>day</th>\n",
       "      <th>month</th>\n",
       "      <th>year</th>\n",
       "    </tr>\n",
       "  </thead>\n",
       "  <tbody>\n",
       "    <tr>\n",
       "      <th>5945</th>\n",
       "      <td>‘Racist’ And ‘Reprehensible’: How Joe Biden Ju...</td>\n",
       "      <td>Vice President Joe Biden followed up Senator E...</td>\n",
       "      <td>worldnews</td>\n",
       "      <td>0</td>\n",
       "      <td>9</td>\n",
       "      <td>6</td>\n",
       "      <td>2016</td>\n",
       "    </tr>\n",
       "    <tr>\n",
       "      <th>21268</th>\n",
       "      <td>Comey had pushed for more resources for Russia...</td>\n",
       "      <td>- FBI Director James Comey, days before Presi...</td>\n",
       "      <td>politics</td>\n",
       "      <td>1</td>\n",
       "      <td>10</td>\n",
       "      <td>5</td>\n",
       "      <td>2017</td>\n",
       "    </tr>\n",
       "    <tr>\n",
       "      <th>35168</th>\n",
       "      <td>Factbox: Japan main parties' key election pled...</td>\n",
       "      <td>- Campaigning began on Tuesday in an election...</td>\n",
       "      <td>worldnews</td>\n",
       "      <td>1</td>\n",
       "      <td>10</td>\n",
       "      <td>10</td>\n",
       "      <td>2017</td>\n",
       "    </tr>\n",
       "  </tbody>\n",
       "</table>\n",
       "</div>"
      ],
      "text/plain": [
       "                                                   title  \\\n",
       "5945   ‘Racist’ And ‘Reprehensible’: How Joe Biden Ju...   \n",
       "21268  Comey had pushed for more resources for Russia...   \n",
       "35168  Factbox: Japan main parties' key election pled...   \n",
       "\n",
       "                                                    text    subject  true  \\\n",
       "5945   Vice President Joe Biden followed up Senator E...  worldnews     0   \n",
       "21268   - FBI Director James Comey, days before Presi...   politics     1   \n",
       "35168   - Campaigning began on Tuesday in an election...  worldnews     1   \n",
       "\n",
       "       day  month  year  \n",
       "5945     9      6  2016  \n",
       "21268   10      5  2017  \n",
       "35168   10     10  2017  "
      ]
     },
     "execution_count": 56,
     "metadata": {},
     "output_type": "execute_result"
    }
   ],
   "source": [
    "# Add cols for day, month, year \n",
    "\n",
    "raw_df['day']= raw_df.apply(lambda row: row['Date'].day, axis=1)\n",
    "raw_df['month']= raw_df.apply(lambda row: row['Date'].month, axis =1)\n",
    "raw_df['year']= raw_df.apply(lambda row: row['Date'].year, axis = 1)\n",
    "\n",
    "# drop redundant date cols\n",
    "raw_df.drop(['date','Date'], axis=1, inplace=True)\n",
    "raw_df.sample(3)"
   ]
  },
  {
   "cell_type": "markdown",
   "id": "3414fc81",
   "metadata": {},
   "source": [
    "#### Let's plot the correlation between date and target "
   ]
  },
  {
   "cell_type": "code",
   "execution_count": 57,
   "id": "922c3d27",
   "metadata": {},
   "outputs": [
    {
     "data": {
      "image/png": "[encoded data removed]",
      "text/plain": [
       "<Figure size 432x288 with 2 Axes>"
      ]
     },
     "metadata": {
      "needs_background": "light"
     },
     "output_type": "display_data"
    }
   ],
   "source": [
    "sns.heatmap(raw_df[['day', 'month', 'year', 'true']].corr(), annot=True)\n",
    "sns.set(rc={'figure.figsize':(10,6)})"
   ]
  },
  {
   "cell_type": "markdown",
   "id": "cee12916",
   "metadata": {},
   "source": [
    "### Unique chars in text "
   ]
  },
  {
   "cell_type": "markdown",
   "id": "8778cc1a",
   "metadata": {},
   "source": [
    "#### Let's plot the length of unique characters in the text, and 'true-value'"
   ]
  },
  {
   "cell_type": "code",
   "execution_count": 58,
   "id": "829afe5c",
   "metadata": {},
   "outputs": [
    {
     "data": {
      "text/html": [
       "<div>\n",
       "<style scoped>\n",
       "    .dataframe tbody tr th:only-of-type {\n",
       "        vertical-align: middle;\n",
       "    }\n",
       "\n",
       "    .dataframe tbody tr th {\n",
       "        vertical-align: top;\n",
       "    }\n",
       "\n",
       "    .dataframe thead th {\n",
       "        text-align: right;\n",
       "    }\n",
       "</style>\n",
       "<table border=\"1\" class=\"dataframe\">\n",
       "  <thead>\n",
       "    <tr style=\"text-align: right;\">\n",
       "      <th></th>\n",
       "      <th>text</th>\n",
       "      <th>true</th>\n",
       "      <th>unique_char</th>\n",
       "    </tr>\n",
       "  </thead>\n",
       "  <tbody>\n",
       "    <tr>\n",
       "      <th>0</th>\n",
       "      <td>Donald Trump just couldn t wish all Americans ...</td>\n",
       "      <td>0</td>\n",
       "      <td>25</td>\n",
       "    </tr>\n",
       "    <tr>\n",
       "      <th>1</th>\n",
       "      <td>House Intelligence Committee Chairman Devin Nu...</td>\n",
       "      <td>0</td>\n",
       "      <td>24</td>\n",
       "    </tr>\n",
       "    <tr>\n",
       "      <th>2</th>\n",
       "      <td>On Friday, it was revealed that former Milwauk...</td>\n",
       "      <td>0</td>\n",
       "      <td>25</td>\n",
       "    </tr>\n",
       "    <tr>\n",
       "      <th>3</th>\n",
       "      <td>On Christmas day, Donald Trump announced that ...</td>\n",
       "      <td>0</td>\n",
       "      <td>26</td>\n",
       "    </tr>\n",
       "    <tr>\n",
       "      <th>4</th>\n",
       "      <td>Pope Francis used his annual Christmas Day mes...</td>\n",
       "      <td>0</td>\n",
       "      <td>25</td>\n",
       "    </tr>\n",
       "  </tbody>\n",
       "</table>\n",
       "</div>"
      ],
      "text/plain": [
       "                                                text  true  unique_char\n",
       "0  Donald Trump just couldn t wish all Americans ...     0           25\n",
       "1  House Intelligence Committee Chairman Devin Nu...     0           24\n",
       "2  On Friday, it was revealed that former Milwauk...     0           25\n",
       "3  On Christmas day, Donald Trump announced that ...     0           26\n",
       "4  Pope Francis used his annual Christmas Day mes...     0           25"
      ]
     },
     "execution_count": 58,
     "metadata": {},
     "output_type": "execute_result"
    }
   ],
   "source": [
    "# count unique alphabet characters in text of each article \n",
    "\n",
    "def unique_char_num(string): \n",
    "    lower_str = string.lower()\n",
    "    alpha = re.sub(r'[^a-z]','',lower_str)\n",
    "    unique_ch = set(list(alpha))\n",
    "    n_unique_ch = len(unique_ch)\n",
    "    return n_unique_ch \n",
    "\n",
    "temp_df = raw_df[['text', 'true']].copy()\n",
    "temp_df['unique_char'] = temp_df.text.map(lambda x: unique_char_num(x))\n",
    "temp_df.head()"
   ]
  },
  {
   "cell_type": "code",
   "execution_count": 59,
   "id": "5ba2e4b3",
   "metadata": {
    "scrolled": true
   },
   "outputs": [
    {
     "data": {
      "text/html": [
       "<div>\n",
       "<style scoped>\n",
       "    .dataframe tbody tr th:only-of-type {\n",
       "        vertical-align: middle;\n",
       "    }\n",
       "\n",
       "    .dataframe tbody tr th {\n",
       "        vertical-align: top;\n",
       "    }\n",
       "\n",
       "    .dataframe thead th {\n",
       "        text-align: right;\n",
       "    }\n",
       "</style>\n",
       "<table border=\"1\" class=\"dataframe\">\n",
       "  <thead>\n",
       "    <tr style=\"text-align: right;\">\n",
       "      <th></th>\n",
       "      <th>index</th>\n",
       "      <th>text</th>\n",
       "      <th>true</th>\n",
       "      <th>unique_char</th>\n",
       "      <th>text_len</th>\n",
       "    </tr>\n",
       "  </thead>\n",
       "  <tbody>\n",
       "    <tr>\n",
       "      <th>0</th>\n",
       "      <td>19325</td>\n",
       "      <td>- The workforce at the U.S. Environmental Pr...</td>\n",
       "      <td>1</td>\n",
       "      <td>26</td>\n",
       "      <td>1935</td>\n",
       "    </tr>\n",
       "    <tr>\n",
       "      <th>1</th>\n",
       "      <td>10289</td>\n",
       "      <td>Lt. Col. Tony Shaffer opened a can of worms to...</td>\n",
       "      <td>0</td>\n",
       "      <td>26</td>\n",
       "      <td>8452</td>\n",
       "    </tr>\n",
       "    <tr>\n",
       "      <th>2</th>\n",
       "      <td>10277</td>\n",
       "      <td>So what s worse, Barack Obama remaining silent...</td>\n",
       "      <td>0</td>\n",
       "      <td>26</td>\n",
       "      <td>4594</td>\n",
       "    </tr>\n",
       "    <tr>\n",
       "      <th>3</th>\n",
       "      <td>29460</td>\n",
       "      <td>- Lebanon has set a date of May 6 next year t...</td>\n",
       "      <td>1</td>\n",
       "      <td>26</td>\n",
       "      <td>2135</td>\n",
       "    </tr>\n",
       "    <tr>\n",
       "      <th>4</th>\n",
       "      <td>29459</td>\n",
       "      <td>- Australia should introduce a law forcing re...</td>\n",
       "      <td>1</td>\n",
       "      <td>26</td>\n",
       "      <td>3962</td>\n",
       "    </tr>\n",
       "    <tr>\n",
       "      <th>...</th>\n",
       "      <td>...</td>\n",
       "      <td>...</td>\n",
       "      <td>...</td>\n",
       "      <td>...</td>\n",
       "      <td>...</td>\n",
       "    </tr>\n",
       "    <tr>\n",
       "      <th>38632</th>\n",
       "      <td>11845</td>\n",
       "      <td>Via: WT</td>\n",
       "      <td>0</td>\n",
       "      <td>5</td>\n",
       "      <td>7</td>\n",
       "    </tr>\n",
       "    <tr>\n",
       "      <th>38633</th>\n",
       "      <td>11890</td>\n",
       "      <td>Enjoy</td>\n",
       "      <td>0</td>\n",
       "      <td>5</td>\n",
       "      <td>5</td>\n",
       "    </tr>\n",
       "    <tr>\n",
       "      <th>38634</th>\n",
       "      <td>12405</td>\n",
       "      <td>Via: GP</td>\n",
       "      <td>0</td>\n",
       "      <td>5</td>\n",
       "      <td>7</td>\n",
       "    </tr>\n",
       "    <tr>\n",
       "      <th>38635</th>\n",
       "      <td>11113</td>\n",
       "      <td>Enjoy:</td>\n",
       "      <td>0</td>\n",
       "      <td>5</td>\n",
       "      <td>6</td>\n",
       "    </tr>\n",
       "    <tr>\n",
       "      <th>38636</th>\n",
       "      <td>12095</td>\n",
       "      <td>Ouch!</td>\n",
       "      <td>0</td>\n",
       "      <td>4</td>\n",
       "      <td>5</td>\n",
       "    </tr>\n",
       "  </tbody>\n",
       "</table>\n",
       "<p>38637 rows × 5 columns</p>\n",
       "</div>"
      ],
      "text/plain": [
       "       index                                               text  true  \\\n",
       "0      19325    - The workforce at the U.S. Environmental Pr...     1   \n",
       "1      10289  Lt. Col. Tony Shaffer opened a can of worms to...     0   \n",
       "2      10277  So what s worse, Barack Obama remaining silent...     0   \n",
       "3      29460   - Lebanon has set a date of May 6 next year t...     1   \n",
       "4      29459   - Australia should introduce a law forcing re...     1   \n",
       "...      ...                                                ...   ...   \n",
       "38632  11845                                            Via: WT     0   \n",
       "38633  11890                                              Enjoy     0   \n",
       "38634  12405                                            Via: GP     0   \n",
       "38635  11113                                             Enjoy:     0   \n",
       "38636  12095                                              Ouch!     0   \n",
       "\n",
       "       unique_char  text_len  \n",
       "0               26      1935  \n",
       "1               26      8452  \n",
       "2               26      4594  \n",
       "3               26      2135  \n",
       "4               26      3962  \n",
       "...            ...       ...  \n",
       "38632            5         7  \n",
       "38633            5         5  \n",
       "38634            5         7  \n",
       "38635            5         6  \n",
       "38636            4         5  \n",
       "\n",
       "[38637 rows x 5 columns]"
      ]
     },
     "execution_count": 59,
     "metadata": {},
     "output_type": "execute_result"
    }
   ],
   "source": [
    "# sort into descending order by unique_char\n",
    "\n",
    "to_plot = temp_df.sort_values(by='unique_char', ascending=False).reset_index()\n",
    "\n",
    "# add text length col to DF \n",
    "to_plot['text_len']= to_plot.text.map(lambda x: len(x))\n",
    "to_plot"
   ]
  },
  {
   "cell_type": "code",
   "execution_count": 60,
   "id": "2031e0a2",
   "metadata": {},
   "outputs": [
    {
     "data": {
      "text/plain": [
       "<AxesSubplot:xlabel='text_len', ylabel='unique_char'>"
      ]
     },
     "execution_count": 60,
     "metadata": {},
     "output_type": "execute_result"
    },
    {
     "data": {
      "image/png": "[encoded data removed]",
      "text/plain": [
       "<Figure size 720x432 with 1 Axes>"
      ]
     },
     "metadata": {},
     "output_type": "display_data"
    }
   ],
   "source": [
    "sns.scatterplot(data=to_plot, x='text_len', \n",
    "                y='unique_char', hue='true')  "
   ]
  },
  {
   "cell_type": "markdown",
   "id": "e879d52e",
   "metadata": {},
   "source": [
    "####  <span style=\"color:red\">Added changes</span> in next cell"
   ]
  },
  {
   "cell_type": "code",
   "execution_count": 61,
   "id": "bab00786",
   "metadata": {},
   "outputs": [
    {
     "name": "stdout",
     "output_type": "stream",
     "text": [
      "\u001b[1m\u001b[32m277 articles used less than 20 unique characters in their text\u001b[0m\n",
      "\u001b[1m\u001b[34m284 is the longest piece of text that had less than 20 unique characters\u001b[0m\n",
      "\u001b[1m\u001b[31m2464 is the average length of the text, where the article had 20 or more unique characters\u001b[0m\n"
     ]
    }
   ],
   "source": [
    "# This took a long time to exe. will look for laternative faster code \n",
    "\n",
    "line1= f\"{to_plot[to_plot['unique_char']<20].count()[0]} articles used less than 20 unique characters in their text\"\n",
    "line2= f\"{to_plot.text_len[to_plot['unique_char']<20].max()} is the longest piece of text that had less than 20 unique characters\"\n",
    "line3= f\"{to_plot.text_len[to_plot['unique_char']>=20].mean().astype(int)} is the average length of the text, where the article had 20 or more unique characters\"\n",
    "\n",
    "print(colored(line1, 'green', attrs=['bold']))\n",
    "print(colored(line2, 'blue', attrs=['bold']))\n",
    "print(colored(line3, 'red', attrs=['bold']))"
   ]
  },
  {
   "cell_type": "code",
   "execution_count": 62,
   "id": "676b1408",
   "metadata": {},
   "outputs": [
    {
     "data": {
      "text/html": [
       "<div>\n",
       "<style scoped>\n",
       "    .dataframe tbody tr th:only-of-type {\n",
       "        vertical-align: middle;\n",
       "    }\n",
       "\n",
       "    .dataframe tbody tr th {\n",
       "        vertical-align: top;\n",
       "    }\n",
       "\n",
       "    .dataframe thead th {\n",
       "        text-align: right;\n",
       "    }\n",
       "</style>\n",
       "<table border=\"1\" class=\"dataframe\">\n",
       "  <thead>\n",
       "    <tr style=\"text-align: right;\">\n",
       "      <th></th>\n",
       "      <th>title</th>\n",
       "      <th>text</th>\n",
       "      <th>subject</th>\n",
       "      <th>true</th>\n",
       "      <th>day</th>\n",
       "      <th>month</th>\n",
       "      <th>year</th>\n",
       "    </tr>\n",
       "  </thead>\n",
       "  <tbody>\n",
       "    <tr>\n",
       "      <th>15427</th>\n",
       "      <td>EGYPTIAN COURT SENTENCES MUSLIM BROTHERHOOD LE...</td>\n",
       "      <td>But wait wasn t the Muslim Brotherhood s Arab ...</td>\n",
       "      <td>politics</td>\n",
       "      <td>0</td>\n",
       "      <td>11</td>\n",
       "      <td>4</td>\n",
       "      <td>2015</td>\n",
       "    </tr>\n",
       "    <tr>\n",
       "      <th>12666</th>\n",
       "      <td>ANTI-GUN Zealot KATIE COURIC Hit With $12 MILL...</td>\n",
       "      <td>Little Miss Sunshine  has fooled a lot of peo...</td>\n",
       "      <td>politics</td>\n",
       "      <td>0</td>\n",
       "      <td>13</td>\n",
       "      <td>9</td>\n",
       "      <td>2016</td>\n",
       "    </tr>\n",
       "    <tr>\n",
       "      <th>31502</th>\n",
       "      <td>30 people killed in attack on cattle herders i...</td>\n",
       "      <td>BAUCHI, Nigeria - Unidentified attackers kille...</td>\n",
       "      <td>worldnews</td>\n",
       "      <td>1</td>\n",
       "      <td>21</td>\n",
       "      <td>11</td>\n",
       "      <td>2017</td>\n",
       "    </tr>\n",
       "  </tbody>\n",
       "</table>\n",
       "</div>"
      ],
      "text/plain": [
       "                                                   title  \\\n",
       "15427  EGYPTIAN COURT SENTENCES MUSLIM BROTHERHOOD LE...   \n",
       "12666  ANTI-GUN Zealot KATIE COURIC Hit With $12 MILL...   \n",
       "31502  30 people killed in attack on cattle herders i...   \n",
       "\n",
       "                                                    text    subject  true  \\\n",
       "15427  But wait wasn t the Muslim Brotherhood s Arab ...   politics     0   \n",
       "12666   Little Miss Sunshine  has fooled a lot of peo...   politics     0   \n",
       "31502  BAUCHI, Nigeria - Unidentified attackers kille...  worldnews     1   \n",
       "\n",
       "       day  month  year  \n",
       "15427   11      4  2015  \n",
       "12666   13      9  2016  \n",
       "31502   21     11  2017  "
      ]
     },
     "execution_count": 62,
     "metadata": {},
     "output_type": "execute_result"
    }
   ],
   "source": [
    "raw_df.sample(3)"
   ]
  },
  {
   "cell_type": "markdown",
   "id": "2ac84a16",
   "metadata": {},
   "source": [
    "####  <span style=\"color:red\">Added changes</span> in next 2 cells"
   ]
  },
  {
   "cell_type": "markdown",
   "id": "cf40534e",
   "metadata": {},
   "source": [
    "#### Remove HTML"
   ]
  },
  {
   "cell_type": "code",
   "execution_count": null,
   "id": "1f15c300",
   "metadata": {},
   "outputs": [],
   "source": [
    "# # HTML removal \n",
    "# def remove_html(text):\n",
    "#     soup = BeautifulSoup(text, \"html.parser\")\n",
    "#     return soup.get_text()"
   ]
  },
  {
   "cell_type": "code",
   "execution_count": 63,
   "id": "de0c1733",
   "metadata": {},
   "outputs": [],
   "source": [
    "# Function to remove HTML tags\n",
    "def remove_tags(text):\n",
    "  \n",
    "    # parse html content\n",
    "    soup = BeautifulSoup(text, \"html.parser\")\n",
    "  \n",
    "    for data in soup(['style', 'script']):\n",
    "        # Remove tags\n",
    "        data.decompose()\n",
    "  \n",
    "    # return data by retrieving the tag content\n",
    "    return ' '.join(soup.stripped_strings)"
   ]
  },
  {
   "cell_type": "code",
   "execution_count": null,
   "id": "b91e8d72",
   "metadata": {},
   "outputs": [],
   "source": [
    "# # Test\n",
    "\n",
    "# test =  \"\"\"\n",
    "#           <html>\n",
    "#             <head>\n",
    "#                 <title> Geeksforgeeks </title>\n",
    "#                 <style>.call {background-color:black;} </style>\n",
    "#                 <script>getit</script>\n",
    "#             </head>\n",
    "#             <body>\n",
    "#                 is a\n",
    "#                 <div>Computer Science portal.</div>\n",
    "#             </body>\n",
    "#           </html>\n",
    "#         \"\"\"\n",
    "# print(remove_html(test))\n",
    "# print(remove_tags(test))"
   ]
  },
  {
   "cell_type": "code",
   "execution_count": 64,
   "id": "3b876160",
   "metadata": {},
   "outputs": [],
   "source": [
    "raw_df['text'] = raw_df['text'].map(lambda x: remove_tags(x))"
   ]
  },
  {
   "cell_type": "markdown",
   "id": "3b375f11",
   "metadata": {},
   "source": [
    "#### Remove all special characters and numbers, fold text to lowercase"
   ]
  },
  {
   "cell_type": "code",
   "execution_count": 65,
   "id": "8ac0b5e8",
   "metadata": {},
   "outputs": [],
   "source": [
    "# casefold\n",
    "raw_df['text'] = raw_df['text'].map(lambda x: x.casefold())"
   ]
  },
  {
   "cell_type": "code",
   "execution_count": 66,
   "id": "3b51c708",
   "metadata": {},
   "outputs": [],
   "source": [
    "def remove_punctuation_spec_char(text_):\n",
    "    punctuation = string.punctuation\n",
    "    text_ = ' '.join([word for word in text_.split() if word not in punctuation])\n",
    "    text_ = ' '.join([re.sub(r'[^a-zA-Z]','',word) for word in text_.split()])\n",
    "    return text_\n",
    "\n",
    "raw_df['text'] = raw_df['text'].map(lambda x: remove_punctuation_spec_char(x))"
   ]
  },
  {
   "cell_type": "code",
   "execution_count": 67,
   "id": "a620906b",
   "metadata": {},
   "outputs": [
    {
     "data": {
      "text/html": [
       "<div>\n",
       "<style scoped>\n",
       "    .dataframe tbody tr th:only-of-type {\n",
       "        vertical-align: middle;\n",
       "    }\n",
       "\n",
       "    .dataframe tbody tr th {\n",
       "        vertical-align: top;\n",
       "    }\n",
       "\n",
       "    .dataframe thead th {\n",
       "        text-align: right;\n",
       "    }\n",
       "</style>\n",
       "<table border=\"1\" class=\"dataframe\">\n",
       "  <thead>\n",
       "    <tr style=\"text-align: right;\">\n",
       "      <th></th>\n",
       "      <th>title</th>\n",
       "      <th>text</th>\n",
       "      <th>subject</th>\n",
       "      <th>true</th>\n",
       "      <th>day</th>\n",
       "      <th>month</th>\n",
       "      <th>year</th>\n",
       "    </tr>\n",
       "  </thead>\n",
       "  <tbody>\n",
       "    <tr>\n",
       "      <th>30875</th>\n",
       "      <td>Merkel says must stick to growth-friendly inve...</td>\n",
       "      <td>german chancellor angela merkel currently tryi...</td>\n",
       "      <td>worldnews</td>\n",
       "      <td>1</td>\n",
       "      <td>29</td>\n",
       "      <td>11</td>\n",
       "      <td>2017</td>\n",
       "    </tr>\n",
       "    <tr>\n",
       "      <th>12634</th>\n",
       "      <td>STUNNING DEVELOPMENT: OBAMA GIVES $75 MILLION ...</td>\n",
       "      <td>you have got to be kidding me after all the ti...</td>\n",
       "      <td>politics</td>\n",
       "      <td>0</td>\n",
       "      <td>17</td>\n",
       "      <td>9</td>\n",
       "      <td>2016</td>\n",
       "    </tr>\n",
       "    <tr>\n",
       "      <th>9391</th>\n",
       "      <td>NFL ON LIFE SUPPORT? Pictures Of Empty Stadium...</td>\n",
       "      <td>since the colin kaepernick and his fellow play...</td>\n",
       "      <td>politics</td>\n",
       "      <td>0</td>\n",
       "      <td>19</td>\n",
       "      <td>11</td>\n",
       "      <td>2017</td>\n",
       "    </tr>\n",
       "  </tbody>\n",
       "</table>\n",
       "</div>"
      ],
      "text/plain": [
       "                                                   title  \\\n",
       "30875  Merkel says must stick to growth-friendly inve...   \n",
       "12634  STUNNING DEVELOPMENT: OBAMA GIVES $75 MILLION ...   \n",
       "9391   NFL ON LIFE SUPPORT? Pictures Of Empty Stadium...   \n",
       "\n",
       "                                                    text    subject  true  \\\n",
       "30875  german chancellor angela merkel currently tryi...  worldnews     1   \n",
       "12634  you have got to be kidding me after all the ti...   politics     0   \n",
       "9391   since the colin kaepernick and his fellow play...   politics     0   \n",
       "\n",
       "       day  month  year  \n",
       "30875   29     11  2017  \n",
       "12634   17      9  2016  \n",
       "9391    19     11  2017  "
      ]
     },
     "execution_count": 67,
     "metadata": {},
     "output_type": "execute_result"
    }
   ],
   "source": [
    "raw_df.sample(3)"
   ]
  },
  {
   "cell_type": "markdown",
   "id": "9be1e612",
   "metadata": {},
   "source": [
    "####  <span style=\"color:red\">Added changes</span> in next 2 cells"
   ]
  },
  {
   "cell_type": "markdown",
   "id": "1d85252a",
   "metadata": {},
   "source": [
    "## Save cleaned dataframe"
   ]
  },
  {
   "cell_type": "code",
   "execution_count": 68,
   "id": "9bea519c",
   "metadata": {},
   "outputs": [],
   "source": [
    "cleaned_df = raw_df[['text', 'true']].copy()\n",
    "cleaned_df.to_csv('data/cleaned_news.csv', encoding='utf-8')"
   ]
  },
  {
   "cell_type": "markdown",
   "id": "755d14ed",
   "metadata": {},
   "source": [
    "### <span style=\"color:blue\">Stoped here and created new notebook for Preprocessing (includs removing stopwords, lemmatize (using position of speech as dop argument), vectorizing)</span>\n",
    "### <span style=\"color:blue\">And the third notebook will create for ML</span>"
   ]
  },
  {
   "cell_type": "code",
   "execution_count": null,
   "id": "3877ee90",
   "metadata": {},
   "outputs": [],
   "source": []
  },
  {
   "cell_type": "markdown",
   "id": "778ee2c5",
   "metadata": {},
   "source": [
    "## Show distribution of text count for each category as well?"
   ]
  },
  {
   "cell_type": "markdown",
   "id": "4338ba39",
   "metadata": {},
   "source": [
    "### Let's finish cleaning up the DF and Preprocessing "
   ]
  },
  {
   "cell_type": "markdown",
   "id": "fe4a2ffe",
   "metadata": {},
   "source": [
    "Delete unecessary cols - day, month, year, subject, title \n",
    "They won't be needed going forwards\n"
   ]
  },
  {
   "cell_type": "markdown",
   "id": "25a4a179",
   "metadata": {},
   "source": [
    "####  <span style=\"color:red\">Added changes</span> in next 2 cells"
   ]
  },
  {
   "cell_type": "code",
   "execution_count": null,
   "id": "c181ea66",
   "metadata": {},
   "outputs": [],
   "source": [
    "# cleaned_df.head(3)"
   ]
  },
  {
   "cell_type": "code",
   "execution_count": null,
   "id": "f1131c46",
   "metadata": {},
   "outputs": [],
   "source": [
    "# del cleaned_df['year']\n",
    "# del cleaned_df['month']\n",
    "# del cleaned_df['day']\n",
    "# del cleaned_df['subject']\n",
    "# del cleaned_df['title']\n",
    "\n",
    "\n",
    "# cleaned_df.head(10)"
   ]
  },
  {
   "cell_type": "markdown",
   "id": "3749e5e1",
   "metadata": {},
   "source": [
    "#### Let's really clean up the data\n",
    "\n",
    "* Remove punctuation\n",
    "* remove special char \n",
    "* convert upper to lower \n",
    "* remove stopwords\n",
    "* remove urls\n",
    "* Lemmatization - The stemming of words without loss of meaning to context\n"
   ]
  },
  {
   "cell_type": "markdown",
   "id": "5334826e",
   "metadata": {},
   "source": [
    "##### We'll clean the first 10 news article only for now... "
   ]
  },
  {
   "cell_type": "code",
   "execution_count": null,
   "id": "a19a8e3a",
   "metadata": {},
   "outputs": [],
   "source": [
    "text_1 = cleaned_df.text[10]\n",
    "text_1\n"
   ]
  },
  {
   "cell_type": "code",
   "execution_count": null,
   "id": "3e6cf944",
   "metadata": {},
   "outputs": [],
   "source": [
    "#  use contractions lib for context when expanding contractions (i'd -> i would)\n",
    "import contractions "
   ]
  },
  {
   "cell_type": "code",
   "execution_count": null,
   "id": "d4c3f333",
   "metadata": {
    "scrolled": true
   },
   "outputs": [],
   "source": [
    "# contractions now working after comnverting to str \n",
    "\n",
    "text_1 = ' '.join([contractions.fix(word) for word in text_1.split()])\n",
    "text_1\n",
    "\n"
   ]
  },
  {
   "cell_type": "code",
   "execution_count": null,
   "id": "23d016a2",
   "metadata": {
    "scrolled": true
   },
   "outputs": [],
   "source": [
    "#  remove stopwords \n",
    "#  is stopword library inclusive enough? \n",
    "\n",
    "\n",
    "from nltk.corpus import stopwords\n",
    "from nltk.tokenize import word_tokenize\n",
    "\n",
    "text_1 = word_tokenize(text_1) \n",
    "text_1 = [ word for word in text_1 if not word in set(stopwords.words(\"english\"))]\n"
   ]
  },
  {
   "cell_type": "code",
   "execution_count": null,
   "id": "8e3e5656",
   "metadata": {},
   "outputs": [],
   "source": [
    "text_1 = ' '.join(text_1)\n",
    "text_1"
   ]
  },
  {
   "cell_type": "code",
   "execution_count": null,
   "id": "deb398e8",
   "metadata": {},
   "outputs": [],
   "source": [
    "# Remove special characters and punctuation \n",
    "import re \n",
    "import string \n",
    "\n",
    "text_1 = re.sub('\\[[^]]*\\]', ' ', text_1)\n",
    "text_1 = re.sub('[^a-zA-Z]', ' ', text_1)\n",
    "\n",
    "#  convert from  upper to lower \n",
    "text_1 = text_1.lower()\n",
    "\n",
    "text_1"
   ]
  },
  {
   "cell_type": "code",
   "execution_count": null,
   "id": "aea960d5",
   "metadata": {},
   "outputs": [],
   "source": [
    "#  removal of HTML content\n",
    "\n",
    "from bs4 import BeautifulSoup\n",
    "\n",
    "soup = BeautifulSoup(text_1, \"html.parser\")\n",
    "text_1 = soup.get_text()\n",
    "text_1"
   ]
  },
  {
   "cell_type": "code",
   "execution_count": null,
   "id": "4456dbbf",
   "metadata": {},
   "outputs": [],
   "source": [
    "# Lemmatization \n",
    "\n",
    "from nltk.stem.wordnet import WordNetLemmatizer\n",
    "\n",
    "lemma = WordNetLemmatizer()\n",
    "text_1 = [lemma.lemmatize(word) for word in text_1.split()]\n",
    "\n",
    "text_1 = \" \".join(text_1)\n",
    "text_1"
   ]
  },
  {
   "cell_type": "markdown",
   "id": "f50a30d4",
   "metadata": {},
   "source": [
    "* perhaps remove numbers? \n",
    "* what about exclamation and question marks? \n",
    "\n",
    "### Now lets use the tested cleansing above and make functions to  cleanse all text. add a few more functions"
   ]
  },
  {
   "cell_type": "code",
   "execution_count": null,
   "id": "9df811cf",
   "metadata": {},
   "outputs": [],
   "source": [
    "# remove URL\n",
    "def remove_URL(text):\n",
    "    url = re.compile(r'https?://\\S+')\n",
    "    return url.sub(r' httpsmark ', text)\n",
    "\n",
    "# HTML removal \n",
    "def remove_html(text):\n",
    "    soup = BeautifulSoup(text, \"html.parser\")\n",
    "    return soup.get_text()\n",
    "\n",
    "\n",
    "# Remove punctuation\n",
    "def remove_punct(text):\n",
    "    return re.sub('\\[[^]]*\\]', '', text)\n",
    "\n",
    "# remove special chars\n",
    "def remove_chars(text):\n",
    "    return re.sub(\"[^a-zA-A]\", \" \", text)\n",
    "\n",
    "# remove emoji \n",
    "\"\"\" def remove_emoji(string):\n",
    "    emoji_pattern = re.compile(\"[\"\n",
    "                               u\"\\U0001F600-\\U0001F64F\"  # emoticons\n",
    "                               u\"\\U0001F300-\\U0001F5FF\"  # symbols & pictographs\n",
    "                               u\"\\U0001F680-\\U0001F6FF\"  # transport & map symbols\n",
    "                               u\"\\U0001F1E0-\\U0001F1FF\"  # flags (iOS)\n",
    "                               u\"\\U00002500-\\U00002BEF\"  # chinese char\n",
    "                               u\"\\U00002702-\\U000027B0\"\n",
    "                               u\"\\U00002702-\\U000027B0\"\n",
    "                               u\"\\U000024C2-\\U0001F251\"\n",
    "                               u\"\\U0001f926-\\U0001f937\"\n",
    "                               u\"\\U00010000-\\U0010ffff\"\n",
    "                               u\"\\u2640-\\u2642\"\n",
    "                               u\"\\u2600-\\u2B55\"\n",
    "                               u\"\\u200d\"\n",
    "                               u\"\\u23cf\"\n",
    "                               u\"\\u23e9\"\n",
    "                               u\"\\u231a\"\n",
    "                               u\"\\ufe0f\"  # dingbats\n",
    "                               u\"\\u3030\"\n",
    "                               \"]+\", flags=re.UNICODE)\n",
    "    return emoji_pattern.sub(r' emoji ', string)\n",
    "\"\"\" \n",
    "\n",
    "# remove stopwords\n",
    "def remove_stop_and_lemmat(text): \n",
    "    final_text = []\n",
    "    text = text.lower()\n",
    "    text = word_tokenize(text)\n",
    "    \n",
    "    for word in text:\n",
    "        if word not in set(stopwords.words('english')):\n",
    "            lemma = WordNetLemmatizer()\n",
    "            word = lemma.lemmatize(word)\n",
    "            final_text.append(word)\n",
    "    return \" \".join(final_text)\n",
    "\n",
    "\n",
    "# full function \n",
    "def cleanse(text):\n",
    "    text = remove_URL(text)\n",
    "    text = remove_html(text)\n",
    "    text = remove_punct(text)\n",
    "    text = remove_chars(text)\n",
    "    # text = remove_emoji(text)\n",
    "    text = remove_stop_and_lemmat(text)\n",
    "    \n"
   ]
  },
  {
   "cell_type": "code",
   "execution_count": null,
   "id": "7587b414",
   "metadata": {
    "scrolled": false
   },
   "outputs": [],
   "source": [
    "# Apply function to text col\n",
    "# Note: haven't tested this as took too long to run. Suspect it maybe remove_emoji()\n",
    "\n",
    "cleaned_df['text']=cleaned_df['text'].apply(cleanse)"
   ]
  },
  {
   "cell_type": "code",
   "execution_count": null,
   "id": "7de892ec",
   "metadata": {},
   "outputs": [],
   "source": [
    "cleaned_df.head()\n",
    "\n",
    "# current output shows before cleanse function"
   ]
  },
  {
   "cell_type": "code",
   "execution_count": null,
   "id": "cf059242",
   "metadata": {},
   "outputs": [],
   "source": [
    "cleaned_df.tail(15)\n",
    "\n",
    "#current output is before cleanse function"
   ]
  },
  {
   "cell_type": "markdown",
   "id": "5b6c2833",
   "metadata": {},
   "source": [
    "# Haven't tested any function post this due to time. will confirm function "
   ]
  },
  {
   "cell_type": "markdown",
   "id": "e13b2209",
   "metadata": {},
   "source": [
    "#### Let's make a new wordcloud using the cleaned data "
   ]
  },
  {
   "cell_type": "code",
   "execution_count": null,
   "id": "1d68c7a1",
   "metadata": {},
   "outputs": [],
   "source": [
    "# STOPWORDS =set(nltk.corpus.stopwords.words(\"english\")).generate(text)\n",
    "\n",
    "plt.figure(figsize = (10,6))\n",
    "wc = WordCloud(width = 440, \n",
    "               height = 200, \n",
    "               stopwords =set(nltk.corpus.stopwords.words(\"english\")).generate(\" \".join(cleaned_df['text']))\n",
    "plt.imshow(wc, interpolation = 'bilinear')"
   ]
  },
  {
   "cell_type": "markdown",
   "id": "51e3e4d4",
   "metadata": {},
   "source": [
    "### N-Gram Analysis\n",
    "\n",
    "#### Let's see the popular words and word combinations in the text articles \n",
    "#### N-grams are sequences of words or symbols. n = number of sequences \n",
    "#### 1 sequence = unigram. 2 sequences = bigram, 3 sequences = trigram\n",
    "#### unigram = most frequent word. bigram = most frequent pair of words... \n",
    "\n"
   ]
  },
  {
   "cell_type": "code",
   "execution_count": null,
   "id": "ba5357c3",
   "metadata": {},
   "outputs": [],
   "source": [
    "# text used is from cleaned data. \n",
    "# copy text, then declare string so we can use it in function \n",
    "\n",
    "texts = ' '.join(cleaned_df)\n",
    "string = texts.split(\" \")"
   ]
  },
  {
   "cell_type": "code",
   "execution_count": null,
   "id": "8872c1b0",
   "metadata": {},
   "outputs": [],
   "source": [
    "# string = string dtype. i = num of variables who's sequence we want\n",
    "# declare n-gram as df from nltk.ngram() and group by highest count \n",
    "# limited to 20 top results \n",
    "# rename df columns to plot diagram \n",
    "\n",
    "def draw_n-gram(string, i): \n",
    "    n_gram = (pd.Series(nltk.ngrams(string, i)).value_counts())[:20]\n",
    "    n_gram_df = pd.DataFrame(n_gram)\n",
    "    n_gram_df = n_gram_df.rest_index()\n",
    "    n_gram_df = g_gram_df.rename(columns={'index':'word',0: 'count'})\n",
    "    \n",
    "    print(n_gram_df.head())\n",
    "    \n",
    "    plt.figure(figsize(15,8))\n",
    "    return sns.barplot(x='count', y='word',\n",
    "                      data=n_gram_df, pallete='coolwarm')\n"
   ]
  },
  {
   "cell_type": "code",
   "execution_count": null,
   "id": "62b5154e",
   "metadata": {},
   "outputs": [],
   "source": [
    "# let's call the unigram analysis function we've created \n",
    "# the most popular words \n",
    "draw_n_gram(string, 1)"
   ]
  },
  {
   "cell_type": "code",
   "execution_count": null,
   "id": "46a49e39",
   "metadata": {},
   "outputs": [],
   "source": [
    "# the most common pair of words \n",
    "\n",
    "draw_n_gram(string, 2)"
   ]
  },
  {
   "cell_type": "code",
   "execution_count": null,
   "id": "b8287acc",
   "metadata": {},
   "outputs": [],
   "source": [
    "# the most common triage of words \n",
    "\n",
    "draw_n_gram(string, 3)"
   ]
  },
  {
   "cell_type": "markdown",
   "id": "d5bda447",
   "metadata": {},
   "source": [
    "#### Save cleaned DF "
   ]
  },
  {
   "cell_type": "code",
   "execution_count": null,
   "id": "57dd0502",
   "metadata": {},
   "outputs": [],
   "source": [
    "final_df = cleaned_df[['text','true']].copy()\n",
    "final_df.to_csv('fake_real_news_dataset.csv', index=False)\n",
    "final_df.head()"
   ]
  },
  {
   "cell_type": "markdown",
   "id": "f9aeadcd",
   "metadata": {},
   "source": [
    "## Group to do list:\n",
    "* Sentiment analysis (Princess & Nicola)\n",
    "* ML and Modelling (Rose, Janka & Victoria)\n",
    "* Create Presentations (Nicola) \n",
    "* Write Project Report \n"
   ]
  },
  {
   "cell_type": "code",
   "execution_count": null,
   "id": "03afd4b8",
   "metadata": {},
   "outputs": [],
   "source": []
  }
 ],
 "metadata": {
  "kernelspec": {
   "display_name": "Python 3 (ipykernel)",
   "language": "python",
   "name": "python3"
  },
  "language_info": {
   "codemirror_mode": {
    "name": "ipython",
    "version": 3
   },
   "file_extension": ".py",
   "mimetype": "text/x-python",
   "name": "python",
   "nbconvert_exporter": "python",
   "pygments_lexer": "ipython3",
   "version": "3.8.12"
  }
 },
 "nbformat": 4,
 "nbformat_minor": 5
}
