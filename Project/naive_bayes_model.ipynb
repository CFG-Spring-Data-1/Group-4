{
 "cells": [
  {
   "cell_type": "markdown",
   "id": "6d18794e",
   "metadata": {},
   "source": [
    "Count Vectorization and Naive Bayes Model\n",
    "\n",
    "Naive Bayes classifier makes decisions by comparing two probabilites(the chances of an event). In other words, in our project the model comparing the chances of being fake or real of the article. If the probability of the article being fake is higher than being real, the model will classify it to be fake.\n",
    "\n",
    "For text classification, we have to find some way to describe chunks of data that points to the labeled data as fake and real for the machine learning model. These descriptions are called as features. We will use the texts of the articles, so the feature would be described as the count of the most frequent words. \n",
    "\n",
    "The text is prepared with removal of punctuations, no whitespaces, no stopwords, no special characters and lemmatization was also performed. Then, we will use supervised machine learning model. We can train a classifier by showing it all of the features of all the words, and let it try to figure out the more meaningful differences between a fake article and a real one, by simply looking for common frequent words. \n",
    "\n",
    "We will test it out to see how accurate it is with the most common words. Then, we will check whether accuracy and learning is correct, or whether we underfitted or overfitted the model. Then, we have to make it more balanced. "
   ]
  },
  {
   "cell_type": "code",
   "execution_count": 1,
   "id": "b0ae7126",
   "metadata": {},
   "outputs": [],
   "source": [
    "import pandas as pd \n",
    "import numpy as np \n",
    "import matplotlib.pyplot as plt\n",
    "%matplotlib inline\n",
    "import seaborn as sns\n",
    "\n",
    "import random \n",
    "import re\n",
    "\n",
    "#scikit: vectorization, ML and analysis\n",
    "from sklearn.feature_extraction.text import CountVectorizer\n",
    "from sklearn.model_selection import train_test_split\n",
    "from sklearn.naive_bayes import MultinomialNB\n",
    "from sklearn.metrics import recall_score, precision_score, f1_score\n",
    "from sklearn.metrics import classification_report\n",
    "from sklearn.metrics import confusion_matrix\n",
    "from sklearn.metrics import roc_curve\n",
    "from sklearn.feature_extraction import text\n"
   ]
  },
  {
   "cell_type": "code",
   "execution_count": 2,
   "id": "039bbf53",
   "metadata": {},
   "outputs": [],
   "source": [
    "df = pd.read_csv('cleaned_news.csv')"
   ]
  },
  {
   "cell_type": "code",
   "execution_count": 3,
   "id": "beface1c",
   "metadata": {
    "scrolled": false
   },
   "outputs": [
    {
     "data": {
      "text/plain": [
       "(38590, 2)"
      ]
     },
     "execution_count": 3,
     "metadata": {},
     "output_type": "execute_result"
    }
   ],
   "source": [
    "df.shape"
   ]
  },
  {
   "cell_type": "code",
   "execution_count": 4,
   "id": "b592bc1c",
   "metadata": {},
   "outputs": [
    {
     "data": {
      "text/plain": [
       "<bound method NDFrame.describe of                                                     text  true\n",
       "0      donald trump just couldn t wish all americans ...     0\n",
       "1      house intelligence committee chairman devin nu...     0\n",
       "2      on friday it was revealed that former milwauke...     0\n",
       "3      on christmas day donald trump announced that h...     0\n",
       "4      pope francis used his annual christmas day mes...     0\n",
       "...                                                  ...   ...\n",
       "38585  nato allies on tuesday welcomed president dona...     1\n",
       "38586  lexisnexis a provider of legal regulatory and ...     1\n",
       "38587  in the shadow of disused sovietera factories i...     1\n",
       "38588  vatican secretary of state cardinal pietro par...     1\n",
       "38589  indonesia will buy  sukhoi fighter jets worth ...     1\n",
       "\n",
       "[38590 rows x 2 columns]>"
      ]
     },
     "execution_count": 4,
     "metadata": {},
     "output_type": "execute_result"
    }
   ],
   "source": [
    "df.describe"
   ]
  },
  {
   "cell_type": "code",
   "execution_count": 5,
   "id": "0d2f446b",
   "metadata": {
    "scrolled": false
   },
   "outputs": [
    {
     "data": {
      "text/html": [
       "<div>\n",
       "<style scoped>\n",
       "    .dataframe tbody tr th:only-of-type {\n",
       "        vertical-align: middle;\n",
       "    }\n",
       "\n",
       "    .dataframe tbody tr th {\n",
       "        vertical-align: top;\n",
       "    }\n",
       "\n",
       "    .dataframe thead th {\n",
       "        text-align: right;\n",
       "    }\n",
       "</style>\n",
       "<table border=\"1\" class=\"dataframe\">\n",
       "  <thead>\n",
       "    <tr style=\"text-align: right;\">\n",
       "      <th></th>\n",
       "      <th>text</th>\n",
       "      <th>true</th>\n",
       "    </tr>\n",
       "  </thead>\n",
       "  <tbody>\n",
       "    <tr>\n",
       "      <th>0</th>\n",
       "      <td>donald trump just couldn t wish all americans ...</td>\n",
       "      <td>0</td>\n",
       "    </tr>\n",
       "    <tr>\n",
       "      <th>1</th>\n",
       "      <td>house intelligence committee chairman devin nu...</td>\n",
       "      <td>0</td>\n",
       "    </tr>\n",
       "    <tr>\n",
       "      <th>2</th>\n",
       "      <td>on friday it was revealed that former milwauke...</td>\n",
       "      <td>0</td>\n",
       "    </tr>\n",
       "    <tr>\n",
       "      <th>3</th>\n",
       "      <td>on christmas day donald trump announced that h...</td>\n",
       "      <td>0</td>\n",
       "    </tr>\n",
       "    <tr>\n",
       "      <th>4</th>\n",
       "      <td>pope francis used his annual christmas day mes...</td>\n",
       "      <td>0</td>\n",
       "    </tr>\n",
       "  </tbody>\n",
       "</table>\n",
       "</div>"
      ],
      "text/plain": [
       "                                                text  true\n",
       "0  donald trump just couldn t wish all americans ...     0\n",
       "1  house intelligence committee chairman devin nu...     0\n",
       "2  on friday it was revealed that former milwauke...     0\n",
       "3  on christmas day donald trump announced that h...     0\n",
       "4  pope francis used his annual christmas day mes...     0"
      ]
     },
     "execution_count": 5,
     "metadata": {},
     "output_type": "execute_result"
    }
   ],
   "source": [
    "df.head()"
   ]
  },
  {
   "cell_type": "code",
   "execution_count": 6,
   "id": "095e783e",
   "metadata": {},
   "outputs": [],
   "source": [
    "df_x=df[\"text\"]\n",
    "df_y=df[\"true\"]"
   ]
  },
  {
   "cell_type": "code",
   "execution_count": 7,
   "id": "a8d4d45d",
   "metadata": {
    "scrolled": true
   },
   "outputs": [],
   "source": [
    "cv = CountVectorizer()"
   ]
  },
  {
   "cell_type": "code",
   "execution_count": 8,
   "id": "f44c8341",
   "metadata": {},
   "outputs": [],
   "source": [
    "#we have to convert each word of text column into binary numbers\n",
    "#we test it in small before applying solution to the whole dataset"
   ]
  },
  {
   "cell_type": "code",
   "execution_count": 9,
   "id": "27313a20",
   "metadata": {
    "scrolled": true
   },
   "outputs": [],
   "source": [
    "#splitting the test and train data first for the test\n",
    "\n",
    "x_train, x_test, y_train, y_test = train_test_split(df_x, df_y, test_size=0.2, random_state=4)"
   ]
  },
  {
   "cell_type": "code",
   "execution_count": 10,
   "id": "b63af605",
   "metadata": {},
   "outputs": [],
   "source": [
    "x_traincv = cv.fit_transform([\"Hello How are you How are you doing\",\"Hi what's up\",\"I cannot believe that\"])"
   ]
  },
  {
   "cell_type": "code",
   "execution_count": 11,
   "id": "9c724c56",
   "metadata": {
    "scrolled": true
   },
   "outputs": [
    {
     "data": {
      "text/plain": [
       "array([[2, 0, 0, 1, 1, 0, 2, 0, 0, 0, 2],\n",
       "       [0, 0, 0, 0, 0, 1, 0, 0, 1, 1, 0],\n",
       "       [0, 1, 1, 0, 0, 0, 0, 1, 0, 0, 0]], dtype=int64)"
      ]
     },
     "execution_count": 11,
     "metadata": {},
     "output_type": "execute_result"
    }
   ],
   "source": [
    "x_traincv.toarray()\n",
    "\n",
    "#we gave examples as a form of list above, and it converted the items of the list into binary as below\n",
    "# the numbers represents the count of the word within the list item "
   ]
  },
  {
   "cell_type": "code",
   "execution_count": 12,
   "id": "45035b4e",
   "metadata": {
    "scrolled": true
   },
   "outputs": [
    {
     "name": "stderr",
     "output_type": "stream",
     "text": [
      "c:\\users\\janka\\pycharmprojects\\dataspec\\venv\\lib\\site-packages\\sklearn\\utils\\deprecation.py:87: FutureWarning: Function get_feature_names is deprecated; get_feature_names is deprecated in 1.0 and will be removed in 1.2. Please use get_feature_names_out instead.\n",
      "  warnings.warn(msg, category=FutureWarning)\n"
     ]
    },
    {
     "data": {
      "text/plain": [
       "['are',\n",
       " 'believe',\n",
       " 'cannot',\n",
       " 'doing',\n",
       " 'hello',\n",
       " 'hi',\n",
       " 'how',\n",
       " 'that',\n",
       " 'up',\n",
       " 'what',\n",
       " 'you']"
      ]
     },
     "execution_count": 12,
     "metadata": {},
     "output_type": "execute_result"
    }
   ],
   "source": [
    "cv.get_feature_names()\n",
    "# this method gives us the words. If we compare it to the array above, we can see that 'are' is counted twice in the \n",
    "#first item, believe is counted 0, cannot is not there either...etc."
   ]
  },
  {
   "cell_type": "code",
   "execution_count": 13,
   "id": "3fde7a16",
   "metadata": {},
   "outputs": [],
   "source": [
    "vectorizer = CountVectorizer(stop_words='english')\n",
    "\n",
    "# Used stop_words parameter to remove additional ones that nltk in data cleaning did not remove\n",
    "# converts text to binary data"
   ]
  },
  {
   "cell_type": "code",
   "execution_count": 14,
   "id": "f9803de5",
   "metadata": {},
   "outputs": [],
   "source": [
    "all_words = vectorizer.fit_transform(df.text.values.astype('U')) #needed to convert data to unicode"
   ]
  },
  {
   "cell_type": "code",
   "execution_count": 15,
   "id": "276c15e9",
   "metadata": {},
   "outputs": [
    {
     "data": {
      "text/plain": [
       "(38590, 207937)"
      ]
     },
     "execution_count": 15,
     "metadata": {},
     "output_type": "execute_result"
    }
   ],
   "source": [
    "all_words.shape   \n",
    "#we receive a sparce matrix\n",
    "#the columns represent the tokens of our text"
   ]
  },
  {
   "cell_type": "code",
   "execution_count": 16,
   "id": "9ca3c5ef",
   "metadata": {
    "scrolled": true
   },
   "outputs": [
    {
     "data": {
      "text/plain": [
       "{'donald': 50350,\n",
       " 'trump': 188764,\n",
       " 'just': 93177,\n",
       " 'couldn': 38960,\n",
       " 'wish': 202964,\n",
       " 'americans': 7220,\n",
       " 'happy': 75602,\n",
       " 'new': 118738,\n",
       " 'year': 205672,\n",
       " 'leave': 99446,\n",
       " 'instead': 86776,\n",
       " 'shout': 166798,\n",
       " 'enemies': 55786,\n",
       " 'haters': 76294,\n",
       " 'dishonest': 48813,\n",
       " 'fake': 60574,\n",
       " 'news': 118822,\n",
       " 'media': 108775,\n",
       " 'reality': 149472,\n",
       " 'star': 173234,\n",
       " 'job': 91823,\n",
       " 'country': 39257,\n",
       " 'rapidly': 148678,\n",
       " 'grows': 73128,\n",
       " 'stronger': 175805,\n",
       " 'smarter': 169494,\n",
       " 'want': 198553,\n",
       " 'friends': 66954,\n",
       " 'supporters': 177499,\n",
       " 'healthy': 76902,\n",
       " 'president': 142626,\n",
       " 'angry': 8119,\n",
       " 'pants': 129266,\n",
       " 'tweeted': 190361,\n",
       " 'great': 72407,\n",
       " 'america': 7047,\n",
       " 'realdonaldtrump': 149423,\n",
       " 'december': 44371,\n",
       " 'tweet': 190333,\n",
       " 'went': 201078,\n",
       " 'welll': 200835,\n",
       " 'expectwhat': 59056,\n",
       " 'kind': 95418,\n",
       " 'sends': 164195,\n",
       " 'greeting': 72583,\n",
       " 'like': 101309,\n",
       " 'despicable': 46692,\n",
       " 'petty': 132605,\n",
       " 'infantile': 85705,\n",
       " 'gibberish': 69888,\n",
       " 'lack': 97424,\n",
       " 'decency': 44387,\n",
       " 'won': 203547,\n",
       " 'allow': 5845,\n",
       " 'rise': 156098,\n",
       " 'gutter': 74021,\n",
       " 'long': 102849,\n",
       " 'american': 7155,\n",
       " 'citizens': 31866,\n",
       " 'bishop': 19558,\n",
       " 'talbert': 179363,\n",
       " 'swan': 178208,\n",
       " 'talbertswan': 179364,\n",
       " 'likes': 101377,\n",
       " 'calvin': 25799,\n",
       " 'calvinstowell': 25800,\n",
       " 'impeachment': 84246,\n",
       " 'make': 105206,\n",
       " 'll': 102246,\n",
       " 'accept': 991,\n",
       " 'regaining': 151165,\n",
       " 'control': 37768,\n",
       " 'congress': 36626,\n",
       " 'miranda': 111937,\n",
       " 'yaver': 205631,\n",
       " 'mirandayaver': 111939,\n",
       " 'hear': 76915,\n",
       " 'talk': 179408,\n",
       " 'include': 84984,\n",
       " 'people': 131482,\n",
       " 'hate': 76240,\n",
       " 'wonder': 203555,\n",
       " 'alan': 4737,\n",
       " 'sandoval': 160365,\n",
       " 'alansandoval': 4749,\n",
       " 'uses': 194496,\n",
       " 'word': 203700,\n",
       " 'years': 205831,\n",
       " 'marlene': 106732,\n",
       " 'say': 161027,\n",
       " 'koren': 96499,\n",
       " 'pollitt': 140244,\n",
       " 'korencarpenter': 96501,\n",
       " 'eve': 57726,\n",
       " 'including': 85018,\n",
       " 'fought': 65797,\n",
       " 'lost': 103294,\n",
       " 'badly': 14451,\n",
       " 'don': 50342,\n",
       " 'know': 96058,\n",
       " 'love': 103465,\n",
       " 'doing': 50077,\n",
       " 'yearstrump': 205999,\n",
       " 'directed': 48143,\n",
       " 'messages': 110063,\n",
       " 'easter': 52878,\n",
       " 'thanksgiving': 181847,\n",
       " 'anniversary': 8309,\n",
       " 'pictwittercomfpaekypa': 134178,\n",
       " 'daniel': 42733,\n",
       " 'dale': 42436,\n",
       " 'ddale': 43677,\n",
       " 'holiday': 80323,\n",
       " 'tweets': 190531,\n",
       " 'clearly': 32556,\n",
       " 'presidentialhow': 142733,\n",
       " 'did': 47505,\n",
       " 'work': 203785,\n",
       " 'hallmark': 74777,\n",
       " 'steven': 174601,\n",
       " 'goodine': 71213,\n",
       " 'sgoodine': 165233,\n",
       " 'difference': 47702,\n",
       " 'filter': 62973,\n",
       " 'breaking': 22680,\n",
       " 'roy': 157573,\n",
       " 'schulze': 162115,\n",
       " 'thbthttt': 182136,\n",
       " 'apart': 9629,\n",
       " 'teenager': 180625,\n",
       " 'term': 181116,\n",
       " 'wendy': 201057,\n",
       " 'wendywhistles': 201067,\n",
       " 'fucking': 67302,\n",
       " 'old': 124923,\n",
       " 'knows': 96127,\n",
       " 'rainyday': 148135,\n",
       " 'voted': 197590,\n",
       " 'hole': 80303,\n",
       " 'thinking': 183418,\n",
       " 'change': 29389,\n",
       " 'got': 71519,\n",
       " 'power': 141594,\n",
       " 'wrong': 204723,\n",
       " 'yearold': 205793,\n",
       " 'men': 109655,\n",
       " 'olderphoto': 124937,\n",
       " 'andrew': 7912,\n",
       " 'burtongetty': 24640,\n",
       " 'images': 83757,\n",
       " 'house': 81406,\n",
       " 'intelligence': 87113,\n",
       " 'committee': 35153,\n",
       " 'chairman': 29191,\n",
       " 'devin': 47139,\n",
       " 'nunes': 122764,\n",
       " 'going': 70894,\n",
       " 'bad': 14397,\n",
       " 'day': 43309,\n",
       " 'assumption': 12186,\n",
       " 'christopher': 31307,\n",
       " 'steeledossier': 174309,\n",
       " 'prompted': 144756,\n",
       " 'russia': 158232,\n",
       " 'investigation': 88020,\n",
       " 'lashing': 98173,\n",
       " 'department': 46068,\n",
       " 'justice': 93192,\n",
       " 'fbi': 61656,\n",
       " 'order': 126450,\n",
       " 'protect': 145208,\n",
       " 'happens': 75555,\n",
       " 'dossier': 50830,\n",
       " 'started': 173321,\n",
       " 'according': 1133,\n",
       " 'documents': 49853,\n",
       " 'obtained': 123626,\n",
       " 'york': 206488,\n",
       " 'timesformer': 184999,\n",
       " 'campaign': 25935,\n",
       " 'adviser': 2796,\n",
       " 'george': 69369,\n",
       " 'papadopoulos': 129299,\n",
       " 'drunk': 51871,\n",
       " 'wine': 202574,\n",
       " 'bar': 15368,\n",
       " 'revealed': 154875,\n",
       " 'knowledge': 96081,\n",
       " 'russian': 158306,\n",
       " 'opposition': 126225,\n",
       " 'research': 153644,\n",
       " 'hillary': 78997,\n",
       " 'clintonon': 32966,\n",
       " 'wasn': 199186,\n",
       " 'covfefe': 39895,\n",
       " 'boy': 22168,\n",
       " 'administration': 2363,\n",
       " 'alleged': 5609,\n",
       " 'larger': 98084,\n",
       " 'role': 156906,\n",
       " 'damning': 42591,\n",
       " 'drunken': 51873,\n",
       " 'fool': 65018,\n",
       " 'coffee': 33947,\n",
       " 'boys': 22239,\n",
       " 'help': 77524,\n",
       " 'arrange': 11138,\n",
       " 'meeting': 109125,\n",
       " 'abdel': 188,\n",
       " 'fattah': 61450,\n",
       " 'elsisi': 54850,\n",
       " 'egypt': 53706,\n",
       " 'months': 113743,\n",
       " 'election': 54117,\n",
       " 'known': 96097,\n",
       " 'aide': 4216,\n",
       " 'set': 164904,\n",
       " 'meetings': 109165,\n",
       " 'world': 204039,\n",
       " 'leaders': 99132,\n",
       " 'team': 180377,\n",
       " 'ran': 148447,\n",
       " 'merely': 109905,\n",
       " 'boyin': 22222,\n",
       " 'australian': 13158,\n",
       " 'diplomat': 48111,\n",
       " 'alexander': 5112,\n",
       " 'downer': 51098,\n",
       " 'officials': 124388,\n",
       " 'shopping': 166596,\n",
       " 'possible': 140966,\n",
       " 'dirt': 48239,\n",
       " 'thendemocratic': 182708,\n",
       " 'presidential': 142728,\n",
       " 'nominee': 120631,\n",
       " 'clinton': 32800,\n",
       " 'exactly': 58272,\n",
       " 'mr': 115059,\n",
       " 'said': 159072,\n",
       " 'night': 119660,\n",
       " 'kensington': 94570,\n",
       " 'rooms': 157157,\n",
       " 'unclear': 192064,\n",
       " 'report': 152681,\n",
       " 'states': 173772,\n",
       " 'later': 98293,\n",
       " 'leaked': 99275,\n",
       " 'democratic': 45634,\n",
       " 'emails': 54915,\n",
       " 'began': 16869,\n",
       " 'appearing': 9919,\n",
       " 'online': 125641,\n",
       " 'passed': 130162,\n",
       " 'information': 85887,\n",
       " 'counterparts': 39126,\n",
       " 'current': 41794,\n",
       " 'foreign': 65284,\n",
       " 'direct': 48142,\n",
       " 'australians': 13168,\n",
       " 'pleaded': 139011,\n",
       " 'guilty': 73560,\n",
       " 'lying': 104213,\n",
       " 'cooperating': 38163,\n",
       " 'witness': 203146,\n",
       " 'special': 171654,\n",
       " 'counsel': 39025,\n",
       " 'robert': 156556,\n",
       " 'mueller': 115411,\n",
       " 'teamthis': 180424,\n",
       " 'isn': 89123,\n",
       " 'presidency': 142535,\n",
       " 'scripted': 162587,\n",
       " 'tv': 190272,\n",
       " 'showphoto': 166945,\n",
       " 'win': 202486,\n",
       " 'mcnameegetty': 108432,\n",
       " 'friday': 66828,\n",
       " 'milwaukee': 111400,\n",
       " 'sheriff': 166009,\n",
       " 'david': 43186,\n",
       " 'clarke': 32321,\n",
       " 'considered': 37060,\n",
       " 'homeland': 80556,\n",
       " 'security': 163243,\n",
       " 'secretary': 163124,\n",
       " 'email': 54887,\n",
       " 'scandal': 161386,\n",
       " 'ownin': 128443,\n",
       " 'january': 90711,\n",
       " 'brief': 23072,\n",
       " 'runin': 158102,\n",
       " 'plane': 138634,\n",
       " 'fellow': 62155,\n",
       " 'passenger': 130172,\n",
       " 'dan': 42620,\n",
       " 'black': 19826,\n",
       " 'detained': 46856,\n",
       " 'police': 139659,\n",
       " 'reason': 149705,\n",
       " 'whatsoever': 201434,\n",
       " 'maybe': 107843,\n",
       " 'feelings': 62018,\n",
       " 'hurt': 82335,\n",
       " 'messaged': 110050,\n",
       " 'stop': 175028,\n",
       " 'deplaned': 46181,\n",
       " 'search': 162833,\n",
       " 'warrant': 198897,\n",
       " 'executed': 58656,\n",
       " 'exchangesclarke': 58517,\n",
       " 'calling': 25718,\n",
       " 'copies': 38238,\n",
       " 'internet': 87470,\n",
       " 'unintimidated': 192915,\n",
       " 'lib': 100646,\n",
       " 'attempts': 12730,\n",
       " 'smear': 169539,\n",
       " 'discredit': 48582,\n",
       " 'reports': 152973,\n",
       " 'designed': 46609,\n",
       " 'silence': 167699,\n",
       " 'continue': 37532,\n",
       " 'poke': 139605,\n",
       " 'eye': 59754,\n",
       " 'sharp': 165682,\n",
       " 'stick': 174669,\n",
       " 'bitch': 19581,\n",
       " 'slap': 168948,\n",
       " 'scum': 162678,\n",
       " 'bags': 14560,\n",
       " 'til': 184707,\n",
       " 'attacked': 12541,\n",
       " 'better': 18477,\n",
       " 'maga': 104724,\n",
       " 'pictwittercomxtzwpdub': 137432,\n",
       " 'jr': 92687,\n",
       " 'sheriffclarke': 166010,\n",
       " 'didn': 47563,\n",
       " 'therebreaking': 182970,\n",
       " 'makes': 105240,\n",
       " 'antidote': 8835,\n",
       " 'right': 155661,\n",
       " 'punch': 146143,\n",
       " 'nose': 121622,\n",
       " 'taste': 179978,\n",
       " 'blood': 20416,\n",
       " 'gets': 69650,\n",
       " 'bully': 24275,\n",
       " 'attention': 12775,\n",
       " 'neverbackdown': 118697,\n",
       " 'pictwittercomtnypshcr': 136711,\n",
       " 'called': 25648,\n",
       " 'outthis': 127806,\n",
       " 'local': 102507,\n",
       " 'newspaper': 119054,\n",
       " 'chose': 31113,\n",
       " 'file': 62851,\n",
       " 'charges': 29714,\n",
       " 'time': 184774,\n",
       " 'doesn': 49956,\n",
       " 'mean': 108564,\n",
       " 'especially': 57100,\n",
       " 'lie': 100892,\n",
       " 'decision': 44462,\n",
       " 'charge': 29692,\n",
       " 'filed': 62853,\n",
       " 'keithleblanc': 94390,\n",
       " 'hope': 80927,\n",
       " 'rest': 154224,\n",
       " 'village': 196702,\n",
       " 'aren': 10658,\n",
       " 'implicated': 84361,\n",
       " 'kirk': 95588,\n",
       " 'ketchum': 94702,\n",
       " 'kirkketchum': 95594,\n",
       " 'slaw': 169069,\n",
       " 'baked': 14697,\n",
       " 'potatoes': 141434,\n",
       " 'french': 66722,\n",
       " 'fries': 67005,\n",
       " 'pictwittercomfwfxszupxy': 134217,\n",
       " 'alt': 6471,\n",
       " 'immigration': 84062,\n",
       " 'altuscis': 6639,\n",
       " 'pictwittercomymsobljfxu': 137562,\n",
       " 'pendulum': 131321,\n",
       " 'swinger': 178423,\n",
       " 'pendulumswngr': 131322,\n",
       " 'stand': 173090,\n",
       " 'fun': 67521,\n",
       " 'hat': 76219,\n",
       " 'chris': 31143,\n",
       " 'jackson': 90308,\n",
       " 'chriscjackson': 31147,\n",
       " 'masterful': 107242,\n",
       " 'pshop': 145682,\n",
       " 'tire': 185326,\n",
       " 'think': 183398,\n",
       " 'steely': 174335,\n",
       " 'resolve': 153904,\n",
       " 'visible': 197153,\n",
       " 'pictwittercomdwrkzezv': 133871,\n",
       " 'mohney': 113035,\n",
       " 'chrismohney': 31162,\n",
       " 'indicating': 85362,\n",
       " 'fingers': 63175,\n",
       " 'died': 47607,\n",
       " 'jail': 90430,\n",
       " 'short': 166627,\n",
       " 'dipshit': 48133,\n",
       " 'ike': 83429,\n",
       " 'barinholtz': 15539,\n",
       " 'ikebarinholtz': 83433,\n",
       " 'rofl': 156821,\n",
       " 'tough': 186899,\n",
       " 'guy': 74032,\n",
       " 'flair': 63921,\n",
       " 'pictwittercomulcfddhkdy': 136850,\n",
       " 'kellmecrazy': 94427,\n",
       " 'kelmoonface': 94470,\n",
       " 'edgy': 53296,\n",
       " 'buddy': 23929,\n",
       " 'mrs': 115123,\n",
       " 'smh': 169566,\n",
       " 'mrssmh': 115133,\n",
       " 'break': 22652,\n",
       " 'applebees': 9985,\n",
       " 'aaron': 43,\n",
       " 'feltrrr': 62204,\n",
       " 'trying': 189651,\n",
       " 'earn': 52741,\n",
       " 'relevant': 151895,\n",
       " 'badge': 14427,\n",
       " 'circusrebel': 31771,\n",
       " 'circusdrew': 31763,\n",
       " 'sure': 177717,\n",
       " 'hydrate': 82493,\n",
       " 'drink': 51597,\n",
       " 'lots': 103341,\n",
       " 'water': 199399,\n",
       " 'rumored': 158060,\n",
       " 'prisoners': 143509,\n",
       " 'denied': 45913,\n",
       " 'prison': 143493,\n",
       " 'klinc': 95854,\n",
       " 'robertklinc': 156567,\n",
       " 'terrill': 181274,\n",
       " 'thomas': 183815,\n",
       " 'man': 105564,\n",
       " 'thirst': 183550,\n",
       " 'county': 39455,\n",
       " 'cell': 28634,\n",
       " 'april': 10205,\n",
       " 'victim': 196149,\n",
       " 'homicide': 80703,\n",
       " 'thought': 183923,\n",
       " 'point': 139464,\n",
       " 'repeated': 152515,\n",
       " 'enoughphoto': 56117,\n",
       " 'spencer': 171918,\n",
       " 'plattgetty': 138866,\n",
       " 'christmas': 31279,\n",
       " 'announced': 8320,\n",
       " 'following': 64865,\n",
       " 'golfing': 71052,\n",
       " 'fourth': 66002,\n",
       " 'row': 157540,\n",
       " 'blasted': 20136,\n",
       " 'barack': 15370,\n",
       " 'obama': 123138,\n",
       " 'playing': 138961,\n",
       " 'golf': 71032,\n",
       " 'track': 187185,\n",
       " 'outpace': 127623,\n",
       " 'number': 122682,\n",
       " 'games': 68313,\n",
       " 'predecessor': 142086,\n",
       " 'playedupdated': 138918,\n",
       " 'tracker': 187190,\n",
       " 'appearances': 9909,\n",
       " 'properties': 144905,\n",
       " 'rounds': 157477,\n",
       " 'today': 185818,\n",
       " 'pace': 128550,\n",
       " 'pass': 130136,\n",
       " 'firstterm': 63551,\n",
       " 'total': 186817,\n",
       " 'july': 92965,\n",
       " 'pictwittercomgemcjqtbh': 134288,\n",
       " 'philip': 132806,\n",
       " 'bump': 24316,\n",
       " 'pbump': 130835,\n",
       " 'washington': 199064,\n",
       " 'post': 141028,\n",
       " 'reporter': 152855,\n",
       " 'discovered': 48561,\n",
       " 'website': 200083,\n",
       " 'really': 149561,\n",
       " 'weird': 200611,\n",
       " 'bizarre': 19772,\n",
       " 'af': 2933,\n",
       " 'coding': 33912,\n",
       " 'contained': 37396,\n",
       " 'reference': 150873,\n",
       " 'unlike': 193186,\n",
       " 'working': 203902,\n",
       " 'fix': 63765,\n",
       " 'problem': 143763,\n",
       " 'course': 39570,\n",
       " 'correctlythe': 38616,\n",
       " 'spent': 171953,\n",
       " 'days': 43425,\n",
       " 'coded': 33873,\n",
       " 'serve': 164679,\n",
       " 'message': 110042,\n",
       " 'event': 57765,\n",
       " 'internal': 87433,\n",
       " 'server': 164701,\n",
       " 'error': 56925,\n",
       " 'pictwittercomwiqsqnnzw': 137197,\n",
       " 'ingraham': 86091,\n",
       " 'cingraham': 31674,\n",
       " 'snippet': 169873,\n",
       " 'code': 33867,\n",
       " 'appears': 9920,\n",
       " 'pages': 128746,\n",
       " 'footer': 65072,\n",
       " 'says': 161143,\n",
       " 'paid': 128797,\n",
       " 'rnc': 156395,\n",
       " 'pictwittercomoazdtb': 135640,\n",
       " 'noted': 121718,\n",
       " 'thread': 184017,\n",
       " 'clear': 32528,\n",
       " 'actually': 1871,\n",
       " 'display': 49020,\n",
       " 'deletedupdate': 45275,\n",
       " 'removed': 152223,\n",
       " 'gop': 71339,\n",
       " 'websites': 200125,\n",
       " 'fixed': 63775,\n",
       " 'javascript': 90897,\n",
       " 'vs': 197949,\n",
       " 'actual': 1863,\n",
       " 'presumably': 143023,\n",
       " 'page': 128693,\n",
       " 'displays': 49033,\n",
       " 'different': 47727,\n",
       " 'pictwittercomzdmyqsmy': 137675,\n",
       " 'suggests': 176785,\n",
       " 'admin': 2357,\n",
       " 'sensitive': 164319,\n",
       " 'issue': 89291,\n",
       " 'away': 13617,\n",
       " 'quickly': 147252,\n",
       " 'noticed': 121851,\n",
       " 'idea': 82968,\n",
       " 'exchange': 58488,\n",
       " 'led': 99548,\n",
       " 'fcked': 61744,\n",
       " 'upthe': 194118,\n",
       " 'best': 18341,\n",
       " 'using': 194574,\n",
       " 'assignment': 12060,\n",
       " 'operator': 126051,\n",
       " 'means': 108604,\n",
       " 'bit': 19577,\n",
       " 'run': 158077,\n",
       " 'look': 103029,\n",
       " 'lines': 101604,\n",
       " 'errorcode': 56930,\n",
       " 'twtrsux': 191217,\n",
       " 'coders': 33884,\n",
       " 'surprised': 177840,\n",
       " 'tim': 184757,\n",
       " 'peterson': 132504,\n",
       " 'timrpeterson': 185198,\n",
       " 'obsessed': 123569,\n",
       " 'played': 138907,\n",
       " 'againphoto': 3464,\n",
       " 'joe': 92016,\n",
       " 'raedlegetty': 147894,\n",
       " 'pope': 140568,\n",
       " 'francis': 66250,\n",
       " 'used': 194436,\n",
       " 'annual': 8366,\n",
       " 'rebuke': 149942,\n",
       " 'mentioning': 109789,\n",
       " 'delivered': 45357,\n",
       " 'members': 109502,\n",
       " 'united': 193011,\n",
       " 'nations': 117286,\n",
       " 'condemned': 36190,\n",
       " 'recognize': 150207,\n",
       " 'jerusalem': 91370,\n",
       " 'capital': 26746,\n",
       " 'israel': 89177,\n",
       " 'pontiff': 140451,\n",
       " 'prayed': 141898,\n",
       " 'monday': 113282,\n",
       " 'peaceful': 130956,\n",
       " 'coexistence': 33941,\n",
       " 'mutually': 116291,\n",
       " 'agreed': 3961,\n",
       " 'internationally': 87448,\n",
       " 'recognized': 150208,\n",
       " 'borders': 21665,\n",
       " 'jesus': 91430,\n",
       " 'children': 30609,\n",
       " 'middle': 110686,\n",
       " 'east': 52857,\n",
       " 'suffer': 176690,\n",
       " 'growing': 73112,\n",
       " 'tensions': 181035,\n",
       " 'israelis': 89221,\n",
       " 'palestinians': 128966,\n",
       " 'festive': 62442,\n",
       " 'let': 100276,\n",
       " 'ask': 11658,\n",
       " 'lord': 103157,\n",
       " 'peace': 130941,\n",
       " 'holy': 80468,\n",
       " 'land': 97784,\n",
       " 'pray': 141896,\n",
       " 'resume': 154414,\n",
       " 'dialogue': 47342,\n",
       " 'prevail': 143102,\n",
       " 'parties': 129847,\n",
       " 'negotiated': 118147,\n",
       " 'solution': 170527,\n",
       " 'finally': 63009,\n",
       " 'reached': 149185,\n",
       " 'plead': 139010,\n",
       " 'acceptance': 1006,\n",
       " 'refugees': 151057,\n",
       " 'forced': 65169,\n",
       " 'homes': 80627,\n",
       " 'continues': 37604,\n",
       " 'fight': 62747,\n",
       " 'place': 138423,\n",
       " 'inn': 86337,\n",
       " 'analogy': 7708,\n",
       " 'winds': 202560,\n",
       " 'war': 198648,\n",
       " 'blowing': 20553,\n",
       " 'outdated': 127409,\n",
       " 'model': 112862,\n",
       " 'development': 47078,\n",
       " 'produce': 144090,\n",
       " 'human': 82022,\n",
       " 'societal': 170154,\n",
       " 'environmental': 56433,\n",
       " 'decline': 44582,\n",
       " 'invites': 88219,\n",
       " 'focus': 64723,\n",
       " 'sign': 167563,\n",
       " 'child': 30556,\n",
       " 'faces': 60095,\n",
       " 'little': 101999,\n",
       " 'pain': 128816,\n",
       " 'welcomed': 200665,\n",
       " 'hard': 75709,\n",
       " 'lay': 98994,\n",
       " 'head': 76641,\n",
       " 'added': 1975,\n",
       " 'hearts': 77044,\n",
       " 'closed': 33161,\n",
       " 'bethlehem': 18438,\n",
       " 'mary': 106985,\n",
       " 'joseph': 92465,\n",
       " 'immigrants': 84014,\n",
       " 'struggled': 175873,\n",
       " 'safe': 158905,\n",
       " 'stay': 174208,\n",
       " 'home': 80484,\n",
       " 'comfortable': 34783,\n",
       " 'easy': 52935,\n",
       " 'journey': 92619,\n",
       " 'young': 206641,\n",
       " 'couple': 39511,\n",
       " 'heart': 76989,\n",
       " 'expectation': 59020,\n",
       " 'born': 21743,\n",
       " 'steps': 174518,\n",
       " 'weighed': 200541,\n",
       " 'uncertainties': 192026,\n",
       " 'dangers': 42714,\n",
       " 'attend': 12732,\n",
       " 'footsteps': 65103,\n",
       " 'hidden': 78577,\n",
       " 'sunday': 177072,\n",
       " 'tracks': 187198,\n",
       " 'entire': 56298,\n",
       " 'families': 60805,\n",
       " 'millions': 111328,\n",
       " 'persons': 132328,\n",
       " 'choose': 31065,\n",
       " 'driven': 51636,\n",
       " 'dear': 43913,\n",
       " 'ones': 125473,\n",
       " 'amen': 6985,\n",
       " 'thatphoto': 182033,\n",
       " 'furlonggetty': 67739,\n",
       " 'cases': 27754,\n",
       " 'cops': 38283,\n",
       " 'brutalizing': 23738,\n",
       " 'killing': 95312,\n",
       " 'color': 34442,\n",
       " 'end': 55598,\n",
       " 'case': 27660,\n",
       " 'needs': 118056,\n",
       " 'shared': 165583,\n",
       " 'far': 61019,\n",
       " 'wide': 202058,\n",
       " 'alabama': 4654,\n",
       " 'woman': 203374,\n",
       " 'angela': 7996,\n",
       " 'williams': 202375,\n",
       " 'graphic': 72239,\n",
       " 'photo': 132961,\n",
       " 'son': 170713,\n",
       " 'hospital': 81157,\n",
       " 'bed': 16667,\n",
       " 'beaten': 16506,\n",
       " 'fractured': 66153,\n",
       " 'face': 59913,\n",
       " 'facebook': 59922,\n",
       " 'unacceptableit': 191832,\n",
       " 'custody': 41893,\n",
       " 'sort': 171032,\n",
       " 'altercation': 6507,\n",
       " 'resulted': 154355,\n",
       " 'arrest': 11165,\n",
       " 'realize': 149532,\n",
       " 'details': 46824,\n",
       " 'matter': 107502,\n",
       " 'supposed': 177632,\n",
       " 'beat': 16501,\n",
       " 'brutalize': 23736,\n",
       " 'ms': 115142,\n",
       " 'expresses': 59430,\n",
       " 'body': 20927,\n",
       " 'cameras': 25867,\n",
       " 'beating': 16517,\n",
       " 'convenient': 37888,\n",
       " 'malfunction': 105400,\n",
       " 'explain': 59212,\n",
       " 'existence': 58863,\n",
       " 'dash': 42987,\n",
       " 'camera': 25848,\n",
       " 'footage': 65050,\n",
       " 'brutal': 23721,\n",
       " 'hell': 77436,\n",
       " 'described': 46491,\n",
       " 'attempted': 12725,\n",
       " 'murder': 115799,\n",
       " 'tells': 180847,\n",
       " 'ado': 2559,\n",
       " 'troy': 188604,\n",
       " 'finest': 63137,\n",
       " 'decided': 44431,\n",
       " 'appropriate': 10138,\n",
       " 'treatment': 187920,\n",
       " 'sonno': 170791,\n",
       " 'perceived': 131727,\n",
       " 'crime': 40485,\n",
       " 'completely': 35719,\n",
       " 'unacceptable': 191823,\n",
       " 'need': 118007,\n",
       " 'rot': 157389,\n",
       " 'wanna': 198542,\n",
       " 'bet': 18407,\n",
       " 'vacation': 194935,\n",
       " 'force': 65164,\n",
       " 'investigates': 88011,\n",
       " 'officers': 124262,\n",
       " 'returned': 154629,\n",
       " 'duty': 52439,\n",
       " 'posthastethis': 141172,\n",
       " 'folks': 64799,\n",
       " 'lives': 102107,\n",
       " 'way': 199604,\n",
       " 'happened': 75416,\n",
       " 'white': 201695,\n",
       " 'share': 165576,\n",
       " 'tuned': 189993,\n",
       " 'addicting': 2118,\n",
       " 'info': 85866,\n",
       " 'updatesfeatured': 193894,\n",
       " 'image': 83724,\n",
       " 'mcnewstringergetty': 108448,\n",
       " 'good': 71163,\n",
       " 'portion': 140782,\n",
       " 'club': 33332,\n",
       " 'marking': 106654,\n",
       " 'th': 181774,\n",
       " 'taking': 179329,\n",
       " 'oath': 123112,\n",
       " 'office': 124121,\n",
       " 'game': 68268,\n",
       " 'lashed': 98170,\n",
       " 'deputy': 46354,\n",
       " 'director': 48191,\n",
       " 'mccabe': 108030,\n",
       " 'twitter': 190726,\n",
       " 'saying': 161074,\n",
       " 'plans': 138720,\n",
       " 'retire': 154518,\n",
       " 'follows': 64906,\n",
       " 'testimony': 181564,\n",
       " 'congressional': 36654,\n",
       " 'committees': 35193,\n",
       " 'week': 200271,\n",
       " 'mounting': 114792,\n",
       " 'criticism': 40817,\n",
       " 'republicans': 153369,\n",
       " 'regarding': 151182,\n",
       " 'probeso': 143749,\n",
       " 'naturally': 117436,\n",
       " 'leakin': 99296,\n",
       " 'james': 90572,\n",
       " 'comey': 34734,\n",
       " 'phony': 132949,\n",
       " 'illegally': 83517,\n",
       " 'deleted': 45262,\n",
       " 'given': 70246,\n",
       " 'wife': 202136,\n",
       " 'puppets': 146288,\n",
       " 'tweetedhow': 190387,\n",
       " 'therefbi': 182985,\n",
       " 'racing': 147645,\n",
       " 'clock': 33126,\n",
       " 'benefits': 17862,\n",
       " 'wow': 204460,\n",
       " 'lawyer': 98943,\n",
       " 'baker': 14699,\n",
       " 'reassigned': 149821,\n",
       " 'foxnews': 66084,\n",
       " 'intel': 87095,\n",
       " 'disposal': 49045,\n",
       " 'getting': 69664,\n",
       " 'fox': 66050,\n",
       " 'career': 27084,\n",
       " 'terrorism': 181317,\n",
       " 'socalled': 170080,\n",
       " 'factchecked': 60205,\n",
       " 'claim': 32123,\n",
       " 'receiving': 150035,\n",
       " 'campaignpolitifact': 26079,\n",
       " 'late': 98244,\n",
       " 'significant': 167624,\n",
       " 'distortion': 49259,\n",
       " 'facts': 60261,\n",
       " 'implication': 84364,\n",
       " 'political': 139936,\n",
       " 'favor': 61530,\n",
       " 'sense': 164262,\n",
       " 'evidence': 58141,\n",
       " 'rated': 148853,\n",
       " 'false': 60718,\n",
       " 'repeats': 152535,\n",
       " 'lies': 100971,\n",
       " 'believe': 17309,\n",
       " 'bothering': 21908,\n",
       " 'google': 71293,\n",
       " 'thoughphoto': 183918,\n",
       " 'zach': 207130,\n",
       " 'gibson': 69900,\n",
       " 'poolgetty': 140490,\n",
       " 'wake': 198252,\n",
       " 'court': 39630,\n",
       " 'derailed': 46372,\n",
       " 'plan': 138625,\n",
       " 'muslims': 116096,\n",
       " 'entering': 56243,\n",
       " 'times': 184944,\n",
       " 'published': 145985,\n",
       " 'saturday': 160811,\n",
       " 'morning': 114225,\n",
       " 'detailing': 46818,\n",
       " 'frustration': 67236,\n",
       " 'goesaccording': 70843,\n",
       " 'article': 11348,\n",
       " 'june': 93050,\n",
       " 'stomped': 174961,\n",
       " 'oval': 127859,\n",
       " 'furious': 67730,\n",
       " 'state': 173409,\n",
       " 'travel': 187790,\n",
       " 'ban': 15011,\n",
       " 'implemented': 84350,\n",
       " 'fully': 67483,\n",
       " 'fumed': 67506,\n",
       " 'visas': 197122,\n",
       " 'issued': 89307,\n",
       " 'rate': 148849,\n",
       " 'looked': 103040,\n",
       " 'making': 105272,\n",
       " 'broad': 23300,\n",
       " 'pronouncementsit': 144784,\n",
       " 'reading': 149266,\n",
       " 'document': 49824,\n",
       " 'advisor': 2820,\n",
       " 'supremacist': 177660,\n",
       " 'stephen': 174479,\n",
       " 'miller': 111223,\n",
       " 'handed': 75069,\n",
       " 'cabinet': 25227,\n",
       " 'listed': 101841,\n",
       " 'included': 84990,\n",
       " 'afghanistan': 3110,\n",
       " 'haiti': 74552,\n",
       " 'nigeria': 119631,\n",
       " 'sensing': 164318,\n",
       " 'pattern': 130548,\n",
       " 'expressed': 59427,\n",
       " 'dismay': 48892,\n",
       " 'eachaccording': 52642,\n",
       " 'witnesses': 203155,\n",
       " 'room': 157121,\n",
       " 'spoke': 172216,\n",
       " 'condition': 36212,\n",
       " 'anonymity': 8413,\n",
       " 'interviewed': 87665,\n",
       " 'dozen': 51268,\n",
       " 'faults': 61486,\n",
       " 'read': 149225,\n",
       " 'terrorist': 181375,\n",
       " 'haven': 76449,\n",
       " 'huts': 82444,\n",
       " 'saw': 161002,\n",
       " 'glory': 70581,\n",
       " 'aids': 4247,\n",
       " 'despite': 46703,\n",
       " 'extensive': 59526,\n",
       " 'denies': 45927,\n",
       " 'language': 97932,\n",
       " 'usedbut': 194439,\n",
       " 'racist': 147680,\n",
       " 'history': 79818,\n",
       " 'blatant': 20145,\n",
       " 'nationalism': 117150,\n",
       " 'surprise': 177837,\n",
       " 'freedom': 66528,\n",
       " 'act': 1524,\n",
       " 'request': 153528,\n",
       " 'turned': 190171,\n",
       " 'question': 147101,\n",
       " 'statements': 173677,\n",
       " 'printed': 143433,\n",
       " 'inline': 86322,\n",
       " 'commentary': 34944,\n",
       " 'punctuate': 146171,\n",
       " 'anger': 8044,\n",
       " 'responsible': 154192,\n",
       " 'carnage': 27317,\n",
       " 'speech': 171765,\n",
       " 'inaugurationthis': 84779,\n",
       " 'menace': 109660,\n",
       " 'represent': 153195,\n",
       " 'stands': 173182,\n",
       " 'indictments': 85390,\n",
       " 'speakfeatured': 171601,\n",
       " 'kleponispoolgetty': 95842,\n",
       " 'raised': 148142,\n",
       " 'alarm': 4768,\n",
       " 'fact': 60189,\n",
       " 'dangerously': 42699,\n",
       " 'close': 33157,\n",
       " 'autocrat': 13303,\n",
       " 'thing': 183270,\n",
       " 'democracies': 45577,\n",
       " 'autocracies': 13301,\n",
       " 'noses': 121632,\n",
       " 'beginning': 16921,\n",
       " 'phases': 132730,\n",
       " 'explained': 59215,\n",
       " 'republican': 153312,\n",
       " 'frum': 67223,\n",
       " 'piece': 137839,\n",
       " 'atlantic': 12433,\n",
       " 'build': 24057,\n",
       " 'autocracy': 13302,\n",
       " 'critically': 40804,\n",
       " 'happening': 75513,\n",
       " 'systematic': 178847,\n",
       " 'discrediting': 48585,\n",
       " 'vital': 197236,\n",
       " 'institutions': 86897,\n",
       " 'free': 66503,\n",
       " 'press': 142904,\n",
       " 'federal': 61931,\n",
       " 'bureau': 24453,\n",
       " 'weaponization': 199935,\n",
       " 'opponent': 126132,\n",
       " 'makings': 105281,\n",
       " 'chamber': 29279,\n",
       " 'representatives': 153214,\n",
       " 'rogue': 156847,\n",
       " 'band': 15044,\n",
       " ...}"
      ]
     },
     "execution_count": 16,
     "metadata": {},
     "output_type": "execute_result"
    }
   ],
   "source": [
    "vectorizer.vocabulary_\n",
    "#we can see the tokens by the count, one by one "
   ]
  },
  {
   "cell_type": "code",
   "execution_count": 17,
   "id": "5cd57f16",
   "metadata": {},
   "outputs": [
    {
     "data": {
      "text/plain": [
       "(30872,)"
      ]
     },
     "execution_count": 17,
     "metadata": {},
     "output_type": "execute_result"
    }
   ],
   "source": [
    "x_train.shape #have to run the test-train-split again"
   ]
  },
  {
   "cell_type": "code",
   "execution_count": 18,
   "id": "9f6d6072",
   "metadata": {
    "scrolled": false
   },
   "outputs": [],
   "source": [
    "label=df[\"true\"]  #renaming for better readability"
   ]
  },
  {
   "cell_type": "code",
   "execution_count": 19,
   "id": "93c2ca94",
   "metadata": {},
   "outputs": [],
   "source": [
    "x_train, x_test, y_train, y_test = train_test_split(all_words, label, test_size=0.2, random_state=75)"
   ]
  },
  {
   "cell_type": "code",
   "execution_count": 20,
   "id": "15b2518a",
   "metadata": {},
   "outputs": [
    {
     "data": {
      "text/plain": [
       "(30872, 207937)"
      ]
     },
     "execution_count": 20,
     "metadata": {},
     "output_type": "execute_result"
    }
   ],
   "source": [
    "x_train.shape "
   ]
  },
  {
   "cell_type": "code",
   "execution_count": 21,
   "id": "8973e1da",
   "metadata": {
    "scrolled": true
   },
   "outputs": [
    {
     "data": {
      "text/plain": [
       "(7718, 207937)"
      ]
     },
     "execution_count": 21,
     "metadata": {},
     "output_type": "execute_result"
    }
   ],
   "source": [
    "x_test.shape"
   ]
  },
  {
   "cell_type": "code",
   "execution_count": 22,
   "id": "62174cff",
   "metadata": {},
   "outputs": [],
   "source": [
    "classifier = MultinomialNB() #creating the Naive Bayes Model"
   ]
  },
  {
   "cell_type": "code",
   "execution_count": 23,
   "id": "bfa952a3",
   "metadata": {},
   "outputs": [
    {
     "data": {
      "text/html": [
       "<style>#sk-container-id-1 {color: black;background-color: white;}#sk-container-id-1 pre{padding: 0;}#sk-container-id-1 div.sk-toggleable {background-color: white;}#sk-container-id-1 label.sk-toggleable__label {cursor: pointer;display: block;width: 100%;margin-bottom: 0;padding: 0.3em;box-sizing: border-box;text-align: center;}#sk-container-id-1 label.sk-toggleable__label-arrow:before {content: \"▸\";float: left;margin-right: 0.25em;color: #696969;}#sk-container-id-1 label.sk-toggleable__label-arrow:hover:before {color: black;}#sk-container-id-1 div.sk-estimator:hover label.sk-toggleable__label-arrow:before {color: black;}#sk-container-id-1 div.sk-toggleable__content {max-height: 0;max-width: 0;overflow: hidden;text-align: left;background-color: #f0f8ff;}#sk-container-id-1 div.sk-toggleable__content pre {margin: 0.2em;color: black;border-radius: 0.25em;background-color: #f0f8ff;}#sk-container-id-1 input.sk-toggleable__control:checked~div.sk-toggleable__content {max-height: 200px;max-width: 100%;overflow: auto;}#sk-container-id-1 input.sk-toggleable__control:checked~label.sk-toggleable__label-arrow:before {content: \"▾\";}#sk-container-id-1 div.sk-estimator input.sk-toggleable__control:checked~label.sk-toggleable__label {background-color: #d4ebff;}#sk-container-id-1 div.sk-label input.sk-toggleable__control:checked~label.sk-toggleable__label {background-color: #d4ebff;}#sk-container-id-1 input.sk-hidden--visually {border: 0;clip: rect(1px 1px 1px 1px);clip: rect(1px, 1px, 1px, 1px);height: 1px;margin: -1px;overflow: hidden;padding: 0;position: absolute;width: 1px;}#sk-container-id-1 div.sk-estimator {font-family: monospace;background-color: #f0f8ff;border: 1px dotted black;border-radius: 0.25em;box-sizing: border-box;margin-bottom: 0.5em;}#sk-container-id-1 div.sk-estimator:hover {background-color: #d4ebff;}#sk-container-id-1 div.sk-parallel-item::after {content: \"\";width: 100%;border-bottom: 1px solid gray;flex-grow: 1;}#sk-container-id-1 div.sk-label:hover label.sk-toggleable__label {background-color: #d4ebff;}#sk-container-id-1 div.sk-serial::before {content: \"\";position: absolute;border-left: 1px solid gray;box-sizing: border-box;top: 0;bottom: 0;left: 50%;z-index: 0;}#sk-container-id-1 div.sk-serial {display: flex;flex-direction: column;align-items: center;background-color: white;padding-right: 0.2em;padding-left: 0.2em;position: relative;}#sk-container-id-1 div.sk-item {position: relative;z-index: 1;}#sk-container-id-1 div.sk-parallel {display: flex;align-items: stretch;justify-content: center;background-color: white;position: relative;}#sk-container-id-1 div.sk-item::before, #sk-container-id-1 div.sk-parallel-item::before {content: \"\";position: absolute;border-left: 1px solid gray;box-sizing: border-box;top: 0;bottom: 0;left: 50%;z-index: -1;}#sk-container-id-1 div.sk-parallel-item {display: flex;flex-direction: column;z-index: 1;position: relative;background-color: white;}#sk-container-id-1 div.sk-parallel-item:first-child::after {align-self: flex-end;width: 50%;}#sk-container-id-1 div.sk-parallel-item:last-child::after {align-self: flex-start;width: 50%;}#sk-container-id-1 div.sk-parallel-item:only-child::after {width: 0;}#sk-container-id-1 div.sk-dashed-wrapped {border: 1px dashed gray;margin: 0 0.4em 0.5em 0.4em;box-sizing: border-box;padding-bottom: 0.4em;background-color: white;}#sk-container-id-1 div.sk-label label {font-family: monospace;font-weight: bold;display: inline-block;line-height: 1.2em;}#sk-container-id-1 div.sk-label-container {text-align: center;}#sk-container-id-1 div.sk-container {/* jupyter's `normalize.less` sets `[hidden] { display: none; }` but bootstrap.min.css set `[hidden] { display: none !important; }` so we also need the `!important` here to be able to override the default hidden behavior on the sphinx rendered scikit-learn.org. See: https://github.com/scikit-learn/scikit-learn/issues/21755 */display: inline-block !important;position: relative;}#sk-container-id-1 div.sk-text-repr-fallback {display: none;}</style><div id=\"sk-container-id-1\" class=\"sk-top-container\"><div class=\"sk-text-repr-fallback\"><pre>MultinomialNB()</pre><b>In a Jupyter environment, please rerun this cell to show the HTML representation or trust the notebook. <br />On GitHub, the HTML representation is unable to render, please try loading this page with nbviewer.org.</b></div><div class=\"sk-container\" hidden><div class=\"sk-item\"><div class=\"sk-estimator sk-toggleable\"><input class=\"sk-toggleable__control sk-hidden--visually\" id=\"sk-estimator-id-1\" type=\"checkbox\" checked><label for=\"sk-estimator-id-1\" class=\"sk-toggleable__label sk-toggleable__label-arrow\">MultinomialNB</label><div class=\"sk-toggleable__content\"><pre>MultinomialNB()</pre></div></div></div></div></div>"
      ],
      "text/plain": [
       "MultinomialNB()"
      ]
     },
     "execution_count": 23,
     "metadata": {},
     "output_type": "execute_result"
    }
   ],
   "source": [
    "classifier.fit(x_train, y_train) #training the model with our CV-d text data and labels"
   ]
  },
  {
   "cell_type": "code",
   "execution_count": 24,
   "id": "e208da58",
   "metadata": {},
   "outputs": [],
   "source": [
    "# I want the number of tokens labeled correctly, the number of tokens labeled incorrectly and the accuracy of the model\n",
    "\n",
    "correct = (y_test == classifier.predict(x_test)).sum()"
   ]
  },
  {
   "cell_type": "code",
   "execution_count": 25,
   "id": "32afe5cb",
   "metadata": {},
   "outputs": [
    {
     "name": "stdout",
     "output_type": "stream",
     "text": [
      "7361 samples classified correctly.\n"
     ]
    }
   ],
   "source": [
    "print(f'{correct} samples classified correctly.')"
   ]
  },
  {
   "cell_type": "code",
   "execution_count": 26,
   "id": "fdb9b319",
   "metadata": {},
   "outputs": [],
   "source": [
    "incorrect = y_test.size - correct"
   ]
  },
  {
   "cell_type": "code",
   "execution_count": 27,
   "id": "aaf0197f",
   "metadata": {
    "scrolled": true
   },
   "outputs": [
    {
     "name": "stdout",
     "output_type": "stream",
     "text": [
      "Samples classified incorrectly: 357.\n"
     ]
    }
   ],
   "source": [
    "print(f'Samples classified incorrectly: {incorrect}.')"
   ]
  },
  {
   "cell_type": "code",
   "execution_count": 28,
   "id": "1b66b95f",
   "metadata": {},
   "outputs": [],
   "source": [
    "accuracy = incorrect / (incorrect + correct)"
   ]
  },
  {
   "cell_type": "code",
   "execution_count": 29,
   "id": "4a798fe3",
   "metadata": {
    "scrolled": true
   },
   "outputs": [
    {
     "name": "stdout",
     "output_type": "stream",
     "text": [
      "The accuracy of the Naive Bayes model is: 95.37%.\n"
     ]
    }
   ],
   "source": [
    "print(f'The accuracy of the Naive Bayes model is: {1-accuracy:.2%}.') #.2% converts the result into percentage"
   ]
  },
  {
   "cell_type": "code",
   "execution_count": 30,
   "id": "381d8dbc",
   "metadata": {},
   "outputs": [],
   "source": [
    "#there is a method of scikit to calculate accuracy"
   ]
  },
  {
   "cell_type": "code",
   "execution_count": 31,
   "id": "4dd76612",
   "metadata": {
    "scrolled": true
   },
   "outputs": [
    {
     "data": {
      "text/plain": [
       "0.9537444933920705"
      ]
     },
     "execution_count": 31,
     "metadata": {},
     "output_type": "execute_result"
    }
   ],
   "source": [
    "classifier.score(x_test, y_test)"
   ]
  },
  {
   "cell_type": "markdown",
   "id": "b34084be",
   "metadata": {},
   "source": [
    "The confusion matrix is another metric to measure the performance of a classification algorithm.\n",
    "The predicted binary classes are demonstrated in the columns of the matrix. \n",
    "The actual classes are in the rows of the matrix. \n",
    "\n",
    "True positives (TP): the cases for which the classifier predicted ‘real’ and the articles were actually real.\n",
    "True negatives (TN): the cases for which the classifier predicted ‘fake’ and the articles were actually fake.\n",
    "False positives (FP): the cases for which the classifier predicted ‘real’ but the articles were actually fake.\n",
    "False negatives (FN): the cases for which the classifier predicted ‘fake’ but the articles were actually real.\n",
    "\n",
    "In other words:\n",
    "true prediction = correct prediction\n",
    "false prediction = incorrect prediction\n",
    "positive/negative = prediction of the expected class (positive = fake, negative = true)"
   ]
  },
  {
   "cell_type": "code",
   "execution_count": 32,
   "id": "e7fe6719",
   "metadata": {},
   "outputs": [
    {
     "name": "stdout",
     "output_type": "stream",
     "text": [
      "[[3248  172]\n",
      " [ 185 4113]]\n"
     ]
    }
   ],
   "source": [
    "cm = confusion_matrix(y_test, classifier.predict(x_test))\n",
    "print(cm)\n",
    "\n",
    "#from the two arrays we get the number for TN, TP, FN, FP\n",
    "# first array(0=fake) TN, FP\n",
    "# second array(1=real) FN, TP\n",
    "\n",
    "# [[TN, FP]]\n",
    "# [[FN, TP]]"
   ]
  },
  {
   "cell_type": "code",
   "execution_count": 33,
   "id": "995317e4",
   "metadata": {},
   "outputs": [
    {
     "name": "stdout",
     "output_type": "stream",
     "text": [
      "Out of the 4298 actual fake articles, the model predicted incorrectly 185 articles as real, and it predicted 4113 correctly as fake.\n",
      "Out of the 3420 actual real articles, the model predicted correctly 3248 articles as real, and 172 times incorrectly.\n"
     ]
    }
   ],
   "source": [
    "TN = 4113\n",
    "TP = 3248\n",
    "FN = 172\n",
    "FP = 185\n",
    "\n",
    "accuracy_NB = (TP+TN) / (TP+TN+FP+FN)\n",
    "print(f'Out of the {TN+FP} actual fake articles, the model predicted incorrectly {FP} articles as real, and it predicted {TN} correctly as fake.')\n",
    "print(f'Out of the {FN+TP} actual real articles, the model predicted correctly {TP} articles as real, and {FN} times incorrectly.')"
   ]
  },
  {
   "cell_type": "code",
   "execution_count": 34,
   "id": "81110fad",
   "metadata": {
    "scrolled": true
   },
   "outputs": [
    {
     "name": "stdout",
     "output_type": "stream",
     "text": [
      "Out of the 4298 actual fake articles, the model predicted incorrectly 185 articles as real, and it predicted 4113 correctly as fake.\n",
      "Out of the 3420 actual real articles, the model predicted correctly 3248 articles as real, and 172 times incorrectly.\n"
     ]
    },
    {
     "data": {
      "image/png": "[encoded data removed]",
      "text/plain": [
       "<Figure size 432x288 with 2 Axes>"
      ]
     },
     "metadata": {
      "needs_background": "light"
     },
     "output_type": "display_data"
    }
   ],
   "source": [
    "# visualization of the confusion matrix\n",
    "\n",
    "sns.set_palette(palette='flare')\n",
    "\n",
    "group_names = ['True Neg','False Pos','False Neg','True Pos']\n",
    "group_counts = [\"{0:0.0f}\".format(value) for value in\n",
    "                cm.flatten()]\n",
    "group_percentages = [\"{0:.2%}\".format(value) for value in\n",
    "                     cm.flatten()/np.sum(cm)]\n",
    "labels = [f\"{v1}\\n{v2}\\n{v3}\" for v1, v2, v3 in\n",
    "          zip(group_names,group_counts,group_percentages)]\n",
    "labels = np.asarray(labels).reshape(2,2)\n",
    "sns.heatmap(cm, annot=labels, fmt=\"\")\n",
    "\n",
    "print(f'Out of the {TN+FP} actual fake articles, the model predicted incorrectly {FP} articles as real, and it predicted {TN} correctly as fake.')\n",
    "print(f'Out of the {FN+TP} actual real articles, the model predicted correctly {TP} articles as real, and {FN} times incorrectly.')"
   ]
  },
  {
   "cell_type": "markdown",
   "id": "a90c7bd1",
   "metadata": {},
   "source": [
    "Precision, recall and f1-score(there are methods for all in scikit library)\n",
    "\n",
    "Precision: it is the number of cases when the model predicts positive results.\n",
    "This is obtained by calculating: TP / (TP+FP)\n",
    "Precision is usually used when the goal is to limit the number of false positives (FP).\n",
    "\n",
    "Recall:  it is the number of cases when the model predicts the positive results out of positive cases.\n",
    "This is obtained by calculating: TP / (TP+FN)\n",
    "Also calles as True positive ratio.\n",
    "The goal is to limit the number of false negatives (FN).\n",
    "\n",
    "f1-score: the balance of the means of precision and recall:\n",
    "This is obtained by calculating: \n",
    "2 x (precision x recall) / (precision + recall)\n",
    "It is important for optimization. "
   ]
  },
  {
   "cell_type": "code",
   "execution_count": 35,
   "id": "fa5c4caf",
   "metadata": {},
   "outputs": [
    {
     "data": {
      "text/plain": [
       "0.9569567240577013"
      ]
     },
     "execution_count": 35,
     "metadata": {},
     "output_type": "execute_result"
    }
   ],
   "source": [
    "#calculating the recall score\n",
    "\n",
    "recall_score(y_test, classifier.predict(x_test))\n"
   ]
  },
  {
   "cell_type": "code",
   "execution_count": 36,
   "id": "e5c217b7",
   "metadata": {},
   "outputs": [
    {
     "data": {
      "text/plain": [
       "0.9598599766627771"
      ]
     },
     "execution_count": 36,
     "metadata": {},
     "output_type": "execute_result"
    }
   ],
   "source": [
    "#calculating the precision score\n",
    "\n",
    "precision_score(y_test, classifier.predict(x_test))"
   ]
  },
  {
   "cell_type": "code",
   "execution_count": 37,
   "id": "781e9595",
   "metadata": {},
   "outputs": [
    {
     "data": {
      "text/plain": [
       "0.9584061516952115"
      ]
     },
     "execution_count": 37,
     "metadata": {},
     "output_type": "execute_result"
    }
   ],
   "source": [
    "#calculating the f1 score\n",
    "\n",
    "f1_score(y_test, classifier.predict(x_test))"
   ]
  },
  {
   "cell_type": "code",
   "execution_count": 38,
   "id": "189a7d65",
   "metadata": {},
   "outputs": [
    {
     "name": "stdout",
     "output_type": "stream",
     "text": [
      "              precision    recall  f1-score   support\n",
      "\n",
      "           0       0.95      0.95      0.95      3420\n",
      "           1       0.96      0.96      0.96      4298\n",
      "\n",
      "    accuracy                           0.95      7718\n",
      "   macro avg       0.95      0.95      0.95      7718\n",
      "weighted avg       0.95      0.95      0.95      7718\n",
      "\n"
     ]
    }
   ],
   "source": [
    "print(classification_report(y_test, classifier.predict(x_test)))"
   ]
  },
  {
   "cell_type": "code",
   "execution_count": 39,
   "id": "8a9d578c",
   "metadata": {},
   "outputs": [
    {
     "data": {
      "image/png": "[encoded data removed]",
      "text/plain": [
       "<Figure size 432x288 with 1 Axes>"
      ]
     },
     "metadata": {
      "needs_background": "light"
     },
     "output_type": "display_data"
    }
   ],
   "source": [
    "#Plotting the ROC curve \n",
    "# It is created by plotting the true positive rate (TPR = recall) against the false positive rate (FPR = FP/(FP+TN)\n",
    "\n",
    "fpr, tpr, thresholds = roc_curve(y_test, classifier.predict(x_test))\n",
    "# create plot\n",
    "plt.plot(fpr, tpr, label='ROC curve')\n",
    "plt.plot([0, 1], [0, 1], 'k--', label='Random guess')\n",
    "_ = plt.xlabel('False Positive Rate')\n",
    "_ = plt.ylabel('True Positive Rate')\n",
    "_ = plt.title('ROC Curve')\n",
    "_ = plt.xlim([-0.02, 1])\n",
    "_ = plt.ylim([0, 1.02])\n",
    "_ = plt.legend(loc=\"lower right\")"
   ]
  },
  {
   "cell_type": "markdown",
   "id": "e68f8a01",
   "metadata": {},
   "source": [
    "The area under the ROC curve is a good measure of the performance of the classification algorithm. If it is near to the random guess line, the classifier is not performing well, whereas it gets better as the area gets close to 1. What we can see is that our classifier is very good at minimizing false negatives (fake which is classified as real) and true negatives (real articles which is classified as fake). We are talking about the area under the whole ROC curve, the result is not related to any particular threshold. So, we cannot really observe which is the best threshold to obtain useful predictions, but it is a good way for demonstrating the accuracy of the model."
   ]
  }
 ],
 "metadata": {
  "kernelspec": {
   "display_name": "Python 3 (ipykernel)",
   "language": "python",
   "name": "python3"
  },
  "language_info": {
   "codemirror_mode": {
    "name": "ipython",
    "version": 3
   },
   "file_extension": ".py",
   "mimetype": "text/x-python",
   "name": "python",
   "nbconvert_exporter": "python",
   "pygments_lexer": "ipython3",
   "version": "3.10.0"
  }
 },
 "nbformat": 4,
 "nbformat_minor": 5
}
