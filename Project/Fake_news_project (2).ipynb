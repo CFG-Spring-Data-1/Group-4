{
 "cells": [
  {
   "cell_type": "code",
   "execution_count": 1,
   "id": "29557748",
   "metadata": {},
   "outputs": [],
   "source": [
    "#datasets we use\n",
    "\n",
    "#1. https://www.kaggle.com/datasets/clmentbisaillon/fake-and-real-news-dataset\n",
    "# dataset with articles, mostly politics, labels: 1=fake, 0=real \n"
   ]
  },
  {
   "cell_type": "code",
   "execution_count": 2,
   "id": "3058ee2c",
   "metadata": {},
   "outputs": [],
   "source": [
    "import pandas as pd\n",
    "import numpy as np\n",
    "import seaborn as sns\n",
    "import matplotlib.pyplot as plt\n",
    "from sklearn.model_selection import train_test_split\n",
    "from sklearn.metrics import accuracy_score\n",
    "from sklearn.metrics import classification_report\n",
    "import re\n",
    "import string"
   ]
  },
  {
   "cell_type": "code",
   "execution_count": 3,
   "id": "867a540b",
   "metadata": {},
   "outputs": [],
   "source": [
    "# importing and combining the datasets, labelling them as follows: labels: 0=fake, 1=real\n",
    "\n",
    "import pandas as pd\n",
    "\n",
    "fake = pd.read_csv('Fake.csv')\n",
    "true = pd.read_csv('True.csv')\n",
    "true['label']=0\n",
    "fake['label']=1"
   ]
  },
  {
   "cell_type": "code",
   "execution_count": 4,
   "id": "ee82331f",
   "metadata": {
    "scrolled": true
   },
   "outputs": [
    {
     "data": {
      "text/html": [
       "<div>\n",
       "<style scoped>\n",
       "    .dataframe tbody tr th:only-of-type {\n",
       "        vertical-align: middle;\n",
       "    }\n",
       "\n",
       "    .dataframe tbody tr th {\n",
       "        vertical-align: top;\n",
       "    }\n",
       "\n",
       "    .dataframe thead th {\n",
       "        text-align: right;\n",
       "    }\n",
       "</style>\n",
       "<table border=\"1\" class=\"dataframe\">\n",
       "  <thead>\n",
       "    <tr style=\"text-align: right;\">\n",
       "      <th></th>\n",
       "      <th>title</th>\n",
       "      <th>text</th>\n",
       "      <th>subject</th>\n",
       "      <th>date</th>\n",
       "      <th>label</th>\n",
       "    </tr>\n",
       "  </thead>\n",
       "  <tbody>\n",
       "    <tr>\n",
       "      <th>0</th>\n",
       "      <td>As U.S. budget fight looms, Republicans flip t...</td>\n",
       "      <td>WASHINGTON (Reuters) - The head of a conservat...</td>\n",
       "      <td>politicsNews</td>\n",
       "      <td>December 31, 2017</td>\n",
       "      <td>0</td>\n",
       "    </tr>\n",
       "    <tr>\n",
       "      <th>1</th>\n",
       "      <td>U.S. military to accept transgender recruits o...</td>\n",
       "      <td>WASHINGTON (Reuters) - Transgender people will...</td>\n",
       "      <td>politicsNews</td>\n",
       "      <td>December 29, 2017</td>\n",
       "      <td>0</td>\n",
       "    </tr>\n",
       "    <tr>\n",
       "      <th>2</th>\n",
       "      <td>Senior U.S. Republican senator: 'Let Mr. Muell...</td>\n",
       "      <td>WASHINGTON (Reuters) - The special counsel inv...</td>\n",
       "      <td>politicsNews</td>\n",
       "      <td>December 31, 2017</td>\n",
       "      <td>0</td>\n",
       "    </tr>\n",
       "    <tr>\n",
       "      <th>3</th>\n",
       "      <td>FBI Russia probe helped by Australian diplomat...</td>\n",
       "      <td>WASHINGTON (Reuters) - Trump campaign adviser ...</td>\n",
       "      <td>politicsNews</td>\n",
       "      <td>December 30, 2017</td>\n",
       "      <td>0</td>\n",
       "    </tr>\n",
       "    <tr>\n",
       "      <th>4</th>\n",
       "      <td>Trump wants Postal Service to charge 'much mor...</td>\n",
       "      <td>SEATTLE/WASHINGTON (Reuters) - President Donal...</td>\n",
       "      <td>politicsNews</td>\n",
       "      <td>December 29, 2017</td>\n",
       "      <td>0</td>\n",
       "    </tr>\n",
       "  </tbody>\n",
       "</table>\n",
       "</div>"
      ],
      "text/plain": [
       "                                               title  \\\n",
       "0  As U.S. budget fight looms, Republicans flip t...   \n",
       "1  U.S. military to accept transgender recruits o...   \n",
       "2  Senior U.S. Republican senator: 'Let Mr. Muell...   \n",
       "3  FBI Russia probe helped by Australian diplomat...   \n",
       "4  Trump wants Postal Service to charge 'much mor...   \n",
       "\n",
       "                                                text       subject  \\\n",
       "0  WASHINGTON (Reuters) - The head of a conservat...  politicsNews   \n",
       "1  WASHINGTON (Reuters) - Transgender people will...  politicsNews   \n",
       "2  WASHINGTON (Reuters) - The special counsel inv...  politicsNews   \n",
       "3  WASHINGTON (Reuters) - Trump campaign adviser ...  politicsNews   \n",
       "4  SEATTLE/WASHINGTON (Reuters) - President Donal...  politicsNews   \n",
       "\n",
       "                 date  label  \n",
       "0  December 31, 2017       0  \n",
       "1  December 29, 2017       0  \n",
       "2  December 31, 2017       0  \n",
       "3  December 30, 2017       0  \n",
       "4  December 29, 2017       0  "
      ]
     },
     "execution_count": 4,
     "metadata": {},
     "output_type": "execute_result"
    }
   ],
   "source": [
    "true.head()"
   ]
  },
  {
   "cell_type": "code",
   "execution_count": 5,
   "id": "3f8fe77b",
   "metadata": {
    "scrolled": true
   },
   "outputs": [
    {
     "name": "stderr",
     "output_type": "stream",
     "text": [
      "C:\\Users\\janka\\AppData\\Local\\Temp\\ipykernel_16176\\2590082196.py:1: FutureWarning: The frame.append method is deprecated and will be removed from pandas in a future version. Use pandas.concat instead.\n",
      "  final = true.append(fake)\n"
     ]
    },
    {
     "data": {
      "text/html": [
       "<div>\n",
       "<style scoped>\n",
       "    .dataframe tbody tr th:only-of-type {\n",
       "        vertical-align: middle;\n",
       "    }\n",
       "\n",
       "    .dataframe tbody tr th {\n",
       "        vertical-align: top;\n",
       "    }\n",
       "\n",
       "    .dataframe thead th {\n",
       "        text-align: right;\n",
       "    }\n",
       "</style>\n",
       "<table border=\"1\" class=\"dataframe\">\n",
       "  <thead>\n",
       "    <tr style=\"text-align: right;\">\n",
       "      <th></th>\n",
       "      <th>title</th>\n",
       "      <th>text</th>\n",
       "      <th>subject</th>\n",
       "      <th>date</th>\n",
       "      <th>label</th>\n",
       "    </tr>\n",
       "  </thead>\n",
       "  <tbody>\n",
       "    <tr>\n",
       "      <th>0</th>\n",
       "      <td>As U.S. budget fight looms, Republicans flip t...</td>\n",
       "      <td>WASHINGTON (Reuters) - The head of a conservat...</td>\n",
       "      <td>politicsNews</td>\n",
       "      <td>December 31, 2017</td>\n",
       "      <td>0</td>\n",
       "    </tr>\n",
       "    <tr>\n",
       "      <th>1</th>\n",
       "      <td>U.S. military to accept transgender recruits o...</td>\n",
       "      <td>WASHINGTON (Reuters) - Transgender people will...</td>\n",
       "      <td>politicsNews</td>\n",
       "      <td>December 29, 2017</td>\n",
       "      <td>0</td>\n",
       "    </tr>\n",
       "    <tr>\n",
       "      <th>2</th>\n",
       "      <td>Senior U.S. Republican senator: 'Let Mr. Muell...</td>\n",
       "      <td>WASHINGTON (Reuters) - The special counsel inv...</td>\n",
       "      <td>politicsNews</td>\n",
       "      <td>December 31, 2017</td>\n",
       "      <td>0</td>\n",
       "    </tr>\n",
       "    <tr>\n",
       "      <th>3</th>\n",
       "      <td>FBI Russia probe helped by Australian diplomat...</td>\n",
       "      <td>WASHINGTON (Reuters) - Trump campaign adviser ...</td>\n",
       "      <td>politicsNews</td>\n",
       "      <td>December 30, 2017</td>\n",
       "      <td>0</td>\n",
       "    </tr>\n",
       "    <tr>\n",
       "      <th>4</th>\n",
       "      <td>Trump wants Postal Service to charge 'much mor...</td>\n",
       "      <td>SEATTLE/WASHINGTON (Reuters) - President Donal...</td>\n",
       "      <td>politicsNews</td>\n",
       "      <td>December 29, 2017</td>\n",
       "      <td>0</td>\n",
       "    </tr>\n",
       "  </tbody>\n",
       "</table>\n",
       "</div>"
      ],
      "text/plain": [
       "                                               title  \\\n",
       "0  As U.S. budget fight looms, Republicans flip t...   \n",
       "1  U.S. military to accept transgender recruits o...   \n",
       "2  Senior U.S. Republican senator: 'Let Mr. Muell...   \n",
       "3  FBI Russia probe helped by Australian diplomat...   \n",
       "4  Trump wants Postal Service to charge 'much mor...   \n",
       "\n",
       "                                                text       subject  \\\n",
       "0  WASHINGTON (Reuters) - The head of a conservat...  politicsNews   \n",
       "1  WASHINGTON (Reuters) - Transgender people will...  politicsNews   \n",
       "2  WASHINGTON (Reuters) - The special counsel inv...  politicsNews   \n",
       "3  WASHINGTON (Reuters) - Trump campaign adviser ...  politicsNews   \n",
       "4  SEATTLE/WASHINGTON (Reuters) - President Donal...  politicsNews   \n",
       "\n",
       "                 date  label  \n",
       "0  December 31, 2017       0  \n",
       "1  December 29, 2017       0  \n",
       "2  December 31, 2017       0  \n",
       "3  December 30, 2017       0  \n",
       "4  December 29, 2017       0  "
      ]
     },
     "execution_count": 5,
     "metadata": {},
     "output_type": "execute_result"
    }
   ],
   "source": [
    "final = true.append(fake)\n",
    "final.head()"
   ]
  },
  {
   "cell_type": "code",
   "execution_count": 6,
   "id": "c792d490",
   "metadata": {},
   "outputs": [
    {
     "data": {
      "text/plain": [
       "title      0\n",
       "text       0\n",
       "subject    0\n",
       "date       0\n",
       "label      0\n",
       "dtype: int64"
      ]
     },
     "execution_count": 6,
     "metadata": {},
     "output_type": "execute_result"
    }
   ],
   "source": [
    "#EDA with final dataset\n",
    "# no NULL values\n",
    "final.isnull().sum()"
   ]
  },
  {
   "cell_type": "code",
   "execution_count": 7,
   "id": "c8338b54",
   "metadata": {},
   "outputs": [
    {
     "data": {
      "text/plain": [
       "(44898, 5)"
      ]
     },
     "execution_count": 7,
     "metadata": {},
     "output_type": "execute_result"
    }
   ],
   "source": [
    "# Checking the DF size\n",
    "final.shape\n",
    "#There are 44898 rows and 5 columns - we don't need all columns"
   ]
  },
  {
   "cell_type": "code",
   "execution_count": 8,
   "id": "b744de8d",
   "metadata": {
    "scrolled": true
   },
   "outputs": [
    {
     "name": "stdout",
     "output_type": "stream",
     "text": [
      "<class 'pandas.core.frame.DataFrame'>\n",
      "Int64Index: 44898 entries, 0 to 23480\n",
      "Data columns (total 5 columns):\n",
      " #   Column   Non-Null Count  Dtype \n",
      "---  ------   --------------  ----- \n",
      " 0   title    44898 non-null  object\n",
      " 1   text     44898 non-null  object\n",
      " 2   subject  44898 non-null  object\n",
      " 3   date     44898 non-null  object\n",
      " 4   label    44898 non-null  int64 \n",
      "dtypes: int64(1), object(4)\n",
      "memory usage: 2.1+ MB\n"
     ]
    }
   ],
   "source": [
    "final.info()"
   ]
  },
  {
   "cell_type": "code",
   "execution_count": 9,
   "id": "36954b38",
   "metadata": {},
   "outputs": [
    {
     "data": {
      "text/plain": [
       "1    23481\n",
       "0    21417\n",
       "Name: label, dtype: int64"
      ]
     },
     "execution_count": 9,
     "metadata": {},
     "output_type": "execute_result"
    }
   ],
   "source": [
    "# Lets see how the texts are labled and distributed\n",
    "final['label'].value_counts()\n",
    "\n",
    "#23481 articles are real, 21417 articles are fake"
   ]
  },
  {
   "cell_type": "code",
   "execution_count": 10,
   "id": "18bdb262",
   "metadata": {},
   "outputs": [
    {
     "name": "stdout",
     "output_type": "stream",
     "text": [
      "<class 'pandas.core.frame.DataFrame'>\n",
      "Int64Index: 44898 entries, 0 to 23480\n",
      "Data columns (total 6 columns):\n",
      " #   Column   Non-Null Count  Dtype \n",
      "---  ------   --------------  ----- \n",
      " 0   title    44898 non-null  object\n",
      " 1   text     44898 non-null  object\n",
      " 2   subject  44898 non-null  object\n",
      " 3   date     44898 non-null  object\n",
      " 4   label    44898 non-null  int64 \n",
      " 5   length   44898 non-null  int64 \n",
      "dtypes: int64(2), object(4)\n",
      "memory usage: 2.4+ MB\n"
     ]
    }
   ],
   "source": [
    "#adding a length column where the characters of text column was counted\n",
    "final['length'] = final['text'].apply(len)\n",
    "final.info()"
   ]
  },
  {
   "cell_type": "code",
   "execution_count": 11,
   "id": "49352672",
   "metadata": {},
   "outputs": [],
   "source": [
    "# extracting the number of examples of each class 1 is real, 0 is fake\n",
    "real = final[final['label'] == 0].shape[0]\n",
    "fake = final[final['label'] == 1].shape[0]"
   ]
  },
  {
   "cell_type": "code",
   "execution_count": 12,
   "id": "4c9ddcfa",
   "metadata": {
    "scrolled": false
   },
   "outputs": [
    {
     "name": "stdout",
     "output_type": "stream",
     "text": [
      "Null values in data:\n",
      "title      0\n",
      "text       0\n",
      "subject    0\n",
      "date       0\n",
      "label      0\n",
      "length     0\n",
      "dtype: int64\n"
     ]
    }
   ],
   "source": [
    "# how many null values in the dataset\n",
    "# these only check for int64 data types, label and length column does not have null values\n",
    "print(\"Null values in data:\")\n",
    "print(final.isnull().sum())"
   ]
  },
  {
   "cell_type": "code",
   "execution_count": 13,
   "id": "0e9ec705",
   "metadata": {},
   "outputs": [
    {
     "data": {
      "text/html": [
       "<div>\n",
       "<style scoped>\n",
       "    .dataframe tbody tr th:only-of-type {\n",
       "        vertical-align: middle;\n",
       "    }\n",
       "\n",
       "    .dataframe tbody tr th {\n",
       "        vertical-align: top;\n",
       "    }\n",
       "\n",
       "    .dataframe thead th {\n",
       "        text-align: right;\n",
       "    }\n",
       "</style>\n",
       "<table border=\"1\" class=\"dataframe\">\n",
       "  <thead>\n",
       "    <tr style=\"text-align: right;\">\n",
       "      <th></th>\n",
       "      <th>title</th>\n",
       "      <th>text</th>\n",
       "      <th>subject</th>\n",
       "      <th>date</th>\n",
       "      <th>label</th>\n",
       "      <th>length</th>\n",
       "    </tr>\n",
       "  </thead>\n",
       "  <tbody>\n",
       "    <tr>\n",
       "      <th>8970</th>\n",
       "      <td>Graphic: Supreme Court roundup</td>\n",
       "      <td>NaN</td>\n",
       "      <td>politicsNews</td>\n",
       "      <td>June 16, 2016</td>\n",
       "      <td>0</td>\n",
       "      <td>1</td>\n",
       "    </tr>\n",
       "    <tr>\n",
       "      <th>10923</th>\n",
       "      <td>TAKE OUR POLL: Who Do You Think President Trum...</td>\n",
       "      <td>NaN</td>\n",
       "      <td>politics</td>\n",
       "      <td>May 10, 2017</td>\n",
       "      <td>1</td>\n",
       "      <td>1</td>\n",
       "    </tr>\n",
       "    <tr>\n",
       "      <th>11041</th>\n",
       "      <td>Joe Scarborough BERATES Mika Brzezinski Over “...</td>\n",
       "      <td>NaN</td>\n",
       "      <td>politics</td>\n",
       "      <td>Apr 26, 2017</td>\n",
       "      <td>1</td>\n",
       "      <td>1</td>\n",
       "    </tr>\n",
       "    <tr>\n",
       "      <th>11190</th>\n",
       "      <td>WATCH TUCKER CARLSON Scorch Sanctuary City May...</td>\n",
       "      <td>NaN</td>\n",
       "      <td>politics</td>\n",
       "      <td>Apr 6, 2017</td>\n",
       "      <td>1</td>\n",
       "      <td>1</td>\n",
       "    </tr>\n",
       "    <tr>\n",
       "      <th>11225</th>\n",
       "      <td>MAYOR OF SANCTUARY CITY: Trump Trying To Make ...</td>\n",
       "      <td>NaN</td>\n",
       "      <td>politics</td>\n",
       "      <td>Apr 2, 2017</td>\n",
       "      <td>1</td>\n",
       "      <td>1</td>\n",
       "    </tr>\n",
       "    <tr>\n",
       "      <th>...</th>\n",
       "      <td>...</td>\n",
       "      <td>...</td>\n",
       "      <td>...</td>\n",
       "      <td>...</td>\n",
       "      <td>...</td>\n",
       "      <td>...</td>\n",
       "    </tr>\n",
       "    <tr>\n",
       "      <th>21816</th>\n",
       "      <td>BALTIMORE BURNS: MARYLAND GOVERNOR BRINGS IN N...</td>\n",
       "      <td>NaN</td>\n",
       "      <td>left-news</td>\n",
       "      <td>Apr 27, 2015</td>\n",
       "      <td>1</td>\n",
       "      <td>1</td>\n",
       "    </tr>\n",
       "    <tr>\n",
       "      <th>21826</th>\n",
       "      <td>FULL VIDEO: THE BLOCKBUSTER INVESTIGATION INTO...</td>\n",
       "      <td>NaN</td>\n",
       "      <td>left-news</td>\n",
       "      <td>Apr 25, 2015</td>\n",
       "      <td>1</td>\n",
       "      <td>1</td>\n",
       "    </tr>\n",
       "    <tr>\n",
       "      <th>21827</th>\n",
       "      <td>(VIDEO) HILLARY CLINTON: RELIGIOUS BELIEFS MUS...</td>\n",
       "      <td>NaN</td>\n",
       "      <td>left-news</td>\n",
       "      <td>Apr 25, 2015</td>\n",
       "      <td>1</td>\n",
       "      <td>1</td>\n",
       "    </tr>\n",
       "    <tr>\n",
       "      <th>21857</th>\n",
       "      <td>(VIDEO)ICE PROTECTING OBAMA: WON’T RELEASE NAM...</td>\n",
       "      <td>NaN</td>\n",
       "      <td>left-news</td>\n",
       "      <td>Apr 14, 2015</td>\n",
       "      <td>1</td>\n",
       "      <td>1</td>\n",
       "    </tr>\n",
       "    <tr>\n",
       "      <th>21873</th>\n",
       "      <td>(VIDEO) HYSTERICAL SNL TAKE ON HILLARY’S ANNOU...</td>\n",
       "      <td>NaN</td>\n",
       "      <td>left-news</td>\n",
       "      <td>Apr 12, 2015</td>\n",
       "      <td>1</td>\n",
       "      <td>1</td>\n",
       "    </tr>\n",
       "  </tbody>\n",
       "</table>\n",
       "<p>627 rows × 6 columns</p>\n",
       "</div>"
      ],
      "text/plain": [
       "                                                   title text       subject  \\\n",
       "8970                      Graphic: Supreme Court roundup  NaN  politicsNews   \n",
       "10923  TAKE OUR POLL: Who Do You Think President Trum...  NaN      politics   \n",
       "11041  Joe Scarborough BERATES Mika Brzezinski Over “...  NaN      politics   \n",
       "11190  WATCH TUCKER CARLSON Scorch Sanctuary City May...  NaN      politics   \n",
       "11225  MAYOR OF SANCTUARY CITY: Trump Trying To Make ...  NaN      politics   \n",
       "...                                                  ...  ...           ...   \n",
       "21816  BALTIMORE BURNS: MARYLAND GOVERNOR BRINGS IN N...  NaN     left-news   \n",
       "21826  FULL VIDEO: THE BLOCKBUSTER INVESTIGATION INTO...  NaN     left-news   \n",
       "21827  (VIDEO) HILLARY CLINTON: RELIGIOUS BELIEFS MUS...  NaN     left-news   \n",
       "21857  (VIDEO)ICE PROTECTING OBAMA: WON’T RELEASE NAM...  NaN     left-news   \n",
       "21873  (VIDEO) HYSTERICAL SNL TAKE ON HILLARY’S ANNOU...  NaN     left-news   \n",
       "\n",
       "                 date  label  length  \n",
       "8970   June 16, 2016       0       1  \n",
       "10923    May 10, 2017      1       1  \n",
       "11041    Apr 26, 2017      1       1  \n",
       "11190     Apr 6, 2017      1       1  \n",
       "11225     Apr 2, 2017      1       1  \n",
       "...               ...    ...     ...  \n",
       "21816    Apr 27, 2015      1       1  \n",
       "21826    Apr 25, 2015      1       1  \n",
       "21827    Apr 25, 2015      1       1  \n",
       "21857    Apr 14, 2015      1       1  \n",
       "21873    Apr 12, 2015      1       1  \n",
       "\n",
       "[627 rows x 6 columns]"
      ]
     },
     "execution_count": 13,
     "metadata": {},
     "output_type": "execute_result"
    }
   ],
   "source": [
    "# how many nan values in the dataset\n",
    "    \n",
    "final = final.replace(' ', np.nan)                   # to replaca empty strings with nan values\n",
    "nan_values = final[final.isna().any(axis=1)]         # to get all rows with Na values\n",
    "nan_values                                     "
   ]
  },
  {
   "cell_type": "code",
   "execution_count": 14,
   "id": "d38945b9",
   "metadata": {},
   "outputs": [],
   "source": [
    "#dropping the values that are NaN\n",
    "\n",
    "final = final.dropna(how = 'all')\n",
    "final.drop(final[final.isna().any(axis=1)].index, inplace = True)"
   ]
  },
  {
   "cell_type": "code",
   "execution_count": 15,
   "id": "444a7508",
   "metadata": {},
   "outputs": [
    {
     "data": {
      "text/plain": [
       "(43660, 6)"
      ]
     },
     "execution_count": 15,
     "metadata": {},
     "output_type": "execute_result"
    }
   ],
   "source": [
    "final.shape\n",
    "#we have dropped 1238 rows in total with NaN values and values with empty strings"
   ]
  },
  {
   "cell_type": "code",
   "execution_count": 16,
   "id": "30130eab",
   "metadata": {
    "scrolled": true
   },
   "outputs": [
    {
     "data": {
      "text/html": [
       "<div>\n",
       "<style scoped>\n",
       "    .dataframe tbody tr th:only-of-type {\n",
       "        vertical-align: middle;\n",
       "    }\n",
       "\n",
       "    .dataframe tbody tr th {\n",
       "        vertical-align: top;\n",
       "    }\n",
       "\n",
       "    .dataframe thead th {\n",
       "        text-align: right;\n",
       "    }\n",
       "</style>\n",
       "<table border=\"1\" class=\"dataframe\">\n",
       "  <thead>\n",
       "    <tr style=\"text-align: right;\">\n",
       "      <th></th>\n",
       "      <th>title</th>\n",
       "      <th>text</th>\n",
       "      <th>subject</th>\n",
       "      <th>date</th>\n",
       "      <th>label</th>\n",
       "      <th>length</th>\n",
       "    </tr>\n",
       "  </thead>\n",
       "  <tbody>\n",
       "    <tr>\n",
       "      <th>count</th>\n",
       "      <td>43660</td>\n",
       "      <td>43660</td>\n",
       "      <td>43660</td>\n",
       "      <td>43660</td>\n",
       "      <td>43660.000000</td>\n",
       "      <td>43660.000000</td>\n",
       "    </tr>\n",
       "    <tr>\n",
       "      <th>unique</th>\n",
       "      <td>37731</td>\n",
       "      <td>38069</td>\n",
       "      <td>8</td>\n",
       "      <td>2397</td>\n",
       "      <td>NaN</td>\n",
       "      <td>NaN</td>\n",
       "    </tr>\n",
       "    <tr>\n",
       "      <th>top</th>\n",
       "      <td>Factbox: Trump fills top jobs for his administ...</td>\n",
       "      <td>(Reuters) - Highlights for U.S. President Dona...</td>\n",
       "      <td>politicsNews</td>\n",
       "      <td>November 30, 2017</td>\n",
       "      <td>NaN</td>\n",
       "      <td>NaN</td>\n",
       "    </tr>\n",
       "    <tr>\n",
       "      <th>freq</th>\n",
       "      <td>14</td>\n",
       "      <td>8</td>\n",
       "      <td>11261</td>\n",
       "      <td>161</td>\n",
       "      <td>NaN</td>\n",
       "      <td>NaN</td>\n",
       "    </tr>\n",
       "    <tr>\n",
       "      <th>mean</th>\n",
       "      <td>NaN</td>\n",
       "      <td>NaN</td>\n",
       "      <td>NaN</td>\n",
       "      <td>NaN</td>\n",
       "      <td>0.523454</td>\n",
       "      <td>2507.462093</td>\n",
       "    </tr>\n",
       "    <tr>\n",
       "      <th>std</th>\n",
       "      <td>NaN</td>\n",
       "      <td>NaN</td>\n",
       "      <td>NaN</td>\n",
       "      <td>NaN</td>\n",
       "      <td>0.499455</td>\n",
       "      <td>2173.168967</td>\n",
       "    </tr>\n",
       "    <tr>\n",
       "      <th>min</th>\n",
       "      <td>NaN</td>\n",
       "      <td>NaN</td>\n",
       "      <td>NaN</td>\n",
       "      <td>NaN</td>\n",
       "      <td>0.000000</td>\n",
       "      <td>2.000000</td>\n",
       "    </tr>\n",
       "    <tr>\n",
       "      <th>25%</th>\n",
       "      <td>NaN</td>\n",
       "      <td>NaN</td>\n",
       "      <td>NaN</td>\n",
       "      <td>NaN</td>\n",
       "      <td>0.000000</td>\n",
       "      <td>1299.000000</td>\n",
       "    </tr>\n",
       "    <tr>\n",
       "      <th>50%</th>\n",
       "      <td>NaN</td>\n",
       "      <td>NaN</td>\n",
       "      <td>NaN</td>\n",
       "      <td>NaN</td>\n",
       "      <td>1.000000</td>\n",
       "      <td>2212.000000</td>\n",
       "    </tr>\n",
       "    <tr>\n",
       "      <th>75%</th>\n",
       "      <td>NaN</td>\n",
       "      <td>NaN</td>\n",
       "      <td>NaN</td>\n",
       "      <td>NaN</td>\n",
       "      <td>1.000000</td>\n",
       "      <td>3126.000000</td>\n",
       "    </tr>\n",
       "    <tr>\n",
       "      <th>max</th>\n",
       "      <td>NaN</td>\n",
       "      <td>NaN</td>\n",
       "      <td>NaN</td>\n",
       "      <td>NaN</td>\n",
       "      <td>1.000000</td>\n",
       "      <td>51794.000000</td>\n",
       "    </tr>\n",
       "  </tbody>\n",
       "</table>\n",
       "</div>"
      ],
      "text/plain": [
       "                                                    title  \\\n",
       "count                                               43660   \n",
       "unique                                              37731   \n",
       "top     Factbox: Trump fills top jobs for his administ...   \n",
       "freq                                                   14   \n",
       "mean                                                  NaN   \n",
       "std                                                   NaN   \n",
       "min                                                   NaN   \n",
       "25%                                                   NaN   \n",
       "50%                                                   NaN   \n",
       "75%                                                   NaN   \n",
       "max                                                   NaN   \n",
       "\n",
       "                                                     text       subject  \\\n",
       "count                                               43660         43660   \n",
       "unique                                              38069             8   \n",
       "top     (Reuters) - Highlights for U.S. President Dona...  politicsNews   \n",
       "freq                                                    8         11261   \n",
       "mean                                                  NaN           NaN   \n",
       "std                                                   NaN           NaN   \n",
       "min                                                   NaN           NaN   \n",
       "25%                                                   NaN           NaN   \n",
       "50%                                                   NaN           NaN   \n",
       "75%                                                   NaN           NaN   \n",
       "max                                                   NaN           NaN   \n",
       "\n",
       "                      date         label        length  \n",
       "count                43660  43660.000000  43660.000000  \n",
       "unique                2397           NaN           NaN  \n",
       "top     November 30, 2017            NaN           NaN  \n",
       "freq                   161           NaN           NaN  \n",
       "mean                   NaN      0.523454   2507.462093  \n",
       "std                    NaN      0.499455   2173.168967  \n",
       "min                    NaN      0.000000      2.000000  \n",
       "25%                    NaN      0.000000   1299.000000  \n",
       "50%                    NaN      1.000000   2212.000000  \n",
       "75%                    NaN      1.000000   3126.000000  \n",
       "max                    NaN      1.000000  51794.000000  "
      ]
     },
     "execution_count": 16,
     "metadata": {},
     "output_type": "execute_result"
    }
   ],
   "source": [
    "final.describe(include='all')\n",
    "\n",
    "#as we have a mixed dataset with numeric and categorical data, we include all to display all datatype "
   ]
  },
  {
   "cell_type": "code",
   "execution_count": 17,
   "id": "ae6d2489",
   "metadata": {},
   "outputs": [
    {
     "data": {
      "text/html": [
       "<div>\n",
       "<style scoped>\n",
       "    .dataframe tbody tr th:only-of-type {\n",
       "        vertical-align: middle;\n",
       "    }\n",
       "\n",
       "    .dataframe tbody tr th {\n",
       "        vertical-align: top;\n",
       "    }\n",
       "\n",
       "    .dataframe thead th {\n",
       "        text-align: right;\n",
       "    }\n",
       "</style>\n",
       "<table border=\"1\" class=\"dataframe\">\n",
       "  <thead>\n",
       "    <tr style=\"text-align: right;\">\n",
       "      <th></th>\n",
       "      <th>label</th>\n",
       "      <th>length</th>\n",
       "    </tr>\n",
       "  </thead>\n",
       "  <tbody>\n",
       "    <tr>\n",
       "      <th>count</th>\n",
       "      <td>43660.000000</td>\n",
       "      <td>43660.000000</td>\n",
       "    </tr>\n",
       "    <tr>\n",
       "      <th>mean</th>\n",
       "      <td>0.523454</td>\n",
       "      <td>2507.462093</td>\n",
       "    </tr>\n",
       "    <tr>\n",
       "      <th>std</th>\n",
       "      <td>0.499455</td>\n",
       "      <td>2173.168967</td>\n",
       "    </tr>\n",
       "    <tr>\n",
       "      <th>min</th>\n",
       "      <td>0.000000</td>\n",
       "      <td>2.000000</td>\n",
       "    </tr>\n",
       "    <tr>\n",
       "      <th>25%</th>\n",
       "      <td>0.000000</td>\n",
       "      <td>1299.000000</td>\n",
       "    </tr>\n",
       "    <tr>\n",
       "      <th>50%</th>\n",
       "      <td>1.000000</td>\n",
       "      <td>2212.000000</td>\n",
       "    </tr>\n",
       "    <tr>\n",
       "      <th>75%</th>\n",
       "      <td>1.000000</td>\n",
       "      <td>3126.000000</td>\n",
       "    </tr>\n",
       "    <tr>\n",
       "      <th>max</th>\n",
       "      <td>1.000000</td>\n",
       "      <td>51794.000000</td>\n",
       "    </tr>\n",
       "  </tbody>\n",
       "</table>\n",
       "</div>"
      ],
      "text/plain": [
       "              label        length\n",
       "count  43660.000000  43660.000000\n",
       "mean       0.523454   2507.462093\n",
       "std        0.499455   2173.168967\n",
       "min        0.000000      2.000000\n",
       "25%        0.000000   1299.000000\n",
       "50%        1.000000   2212.000000\n",
       "75%        1.000000   3126.000000\n",
       "max        1.000000  51794.000000"
      ]
     },
     "execution_count": 17,
     "metadata": {},
     "output_type": "execute_result"
    }
   ],
   "source": [
    "#describing only numerical datatype:\n",
    "\n",
    "final.describe(include=[np.number])"
   ]
  },
  {
   "cell_type": "code",
   "execution_count": 18,
   "id": "a3d8a520",
   "metadata": {
    "scrolled": true
   },
   "outputs": [
    {
     "name": "stderr",
     "output_type": "stream",
     "text": [
      "C:\\Users\\janka\\AppData\\Local\\Temp\\ipykernel_16176\\999891621.py:2: DeprecationWarning: `np.object` is a deprecated alias for the builtin `object`. To silence this warning, use `object` by itself. Doing this will not modify any behavior and is safe. \n",
      "Deprecated in NumPy 1.20; for more details and guidance: https://numpy.org/devdocs/release/1.20.0-notes.html#deprecations\n",
      "  final.describe(include=[np.object])\n"
     ]
    },
    {
     "data": {
      "text/html": [
       "<div>\n",
       "<style scoped>\n",
       "    .dataframe tbody tr th:only-of-type {\n",
       "        vertical-align: middle;\n",
       "    }\n",
       "\n",
       "    .dataframe tbody tr th {\n",
       "        vertical-align: top;\n",
       "    }\n",
       "\n",
       "    .dataframe thead th {\n",
       "        text-align: right;\n",
       "    }\n",
       "</style>\n",
       "<table border=\"1\" class=\"dataframe\">\n",
       "  <thead>\n",
       "    <tr style=\"text-align: right;\">\n",
       "      <th></th>\n",
       "      <th>title</th>\n",
       "      <th>text</th>\n",
       "      <th>subject</th>\n",
       "      <th>date</th>\n",
       "    </tr>\n",
       "  </thead>\n",
       "  <tbody>\n",
       "    <tr>\n",
       "      <th>count</th>\n",
       "      <td>43660</td>\n",
       "      <td>43660</td>\n",
       "      <td>43660</td>\n",
       "      <td>43660</td>\n",
       "    </tr>\n",
       "    <tr>\n",
       "      <th>unique</th>\n",
       "      <td>37731</td>\n",
       "      <td>38069</td>\n",
       "      <td>8</td>\n",
       "      <td>2397</td>\n",
       "    </tr>\n",
       "    <tr>\n",
       "      <th>top</th>\n",
       "      <td>Factbox: Trump fills top jobs for his administ...</td>\n",
       "      <td>(Reuters) - Highlights for U.S. President Dona...</td>\n",
       "      <td>politicsNews</td>\n",
       "      <td>November 30, 2017</td>\n",
       "    </tr>\n",
       "    <tr>\n",
       "      <th>freq</th>\n",
       "      <td>14</td>\n",
       "      <td>8</td>\n",
       "      <td>11261</td>\n",
       "      <td>161</td>\n",
       "    </tr>\n",
       "  </tbody>\n",
       "</table>\n",
       "</div>"
      ],
      "text/plain": [
       "                                                    title  \\\n",
       "count                                               43660   \n",
       "unique                                              37731   \n",
       "top     Factbox: Trump fills top jobs for his administ...   \n",
       "freq                                                   14   \n",
       "\n",
       "                                                     text       subject  \\\n",
       "count                                               43660         43660   \n",
       "unique                                              38069             8   \n",
       "top     (Reuters) - Highlights for U.S. President Dona...  politicsNews   \n",
       "freq                                                    8         11261   \n",
       "\n",
       "                      date  \n",
       "count                43660  \n",
       "unique                2397  \n",
       "top     November 30, 2017   \n",
       "freq                   161  "
      ]
     },
     "execution_count": 18,
     "metadata": {},
     "output_type": "execute_result"
    }
   ],
   "source": [
    "#describing only string object datatype:\n",
    "final.describe(include=[np.object])\n"
   ]
  },
  {
   "cell_type": "code",
   "execution_count": 19,
   "id": "dd45f396",
   "metadata": {},
   "outputs": [],
   "source": [
    "#we have to get rid of duplicates\n",
    "final = final.apply(lambda x: x.astype(str).str.lower()).drop_duplicates(subset=['title', 'text'], keep='first')\n"
   ]
  },
  {
   "cell_type": "code",
   "execution_count": 20,
   "id": "29d6c241",
   "metadata": {},
   "outputs": [
    {
     "name": "stderr",
     "output_type": "stream",
     "text": [
      "C:\\Users\\janka\\AppData\\Local\\Temp\\ipykernel_16176\\1014965618.py:1: DeprecationWarning: `np.object` is a deprecated alias for the builtin `object`. To silence this warning, use `object` by itself. Doing this will not modify any behavior and is safe. \n",
      "Deprecated in NumPy 1.20; for more details and guidance: https://numpy.org/devdocs/release/1.20.0-notes.html#deprecations\n",
      "  final.describe(include=[np.object])\n"
     ]
    },
    {
     "data": {
      "text/html": [
       "<div>\n",
       "<style scoped>\n",
       "    .dataframe tbody tr th:only-of-type {\n",
       "        vertical-align: middle;\n",
       "    }\n",
       "\n",
       "    .dataframe tbody tr th {\n",
       "        vertical-align: top;\n",
       "    }\n",
       "\n",
       "    .dataframe thead th {\n",
       "        text-align: right;\n",
       "    }\n",
       "</style>\n",
       "<table border=\"1\" class=\"dataframe\">\n",
       "  <thead>\n",
       "    <tr style=\"text-align: right;\">\n",
       "      <th></th>\n",
       "      <th>title</th>\n",
       "      <th>text</th>\n",
       "      <th>subject</th>\n",
       "      <th>date</th>\n",
       "      <th>label</th>\n",
       "      <th>length</th>\n",
       "    </tr>\n",
       "  </thead>\n",
       "  <tbody>\n",
       "    <tr>\n",
       "      <th>count</th>\n",
       "      <td>38083</td>\n",
       "      <td>38083</td>\n",
       "      <td>38083</td>\n",
       "      <td>38083</td>\n",
       "      <td>38083</td>\n",
       "      <td>38083</td>\n",
       "    </tr>\n",
       "    <tr>\n",
       "      <th>unique</th>\n",
       "      <td>37730</td>\n",
       "      <td>38069</td>\n",
       "      <td>7</td>\n",
       "      <td>2397</td>\n",
       "      <td>2</td>\n",
       "      <td>6703</td>\n",
       "    </tr>\n",
       "    <tr>\n",
       "      <th>top</th>\n",
       "      <td>factbox: trump fills top jobs for his administ...</td>\n",
       "      <td>via: tmz</td>\n",
       "      <td>politicsnews</td>\n",
       "      <td>november 30, 2017</td>\n",
       "      <td>0</td>\n",
       "      <td>43</td>\n",
       "    </tr>\n",
       "    <tr>\n",
       "      <th>freq</th>\n",
       "      <td>14</td>\n",
       "      <td>2</td>\n",
       "      <td>11206</td>\n",
       "      <td>159</td>\n",
       "      <td>20620</td>\n",
       "      <td>40</td>\n",
       "    </tr>\n",
       "  </tbody>\n",
       "</table>\n",
       "</div>"
      ],
      "text/plain": [
       "                                                    title      text  \\\n",
       "count                                               38083     38083   \n",
       "unique                                              37730     38069   \n",
       "top     factbox: trump fills top jobs for his administ...  via: tmz   \n",
       "freq                                                   14         2   \n",
       "\n",
       "             subject                date  label length  \n",
       "count          38083               38083  38083  38083  \n",
       "unique             7                2397      2   6703  \n",
       "top     politicsnews  november 30, 2017       0     43  \n",
       "freq           11206                 159  20620     40  "
      ]
     },
     "execution_count": 20,
     "metadata": {},
     "output_type": "execute_result"
    }
   ],
   "source": [
    "final.describe(include=[np.object])\n"
   ]
  },
  {
   "cell_type": "code",
   "execution_count": 21,
   "id": "fdf63c03",
   "metadata": {},
   "outputs": [
    {
     "name": "stdout",
     "output_type": "stream",
     "text": [
      "Requirement already satisfied: bs4 in c:\\users\\janka\\pycharmprojects\\dataspec\\venv\\lib\\site-packages (0.0.1)\n",
      "Requirement already satisfied: beautifulsoup4 in c:\\users\\janka\\pycharmprojects\\dataspec\\venv\\lib\\site-packages (from bs4) (4.11.1)\n",
      "Requirement already satisfied: soupsieve>1.2 in c:\\users\\janka\\pycharmprojects\\dataspec\\venv\\lib\\site-packages (from beautifulsoup4->bs4) (2.3.2.post1)\n"
     ]
    },
    {
     "name": "stderr",
     "output_type": "stream",
     "text": [
      "WARNING: You are using pip version 21.1.2; however, version 22.1 is available.\n",
      "You should consider upgrading via the 'C:\\Users\\janka\\PycharmProjects\\dataspec\\venv\\Scripts\\python.exe -m pip install --upgrade pip' command.\n"
     ]
    }
   ],
   "source": [
    "#Data preparation for NLP\n",
    "#Real news seems to have source of publication which is not present in fake news set\n",
    "#These text have it at the beginning of the text such as\"WASHINGTON (Reuters)\".\n",
    "#Some are tweets from twitter \n",
    "#We have to delete these html remainders\n",
    "\n",
    "!pip install bs4"
   ]
  },
  {
   "cell_type": "code",
   "execution_count": 22,
   "id": "4939acef",
   "metadata": {},
   "outputs": [
    {
     "data": {
      "text/plain": [
       "10    jones certified u.s. senate winner despite moo...\n",
       "10     papa john’s founder retires, figures out raci...\n",
       "Name: title, dtype: object"
      ]
     },
     "execution_count": 22,
     "metadata": {},
     "output_type": "execute_result"
    }
   ],
   "source": [
    "# I experiment with first 10 rows, if I find the proper cleaning method I will apply it to the rest of the data\n",
    "first_title = final.title[10]\n",
    "first_title"
   ]
  },
  {
   "cell_type": "code",
   "execution_count": 23,
   "id": "7bd8b1d8",
   "metadata": {},
   "outputs": [
    {
     "name": "stdout",
     "output_type": "stream",
     "text": [
      "10    jones certified u.s. senate winner despite moo...\n",
      "10     papa john’s founder retires, figures out raci...\n",
      "Name: title, dtype: object\n"
     ]
    }
   ],
   "source": [
    "#removing html from titles\n",
    "\n",
    "tags_list = ['<p>' ,'</p>' , '<p*>',\n",
    "             '<ul>','</ul>',\n",
    "             '<li>','</li>',\n",
    "             '<br>',\n",
    "             '<strong>','</strong>',\n",
    "             '<span*>','</span>',\n",
    "             '<a href*>','</a>',\n",
    "             '<em>','</em>',\n",
    "            'reuter']\n",
    "\n",
    "for tag in tags_list:\n",
    "  final['title'].replace(to_replace=tag, value='', regex=True, inplace=True)\n",
    "print(first_title)"
   ]
  },
  {
   "cell_type": "code",
   "execution_count": 24,
   "id": "073a59aa",
   "metadata": {},
   "outputs": [
    {
     "name": "stdout",
     "output_type": "stream",
     "text": [
      "0    washington (s) - the head of a conservative re...\n",
      "1    washington (s) - transgender people will be al...\n",
      "2    washington (s) - the special counsel investiga...\n",
      "3    washington (s) - trump campaign adviser george...\n",
      "4    seattle/washington (s) - president donald trum...\n",
      "Name: text, dtype: object\n"
     ]
    }
   ],
   "source": [
    "tags_list = ['<p>' ,'</p>' , '<p*>',\n",
    "             '<ul>','</ul>',\n",
    "             '<li>','</li>',\n",
    "             '<br>',\n",
    "             '<strong>','</strong>',\n",
    "             '<span*>','</span>',\n",
    "             '<a href*>','</a>',\n",
    "             '<em>','</em>',\n",
    "            'reuter']\n",
    "\n",
    "for tag in tags_list:\n",
    "  final['text'].replace(to_replace=tag, value='', regex=True, inplace=True)\n",
    "print(final['text'].head())\n",
    "\n",
    "#still the names of the sources are there"
   ]
  },
  {
   "cell_type": "code",
   "execution_count": 25,
   "id": "c24573b8",
   "metadata": {
    "scrolled": true
   },
   "outputs": [
    {
     "data": {
      "text/plain": [
       "0     washington (s) - the head of a conservative re...\n",
       "1     washington (s) - transgender people will be al...\n",
       "2     washington (s) - the special counsel investiga...\n",
       "3     washington (s) - trump campaign adviser george...\n",
       "4     seattle/washington (s) - president donald trum...\n",
       "5     west palm beach, fla./washington (s) - the whi...\n",
       "6     west palm beach, fla (s) - president donald tr...\n",
       "7     the following statements were posted to the ve...\n",
       "8     the following statements were posted to the ve...\n",
       "9     washington (s) - alabama secretary of state jo...\n",
       "10    (s) - alabama officials on thursday certified ...\n",
       "11    new york/washington (s) - the new u.s. tax cod...\n",
       "12    the following statements were posted to the ve...\n",
       "13    the following statements were posted to the ve...\n",
       "14     (in dec. 25 story, in second paragraph, corre...\n",
       "15    (s) - a lottery drawing to settle a tied virgi...\n",
       "16    washington (s) - a georgian-american businessm...\n",
       "17    the following statements were posted to the ve...\n",
       "18    (s) - a u.s. appeals court in washington on tu...\n",
       "19    (s) - a gift-wrapped package addressed to u.s....\n",
       "20    washington (s) - a federal judge in seattle pa...\n",
       "21    new york (s) - the u.s. justice department has...\n",
       "22    (s) - a u.s. appeals court on friday said pres...\n",
       "23    washington (s) - a federal appeals court in wa...\n",
       "24    lima (s) - peru’s president pedro pablo kuczyn...\n",
       "25    washington (s) - u.s. president donald trump s...\n",
       "26    washington (s) - u.s. financial regulators sai...\n",
       "27    the following statements were posted to the ve...\n",
       "28    mexico city (s) - mexico’s finance ministry wi...\n",
       "29    washington (s) - u.s. senate majority leader m...\n",
       "30    (s) - democrat doug jones’ surprise victory ov...\n",
       "31    washington (s) - a summer spat between preside...\n",
       "32    washington (s) - steve bannon, a former top wh...\n",
       "33    vatican city (s) - callista gingrich, wife of ...\n",
       "34     king of prussia, pennsylvania/washington (s) ...\n",
       "35    (s) - the u.s. state department has told refug...\n",
       "36    washington (s) - the u.s. congress on thursday...\n",
       "37    (s) - the u.s. congress on thursday approved a...\n",
       "38    new york (s) - a federal judge in new york on ...\n",
       "39    washington (s) - legislation to provide $81 bi...\n",
       "40    the following statements were posted to the ve...\n",
       "41    washington (s) - the ethics probe into u.s. re...\n",
       "42    new york (s) - a federal appeals court in virg...\n",
       "43    washington (s) - the u.s. house of representat...\n",
       "44    washington (s) - democrats in the u.s. house o...\n",
       "45    san francisco (s) - a second u.s. judge on thu...\n",
       "46    washington (s) - two u.s. senators on thursday...\n",
       "47    washington (s) - u.s. interior secretary ryan ...\n",
       "48    washington (s) - the u.s. house of representat...\n",
       "49    washington (s) - the leaders of the u.s. intel...\n",
       "Name: text, dtype: object"
      ]
     },
     "execution_count": 25,
     "metadata": {},
     "output_type": "execute_result"
    }
   ],
   "source": [
    "final['text'].head(50)"
   ]
  },
  {
   "cell_type": "code",
   "execution_count": 26,
   "id": "604c0d9f",
   "metadata": {},
   "outputs": [],
   "source": [
    "final['text'] = final['text'].str.lstrip(\"(s) -\")\n"
   ]
  },
  {
   "cell_type": "code",
   "execution_count": 27,
   "id": "6fc809ae",
   "metadata": {
    "scrolled": false
   },
   "outputs": [
    {
     "data": {
      "text/html": [
       "<div>\n",
       "<style scoped>\n",
       "    .dataframe tbody tr th:only-of-type {\n",
       "        vertical-align: middle;\n",
       "    }\n",
       "\n",
       "    .dataframe tbody tr th {\n",
       "        vertical-align: top;\n",
       "    }\n",
       "\n",
       "    .dataframe thead th {\n",
       "        text-align: right;\n",
       "    }\n",
       "</style>\n",
       "<table border=\"1\" class=\"dataframe\">\n",
       "  <thead>\n",
       "    <tr style=\"text-align: right;\">\n",
       "      <th></th>\n",
       "      <th>0</th>\n",
       "      <th>1</th>\n",
       "      <th>2</th>\n",
       "    </tr>\n",
       "  </thead>\n",
       "  <tbody>\n",
       "    <tr>\n",
       "      <th>0</th>\n",
       "      <td>washington</td>\n",
       "      <td>the head of a conservative republican faction...</td>\n",
       "      <td>None</td>\n",
       "    </tr>\n",
       "    <tr>\n",
       "      <th>1</th>\n",
       "      <td>washington</td>\n",
       "      <td>transgender people will be allowed for the fi...</td>\n",
       "      <td>None</td>\n",
       "    </tr>\n",
       "    <tr>\n",
       "      <th>2</th>\n",
       "      <td>washington</td>\n",
       "      <td>the special counsel investigation of links be...</td>\n",
       "      <td>None</td>\n",
       "    </tr>\n",
       "    <tr>\n",
       "      <th>3</th>\n",
       "      <td>washington</td>\n",
       "      <td>trump campaign adviser george papadopoulos to...</td>\n",
       "      <td>None</td>\n",
       "    </tr>\n",
       "    <tr>\n",
       "      <th>4</th>\n",
       "      <td>eattle/washington</td>\n",
       "      <td>president donald trump called on the u.s. pos...</td>\n",
       "      <td>None</td>\n",
       "    </tr>\n",
       "    <tr>\n",
       "      <th>...</th>\n",
       "      <td>...</td>\n",
       "      <td>...</td>\n",
       "      <td>...</td>\n",
       "    </tr>\n",
       "    <tr>\n",
       "      <th>22698</th>\n",
       "      <td>21st century wire says all the world s a stage...</td>\n",
       "      <td>None</td>\n",
       "      <td>None</td>\n",
       "    </tr>\n",
       "    <tr>\n",
       "      <th>22699</th>\n",
       "      <td>randy johnson 21st century wirethe majority of...</td>\n",
       "      <td>None</td>\n",
       "      <td>None</td>\n",
       "    </tr>\n",
       "    <tr>\n",
       "      <th>22700</th>\n",
       "      <td>tune in to the alternate current radio network...</td>\n",
       "      <td>None</td>\n",
       "      <td>None</td>\n",
       "    </tr>\n",
       "    <tr>\n",
       "      <th>22701</th>\n",
       "      <td>21st century wire says a new front has just op...</td>\n",
       "      <td>None</td>\n",
       "      <td>None</td>\n",
       "    </tr>\n",
       "    <tr>\n",
       "      <th>22702</th>\n",
       "      <td>21st century wire says it s not that far away....</td>\n",
       "      <td>None</td>\n",
       "      <td>None</td>\n",
       "    </tr>\n",
       "  </tbody>\n",
       "</table>\n",
       "<p>38083 rows × 3 columns</p>\n",
       "</div>"
      ],
      "text/plain": [
       "                                                       0  \\\n",
       "0                                            washington    \n",
       "1                                            washington    \n",
       "2                                            washington    \n",
       "3                                            washington    \n",
       "4                                     eattle/washington    \n",
       "...                                                  ...   \n",
       "22698  21st century wire says all the world s a stage...   \n",
       "22699  randy johnson 21st century wirethe majority of...   \n",
       "22700  tune in to the alternate current radio network...   \n",
       "22701  21st century wire says a new front has just op...   \n",
       "22702  21st century wire says it s not that far away....   \n",
       "\n",
       "                                                       1     2  \n",
       "0       the head of a conservative republican faction...  None  \n",
       "1       transgender people will be allowed for the fi...  None  \n",
       "2       the special counsel investigation of links be...  None  \n",
       "3       trump campaign adviser george papadopoulos to...  None  \n",
       "4       president donald trump called on the u.s. pos...  None  \n",
       "...                                                  ...   ...  \n",
       "22698                                               None  None  \n",
       "22699                                               None  None  \n",
       "22700                                               None  None  \n",
       "22701                                               None  None  \n",
       "22702                                               None  None  \n",
       "\n",
       "[38083 rows x 3 columns]"
      ]
     },
     "execution_count": 27,
     "metadata": {},
     "output_type": "execute_result"
    }
   ],
   "source": [
    "final['text']\n",
    "data = final['text']\n",
    "    \n",
    "data = data.str.split(r\"(s) -\",regex=False, expand=True)\n",
    "\n",
    "# new data frame with split value columns\n",
    "data"
   ]
  },
  {
   "cell_type": "code",
   "execution_count": 28,
   "id": "e6719018",
   "metadata": {},
   "outputs": [
    {
     "data": {
      "text/plain": [
       "<bound method DataFrame.info of                                                        0  \\\n",
       "0                                            washington    \n",
       "1                                            washington    \n",
       "2                                            washington    \n",
       "3                                            washington    \n",
       "4                                     eattle/washington    \n",
       "...                                                  ...   \n",
       "22698  21st century wire says all the world s a stage...   \n",
       "22699  randy johnson 21st century wirethe majority of...   \n",
       "22700  tune in to the alternate current radio network...   \n",
       "22701  21st century wire says a new front has just op...   \n",
       "22702  21st century wire says it s not that far away....   \n",
       "\n",
       "                                                       1     2  \n",
       "0       the head of a conservative republican faction...  None  \n",
       "1       transgender people will be allowed for the fi...  None  \n",
       "2       the special counsel investigation of links be...  None  \n",
       "3       trump campaign adviser george papadopoulos to...  None  \n",
       "4       president donald trump called on the u.s. pos...  None  \n",
       "...                                                  ...   ...  \n",
       "22698                                               None  None  \n",
       "22699                                               None  None  \n",
       "22700                                               None  None  \n",
       "22701                                               None  None  \n",
       "22702                                               None  None  \n",
       "\n",
       "[38083 rows x 3 columns]>"
      ]
     },
     "execution_count": 28,
     "metadata": {},
     "output_type": "execute_result"
    }
   ],
   "source": [
    "data.info"
   ]
  },
  {
   "cell_type": "code",
   "execution_count": 29,
   "id": "bb3b74c6",
   "metadata": {},
   "outputs": [
    {
     "data": {
      "text/html": [
       "<div>\n",
       "<style scoped>\n",
       "    .dataframe tbody tr th:only-of-type {\n",
       "        vertical-align: middle;\n",
       "    }\n",
       "\n",
       "    .dataframe tbody tr th {\n",
       "        vertical-align: top;\n",
       "    }\n",
       "\n",
       "    .dataframe thead th {\n",
       "        text-align: right;\n",
       "    }\n",
       "</style>\n",
       "<table border=\"1\" class=\"dataframe\">\n",
       "  <thead>\n",
       "    <tr style=\"text-align: right;\">\n",
       "      <th></th>\n",
       "      <th>0</th>\n",
       "      <th>string</th>\n",
       "      <th>1</th>\n",
       "      <th>2</th>\n",
       "    </tr>\n",
       "  </thead>\n",
       "  <tbody>\n",
       "    <tr>\n",
       "      <th>0</th>\n",
       "      <td>washington</td>\n",
       "      <td>11</td>\n",
       "      <td>the head of a conservative republican faction...</td>\n",
       "      <td>None</td>\n",
       "    </tr>\n",
       "    <tr>\n",
       "      <th>1</th>\n",
       "      <td>washington</td>\n",
       "      <td>11</td>\n",
       "      <td>transgender people will be allowed for the fi...</td>\n",
       "      <td>None</td>\n",
       "    </tr>\n",
       "    <tr>\n",
       "      <th>2</th>\n",
       "      <td>washington</td>\n",
       "      <td>11</td>\n",
       "      <td>the special counsel investigation of links be...</td>\n",
       "      <td>None</td>\n",
       "    </tr>\n",
       "    <tr>\n",
       "      <th>3</th>\n",
       "      <td>washington</td>\n",
       "      <td>11</td>\n",
       "      <td>trump campaign adviser george papadopoulos to...</td>\n",
       "      <td>None</td>\n",
       "    </tr>\n",
       "    <tr>\n",
       "      <th>4</th>\n",
       "      <td>eattle/washington</td>\n",
       "      <td>18</td>\n",
       "      <td>president donald trump called on the u.s. pos...</td>\n",
       "      <td>None</td>\n",
       "    </tr>\n",
       "    <tr>\n",
       "      <th>...</th>\n",
       "      <td>...</td>\n",
       "      <td>...</td>\n",
       "      <td>...</td>\n",
       "      <td>...</td>\n",
       "    </tr>\n",
       "    <tr>\n",
       "      <th>22698</th>\n",
       "      <td>21st century wire says all the world s a stage...</td>\n",
       "      <td>7359</td>\n",
       "      <td>None</td>\n",
       "      <td>None</td>\n",
       "    </tr>\n",
       "    <tr>\n",
       "      <th>22699</th>\n",
       "      <td>randy johnson 21st century wirethe majority of...</td>\n",
       "      <td>26273</td>\n",
       "      <td>None</td>\n",
       "      <td>None</td>\n",
       "    </tr>\n",
       "    <tr>\n",
       "      <th>22700</th>\n",
       "      <td>tune in to the alternate current radio network...</td>\n",
       "      <td>1150</td>\n",
       "      <td>None</td>\n",
       "      <td>None</td>\n",
       "    </tr>\n",
       "    <tr>\n",
       "      <th>22701</th>\n",
       "      <td>21st century wire says a new front has just op...</td>\n",
       "      <td>20651</td>\n",
       "      <td>None</td>\n",
       "      <td>None</td>\n",
       "    </tr>\n",
       "    <tr>\n",
       "      <th>22702</th>\n",
       "      <td>21st century wire says it s not that far away....</td>\n",
       "      <td>5749</td>\n",
       "      <td>None</td>\n",
       "      <td>None</td>\n",
       "    </tr>\n",
       "  </tbody>\n",
       "</table>\n",
       "<p>38083 rows × 4 columns</p>\n",
       "</div>"
      ],
      "text/plain": [
       "                                                       0  string  \\\n",
       "0                                            washington       11   \n",
       "1                                            washington       11   \n",
       "2                                            washington       11   \n",
       "3                                            washington       11   \n",
       "4                                     eattle/washington       18   \n",
       "...                                                  ...     ...   \n",
       "22698  21st century wire says all the world s a stage...    7359   \n",
       "22699  randy johnson 21st century wirethe majority of...   26273   \n",
       "22700  tune in to the alternate current radio network...    1150   \n",
       "22701  21st century wire says a new front has just op...   20651   \n",
       "22702  21st century wire says it s not that far away....    5749   \n",
       "\n",
       "                                                       1     2  \n",
       "0       the head of a conservative republican faction...  None  \n",
       "1       transgender people will be allowed for the fi...  None  \n",
       "2       the special counsel investigation of links be...  None  \n",
       "3       trump campaign adviser george papadopoulos to...  None  \n",
       "4       president donald trump called on the u.s. pos...  None  \n",
       "...                                                  ...   ...  \n",
       "22698                                               None  None  \n",
       "22699                                               None  None  \n",
       "22700                                               None  None  \n",
       "22701                                               None  None  \n",
       "22702                                               None  None  \n",
       "\n",
       "[38083 rows x 4 columns]"
      ]
     },
     "execution_count": 29,
     "metadata": {},
     "output_type": "execute_result"
    }
   ],
   "source": [
    "data.insert(loc=1, column=\"string\", value=(data[0].str.len()))\n",
    "data"
   ]
  },
  {
   "cell_type": "code",
   "execution_count": 30,
   "id": "4bad2751",
   "metadata": {},
   "outputs": [],
   "source": [
    "df2 = data.loc[data[1].isna()]\n",
    "# extracting the values of the cleaned data - after the split, the original articles WHICH did not need cleaning >\n",
    "# did not split - stayed at index0\n",
    "# filtering out by NA values of index[1]"
   ]
  },
  {
   "cell_type": "code",
   "execution_count": 31,
   "id": "59aee9b2",
   "metadata": {},
   "outputs": [
    {
     "data": {
      "text/html": [
       "<div>\n",
       "<style scoped>\n",
       "    .dataframe tbody tr th:only-of-type {\n",
       "        vertical-align: middle;\n",
       "    }\n",
       "\n",
       "    .dataframe tbody tr th {\n",
       "        vertical-align: top;\n",
       "    }\n",
       "\n",
       "    .dataframe thead th {\n",
       "        text-align: right;\n",
       "    }\n",
       "</style>\n",
       "<table border=\"1\" class=\"dataframe\">\n",
       "  <thead>\n",
       "    <tr style=\"text-align: right;\">\n",
       "      <th></th>\n",
       "      <th>0</th>\n",
       "      <th>string</th>\n",
       "      <th>1</th>\n",
       "      <th>2</th>\n",
       "    </tr>\n",
       "  </thead>\n",
       "  <tbody>\n",
       "    <tr>\n",
       "      <th>7</th>\n",
       "      <td>the following statements were posted to the ve...</td>\n",
       "      <td>850</td>\n",
       "      <td>None</td>\n",
       "      <td>None</td>\n",
       "    </tr>\n",
       "    <tr>\n",
       "      <th>8</th>\n",
       "      <td>the following statements were posted to the ve...</td>\n",
       "      <td>626</td>\n",
       "      <td>None</td>\n",
       "      <td>None</td>\n",
       "    </tr>\n",
       "    <tr>\n",
       "      <th>10</th>\n",
       "      <td>alabama officials on thursday certified democr...</td>\n",
       "      <td>2355</td>\n",
       "      <td>None</td>\n",
       "      <td>None</td>\n",
       "    </tr>\n",
       "    <tr>\n",
       "      <th>12</th>\n",
       "      <td>the following statements were posted to the ve...</td>\n",
       "      <td>593</td>\n",
       "      <td>None</td>\n",
       "      <td>None</td>\n",
       "    </tr>\n",
       "    <tr>\n",
       "      <th>13</th>\n",
       "      <td>the following statements were posted to the ve...</td>\n",
       "      <td>1192</td>\n",
       "      <td>None</td>\n",
       "      <td>None</td>\n",
       "    </tr>\n",
       "    <tr>\n",
       "      <th>...</th>\n",
       "      <td>...</td>\n",
       "      <td>...</td>\n",
       "      <td>...</td>\n",
       "      <td>...</td>\n",
       "    </tr>\n",
       "    <tr>\n",
       "      <th>22698</th>\n",
       "      <td>21st century wire says all the world s a stage...</td>\n",
       "      <td>7359</td>\n",
       "      <td>None</td>\n",
       "      <td>None</td>\n",
       "    </tr>\n",
       "    <tr>\n",
       "      <th>22699</th>\n",
       "      <td>randy johnson 21st century wirethe majority of...</td>\n",
       "      <td>26273</td>\n",
       "      <td>None</td>\n",
       "      <td>None</td>\n",
       "    </tr>\n",
       "    <tr>\n",
       "      <th>22700</th>\n",
       "      <td>tune in to the alternate current radio network...</td>\n",
       "      <td>1150</td>\n",
       "      <td>None</td>\n",
       "      <td>None</td>\n",
       "    </tr>\n",
       "    <tr>\n",
       "      <th>22701</th>\n",
       "      <td>21st century wire says a new front has just op...</td>\n",
       "      <td>20651</td>\n",
       "      <td>None</td>\n",
       "      <td>None</td>\n",
       "    </tr>\n",
       "    <tr>\n",
       "      <th>22702</th>\n",
       "      <td>21st century wire says it s not that far away....</td>\n",
       "      <td>5749</td>\n",
       "      <td>None</td>\n",
       "      <td>None</td>\n",
       "    </tr>\n",
       "  </tbody>\n",
       "</table>\n",
       "<p>19081 rows × 4 columns</p>\n",
       "</div>"
      ],
      "text/plain": [
       "                                                       0  string     1     2\n",
       "7      the following statements were posted to the ve...     850  None  None\n",
       "8      the following statements were posted to the ve...     626  None  None\n",
       "10     alabama officials on thursday certified democr...    2355  None  None\n",
       "12     the following statements were posted to the ve...     593  None  None\n",
       "13     the following statements were posted to the ve...    1192  None  None\n",
       "...                                                  ...     ...   ...   ...\n",
       "22698  21st century wire says all the world s a stage...    7359  None  None\n",
       "22699  randy johnson 21st century wirethe majority of...   26273  None  None\n",
       "22700  tune in to the alternate current radio network...    1150  None  None\n",
       "22701  21st century wire says a new front has just op...   20651  None  None\n",
       "22702  21st century wire says it s not that far away....    5749  None  None\n",
       "\n",
       "[19081 rows x 4 columns]"
      ]
     },
     "execution_count": 31,
     "metadata": {},
     "output_type": "execute_result"
    }
   ],
   "source": [
    "df2"
   ]
  },
  {
   "cell_type": "code",
   "execution_count": 32,
   "id": "c246a79c",
   "metadata": {},
   "outputs": [],
   "source": [
    "df3 = data.loc[data[1].notna()]"
   ]
  },
  {
   "cell_type": "code",
   "execution_count": 33,
   "id": "e4abeb6b",
   "metadata": {
    "scrolled": true
   },
   "outputs": [
    {
     "data": {
      "text/html": [
       "<div>\n",
       "<style scoped>\n",
       "    .dataframe tbody tr th:only-of-type {\n",
       "        vertical-align: middle;\n",
       "    }\n",
       "\n",
       "    .dataframe tbody tr th {\n",
       "        vertical-align: top;\n",
       "    }\n",
       "\n",
       "    .dataframe thead th {\n",
       "        text-align: right;\n",
       "    }\n",
       "</style>\n",
       "<table border=\"1\" class=\"dataframe\">\n",
       "  <thead>\n",
       "    <tr style=\"text-align: right;\">\n",
       "      <th></th>\n",
       "      <th>0</th>\n",
       "      <th>string</th>\n",
       "      <th>1</th>\n",
       "      <th>2</th>\n",
       "    </tr>\n",
       "  </thead>\n",
       "  <tbody>\n",
       "    <tr>\n",
       "      <th>0</th>\n",
       "      <td>washington</td>\n",
       "      <td>11</td>\n",
       "      <td>the head of a conservative republican faction...</td>\n",
       "      <td>None</td>\n",
       "    </tr>\n",
       "    <tr>\n",
       "      <th>1</th>\n",
       "      <td>washington</td>\n",
       "      <td>11</td>\n",
       "      <td>transgender people will be allowed for the fi...</td>\n",
       "      <td>None</td>\n",
       "    </tr>\n",
       "    <tr>\n",
       "      <th>2</th>\n",
       "      <td>washington</td>\n",
       "      <td>11</td>\n",
       "      <td>the special counsel investigation of links be...</td>\n",
       "      <td>None</td>\n",
       "    </tr>\n",
       "    <tr>\n",
       "      <th>3</th>\n",
       "      <td>washington</td>\n",
       "      <td>11</td>\n",
       "      <td>trump campaign adviser george papadopoulos to...</td>\n",
       "      <td>None</td>\n",
       "    </tr>\n",
       "    <tr>\n",
       "      <th>4</th>\n",
       "      <td>eattle/washington</td>\n",
       "      <td>18</td>\n",
       "      <td>president donald trump called on the u.s. pos...</td>\n",
       "      <td>None</td>\n",
       "    </tr>\n",
       "    <tr>\n",
       "      <th>...</th>\n",
       "      <td>...</td>\n",
       "      <td>...</td>\n",
       "      <td>...</td>\n",
       "      <td>...</td>\n",
       "    </tr>\n",
       "    <tr>\n",
       "      <th>21412</th>\n",
       "      <td>brussels</td>\n",
       "      <td>9</td>\n",
       "      <td>nato allies on tuesday welcomed president don...</td>\n",
       "      <td>None</td>\n",
       "    </tr>\n",
       "    <tr>\n",
       "      <th>21413</th>\n",
       "      <td>london</td>\n",
       "      <td>7</td>\n",
       "      <td>lexisnexis, a provider of legal, regulatory a...</td>\n",
       "      <td>None</td>\n",
       "    </tr>\n",
       "    <tr>\n",
       "      <th>21414</th>\n",
       "      <td>minsk</td>\n",
       "      <td>6</td>\n",
       "      <td>in the shadow of disused soviet-era factories...</td>\n",
       "      <td>None</td>\n",
       "    </tr>\n",
       "    <tr>\n",
       "      <th>21415</th>\n",
       "      <td>moscow</td>\n",
       "      <td>7</td>\n",
       "      <td>vatican secretary of state cardinal pietro pa...</td>\n",
       "      <td>None</td>\n",
       "    </tr>\n",
       "    <tr>\n",
       "      <th>21416</th>\n",
       "      <td>jakarta</td>\n",
       "      <td>8</td>\n",
       "      <td>indonesia will buy 11 sukhoi fighter jets wor...</td>\n",
       "      <td>None</td>\n",
       "    </tr>\n",
       "  </tbody>\n",
       "</table>\n",
       "<p>19002 rows × 4 columns</p>\n",
       "</div>"
      ],
      "text/plain": [
       "                        0  string  \\\n",
       "0             washington       11   \n",
       "1             washington       11   \n",
       "2             washington       11   \n",
       "3             washington       11   \n",
       "4      eattle/washington       18   \n",
       "...                   ...     ...   \n",
       "21412           brussels        9   \n",
       "21413             london        7   \n",
       "21414              minsk        6   \n",
       "21415             moscow        7   \n",
       "21416            jakarta        8   \n",
       "\n",
       "                                                       1     2  \n",
       "0       the head of a conservative republican faction...  None  \n",
       "1       transgender people will be allowed for the fi...  None  \n",
       "2       the special counsel investigation of links be...  None  \n",
       "3       trump campaign adviser george papadopoulos to...  None  \n",
       "4       president donald trump called on the u.s. pos...  None  \n",
       "...                                                  ...   ...  \n",
       "21412   nato allies on tuesday welcomed president don...  None  \n",
       "21413   lexisnexis, a provider of legal, regulatory a...  None  \n",
       "21414   in the shadow of disused soviet-era factories...  None  \n",
       "21415   vatican secretary of state cardinal pietro pa...  None  \n",
       "21416   indonesia will buy 11 sukhoi fighter jets wor...  None  \n",
       "\n",
       "[19002 rows x 4 columns]"
      ]
     },
     "execution_count": 33,
     "metadata": {},
     "output_type": "execute_result"
    }
   ],
   "source": [
    "df3\n",
    "# extracting the values of the cleaned data - after the split, the original articles that needed cleaning split to 3\n",
    "# cleaned article starts at index[1] = filtering values out by not NA values at index[1]"
   ]
  },
  {
   "cell_type": "code",
   "execution_count": 34,
   "id": "ea42f839",
   "metadata": {},
   "outputs": [
    {
     "name": "stderr",
     "output_type": "stream",
     "text": [
      "C:\\Users\\janka\\AppData\\Local\\Temp\\ipykernel_16176\\1856237774.py:3: SettingWithCopyWarning: \n",
      "A value is trying to be set on a copy of a slice from a DataFrame\n",
      "\n",
      "See the caveats in the documentation: https://pandas.pydata.org/pandas-docs/stable/user_guide/indexing.html#returning-a-view-versus-a-copy\n",
      "  df2.drop(df2.columns[[1,2,3]], axis = 1, inplace = True)\n",
      "C:\\Users\\janka\\AppData\\Local\\Temp\\ipykernel_16176\\1856237774.py:4: SettingWithCopyWarning: \n",
      "A value is trying to be set on a copy of a slice from a DataFrame\n",
      "\n",
      "See the caveats in the documentation: https://pandas.pydata.org/pandas-docs/stable/user_guide/indexing.html#returning-a-view-versus-a-copy\n",
      "  df3.drop(df3.columns[[0,1,3]], axis = 1, inplace = True)\n",
      "C:\\Users\\janka\\AppData\\Local\\Temp\\ipykernel_16176\\1856237774.py:6: FutureWarning: The frame.append method is deprecated and will be removed from pandas in a future version. Use pandas.concat instead.\n",
      "  cleaned_text = df2.append(df3)\n"
     ]
    }
   ],
   "source": [
    "#dropping unwanted columns of the splits, then merging together \n",
    "\n",
    "df2.drop(df2.columns[[1,2,3]], axis = 1, inplace = True)\n",
    "df3.drop(df3.columns[[0,1,3]], axis = 1, inplace = True)\n",
    "\n",
    "cleaned_text = df2.append(df3)"
   ]
  },
  {
   "cell_type": "code",
   "execution_count": 35,
   "id": "ae282368",
   "metadata": {},
   "outputs": [
    {
     "name": "stderr",
     "output_type": "stream",
     "text": [
      "C:\\Users\\janka\\AppData\\Local\\Temp\\ipykernel_16176\\3812032264.py:1: FutureWarning: The frame.append method is deprecated and will be removed from pandas in a future version. Use pandas.concat instead.\n",
      "  cleaned_text = df2.append(df3)\n"
     ]
    },
    {
     "data": {
      "text/html": [
       "<div>\n",
       "<style scoped>\n",
       "    .dataframe tbody tr th:only-of-type {\n",
       "        vertical-align: middle;\n",
       "    }\n",
       "\n",
       "    .dataframe tbody tr th {\n",
       "        vertical-align: top;\n",
       "    }\n",
       "\n",
       "    .dataframe thead th {\n",
       "        text-align: right;\n",
       "    }\n",
       "</style>\n",
       "<table border=\"1\" class=\"dataframe\">\n",
       "  <thead>\n",
       "    <tr style=\"text-align: right;\">\n",
       "      <th></th>\n",
       "      <th>0</th>\n",
       "      <th>1</th>\n",
       "    </tr>\n",
       "  </thead>\n",
       "  <tbody>\n",
       "    <tr>\n",
       "      <th>7</th>\n",
       "      <td>the following statements were posted to the ve...</td>\n",
       "      <td>NaN</td>\n",
       "    </tr>\n",
       "    <tr>\n",
       "      <th>8</th>\n",
       "      <td>the following statements were posted to the ve...</td>\n",
       "      <td>NaN</td>\n",
       "    </tr>\n",
       "    <tr>\n",
       "      <th>10</th>\n",
       "      <td>alabama officials on thursday certified democr...</td>\n",
       "      <td>NaN</td>\n",
       "    </tr>\n",
       "    <tr>\n",
       "      <th>12</th>\n",
       "      <td>the following statements were posted to the ve...</td>\n",
       "      <td>NaN</td>\n",
       "    </tr>\n",
       "    <tr>\n",
       "      <th>13</th>\n",
       "      <td>the following statements were posted to the ve...</td>\n",
       "      <td>NaN</td>\n",
       "    </tr>\n",
       "    <tr>\n",
       "      <th>...</th>\n",
       "      <td>...</td>\n",
       "      <td>...</td>\n",
       "    </tr>\n",
       "    <tr>\n",
       "      <th>21412</th>\n",
       "      <td>NaN</td>\n",
       "      <td>nato allies on tuesday welcomed president don...</td>\n",
       "    </tr>\n",
       "    <tr>\n",
       "      <th>21413</th>\n",
       "      <td>NaN</td>\n",
       "      <td>lexisnexis, a provider of legal, regulatory a...</td>\n",
       "    </tr>\n",
       "    <tr>\n",
       "      <th>21414</th>\n",
       "      <td>NaN</td>\n",
       "      <td>in the shadow of disused soviet-era factories...</td>\n",
       "    </tr>\n",
       "    <tr>\n",
       "      <th>21415</th>\n",
       "      <td>NaN</td>\n",
       "      <td>vatican secretary of state cardinal pietro pa...</td>\n",
       "    </tr>\n",
       "    <tr>\n",
       "      <th>21416</th>\n",
       "      <td>NaN</td>\n",
       "      <td>indonesia will buy 11 sukhoi fighter jets wor...</td>\n",
       "    </tr>\n",
       "  </tbody>\n",
       "</table>\n",
       "<p>38083 rows × 2 columns</p>\n",
       "</div>"
      ],
      "text/plain": [
       "                                                       0  \\\n",
       "7      the following statements were posted to the ve...   \n",
       "8      the following statements were posted to the ve...   \n",
       "10     alabama officials on thursday certified democr...   \n",
       "12     the following statements were posted to the ve...   \n",
       "13     the following statements were posted to the ve...   \n",
       "...                                                  ...   \n",
       "21412                                                NaN   \n",
       "21413                                                NaN   \n",
       "21414                                                NaN   \n",
       "21415                                                NaN   \n",
       "21416                                                NaN   \n",
       "\n",
       "                                                       1  \n",
       "7                                                    NaN  \n",
       "8                                                    NaN  \n",
       "10                                                   NaN  \n",
       "12                                                   NaN  \n",
       "13                                                   NaN  \n",
       "...                                                  ...  \n",
       "21412   nato allies on tuesday welcomed president don...  \n",
       "21413   lexisnexis, a provider of legal, regulatory a...  \n",
       "21414   in the shadow of disused soviet-era factories...  \n",
       "21415   vatican secretary of state cardinal pietro pa...  \n",
       "21416   indonesia will buy 11 sukhoi fighter jets wor...  \n",
       "\n",
       "[38083 rows x 2 columns]"
      ]
     },
     "execution_count": 35,
     "metadata": {},
     "output_type": "execute_result"
    }
   ],
   "source": [
    "cleaned_text = df2.append(df3)\n",
    "cleaned_text"
   ]
  },
  {
   "cell_type": "code",
   "execution_count": 36,
   "id": "11becfa0",
   "metadata": {},
   "outputs": [],
   "source": [
    "cleaned_text[0].fillna(cleaned_text[1], inplace=True)\n",
    "\n",
    "#filling in the NAN values at index[0] with values from index[1]"
   ]
  },
  {
   "cell_type": "code",
   "execution_count": 37,
   "id": "9e973429",
   "metadata": {},
   "outputs": [
    {
     "data": {
      "text/html": [
       "<div>\n",
       "<style scoped>\n",
       "    .dataframe tbody tr th:only-of-type {\n",
       "        vertical-align: middle;\n",
       "    }\n",
       "\n",
       "    .dataframe tbody tr th {\n",
       "        vertical-align: top;\n",
       "    }\n",
       "\n",
       "    .dataframe thead th {\n",
       "        text-align: right;\n",
       "    }\n",
       "</style>\n",
       "<table border=\"1\" class=\"dataframe\">\n",
       "  <thead>\n",
       "    <tr style=\"text-align: right;\">\n",
       "      <th></th>\n",
       "      <th>0</th>\n",
       "      <th>1</th>\n",
       "    </tr>\n",
       "  </thead>\n",
       "  <tbody>\n",
       "    <tr>\n",
       "      <th>7</th>\n",
       "      <td>the following statements were posted to the ve...</td>\n",
       "      <td>NaN</td>\n",
       "    </tr>\n",
       "    <tr>\n",
       "      <th>8</th>\n",
       "      <td>the following statements were posted to the ve...</td>\n",
       "      <td>NaN</td>\n",
       "    </tr>\n",
       "    <tr>\n",
       "      <th>10</th>\n",
       "      <td>alabama officials on thursday certified democr...</td>\n",
       "      <td>NaN</td>\n",
       "    </tr>\n",
       "    <tr>\n",
       "      <th>12</th>\n",
       "      <td>the following statements were posted to the ve...</td>\n",
       "      <td>NaN</td>\n",
       "    </tr>\n",
       "    <tr>\n",
       "      <th>13</th>\n",
       "      <td>the following statements were posted to the ve...</td>\n",
       "      <td>NaN</td>\n",
       "    </tr>\n",
       "    <tr>\n",
       "      <th>...</th>\n",
       "      <td>...</td>\n",
       "      <td>...</td>\n",
       "    </tr>\n",
       "    <tr>\n",
       "      <th>21412</th>\n",
       "      <td>nato allies on tuesday welcomed president don...</td>\n",
       "      <td>nato allies on tuesday welcomed president don...</td>\n",
       "    </tr>\n",
       "    <tr>\n",
       "      <th>21413</th>\n",
       "      <td>lexisnexis, a provider of legal, regulatory a...</td>\n",
       "      <td>lexisnexis, a provider of legal, regulatory a...</td>\n",
       "    </tr>\n",
       "    <tr>\n",
       "      <th>21414</th>\n",
       "      <td>in the shadow of disused soviet-era factories...</td>\n",
       "      <td>in the shadow of disused soviet-era factories...</td>\n",
       "    </tr>\n",
       "    <tr>\n",
       "      <th>21415</th>\n",
       "      <td>vatican secretary of state cardinal pietro pa...</td>\n",
       "      <td>vatican secretary of state cardinal pietro pa...</td>\n",
       "    </tr>\n",
       "    <tr>\n",
       "      <th>21416</th>\n",
       "      <td>indonesia will buy 11 sukhoi fighter jets wor...</td>\n",
       "      <td>indonesia will buy 11 sukhoi fighter jets wor...</td>\n",
       "    </tr>\n",
       "  </tbody>\n",
       "</table>\n",
       "<p>38083 rows × 2 columns</p>\n",
       "</div>"
      ],
      "text/plain": [
       "                                                       0  \\\n",
       "7      the following statements were posted to the ve...   \n",
       "8      the following statements were posted to the ve...   \n",
       "10     alabama officials on thursday certified democr...   \n",
       "12     the following statements were posted to the ve...   \n",
       "13     the following statements were posted to the ve...   \n",
       "...                                                  ...   \n",
       "21412   nato allies on tuesday welcomed president don...   \n",
       "21413   lexisnexis, a provider of legal, regulatory a...   \n",
       "21414   in the shadow of disused soviet-era factories...   \n",
       "21415   vatican secretary of state cardinal pietro pa...   \n",
       "21416   indonesia will buy 11 sukhoi fighter jets wor...   \n",
       "\n",
       "                                                       1  \n",
       "7                                                    NaN  \n",
       "8                                                    NaN  \n",
       "10                                                   NaN  \n",
       "12                                                   NaN  \n",
       "13                                                   NaN  \n",
       "...                                                  ...  \n",
       "21412   nato allies on tuesday welcomed president don...  \n",
       "21413   lexisnexis, a provider of legal, regulatory a...  \n",
       "21414   in the shadow of disused soviet-era factories...  \n",
       "21415   vatican secretary of state cardinal pietro pa...  \n",
       "21416   indonesia will buy 11 sukhoi fighter jets wor...  \n",
       "\n",
       "[38083 rows x 2 columns]"
      ]
     },
     "execution_count": 37,
     "metadata": {},
     "output_type": "execute_result"
    }
   ],
   "source": [
    "cleaned_text"
   ]
  },
  {
   "cell_type": "code",
   "execution_count": 38,
   "id": "b6008c41",
   "metadata": {},
   "outputs": [],
   "source": [
    "cleaned_text.drop(cleaned_text.columns[1], axis = 1, inplace = True)\n",
    "#dropped column that is not needed"
   ]
  },
  {
   "cell_type": "code",
   "execution_count": 39,
   "id": "1462cc6e",
   "metadata": {},
   "outputs": [],
   "source": [
    "cleaned_text.rename(columns = {0:'cleaned_text'}, inplace = True)"
   ]
  },
  {
   "cell_type": "code",
   "execution_count": 40,
   "id": "6c4302e2",
   "metadata": {},
   "outputs": [],
   "source": [
    "cleaned_text = cleaned_text.sort_index()"
   ]
  },
  {
   "cell_type": "code",
   "execution_count": 41,
   "id": "ac035881",
   "metadata": {
    "scrolled": true
   },
   "outputs": [
    {
     "data": {
      "text/html": [
       "<div>\n",
       "<style scoped>\n",
       "    .dataframe tbody tr th:only-of-type {\n",
       "        vertical-align: middle;\n",
       "    }\n",
       "\n",
       "    .dataframe tbody tr th {\n",
       "        vertical-align: top;\n",
       "    }\n",
       "\n",
       "    .dataframe thead th {\n",
       "        text-align: right;\n",
       "    }\n",
       "</style>\n",
       "<table border=\"1\" class=\"dataframe\">\n",
       "  <thead>\n",
       "    <tr style=\"text-align: right;\">\n",
       "      <th></th>\n",
       "      <th>cleaned_text</th>\n",
       "    </tr>\n",
       "  </thead>\n",
       "  <tbody>\n",
       "    <tr>\n",
       "      <th>0</th>\n",
       "      <td>the head of a conservative republican faction...</td>\n",
       "    </tr>\n",
       "    <tr>\n",
       "      <th>0</th>\n",
       "      <td>donald trump just couldn t wish all americans ...</td>\n",
       "    </tr>\n",
       "    <tr>\n",
       "      <th>1</th>\n",
       "      <td>transgender people will be allowed for the fi...</td>\n",
       "    </tr>\n",
       "    <tr>\n",
       "      <th>1</th>\n",
       "      <td>house intelligence committee chairman devin nu...</td>\n",
       "    </tr>\n",
       "    <tr>\n",
       "      <th>2</th>\n",
       "      <td>on friday, it was revealed that former milwauk...</td>\n",
       "    </tr>\n",
       "    <tr>\n",
       "      <th>...</th>\n",
       "      <td>...</td>\n",
       "    </tr>\n",
       "    <tr>\n",
       "      <th>22698</th>\n",
       "      <td>21st century wire says all the world s a stage...</td>\n",
       "    </tr>\n",
       "    <tr>\n",
       "      <th>22699</th>\n",
       "      <td>randy johnson 21st century wirethe majority of...</td>\n",
       "    </tr>\n",
       "    <tr>\n",
       "      <th>22700</th>\n",
       "      <td>tune in to the alternate current radio network...</td>\n",
       "    </tr>\n",
       "    <tr>\n",
       "      <th>22701</th>\n",
       "      <td>21st century wire says a new front has just op...</td>\n",
       "    </tr>\n",
       "    <tr>\n",
       "      <th>22702</th>\n",
       "      <td>21st century wire says it s not that far away....</td>\n",
       "    </tr>\n",
       "  </tbody>\n",
       "</table>\n",
       "<p>38083 rows × 1 columns</p>\n",
       "</div>"
      ],
      "text/plain": [
       "                                            cleaned_text\n",
       "0       the head of a conservative republican faction...\n",
       "0      donald trump just couldn t wish all americans ...\n",
       "1       transgender people will be allowed for the fi...\n",
       "1      house intelligence committee chairman devin nu...\n",
       "2      on friday, it was revealed that former milwauk...\n",
       "...                                                  ...\n",
       "22698  21st century wire says all the world s a stage...\n",
       "22699  randy johnson 21st century wirethe majority of...\n",
       "22700  tune in to the alternate current radio network...\n",
       "22701  21st century wire says a new front has just op...\n",
       "22702  21st century wire says it s not that far away....\n",
       "\n",
       "[38083 rows x 1 columns]"
      ]
     },
     "execution_count": 41,
     "metadata": {},
     "output_type": "execute_result"
    }
   ],
   "source": [
    "cleaned_text\n",
    "#sorted as the original text "
   ]
  },
  {
   "cell_type": "code",
   "execution_count": 42,
   "id": "ed52ae67",
   "metadata": {},
   "outputs": [],
   "source": [
    "final['text'] = cleaned_text['cleaned_text'].values\n",
    "#replaced values to avoid indexing problems, this way we kept indexes and values in place"
   ]
  },
  {
   "cell_type": "code",
   "execution_count": 43,
   "id": "9230a6be",
   "metadata": {
    "scrolled": false
   },
   "outputs": [
    {
     "data": {
      "text/html": [
       "<div>\n",
       "<style scoped>\n",
       "    .dataframe tbody tr th:only-of-type {\n",
       "        vertical-align: middle;\n",
       "    }\n",
       "\n",
       "    .dataframe tbody tr th {\n",
       "        vertical-align: top;\n",
       "    }\n",
       "\n",
       "    .dataframe thead th {\n",
       "        text-align: right;\n",
       "    }\n",
       "</style>\n",
       "<table border=\"1\" class=\"dataframe\">\n",
       "  <thead>\n",
       "    <tr style=\"text-align: right;\">\n",
       "      <th></th>\n",
       "      <th>title</th>\n",
       "      <th>text</th>\n",
       "      <th>subject</th>\n",
       "      <th>date</th>\n",
       "      <th>label</th>\n",
       "      <th>length</th>\n",
       "    </tr>\n",
       "  </thead>\n",
       "  <tbody>\n",
       "    <tr>\n",
       "      <th>0</th>\n",
       "      <td>as u.s. budget fight looms, republicans flip t...</td>\n",
       "      <td>the head of a conservative republican faction...</td>\n",
       "      <td>politicsnews</td>\n",
       "      <td>december 31, 2017</td>\n",
       "      <td>0</td>\n",
       "      <td>4659</td>\n",
       "    </tr>\n",
       "    <tr>\n",
       "      <th>1</th>\n",
       "      <td>u.s. military to accept transgender recruits o...</td>\n",
       "      <td>donald trump just couldn t wish all americans ...</td>\n",
       "      <td>politicsnews</td>\n",
       "      <td>december 29, 2017</td>\n",
       "      <td>0</td>\n",
       "      <td>4077</td>\n",
       "    </tr>\n",
       "    <tr>\n",
       "      <th>2</th>\n",
       "      <td>senior u.s. republican senator: 'let mr. muell...</td>\n",
       "      <td>transgender people will be allowed for the fi...</td>\n",
       "      <td>politicsnews</td>\n",
       "      <td>december 31, 2017</td>\n",
       "      <td>0</td>\n",
       "      <td>2789</td>\n",
       "    </tr>\n",
       "    <tr>\n",
       "      <th>3</th>\n",
       "      <td>fbi russia probe helped by australian diplomat...</td>\n",
       "      <td>house intelligence committee chairman devin nu...</td>\n",
       "      <td>politicsnews</td>\n",
       "      <td>december 30, 2017</td>\n",
       "      <td>0</td>\n",
       "      <td>2461</td>\n",
       "    </tr>\n",
       "    <tr>\n",
       "      <th>4</th>\n",
       "      <td>trump wants postal service to charge 'much mor...</td>\n",
       "      <td>on friday, it was revealed that former milwauk...</td>\n",
       "      <td>politicsnews</td>\n",
       "      <td>december 29, 2017</td>\n",
       "      <td>0</td>\n",
       "      <td>5204</td>\n",
       "    </tr>\n",
       "    <tr>\n",
       "      <th>...</th>\n",
       "      <td>...</td>\n",
       "      <td>...</td>\n",
       "      <td>...</td>\n",
       "      <td>...</td>\n",
       "      <td>...</td>\n",
       "      <td>...</td>\n",
       "    </tr>\n",
       "    <tr>\n",
       "      <th>22698</th>\n",
       "      <td>the white house and the theatrics of ‘gun cont...</td>\n",
       "      <td>21st century wire says all the world s a stage...</td>\n",
       "      <td>us_news</td>\n",
       "      <td>january 7, 2016</td>\n",
       "      <td>1</td>\n",
       "      <td>7359</td>\n",
       "    </tr>\n",
       "    <tr>\n",
       "      <th>22699</th>\n",
       "      <td>activists or terrorists? how media controls an...</td>\n",
       "      <td>randy johnson 21st century wirethe majority of...</td>\n",
       "      <td>us_news</td>\n",
       "      <td>january 7, 2016</td>\n",
       "      <td>1</td>\n",
       "      <td>26275</td>\n",
       "    </tr>\n",
       "    <tr>\n",
       "      <th>22700</th>\n",
       "      <td>boiler room – no surrender, no retreat, heads ...</td>\n",
       "      <td>tune in to the alternate current radio network...</td>\n",
       "      <td>us_news</td>\n",
       "      <td>january 6, 2016</td>\n",
       "      <td>1</td>\n",
       "      <td>1150</td>\n",
       "    </tr>\n",
       "    <tr>\n",
       "      <th>22701</th>\n",
       "      <td>federal showdown looms in oregon after blm abu...</td>\n",
       "      <td>21st century wire says a new front has just op...</td>\n",
       "      <td>us_news</td>\n",
       "      <td>january 4, 2016</td>\n",
       "      <td>1</td>\n",
       "      <td>20651</td>\n",
       "    </tr>\n",
       "    <tr>\n",
       "      <th>22702</th>\n",
       "      <td>a troubled king: chicago’s rahm emanuel desper...</td>\n",
       "      <td>21st century wire says it s not that far away....</td>\n",
       "      <td>us_news</td>\n",
       "      <td>january 2, 2016</td>\n",
       "      <td>1</td>\n",
       "      <td>5749</td>\n",
       "    </tr>\n",
       "  </tbody>\n",
       "</table>\n",
       "<p>38083 rows × 6 columns</p>\n",
       "</div>"
      ],
      "text/plain": [
       "                                                   title  \\\n",
       "0      as u.s. budget fight looms, republicans flip t...   \n",
       "1      u.s. military to accept transgender recruits o...   \n",
       "2      senior u.s. republican senator: 'let mr. muell...   \n",
       "3      fbi russia probe helped by australian diplomat...   \n",
       "4      trump wants postal service to charge 'much mor...   \n",
       "...                                                  ...   \n",
       "22698  the white house and the theatrics of ‘gun cont...   \n",
       "22699  activists or terrorists? how media controls an...   \n",
       "22700  boiler room – no surrender, no retreat, heads ...   \n",
       "22701  federal showdown looms in oregon after blm abu...   \n",
       "22702  a troubled king: chicago’s rahm emanuel desper...   \n",
       "\n",
       "                                                    text       subject  \\\n",
       "0       the head of a conservative republican faction...  politicsnews   \n",
       "1      donald trump just couldn t wish all americans ...  politicsnews   \n",
       "2       transgender people will be allowed for the fi...  politicsnews   \n",
       "3      house intelligence committee chairman devin nu...  politicsnews   \n",
       "4      on friday, it was revealed that former milwauk...  politicsnews   \n",
       "...                                                  ...           ...   \n",
       "22698  21st century wire says all the world s a stage...       us_news   \n",
       "22699  randy johnson 21st century wirethe majority of...       us_news   \n",
       "22700  tune in to the alternate current radio network...       us_news   \n",
       "22701  21st century wire says a new front has just op...       us_news   \n",
       "22702  21st century wire says it s not that far away....       us_news   \n",
       "\n",
       "                     date label length  \n",
       "0      december 31, 2017      0   4659  \n",
       "1      december 29, 2017      0   4077  \n",
       "2      december 31, 2017      0   2789  \n",
       "3      december 30, 2017      0   2461  \n",
       "4      december 29, 2017      0   5204  \n",
       "...                   ...   ...    ...  \n",
       "22698     january 7, 2016     1   7359  \n",
       "22699     january 7, 2016     1  26275  \n",
       "22700     january 6, 2016     1   1150  \n",
       "22701     january 4, 2016     1  20651  \n",
       "22702     january 2, 2016     1   5749  \n",
       "\n",
       "[38083 rows x 6 columns]"
      ]
     },
     "execution_count": 43,
     "metadata": {},
     "output_type": "execute_result"
    }
   ],
   "source": [
    "final #length is length of text"
   ]
  },
  {
   "cell_type": "code",
   "execution_count": 44,
   "id": "644bf30f",
   "metadata": {},
   "outputs": [],
   "source": [
    "final.to_csv('sorted.csv')"
   ]
  },
  {
   "cell_type": "code",
   "execution_count": 57,
   "id": "729fcf21",
   "metadata": {},
   "outputs": [],
   "source": [
    "import nltk\n",
    "from nltk import PorterStemmer, WordNetLemmatizer\n",
    "from nltk.corpus import stopwords\n",
    "\n",
    "\n",
    "#text cleaning for NLP\n",
    "#Removal of Punctuation Marks\n",
    "def remove_punctuations(text):\n",
    "    return re.sub('\\[[^]]*\\]', '', text)\n",
    "\n",
    "# Removal of Special Characters\n",
    "def remove_characters(text):\n",
    "    return re.sub(\"[^a-zA-Z]\",\" \",text)\n",
    "\n",
    "#Removal of stopwords \n",
    "def remove_stopwords_and_lemmatization(text):\n",
    "    final_text = []\n",
    "    text = text.lower()\n",
    "    text = nltk.word_tokenize(text)\n",
    "    \n",
    "    for word in text:\n",
    "        if word not in set(stopwords.words('english')):\n",
    "            lemma = nltk.WordNetLemmatizer()\n",
    "            word = lemma.lemmatize(word) \n",
    "            final_text.append(word)\n",
    "    return \" \".join(final_text)\n",
    "\n",
    "#Total function\n",
    "def cleaning(text):\n",
    "    text = remove_punctuations(text)\n",
    "    text = remove_characters(text)\n",
    "    text = remove_stopwords_and_lemmatization(text)\n",
    "    return text\n",
    "\n",
    "#Apply function on text column\n",
    "cleaned =final['text'].apply(cleaning)"
   ]
  },
  {
   "cell_type": "code",
   "execution_count": 58,
   "id": "e1db427b",
   "metadata": {},
   "outputs": [],
   "source": [
    "cleaned.to_csv('NLP_clean.csv')"
   ]
  },
  {
   "cell_type": "code",
   "execution_count": 59,
   "id": "d139c17b",
   "metadata": {},
   "outputs": [
    {
     "data": {
      "image/png": "[encoded data removed]",
      "text/plain": [
       "<Figure size 432x72 with 1 Axes>"
      ]
     },
     "metadata": {
      "needs_background": "light"
     },
     "output_type": "display_data"
    },
    {
     "data": {
      "image/png": "[encoded data removed]",
      "text/plain": [
       "<Figure size 216x72 with 1 Axes>"
      ]
     },
     "metadata": {
      "needs_background": "light"
     },
     "output_type": "display_data"
    },
    {
     "data": {
      "image/png": "[encoded data removed]",
      "text/plain": [
       "<Figure size 216x72 with 1 Axes>"
      ]
     },
     "metadata": {
      "needs_background": "light"
     },
     "output_type": "display_data"
    }
   ],
   "source": [
    "sns.palplot(sns.mpl_palette(\"flare\"))\n",
    "sns.palplot(sns.color_palette(\"flare\", n_colors=3))\n",
    "sns.palplot(sns.color_palette(\"flare\", n_colors=3))\n",
    "\n",
    "#setting three colors from palette flare as default\n",
    "\n"
   ]
  },
  {
   "cell_type": "code",
   "execution_count": 60,
   "id": "23155caa",
   "metadata": {},
   "outputs": [
    {
     "name": "stderr",
     "output_type": "stream",
     "text": [
      "2022-05-18 18:00:20,330 [16176] WARNING  py.warnings:109: [JupyterRequire] c:\\users\\janka\\pycharmprojects\\dataspec\\venv\\lib\\site-packages\\seaborn\\_decorators.py:36: FutureWarning: Pass the following variable as a keyword arg: x. From version 0.12, the only valid positional argument will be `data`, and passing other arguments without an explicit keyword will result in an error or misinterpretation.\n",
      "  warnings.warn(\n",
      "\n",
      "2022-05-18 18:00:20,374 [16176] WARNING  py.warnings:109: [JupyterRequire] C:\\Users\\janka\\AppData\\Local\\Temp\\ipykernel_16176\\3695033076.py:11: UserWarning: Matplotlib is currently using module://matplotlib_inline.backend_inline, which is a non-GUI backend, so cannot show the figure.\n",
      "  fig.show()\n",
      "\n"
     ]
    },
    {
     "name": "stdout",
     "output_type": "stream",
     "text": [
      "0    20620\n",
      "1    17463\n",
      "Name: label, dtype: int64\n"
     ]
    },
    {
     "data": {
      "image/png": "[encoded data removed]",
      "text/plain": [
       "<Figure size 1080x360 with 2 Axes>"
      ]
     },
     "metadata": {
      "needs_background": "light"
     },
     "output_type": "display_data"
    }
   ],
   "source": [
    "#Data visualizaton on cleaned data\n",
    "\n",
    "sns.set_palette(palette='flare')\n",
    "print(final[\"label\"].value_counts())\n",
    "fig, ax = plt.subplots(1,2, figsize=(15, 5))\n",
    "g1 = sns.countplot(final.label,ax=ax[0])\n",
    "g2 = plt.pie(final[\"label\"].value_counts().values,explode=[0,0],labels=final.label.value_counts().index, autopct='%1.1f%%')\n",
    "g1.set_title(\"Distribution of real and fake data\")\n",
    "g1.set_ylabel(\"Count\")\n",
    "g1.set_xlabel(\"Label\")\n",
    "fig.show()"
   ]
  },
  {
   "cell_type": "code",
   "execution_count": 61,
   "id": "292636c9",
   "metadata": {
    "scrolled": false
   },
   "outputs": [
    {
     "name": "stdout",
     "output_type": "stream",
     "text": [
      "politicsnews       11206\n",
      "worldnews           9414\n",
      "news                9049\n",
      "politics            6432\n",
      "us_news              783\n",
      "left-news            684\n",
      "government news      515\n",
      "Name: subject, dtype: int64\n"
     ]
    },
    {
     "data": {
      "text/plain": [
       "Text(0.5, 1.0, 'Distribution of the subject according to real and fake data')"
      ]
     },
     "execution_count": 61,
     "metadata": {},
     "output_type": "execute_result"
    },
    {
     "data": {
      "image/png": "[encoded data removed]",
      "text/plain": [
       "<Figure size 720x360 with 1 Axes>"
      ]
     },
     "metadata": {
      "needs_background": "light"
     },
     "output_type": "display_data"
    }
   ],
   "source": [
    "#Distribution of subject according to fake and real data\n",
    "\n",
    "print(final.subject.value_counts())\n",
    "plt.figure(figsize=(10, 5))\n",
    "\n",
    "ax = sns.countplot(x=\"subject\",  hue='label', data=final, palette=\"flare\")\n",
    "plt.title(\"Distribution of the subject according to real and fake data\")"
   ]
  },
  {
   "cell_type": "code",
   "execution_count": 67,
   "id": "4032c48a",
   "metadata": {},
   "outputs": [],
   "source": [
    "# NGRAM Analysis - n-grams are basically sequences of words/symbols. n refers to the number of sequences \n",
    "# if n-gram has 1 sequence we call them unigram, if they have two sequences bigram, three = trigram\n",
    "# a unigram gives us the most frequent words, bigrams the most frequent 2 words used together and so on\n",
    "\n",
    "#text used is the cleaned text data, we copy them and declare the string for the function, split at whitespaces\n",
    "\n",
    "texts = ' '.join(cleaned)\n",
    "string = texts.split(\" \")"
   ]
  },
  {
   "cell_type": "code",
   "execution_count": 68,
   "id": "6b61b62f",
   "metadata": {},
   "outputs": [],
   "source": [
    "#parameters: string = string dtype, i = number of variables we would like to check their frequency of\n",
    "#declared n_gram as a df where we used nltk.ngram(string, i) function and grouped it by the count of highest values, \n",
    "#limited to the first 15 highest result\n",
    "#renamed the columns of the df and plotted the diagram \n",
    "\n",
    "def draw_n_gram(string,i):\n",
    "    n_gram = (pd.Series(nltk.ngrams(string, i)).value_counts())[:15]\n",
    "    n_gram_df=pd.DataFrame(n_gram)\n",
    "    n_gram_df = n_gram_df.reset_index()\n",
    "    n_gram_df = n_gram_df.rename(columns={\"index\": \"word\", 0: \"count\"})\n",
    "    print(n_gram_df.head())\n",
    "    plt.figure(figsize = (16,9))\n",
    "    return sns.barplot(x='count',y='word', data=n_gram_df,palette='flare')"
   ]
  },
  {
   "cell_type": "code",
   "execution_count": 69,
   "id": "52591ea4",
   "metadata": {
    "scrolled": true
   },
   "outputs": [
    {
     "name": "stdout",
     "output_type": "stream",
     "text": [
      "           word   count\n",
      "0      (trump,)  122337\n",
      "1       (said,)  120117\n",
      "2          (u,)   62114\n",
      "3      (state,)   53426\n",
      "4  (president,)   49176\n"
     ]
    },
    {
     "data": {
      "text/plain": [
       "<AxesSubplot:xlabel='count', ylabel='word'>"
      ]
     },
     "execution_count": 69,
     "metadata": {},
     "output_type": "execute_result"
    },
    {
     "data": {
      "image/png": "[encoded data removed]",
      "text/plain": [
       "<Figure size 1152x648 with 1 Axes>"
      ]
     },
     "metadata": {
      "needs_background": "light"
     },
     "output_type": "display_data"
    }
   ],
   "source": [
    "#Unigram analysis\n",
    "draw_n_gram(string,1)"
   ]
  },
  {
   "cell_type": "code",
   "execution_count": 70,
   "id": "73aeb06a",
   "metadata": {},
   "outputs": [
    {
     "name": "stdout",
     "output_type": "stream",
     "text": [
      "                 word  count\n",
      "0     (donald, trump)  22210\n",
      "1     (united, state)  16725\n",
      "2      (white, house)  13479\n",
      "3   (featured, image)   8069\n",
      "4  (hillary, clinton)   7902\n"
     ]
    },
    {
     "data": {
      "text/plain": [
       "<AxesSubplot:xlabel='count', ylabel='word'>"
      ]
     },
     "execution_count": 70,
     "metadata": {},
     "output_type": "execute_result"
    },
    {
     "data": {
      "image/png": "[encoded data removed]",
      "text/plain": [
       "<Figure size 1152x648 with 1 Axes>"
      ]
     },
     "metadata": {
      "needs_background": "light"
     },
     "output_type": "display_data"
    }
   ],
   "source": [
    "#Bigram analysis - should display the two words that are most frequently used together\n",
    "draw_n_gram(string,2)\n"
   ]
  },
  {
   "cell_type": "code",
   "execution_count": 71,
   "id": "c18e6787",
   "metadata": {
    "scrolled": true
   },
   "outputs": [
    {
     "name": "stdout",
     "output_type": "stream",
     "text": [
      "                         word  count\n",
      "0  (president, donald, trump)   6346\n",
      "1      (featured, image, via)   6028\n",
      "2         (pic, twitter, com)   4899\n",
      "3  (president, barack, obama)   3580\n",
      "4      (u, president, donald)   2466\n"
     ]
    },
    {
     "data": {
      "text/plain": [
       "<AxesSubplot:xlabel='count', ylabel='word'>"
      ]
     },
     "execution_count": 71,
     "metadata": {},
     "output_type": "execute_result"
    },
    {
     "data": {
      "image/png": "[encoded data removed]",
      "text/plain": [
       "<Figure size 1152x648 with 1 Axes>"
      ]
     },
     "metadata": {
      "needs_background": "light"
     },
     "output_type": "display_data"
    }
   ],
   "source": [
    "draw_n_gram(string,3)\n",
    "#trigram analysis - should display the three words that are most frequently used together\n",
    "\n"
   ]
  },
  {
   "cell_type": "code",
   "execution_count": null,
   "id": "338863d3",
   "metadata": {},
   "outputs": [],
   "source": []
  },
  {
   "cell_type": "code",
   "execution_count": null,
   "id": "9a84bc26",
   "metadata": {},
   "outputs": [],
   "source": []
  }
 ],
 "metadata": {
  "kernelspec": {
   "display_name": "Python 3 (ipykernel)",
   "language": "python",
   "name": "python3"
  },
  "language_info": {
   "codemirror_mode": {
    "name": "ipython",
    "version": 3
   },
   "file_extension": ".py",
   "mimetype": "text/x-python",
   "name": "python",
   "nbconvert_exporter": "python",
   "pygments_lexer": "ipython3",
   "version": "3.10.0"
  }
 },
 "nbformat": 4,
 "nbformat_minor": 5
}
