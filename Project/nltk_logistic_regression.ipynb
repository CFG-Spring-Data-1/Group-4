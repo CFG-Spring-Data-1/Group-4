{
 "cells": [
  {
   "cell_type": "markdown",
   "id": "75eadf1f",
   "metadata": {},
   "source": [
    "## Data preprocess using Natural Language Toolkit"
   ]
  },
  {
   "cell_type": "markdown",
   "id": "7e7d582c",
   "metadata": {},
   "source": [
    "## Logistic Regression"
   ]
  },
  {
   "cell_type": "markdown",
   "id": "1c0ea786",
   "metadata": {},
   "source": [
    "### Import libraries"
   ]
  },
  {
   "cell_type": "code",
   "execution_count": 1,
   "id": "39ef32d8",
   "metadata": {},
   "outputs": [],
   "source": [
    "import pandas as pd\n",
    "import numpy as np\n",
    "# module provides regular expression matching operations (https://www.w3schools.com/python/python_regex.asp)\n",
    "import re\n",
    "import matplotlib.pyplot as plt\n",
    "# module implements binary protocols for serializing and de-serializing a Python object\n",
    "import pickle\n",
    "\n",
    "# (https://www.geeksforgeeks.org/python-lemmatization-approaches-with-examples/)\n",
    "# natural language toolkit (https://realpython.com/nltk-nlp-python/)\n",
    "import nltk\n",
    "# nltk.download('stopwords')\n",
    "# nltk.download('punkt')\n",
    "# filter common words\n",
    "from nltk.corpus import stopwords\n",
    "# split text into words\n",
    "from nltk.tokenize import word_tokenize\n",
    "# nltk.download('averaged_perceptron_tagger')\n",
    "# reduce words to their root by cutting common suffixes and prefixes (ex. goes -> goe)\n",
    "from nltk.stem.porter import PorterStemmer\n",
    "# reduce words to their root by transformin to initial form with ectual meaning (ex. goes -> go )\n",
    "from nltk.stem import WordNetLemmatizer\n",
    "from nltk.corpus import wordnet\n",
    "# nltk.download('omw-1.4')\n",
    "\n",
    "# https://scikit-learn.org/stable/modules/generated/sklearn.feature_extraction.text.TfidfVectorizer.html\n",
    "from sklearn.feature_extraction.text import TfidfVectorizer\n",
    "\n",
    "from sklearn.model_selection import train_test_split\n",
    "from sklearn.metrics import classification_report\n",
    "from sklearn.metrics import plot_confusion_matrix\n",
    "\n",
    "from sklearn.linear_model import LogisticRegression\n",
    "\n",
    "from sklearn.model_selection import GridSearchCV\n",
    "\n",
    "# # Silent warnings\n",
    "import warnings\n",
    "warnings.filterwarnings('ignore')\n",
    "warnings.simplefilter('ignore')"
   ]
  },
  {
   "cell_type": "code",
   "execution_count": 2,
   "id": "4ef0c5b2",
   "metadata": {},
   "outputs": [
    {
     "data": {
      "text/html": [
       "<div>\n",
       "<style scoped>\n",
       "    .dataframe tbody tr th:only-of-type {\n",
       "        vertical-align: middle;\n",
       "    }\n",
       "\n",
       "    .dataframe tbody tr th {\n",
       "        vertical-align: top;\n",
       "    }\n",
       "\n",
       "    .dataframe thead th {\n",
       "        text-align: right;\n",
       "    }\n",
       "</style>\n",
       "<table border=\"1\" class=\"dataframe\">\n",
       "  <thead>\n",
       "    <tr style=\"text-align: right;\">\n",
       "      <th></th>\n",
       "      <th>text</th>\n",
       "      <th>true</th>\n",
       "    </tr>\n",
       "  </thead>\n",
       "  <tbody>\n",
       "    <tr>\n",
       "      <th>0</th>\n",
       "      <td>donald trump just couldn t wish all americans ...</td>\n",
       "      <td>0</td>\n",
       "    </tr>\n",
       "    <tr>\n",
       "      <th>1</th>\n",
       "      <td>house intelligence committee chairman devin nu...</td>\n",
       "      <td>0</td>\n",
       "    </tr>\n",
       "    <tr>\n",
       "      <th>2</th>\n",
       "      <td>on friday it was revealed that former milwauke...</td>\n",
       "      <td>0</td>\n",
       "    </tr>\n",
       "    <tr>\n",
       "      <th>3</th>\n",
       "      <td>on christmas day donald trump announced that h...</td>\n",
       "      <td>0</td>\n",
       "    </tr>\n",
       "    <tr>\n",
       "      <th>4</th>\n",
       "      <td>pope francis used his annual christmas day mes...</td>\n",
       "      <td>0</td>\n",
       "    </tr>\n",
       "  </tbody>\n",
       "</table>\n",
       "</div>"
      ],
      "text/plain": [
       "                                                text  true\n",
       "0  donald trump just couldn t wish all americans ...     0\n",
       "1  house intelligence committee chairman devin nu...     0\n",
       "2  on friday it was revealed that former milwauke...     0\n",
       "3  on christmas day donald trump announced that h...     0\n",
       "4  pope francis used his annual christmas day mes...     0"
      ]
     },
     "execution_count": 2,
     "metadata": {},
     "output_type": "execute_result"
    }
   ],
   "source": [
    "raw_df = pd.read_csv('data/cleaned_news.csv', index_col=False)\n",
    "raw_df.drop('Unnamed: 0', axis=1, inplace=True)\n",
    "raw_df.head()"
   ]
  },
  {
   "cell_type": "code",
   "execution_count": 3,
   "id": "2f6dba83",
   "metadata": {},
   "outputs": [
    {
     "name": "stdout",
     "output_type": "stream",
     "text": [
      "<class 'pandas.core.frame.DataFrame'>\n",
      "RangeIndex: 38637 entries, 0 to 38636\n",
      "Data columns (total 2 columns):\n",
      " #   Column  Non-Null Count  Dtype \n",
      "---  ------  --------------  ----- \n",
      " 0   text    38637 non-null  object\n",
      " 1   true    38637 non-null  int64 \n",
      "dtypes: int64(1), object(1)\n",
      "memory usage: 603.8+ KB\n"
     ]
    }
   ],
   "source": [
    "raw_df.info()"
   ]
  },
  {
   "cell_type": "code",
   "execution_count": 4,
   "id": "6e35b271",
   "metadata": {},
   "outputs": [
    {
     "name": "stdout",
     "output_type": "stream",
     "text": [
      "(38637, 2)\n"
     ]
    },
    {
     "data": {
      "text/plain": [
       "text    0\n",
       "true    0\n",
       "dtype: int64"
      ]
     },
     "execution_count": 4,
     "metadata": {},
     "output_type": "execute_result"
    }
   ],
   "source": [
    "print(raw_df.shape)\n",
    "raw_df.isnull().sum()"
   ]
  },
  {
   "cell_type": "markdown",
   "id": "4ede3f6d",
   "metadata": {},
   "source": [
    "### Clean text of stopwords (common used (english) words) and punctuation, fold to lowercase, lemmatize to stem"
   ]
  },
  {
   "cell_type": "code",
   "execution_count": 5,
   "id": "ee678142",
   "metadata": {},
   "outputs": [],
   "source": [
    "# simplifies position of speech tags\n",
    "\n",
    "def pos_tagger(nltk_tag):\n",
    "    if nltk_tag.startswith('J'):\n",
    "        return wordnet.ADJ\n",
    "    elif nltk_tag.startswith('V'):\n",
    "        return wordnet.VERB\n",
    "    elif nltk_tag.startswith('N'):\n",
    "        return wordnet.NOUN\n",
    "    elif nltk_tag.startswith('R'):\n",
    "        return wordnet.ADV\n",
    "    else:         \n",
    "        return None\n",
    "\n",
    "\n",
    "def preprocess_text(text):\n",
    "    stop_words = set(stopwords.words('english'))\n",
    "    lemma = WordNetLemmatizer()\n",
    " \n",
    "    # tokenize text into words, clean of punctuation and stopwords\n",
    "    text = word_tokenize(text)\n",
    "    text = [word for word in text if word not in stop_words]  \n",
    "\n",
    "    # tokenize text including position of speech\n",
    "    text = nltk.pos_tag(text)   \n",
    "    text = list(map(lambda x: (x[0], pos_tagger(x[1])), text))\n",
    "\n",
    "    # lemmatize words with respect to position of speech\n",
    "    text_ = []    \n",
    "    for word, tag in text:\n",
    "        if tag is None:\n",
    "            text_.append(word)\n",
    "        else:\n",
    "            text_.append(lemma.lemmatize(word, tag))\n",
    "    text = ' '.join(text_) \n",
    "    return text"
   ]
  },
  {
   "cell_type": "code",
   "execution_count": 6,
   "id": "2c4e74a1",
   "metadata": {},
   "outputs": [],
   "source": [
    "# # Test\n",
    "# # expected result: 'indonesia buy sukhoi fighter jet go dog reveal'\n",
    "# test = \"indonesia will buy sukhoi fighters jets  goes dogs revealed \"\n",
    "# test = preprocess_text(test)\n",
    "# test"
   ]
  },
  {
   "cell_type": "markdown",
   "id": "97c4df25",
   "metadata": {},
   "source": [
    "### Preprocess text column"
   ]
  },
  {
   "cell_type": "code",
   "execution_count": 7,
   "id": "47f46877",
   "metadata": {},
   "outputs": [
    {
     "data": {
      "text/html": [
       "<div>\n",
       "<style scoped>\n",
       "    .dataframe tbody tr th:only-of-type {\n",
       "        vertical-align: middle;\n",
       "    }\n",
       "\n",
       "    .dataframe tbody tr th {\n",
       "        vertical-align: top;\n",
       "    }\n",
       "\n",
       "    .dataframe thead th {\n",
       "        text-align: right;\n",
       "    }\n",
       "</style>\n",
       "<table border=\"1\" class=\"dataframe\">\n",
       "  <thead>\n",
       "    <tr style=\"text-align: right;\">\n",
       "      <th></th>\n",
       "      <th>text</th>\n",
       "      <th>true</th>\n",
       "    </tr>\n",
       "  </thead>\n",
       "  <tbody>\n",
       "    <tr>\n",
       "      <th>3684</th>\n",
       "      <td>definitely seem new sense entitlement among do...</td>\n",
       "      <td>0</td>\n",
       "    </tr>\n",
       "    <tr>\n",
       "      <th>7558</th>\n",
       "      <td>fail former presidential candidate ben carson ...</td>\n",
       "      <td>0</td>\n",
       "    </tr>\n",
       "    <tr>\n",
       "      <th>30109</th>\n",
       "      <td>quetta pakistan pakistan army chief thursday c...</td>\n",
       "      <td>1</td>\n",
       "    </tr>\n",
       "    <tr>\n",
       "      <th>15110</th>\n",
       "      <td>much us refuse work country guilty bad human r...</td>\n",
       "      <td>0</td>\n",
       "    </tr>\n",
       "    <tr>\n",
       "      <th>29899</th>\n",
       "      <td>thousand romanian rally capital bucharest city...</td>\n",
       "      <td>1</td>\n",
       "    </tr>\n",
       "  </tbody>\n",
       "</table>\n",
       "</div>"
      ],
      "text/plain": [
       "                                                    text  true\n",
       "3684   definitely seem new sense entitlement among do...     0\n",
       "7558   fail former presidential candidate ben carson ...     0\n",
       "30109  quetta pakistan pakistan army chief thursday c...     1\n",
       "15110  much us refuse work country guilty bad human r...     0\n",
       "29899  thousand romanian rally capital bucharest city...     1"
      ]
     },
     "execution_count": 7,
     "metadata": {},
     "output_type": "execute_result"
    }
   ],
   "source": [
    "raw_df['text'] = raw_df['text'].apply(preprocess_text)\n",
    "raw_df.sample(5)"
   ]
  },
  {
   "cell_type": "markdown",
   "id": "17bcc4f8",
   "metadata": {},
   "source": [
    "### Separate independent variables from target"
   ]
  },
  {
   "cell_type": "code",
   "execution_count": 8,
   "id": "19d7875a",
   "metadata": {},
   "outputs": [
    {
     "data": {
      "text/plain": [
       "((38637,), (38637,))"
      ]
     },
     "execution_count": 8,
     "metadata": {},
     "output_type": "execute_result"
    }
   ],
   "source": [
    "X = raw_df['text'].values\n",
    "y = raw_df['true'].values\n",
    "\n",
    "X.shape, y.shape"
   ]
  },
  {
   "cell_type": "markdown",
   "id": "63f76fc8",
   "metadata": {},
   "source": [
    "## Convert text Series into matrix of TF-IDF features\n",
    "\n",
    "https://scikit-learn.org/stable/modules/generated/sklearn.feature_extraction.text.TfidfTransformer.html#sklearn.feature_extraction.text.TfidfTransformer"
   ]
  },
  {
   "cell_type": "code",
   "execution_count": 9,
   "id": "6736ffc5",
   "metadata": {},
   "outputs": [],
   "source": [
    "vectorizer = TfidfVectorizer()\n",
    "vectorizer.fit(X)\n",
    "\n",
    "X = vectorizer.transform(X)"
   ]
  },
  {
   "cell_type": "code",
   "execution_count": 10,
   "id": "14d4a16b",
   "metadata": {},
   "outputs": [
    {
     "data": {
      "text/plain": [
       "(38637, 202601)"
      ]
     },
     "execution_count": 10,
     "metadata": {},
     "output_type": "execute_result"
    }
   ],
   "source": [
    "X.shape"
   ]
  },
  {
   "cell_type": "code",
   "execution_count": 11,
   "id": "963007bb",
   "metadata": {},
   "outputs": [
    {
     "name": "stdout",
     "output_type": "stream",
     "text": [
      "  (0, 200687)\t0.07888535197090468\n",
      "  (0, 200482)\t0.029715992542035084\n",
      "  (0, 200363)\t0.2468571019089745\n",
      "  (0, 200323)\t0.08448185766103947\n",
      "  (0, 199430)\t0.032315840365367304\n",
      "  (0, 199128)\t0.02651265686854685\n",
      "  (0, 198527)\t0.01893905182210983\n",
      "  (0, 198443)\t0.027461362211594433\n",
      "  (0, 198300)\t0.036750493734125235\n",
      "  (0, 197721)\t0.18801399709142355\n",
      "  (0, 195892)\t0.0877556036248409\n",
      "  (0, 195882)\t0.0619293537239291\n",
      "  (0, 195663)\t0.0877556036248409\n",
      "  (0, 193422)\t0.0373320491446021\n",
      "  (0, 192472)\t0.021234036272819425\n",
      "  (0, 189515)\t0.07888535197090468\n",
      "  (0, 189446)\t0.01900594307993242\n",
      "  (0, 185377)\t0.11314483579072956\n",
      "  (0, 183837)\t0.10862643655065032\n",
      "  (0, 178727)\t0.05174417013497002\n",
      "  (0, 177441)\t0.0877556036248409\n",
      "  (0, 177154)\t0.05684295770795577\n",
      "  (0, 176431)\t0.027894829348846076\n",
      "  (0, 175971)\t0.04864339000876259\n",
      "  (0, 174807)\t0.02214406844023941\n",
      "  :\t:\n",
      "  (38636, 40122)\t0.047530673325904646\n",
      "  (38636, 39986)\t0.054766390169393775\n",
      "  (38636, 37582)\t0.0587014825090065\n",
      "  (38636, 37297)\t0.028613053778051217\n",
      "  (38636, 36567)\t0.060832476898084034\n",
      "  (38636, 35820)\t0.09418156945876671\n",
      "  (38636, 35089)\t0.09821669359212656\n",
      "  (38636, 34070)\t0.044026386432657966\n",
      "  (38636, 33822)\t0.27044332325391546\n",
      "  (38636, 32613)\t0.09086418153457838\n",
      "  (38636, 26778)\t0.13563851963974297\n",
      "  (38636, 24332)\t0.06088994798328982\n",
      "  (38636, 24135)\t0.056017550446964125\n",
      "  (38636, 18587)\t0.04769070840215883\n",
      "  (38636, 18487)\t0.072909610532456\n",
      "  (38636, 13139)\t0.17472782133472414\n",
      "  (38636, 11347)\t0.07000227787574212\n",
      "  (38636, 11339)\t0.06504989240458954\n",
      "  (38636, 7349)\t0.04308371884787987\n",
      "  (38636, 7255)\t0.06075242448423446\n",
      "  (38636, 6276)\t0.025102944102446314\n",
      "  (38636, 4168)\t0.05032886692209091\n",
      "  (38636, 3422)\t0.06033696827210301\n",
      "  (38636, 2067)\t0.062182107043972645\n",
      "  (38636, 999)\t0.08141445539917502\n"
     ]
    }
   ],
   "source": [
    "print(X)"
   ]
  },
  {
   "cell_type": "markdown",
   "id": "3b63cf9e",
   "metadata": {},
   "source": [
    "### Save dataframe (matrix and target) into .csv"
   ]
  },
  {
   "cell_type": "code",
   "execution_count": 12,
   "id": "0c98ac00",
   "metadata": {},
   "outputs": [],
   "source": [
    "# X.pd.to_csv('data/X_news.csv', index_col=False)\n",
    "# y.pd.to_csv('data/y_news.csv', index_col=False)"
   ]
  },
  {
   "cell_type": "markdown",
   "id": "e69253a0",
   "metadata": {},
   "source": [
    "### Split training data into train and test sets"
   ]
  },
  {
   "cell_type": "code",
   "execution_count": 13,
   "id": "497fca3f",
   "metadata": {},
   "outputs": [
    {
     "data": {
      "text/plain": [
       "((28977, 202601), (28977,), (9660, 202601), (9660,))"
      ]
     },
     "execution_count": 13,
     "metadata": {},
     "output_type": "execute_result"
    }
   ],
   "source": [
    "# Split data into train and test sets in ratio 75%/25% (pseudo randomized random_state=42)\n",
    "X_train, X_test, y_train, y_test = train_test_split(X, y, random_state=42)\n",
    "\n",
    "X_train.shape, y_train.shape, X_test.shape, y_test.shape"
   ]
  },
  {
   "cell_type": "markdown",
   "id": "e7506ace",
   "metadata": {},
   "source": [
    "### LogisticRegression default parameters"
   ]
  },
  {
   "cell_type": "code",
   "execution_count": 14,
   "id": "cd34f569",
   "metadata": {},
   "outputs": [
    {
     "data": {
      "text/plain": [
       "{'C': 1.0,\n",
       " 'class_weight': None,\n",
       " 'dual': False,\n",
       " 'fit_intercept': True,\n",
       " 'intercept_scaling': 1,\n",
       " 'l1_ratio': None,\n",
       " 'max_iter': 100,\n",
       " 'multi_class': 'auto',\n",
       " 'n_jobs': None,\n",
       " 'penalty': 'l2',\n",
       " 'random_state': 42,\n",
       " 'solver': 'lbfgs',\n",
       " 'tol': 0.0001,\n",
       " 'verbose': 0,\n",
       " 'warm_start': False}"
      ]
     },
     "execution_count": 14,
     "metadata": {},
     "output_type": "execute_result"
    }
   ],
   "source": [
    "# __init__, fit LogisticRegression\n",
    "logistic_model = LogisticRegression(random_state=42)\n",
    "logistic_model.fit(X_train, y_train)\n",
    "logistic_model.get_params(deep=True)"
   ]
  },
  {
   "cell_type": "markdown",
   "id": "7e99bb1b",
   "metadata": {},
   "source": [
    "### Print classification report for default parameters logistic model"
   ]
  },
  {
   "cell_type": "code",
   "execution_count": 15,
   "id": "b7118d0c",
   "metadata": {},
   "outputs": [
    {
     "name": "stdout",
     "output_type": "stream",
     "text": [
      "              precision    recall  f1-score   support\n",
      "\n",
      "        Fake       0.98      0.97      0.98      4359\n",
      "        Real       0.98      0.99      0.98      5301\n",
      "\n",
      "    accuracy                           0.98      9660\n",
      "   macro avg       0.98      0.98      0.98      9660\n",
      "weighted avg       0.98      0.98      0.98      9660\n",
      "\n"
     ]
    }
   ],
   "source": [
    "print(classification_report(y_test, logistic_model.predict(X_test), target_names = ['Fake', 'Real']))"
   ]
  },
  {
   "cell_type": "markdown",
   "id": "e5a845cb",
   "metadata": {},
   "source": [
    "### Plot confusion matrix for logistic regression with tuned hyperparameters"
   ]
  },
  {
   "cell_type": "code",
   "execution_count": 16,
   "id": "52f7109a",
   "metadata": {},
   "outputs": [
    {
     "data": {
      "image/png": "[encoded data removed]",
      "text/plain": [
       "<Figure size 432x288 with 2 Axes>"
      ]
     },
     "metadata": {
      "needs_background": "light"
     },
     "output_type": "display_data"
    }
   ],
   "source": [
    "plot_confusion_matrix(logistic_model, X_test, y_test, values_format='d', display_labels=['Fake', 'Real'])\n",
    "plt.grid(False)"
   ]
  },
  {
   "cell_type": "markdown",
   "id": "10153fd4",
   "metadata": {},
   "source": [
    "### GridSearchCV hyperparameters tuned Logistic model"
   ]
  },
  {
   "cell_type": "markdown",
   "id": "65ee976a",
   "metadata": {},
   "source": [
    "**GridSearchCV** (auto search optimal hyperparameters) loops through every combination of the values in the grid,\n",
    " evaluating the performance using cross-validation to find the optimum combination of values\n",
    "\n",
    "**estimator**: Model instance\n",
    "<br>**param_grid**: Dictionary object that holds the hyperparameters we wish to experiment with\n",
    "<br>**scoring**: Strategy to evaluate the performance of the cross-validated model on the test set\n",
    "<br>**n_jobs**: Number of processes you wish to run in parallel for this task if it is -1 it will use all available processors\n",
    "<br>**cv**: The total number of cross-validations we perform for each hyperparameter\n",
    "<br>**verbose**: Detailed print out of your fit of the data\n",
    "<br>**error_score**: Value to assign to the score if an error occurs in estimator fitting\n",
    "<br>https://scikit-learn.org/stable/modules/generated/sklearn.model_selection.GridSearchCV.html?highlight=grid%20search#sklearn.model_selection.GridSearchCV"
   ]
  },
  {
   "cell_type": "markdown",
   "id": "755aecc3",
   "metadata": {},
   "source": [
    "**LogisticRegression** hyperparameters\n",
    "<br>**penalty**: Specify the norm of the penalty (regularisation technique to prevent overfitting)\n",
    "<br>**C**: Inverse of regularization strength; must be a positive float. Smaller values specify stronger regularization\n",
    "<br>**solver**: Algorithm to use in the optimization problem\n",
    "<br>**max_iter**: Maximum number of iterations taken for the solvers to converge"
   ]
  },
  {
   "cell_type": "code",
   "execution_count": 17,
   "id": "224809d0",
   "metadata": {},
   "outputs": [
    {
     "data": {
      "text/plain": [
       "{'C': 10000.0, 'max_iter': 1000, 'solver': 'saga'}"
      ]
     },
     "execution_count": 17,
     "metadata": {},
     "output_type": "execute_result"
    }
   ],
   "source": [
    "lm_params_grid = {'C': np.logspace(-4, 4, 10),\n",
    "                  'solver': ['newton-cg','lbfgs','liblinear','sag','saga'],\n",
    "                  'max_iter': [100, 1000]                \n",
    "                 }\n",
    "\n",
    "lm_grid = GridSearchCV(estimator=LogisticRegression(random_state=42),\n",
    "                       param_grid=lm_params_grid,\n",
    "                       n_jobs=-1,\n",
    "                       cv=3,     \n",
    "                       verbose=0,\n",
    "                      )\n",
    "\n",
    "lm_grid.fit(X_train, y_train)\n",
    "lm_grid.best_params_"
   ]
  },
  {
   "cell_type": "code",
   "execution_count": 18,
   "id": "ea62c5d9",
   "metadata": {},
   "outputs": [
    {
     "data": {
      "text/plain": [
       "LogisticRegression(C=10000.0, max_iter=1000, solver='saga')"
      ]
     },
     "execution_count": 18,
     "metadata": {},
     "output_type": "execute_result"
    }
   ],
   "source": [
    "lm_param_tuned = LogisticRegression().set_params(**lm_grid.best_params_)\n",
    "lm_param_tuned.fit(X_train, y_train)"
   ]
  },
  {
   "cell_type": "markdown",
   "id": "e9741816",
   "metadata": {},
   "source": [
    "### Print classification report for parameters tuned logistic model"
   ]
  },
  {
   "cell_type": "code",
   "execution_count": 19,
   "id": "c7b8a2a8",
   "metadata": {},
   "outputs": [
    {
     "name": "stdout",
     "output_type": "stream",
     "text": [
      "              precision    recall  f1-score   support\n",
      "\n",
      "        Fake       0.99      0.98      0.99      4359\n",
      "        Real       0.99      0.99      0.99      5301\n",
      "\n",
      "    accuracy                           0.99      9660\n",
      "   macro avg       0.99      0.99      0.99      9660\n",
      "weighted avg       0.99      0.99      0.99      9660\n",
      "\n"
     ]
    }
   ],
   "source": [
    "print(classification_report(y_test, lm_param_tuned.predict(X_test), target_names = ['Fake', 'Real']))"
   ]
  },
  {
   "cell_type": "markdown",
   "id": "cbc2c328",
   "metadata": {},
   "source": [
    "### Plot confusion matrix for logistic regression with tuned hyperparameters"
   ]
  },
  {
   "cell_type": "code",
   "execution_count": 20,
   "id": "68ba023e",
   "metadata": {},
   "outputs": [
    {
     "data": {
      "image/png": "[encoded data removed]",
      "text/plain": [
       "<Figure size 432x288 with 2 Axes>"
      ]
     },
     "metadata": {
      "needs_background": "light"
     },
     "output_type": "display_data"
    }
   ],
   "source": [
    "plot_confusion_matrix(lm_param_tuned, X_test, y_test, values_format='d', display_labels=['Fake', 'Real'])\n",
    "plt.grid(False)"
   ]
  },
  {
   "cell_type": "code",
   "execution_count": null,
   "id": "3c66b299",
   "metadata": {},
   "outputs": [],
   "source": []
  }
 ],
 "metadata": {
  "kernelspec": {
   "display_name": "python3.8_TF2.7",
   "language": "python",
   "name": "python3.8_tf2.7"
  },
  "language_info": {
   "codemirror_mode": {
    "name": "ipython",
    "version": 3
   },
   "file_extension": ".py",
   "mimetype": "text/x-python",
   "name": "python",
   "nbconvert_exporter": "python",
   "pygments_lexer": "ipython3",
   "version": "3.8.12"
  }
 },
 "nbformat": 4,
 "nbformat_minor": 5
}
