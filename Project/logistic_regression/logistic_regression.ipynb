{
 "cells": [
  {
   "cell_type": "markdown",
   "id": "75eadf1f",
   "metadata": {},
   "source": [
    "## Data preprocess using Natural Language Toolkit, Logistic Regression"
   ]
  },
  {
   "cell_type": "markdown",
   "id": "1c0ea786",
   "metadata": {},
   "source": [
    "### Import libraries"
   ]
  },
  {
   "cell_type": "code",
   "execution_count": 1,
   "id": "39ef32d8",
   "metadata": {},
   "outputs": [],
   "source": [
    "import pandas as pd\n",
    "import numpy as np\n",
    "import matplotlib.pyplot as plt\n",
    "import seaborn as sns\n",
    "sns.set()\n",
    "\n",
    "# module provides regular expression matching operations (https://www.w3schools.com/python/python_regex.asp)\n",
    "import re\n",
    "\n",
    "# module implements binary protocols for serializing and de-serializing a Python object\n",
    "import pickle\n",
    "\n",
    "# natural language toolkit (https://realpython.com/nltk-nlp-python/)\n",
    "# (https://www.geeksforgeeks.org/python-lemmatization-approaches-with-examples/)\n",
    "import nltk\n",
    "# nltk.download('stopwords')\n",
    "# nltk.download('punkt')\n",
    "\n",
    "# filter common words\n",
    "from nltk.corpus import stopwords\n",
    "# split text into words\n",
    "from nltk.tokenize import word_tokenize\n",
    "# nltk.download('averaged_perceptron_tagger')\n",
    "\n",
    "# reduce words to their root by cutting common suffixes and prefixes (ex. goes -> goe)\n",
    "from nltk.stem.porter import PorterStemmer\n",
    "# reduce words to their root by transformin to initial form with ectual meaning (ex. goes -> go )\n",
    "from nltk.stem import WordNetLemmatizer\n",
    "from nltk.corpus import wordnet\n",
    "# nltk.download('omw-1.4')\n",
    "\n",
    "# https://scikit-learn.org/stable/modules/generated/sklearn.feature_extraction.text.TfidfVectorizer.html\n",
    "from sklearn.feature_extraction.text import TfidfVectorizer\n",
    "\n",
    "from sklearn.model_selection import train_test_split\n",
    "from sklearn.metrics import classification_report\n",
    "from sklearn.metrics import plot_confusion_matrix\n",
    "from sklearn import metrics\n",
    "\n",
    "from sklearn.linear_model import LogisticRegression\n",
    "\n",
    "from sklearn.model_selection import GridSearchCV\n",
    "from sklearn.model_selection import StratifiedKFold\n",
    "\n",
    "# # Silent warnings\n",
    "import warnings\n",
    "warnings.filterwarnings('ignore')\n",
    "warnings.simplefilter('ignore')"
   ]
  },
  {
   "cell_type": "code",
   "execution_count": 2,
   "id": "4ef0c5b2",
   "metadata": {},
   "outputs": [
    {
     "data": {
      "text/html": [
       "<div>\n",
       "<style scoped>\n",
       "    .dataframe tbody tr th:only-of-type {\n",
       "        vertical-align: middle;\n",
       "    }\n",
       "\n",
       "    .dataframe tbody tr th {\n",
       "        vertical-align: top;\n",
       "    }\n",
       "\n",
       "    .dataframe thead th {\n",
       "        text-align: right;\n",
       "    }\n",
       "</style>\n",
       "<table border=\"1\" class=\"dataframe\">\n",
       "  <thead>\n",
       "    <tr style=\"text-align: right;\">\n",
       "      <th></th>\n",
       "      <th>text</th>\n",
       "      <th>true</th>\n",
       "    </tr>\n",
       "  </thead>\n",
       "  <tbody>\n",
       "    <tr>\n",
       "      <th>0</th>\n",
       "      <td>donald trump just couldn t wish all americans ...</td>\n",
       "      <td>0</td>\n",
       "    </tr>\n",
       "    <tr>\n",
       "      <th>1</th>\n",
       "      <td>house intelligence committee chairman devin nu...</td>\n",
       "      <td>0</td>\n",
       "    </tr>\n",
       "    <tr>\n",
       "      <th>2</th>\n",
       "      <td>on friday it was revealed that former milwauke...</td>\n",
       "      <td>0</td>\n",
       "    </tr>\n",
       "    <tr>\n",
       "      <th>3</th>\n",
       "      <td>on christmas day donald trump announced that h...</td>\n",
       "      <td>0</td>\n",
       "    </tr>\n",
       "    <tr>\n",
       "      <th>4</th>\n",
       "      <td>pope francis used his annual christmas day mes...</td>\n",
       "      <td>0</td>\n",
       "    </tr>\n",
       "  </tbody>\n",
       "</table>\n",
       "</div>"
      ],
      "text/plain": [
       "                                                text  true\n",
       "0  donald trump just couldn t wish all americans ...     0\n",
       "1  house intelligence committee chairman devin nu...     0\n",
       "2  on friday it was revealed that former milwauke...     0\n",
       "3  on christmas day donald trump announced that h...     0\n",
       "4  pope francis used his annual christmas day mes...     0"
      ]
     },
     "execution_count": 2,
     "metadata": {},
     "output_type": "execute_result"
    }
   ],
   "source": [
    "raw_df = pd.read_csv('../data/cleaned_news.csv', index_col=False)\n",
    "raw_df.head()"
   ]
  },
  {
   "cell_type": "code",
   "execution_count": 3,
   "id": "2f6dba83",
   "metadata": {},
   "outputs": [
    {
     "name": "stdout",
     "output_type": "stream",
     "text": [
      "<class 'pandas.core.frame.DataFrame'>\n",
      "RangeIndex: 38589 entries, 0 to 38588\n",
      "Data columns (total 2 columns):\n",
      " #   Column  Non-Null Count  Dtype \n",
      "---  ------  --------------  ----- \n",
      " 0   text    38589 non-null  object\n",
      " 1   true    38589 non-null  int64 \n",
      "dtypes: int64(1), object(1)\n",
      "memory usage: 603.1+ KB\n"
     ]
    }
   ],
   "source": [
    "raw_df.info()"
   ]
  },
  {
   "cell_type": "code",
   "execution_count": 4,
   "id": "6e35b271",
   "metadata": {},
   "outputs": [
    {
     "name": "stdout",
     "output_type": "stream",
     "text": [
      "(38589, 2)\n"
     ]
    },
    {
     "data": {
      "text/plain": [
       "text    0\n",
       "true    0\n",
       "dtype: int64"
      ]
     },
     "execution_count": 4,
     "metadata": {},
     "output_type": "execute_result"
    }
   ],
   "source": [
    "print(raw_df.shape)\n",
    "raw_df.isnull().sum()"
   ]
  },
  {
   "cell_type": "markdown",
   "id": "4ede3f6d",
   "metadata": {},
   "source": [
    "### Clean text of stopwords (common used (english) words) and punctuation, fold to lowercase, lemmatize to stem"
   ]
  },
  {
   "cell_type": "code",
   "execution_count": 5,
   "id": "ee678142",
   "metadata": {},
   "outputs": [],
   "source": [
    "# simplifies position of speech tags\n",
    "\n",
    "def pos_tagger(nltk_tag):\n",
    "    if nltk_tag.startswith('J'):\n",
    "        return wordnet.ADJ\n",
    "    elif nltk_tag.startswith('V'):\n",
    "        return wordnet.VERB\n",
    "    elif nltk_tag.startswith('N'):\n",
    "        return wordnet.NOUN\n",
    "    elif nltk_tag.startswith('R'):\n",
    "        return wordnet.ADV\n",
    "    else:         \n",
    "        return None\n",
    "\n",
    "\n",
    "def preprocess_text(text):\n",
    "    stop_words = set(stopwords.words('english'))\n",
    "    lemma = WordNetLemmatizer()\n",
    " \n",
    "    # tokenize text into words, clean of punctuation and stopwords\n",
    "    text = word_tokenize(text)\n",
    "    text = [word for word in text if word not in stop_words]  \n",
    "\n",
    "    # tokenize text including position of speech\n",
    "    text = nltk.pos_tag(text)   \n",
    "    text = list(map(lambda x: (x[0], pos_tagger(x[1])), text))\n",
    "\n",
    "    # lemmatize words with respect to position of speech\n",
    "    text_ = []    \n",
    "    for word, tag in text:\n",
    "        if tag is None:\n",
    "            text_.append(word)\n",
    "        else:\n",
    "            text_.append(lemma.lemmatize(word, tag))\n",
    "    text = ' '.join(text_) \n",
    "    return text"
   ]
  },
  {
   "cell_type": "code",
   "execution_count": 6,
   "id": "2c4e74a1",
   "metadata": {},
   "outputs": [],
   "source": [
    "# # Test\n",
    "# # expected result: 'indonesia buy sukhoi fighter jet go dog reveal'\n",
    "# test = \"indonesia will buy sukhoi fighters jets  goes dogs revealed \"\n",
    "# test = preprocess_text(test)\n",
    "# test"
   ]
  },
  {
   "cell_type": "markdown",
   "id": "97c4df25",
   "metadata": {},
   "source": [
    "### Preprocess text column"
   ]
  },
  {
   "cell_type": "code",
   "execution_count": 7,
   "id": "47f46877",
   "metadata": {},
   "outputs": [
    {
     "data": {
      "text/html": [
       "<div>\n",
       "<style scoped>\n",
       "    .dataframe tbody tr th:only-of-type {\n",
       "        vertical-align: middle;\n",
       "    }\n",
       "\n",
       "    .dataframe tbody tr th {\n",
       "        vertical-align: top;\n",
       "    }\n",
       "\n",
       "    .dataframe thead th {\n",
       "        text-align: right;\n",
       "    }\n",
       "</style>\n",
       "<table border=\"1\" class=\"dataframe\">\n",
       "  <thead>\n",
       "    <tr style=\"text-align: right;\">\n",
       "      <th></th>\n",
       "      <th>text</th>\n",
       "      <th>true</th>\n",
       "    </tr>\n",
       "  </thead>\n",
       "  <tbody>\n",
       "    <tr>\n",
       "      <th>0</th>\n",
       "      <td>donald trump wish american happy new year leav...</td>\n",
       "      <td>0</td>\n",
       "    </tr>\n",
       "    <tr>\n",
       "      <th>1</th>\n",
       "      <td>house intelligence committee chairman devin nu...</td>\n",
       "      <td>0</td>\n",
       "    </tr>\n",
       "    <tr>\n",
       "      <th>2</th>\n",
       "      <td>friday reveal former milwaukee sheriff david c...</td>\n",
       "      <td>0</td>\n",
       "    </tr>\n",
       "    <tr>\n",
       "      <th>3</th>\n",
       "      <td>christmas day donald trump announce would back...</td>\n",
       "      <td>0</td>\n",
       "    </tr>\n",
       "    <tr>\n",
       "      <th>4</th>\n",
       "      <td>pope francis use annual christmas day message ...</td>\n",
       "      <td>0</td>\n",
       "    </tr>\n",
       "  </tbody>\n",
       "</table>\n",
       "</div>"
      ],
      "text/plain": [
       "                                                text  true\n",
       "0  donald trump wish american happy new year leav...     0\n",
       "1  house intelligence committee chairman devin nu...     0\n",
       "2  friday reveal former milwaukee sheriff david c...     0\n",
       "3  christmas day donald trump announce would back...     0\n",
       "4  pope francis use annual christmas day message ...     0"
      ]
     },
     "execution_count": 7,
     "metadata": {},
     "output_type": "execute_result"
    }
   ],
   "source": [
    "raw_df['text'] = raw_df['text'].apply(preprocess_text)\n",
    "raw_df.head()"
   ]
  },
  {
   "cell_type": "markdown",
   "id": "2cc0e669",
   "metadata": {},
   "source": [
    "### Plot how balanced dataset is"
   ]
  },
  {
   "cell_type": "code",
   "execution_count": 8,
   "id": "854430cb",
   "metadata": {},
   "outputs": [
    {
     "data": {
      "image/png": "[encoded data removed]",
      "text/plain": [
       "<Figure size 432x288 with 1 Axes>"
      ]
     },
     "metadata": {},
     "output_type": "display_data"
    }
   ],
   "source": [
    "sns.countplot(x='true', data=raw_df)\n",
    "plt.title('Number of fake and real news samples', fontdict={'fontsize':16})\n",
    "plt.show()"
   ]
  },
  {
   "cell_type": "markdown",
   "id": "17bcc4f8",
   "metadata": {},
   "source": [
    "### Separate independent variables from target"
   ]
  },
  {
   "cell_type": "code",
   "execution_count": 9,
   "id": "19d7875a",
   "metadata": {},
   "outputs": [
    {
     "data": {
      "text/plain": [
       "((38589,), (38589,))"
      ]
     },
     "execution_count": 9,
     "metadata": {},
     "output_type": "execute_result"
    }
   ],
   "source": [
    "X = raw_df['text'].values\n",
    "y = raw_df['true'].values\n",
    "\n",
    "X.shape, y.shape"
   ]
  },
  {
   "cell_type": "markdown",
   "id": "63f76fc8",
   "metadata": {},
   "source": [
    "## Convert text Series into matrix of TF-IDF features\n",
    "\n",
    "https://scikit-learn.org/stable/modules/generated/sklearn.feature_extraction.text.TfidfTransformer.html#sklearn.feature_extraction.text.TfidfTransformer"
   ]
  },
  {
   "cell_type": "code",
   "execution_count": 10,
   "id": "6736ffc5",
   "metadata": {},
   "outputs": [],
   "source": [
    "vectorizer = TfidfVectorizer(max_features=5000,ngram_range=(1,3))\n",
    "vectorizer.fit(X)\n",
    "\n",
    "X = vectorizer.transform(X)"
   ]
  },
  {
   "cell_type": "code",
   "execution_count": 11,
   "id": "14d4a16b",
   "metadata": {},
   "outputs": [
    {
     "data": {
      "text/plain": [
       "(38589, 5000)"
      ]
     },
     "execution_count": 11,
     "metadata": {},
     "output_type": "execute_result"
    }
   ],
   "source": [
    "X.shape"
   ]
  },
  {
   "cell_type": "code",
   "execution_count": 12,
   "id": "963007bb",
   "metadata": {},
   "outputs": [
    {
     "name": "stdout",
     "output_type": "stream",
     "text": [
      "  (0, 4978)\t0.03166267399127037\n",
      "  (0, 4974)\t0.044453586619715435\n",
      "  (0, 4971)\t0.26294630538671016\n",
      "  (0, 4965)\t0.03443377263242081\n",
      "  (0, 4949)\t0.04086421395548786\n",
      "  (0, 4938)\t0.028237638283939312\n",
      "  (0, 4926)\t0.0201750055742859\n",
      "  (0, 4925)\t0.029259532165464258\n",
      "  (0, 4921)\t0.03916053464281713\n",
      "  (0, 4910)\t0.20034490661333118\n",
      "  (0, 4818)\t0.03976969910887745\n",
      "  (0, 4799)\t0.02262201504154944\n",
      "  (0, 4721)\t0.020247158342724596\n",
      "  (0, 4600)\t0.12055484475426446\n",
      "  (0, 4575)\t0.044482368871119435\n",
      "  (0, 4559)\t0.08084273951844907\n",
      "  (0, 4550)\t0.04876391961677266\n",
      "  (0, 4526)\t0.11569602960849201\n",
      "  (0, 4370)\t0.029721551589924976\n",
      "  (0, 4347)\t0.051836810696448014\n",
      "  (0, 4312)\t0.02359199062239268\n",
      "  (0, 4248)\t0.05621276563071365\n",
      "  (0, 4201)\t0.0601094484706241\n",
      "  (0, 4174)\t0.04654076250753887\n",
      "  (0, 4133)\t0.036605529550465574\n",
      "  :\t:\n",
      "  (0, 1151)\t0.0344158530316766\n",
      "  (0, 1139)\t0.038157269660807\n",
      "  (0, 1031)\t0.4562398491613125\n",
      "  (0, 1007)\t0.04915185617492768\n",
      "  (0, 928)\t0.03723790021549744\n",
      "  (0, 877)\t0.027462477855519717\n",
      "  (0, 833)\t0.02603388801268246\n",
      "  (0, 710)\t0.03403077715695784\n",
      "  (0, 690)\t0.03185658986176693\n",
      "  (0, 638)\t0.049155345130740824\n",
      "  (0, 490)\t0.030033182584144485\n",
      "  (0, 389)\t0.04728624390571868\n",
      "  (0, 385)\t0.02399973120840988\n",
      "  (0, 339)\t0.04722654966534806\n",
      "  (0, 216)\t0.04479054090823933\n",
      "  (0, 191)\t0.0514072531769857\n",
      "  (0, 187)\t0.04084529991458217\n",
      "  (0, 182)\t0.042882154060501006\n",
      "  (0, 166)\t0.05006684758561225\n",
      "  (0, 165)\t0.041182421630024266\n",
      "  (0, 162)\t0.073498678097413\n",
      "  (0, 153)\t0.03306817824738704\n",
      "  (0, 143)\t0.015923988499236697\n",
      "  (0, 136)\t0.024956847777158987\n",
      "  (0, 17)\t0.03398383196907112\n"
     ]
    }
   ],
   "source": [
    "print(X[0])"
   ]
  },
  {
   "cell_type": "markdown",
   "id": "3b63cf9e",
   "metadata": {},
   "source": [
    "### Save dataframe (matrix and target) into .csv"
   ]
  },
  {
   "cell_type": "code",
   "execution_count": 13,
   "id": "0c98ac00",
   "metadata": {},
   "outputs": [],
   "source": [
    "with open('preprocessed_X.pkl', 'wb') as f:\n",
    "    pickle.dump(X, f)\n",
    "    \n",
    "with open('preprocessed_y.pkl', 'wb') as f:\n",
    "    pickle.dump(y, f)"
   ]
  },
  {
   "cell_type": "code",
   "execution_count": 14,
   "id": "ac97d54f",
   "metadata": {},
   "outputs": [],
   "source": [
    "with open('preprocessed_X.pkl', 'rb') as f:\n",
    "    X = pickle.load(f)\n",
    "    \n",
    "with open('preprocessed_y.pkl', 'rb') as f:\n",
    "    y = pickle.load(f)"
   ]
  },
  {
   "cell_type": "markdown",
   "id": "e69253a0",
   "metadata": {},
   "source": [
    "### Split training data into train and test sets"
   ]
  },
  {
   "cell_type": "code",
   "execution_count": 15,
   "id": "497fca3f",
   "metadata": {},
   "outputs": [
    {
     "data": {
      "text/plain": [
       "((28941, 5000), (28941,), (9648, 5000), (9648,))"
      ]
     },
     "execution_count": 15,
     "metadata": {},
     "output_type": "execute_result"
    }
   ],
   "source": [
    "# Split data into train and test sets in ratio 75%/25% (pseudo randomized random_state=42)\n",
    "X_train, X_test, y_train, y_test = train_test_split(X, y, random_state=42)\n",
    "\n",
    "X_train.shape, y_train.shape, X_test.shape, y_test.shape"
   ]
  },
  {
   "cell_type": "markdown",
   "id": "e7506ace",
   "metadata": {},
   "source": [
    "### LogisticRegression default parameters"
   ]
  },
  {
   "cell_type": "code",
   "execution_count": 16,
   "id": "cd34f569",
   "metadata": {},
   "outputs": [
    {
     "data": {
      "text/plain": [
       "{'C': 1.0,\n",
       " 'class_weight': None,\n",
       " 'dual': False,\n",
       " 'fit_intercept': True,\n",
       " 'intercept_scaling': 1,\n",
       " 'l1_ratio': None,\n",
       " 'max_iter': 100,\n",
       " 'multi_class': 'auto',\n",
       " 'n_jobs': None,\n",
       " 'penalty': 'l2',\n",
       " 'random_state': 42,\n",
       " 'solver': 'lbfgs',\n",
       " 'tol': 0.0001,\n",
       " 'verbose': 0,\n",
       " 'warm_start': False}"
      ]
     },
     "execution_count": 16,
     "metadata": {},
     "output_type": "execute_result"
    }
   ],
   "source": [
    "# __init__, fit LogisticRegression\n",
    "logistic_model = LogisticRegression(random_state=42)\n",
    "logistic_model.fit(X_train, y_train)\n",
    "logistic_model.get_params(deep=True)"
   ]
  },
  {
   "cell_type": "markdown",
   "id": "7e99bb1b",
   "metadata": {},
   "source": [
    "### Print classification report for default parameters logistic model"
   ]
  },
  {
   "cell_type": "code",
   "execution_count": 17,
   "id": "b7118d0c",
   "metadata": {},
   "outputs": [
    {
     "name": "stdout",
     "output_type": "stream",
     "text": [
      "              precision    recall  f1-score   support\n",
      "\n",
      "        Fake       0.98      0.98      0.98      4345\n",
      "        Real       0.98      0.99      0.98      5303\n",
      "\n",
      "    accuracy                           0.98      9648\n",
      "   macro avg       0.98      0.98      0.98      9648\n",
      "weighted avg       0.98      0.98      0.98      9648\n",
      "\n"
     ]
    }
   ],
   "source": [
    "print(classification_report(y_test, logistic_model.predict(X_test), target_names = ['Fake', 'Real']))"
   ]
  },
  {
   "cell_type": "markdown",
   "id": "e5a845cb",
   "metadata": {},
   "source": [
    "### Plot confusion matrix for logistic regression with tuned hyperparameters"
   ]
  },
  {
   "cell_type": "code",
   "execution_count": 18,
   "id": "52f7109a",
   "metadata": {},
   "outputs": [
    {
     "data": {
      "image/png": "[encoded data removed]",
      "text/plain": [
       "<Figure size 432x288 with 2 Axes>"
      ]
     },
     "metadata": {},
     "output_type": "display_data"
    }
   ],
   "source": [
    "plot_confusion_matrix(logistic_model, X_test, y_test, values_format='d', display_labels=['Fake', 'Real'])\n",
    "plt.grid(False)"
   ]
  },
  {
   "cell_type": "markdown",
   "id": "10153fd4",
   "metadata": {},
   "source": [
    "### GridSearchCV hyperparameters tuned Logistic model"
   ]
  },
  {
   "cell_type": "markdown",
   "id": "65ee976a",
   "metadata": {},
   "source": [
    "**GridSearchCV** (auto search optimal hyperparameters) loops through every combination of the values in the grid,\n",
    " evaluating the performance using cross-validation to find the optimum combination of values\n",
    "\n",
    "**estimator**: Model instance\n",
    "<br>**param_grid**: Dictionary object that holds the hyperparameters we wish to experiment with\n",
    "<br>**scoring**: Strategy to evaluate the performance of the cross-validated model on the test set\n",
    "<br>**n_jobs**: Number of processes you wish to run in parallel for this task if it is -1 it will use all available processors\n",
    "<br>**cv**: The total number of cross-validations we perform for each hyperparameter\n",
    "<br>**verbose**: Detailed print out of your fit of the data\n",
    "<br>**error_score**: Value to assign to the score if an error occurs in estimator fitting\n",
    "<br>https://scikit-learn.org/stable/modules/generated/sklearn.model_selection.GridSearchCV.html?highlight=grid%20search#sklearn.model_selection.GridSearchCV"
   ]
  },
  {
   "cell_type": "markdown",
   "id": "755aecc3",
   "metadata": {},
   "source": [
    "**LogisticRegression** hyperparameters\n",
    "<br>**penalty**: Specify the norm of the penalty (regularisation technique to prevent overfitting)\n",
    "<br>**C**: Inverse of regularization strength; must be a positive float. Smaller values specify stronger regularization\n",
    "<br>**solver**: Algorithm to use in the optimization problem\n",
    "<br>**max_iter**: Maximum number of iterations taken for the solvers to converge"
   ]
  },
  {
   "cell_type": "code",
   "execution_count": 19,
   "id": "224809d0",
   "metadata": {},
   "outputs": [
    {
     "data": {
      "text/plain": [
       "{'C': 0.1, 'max_iter': 100, 'solver': 'newton-cg'}"
      ]
     },
     "execution_count": 19,
     "metadata": {},
     "output_type": "execute_result"
    }
   ],
   "source": [
    "lm_params_grid = {'C': [0.1],\n",
    "                  'solver': ['newton-cg','lbfgs','liblinear','sag','saga'],\n",
    "                  'max_iter': [100, 250, 500, 1000],                  \n",
    "                 }\n",
    "\n",
    "lm_grid = GridSearchCV(estimator=LogisticRegression(random_state=42),\n",
    "                       param_grid=lm_params_grid,\n",
    "                       n_jobs=-1,   \n",
    "                       verbose=0,\n",
    "                       cv = 3\n",
    "                      )\n",
    "\n",
    "lm_grid.fit(X_train, y_train)\n",
    "lm_grid.best_params_"
   ]
  },
  {
   "cell_type": "code",
   "execution_count": 20,
   "id": "ea62c5d9",
   "metadata": {},
   "outputs": [
    {
     "data": {
      "text/plain": [
       "LogisticRegression(C=0.1, solver='newton-cg')"
      ]
     },
     "execution_count": 20,
     "metadata": {},
     "output_type": "execute_result"
    }
   ],
   "source": [
    "lm_param_tuned = LogisticRegression().set_params(**lm_grid.best_params_)\n",
    "lm_param_tuned.fit(X_train, y_train)"
   ]
  },
  {
   "cell_type": "markdown",
   "id": "e9741816",
   "metadata": {},
   "source": [
    "### Print classification report for parameters tuned logistic model"
   ]
  },
  {
   "cell_type": "code",
   "execution_count": 21,
   "id": "c7b8a2a8",
   "metadata": {},
   "outputs": [
    {
     "name": "stdout",
     "output_type": "stream",
     "text": [
      "              precision    recall  f1-score   support\n",
      "\n",
      "        Fake       0.98      0.95      0.96      4345\n",
      "        Real       0.96      0.98      0.97      5303\n",
      "\n",
      "    accuracy                           0.97      9648\n",
      "   macro avg       0.97      0.97      0.97      9648\n",
      "weighted avg       0.97      0.97      0.97      9648\n",
      "\n"
     ]
    }
   ],
   "source": [
    "print(classification_report(y_test, lm_param_tuned.predict(X_test), target_names = ['Fake', 'Real']))"
   ]
  },
  {
   "cell_type": "markdown",
   "id": "cbc2c328",
   "metadata": {},
   "source": [
    "### Plot confusion matrix for logistic regression with tuned hyperparameters"
   ]
  },
  {
   "cell_type": "code",
   "execution_count": 22,
   "id": "68ba023e",
   "metadata": {
    "scrolled": true
   },
   "outputs": [
    {
     "data": {
      "image/png": "[encoded data removed]",
      "text/plain": [
       "<Figure size 432x288 with 2 Axes>"
      ]
     },
     "metadata": {},
     "output_type": "display_data"
    }
   ],
   "source": [
    "plot_confusion_matrix(lm_param_tuned, X_test, y_test, values_format='d', display_labels=['Fake', 'Real'])\n",
    "plt.grid(False)"
   ]
  },
  {
   "cell_type": "markdown",
   "id": "787d763e",
   "metadata": {},
   "source": [
    "### Save vectorizer"
   ]
  },
  {
   "cell_type": "code",
   "execution_count": 23,
   "id": "d06744e1",
   "metadata": {},
   "outputs": [],
   "source": [
    "with open('tfidfVectorizer.pkl', 'wb') as f:\n",
    "    pickle.dump(vectorizer, f)"
   ]
  },
  {
   "cell_type": "markdown",
   "id": "5d652519",
   "metadata": {},
   "source": [
    "### Save trained model"
   ]
  },
  {
   "cell_type": "code",
   "execution_count": 24,
   "id": "c4f5174f",
   "metadata": {},
   "outputs": [],
   "source": [
    "with open('LogReg_tuned.pkl', 'wb') as f:\n",
    "    pickle.dump(lm_param_tuned, f)"
   ]
  },
  {
   "cell_type": "markdown",
   "id": "a043e10a",
   "metadata": {},
   "source": [
    "### Plot Receiver operating characteristic (ROC) curve"
   ]
  },
  {
   "cell_type": "code",
   "execution_count": 25,
   "id": "682a64d0",
   "metadata": {},
   "outputs": [
    {
     "data": {
      "image/png": "[encoded data removed]",
      "text/plain": [
       "<Figure size 432x288 with 1 Axes>"
      ]
     },
     "metadata": {},
     "output_type": "display_data"
    }
   ],
   "source": [
    "metrics.plot_roc_curve(lm_param_tuned, X_test, y_test) \n",
    "plt.show()"
   ]
  },
  {
   "cell_type": "code",
   "execution_count": null,
   "id": "e2ababee",
   "metadata": {},
   "outputs": [],
   "source": []
  }
 ],
 "metadata": {
  "kernelspec": {
   "display_name": "python3.8_TF2.7",
   "language": "python",
   "name": "python3.8_tf2.7"
  },
  "language_info": {
   "codemirror_mode": {
    "name": "ipython",
    "version": 3
   },
   "file_extension": ".py",
   "mimetype": "text/x-python",
   "name": "python",
   "nbconvert_exporter": "python",
   "pygments_lexer": "ipython3",
   "version": "3.8.12"
  }
 },
 "nbformat": 4,
 "nbformat_minor": 5
}
